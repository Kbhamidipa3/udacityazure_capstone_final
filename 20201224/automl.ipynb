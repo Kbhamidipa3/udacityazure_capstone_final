{
 "cells": [
  {
   "cell_type": "markdown",
   "metadata": {
    "id": "pNwiQxsz1IQd"
   },
   "source": [
    "**Automated ML**\n",
    "\n",
    "TODO: Import Dependencies. In the cell below, import all the dependencies that you will need to complete the project."
   ]
  },
  {
   "cell_type": "code",
   "execution_count": 10,
   "metadata": {
    "id": "DMcCv4bM04fR"
   },
   "outputs": [
    {
     "name": "stdout",
     "output_type": "stream",
     "text": [
      "SDK version: 1.19.0\n"
     ]
    }
   ],
   "source": [
    "import logging\n",
    "import os\n",
    "import csv\n",
    "\n",
    "from matplotlib import pyplot as plt\n",
    "import numpy as np\n",
    "import pandas as pd\n",
    "from sklearn import datasets\n",
    "import pkg_resources\n",
    "\n",
    "import azureml.core\n",
    "from azureml.core.experiment import Experiment\n",
    "from azureml.core.workspace import Workspace\n",
    "from azureml.train.automl import AutoMLConfig\n",
    "from azureml.core.dataset import Dataset\n",
    "from azureml.core import Workspace,ScriptRunConfig,Experiment, Run\n",
    "from azureml.pipeline.steps import AutoMLStep\n",
    "\n",
    "# Check core SDK version number\n",
    "print(\"SDK version:\", azureml.core.VERSION)"
   ]
  },
  {
   "cell_type": "markdown",
   "metadata": {
    "id": "dRBV9sMs1ETX"
   },
   "source": [
    "**Dataset**\n",
    "\n",
    "***Overview***\n",
    "\n",
    "TODO: In this markdown cell, give an overview of the dataset you are using. Also mention the task you will be performing.\n",
    "\n",
    "TODO: Get data. In the cell below, write code to access the data you will be using in this project. Remember that the dataset needs to be external."
   ]
  },
  {
   "cell_type": "code",
   "execution_count": 11,
   "metadata": {
    "id": "43zx6FqC1DMH"
   },
   "outputs": [
    {
     "name": "stdout",
     "output_type": "stream",
     "text": [
      "quick-starts-ws-131644\n",
      "aml-quickstarts-131644\n",
      "southcentralus\n",
      "f9d5a085-54dc-4215-9ba6-dad5d86e60a0\n"
     ]
    }
   ],
   "source": [
    "ws = Workspace.from_config()\n",
    "print(ws.name, ws.resource_group, ws.location, ws.subscription_id, sep = '\\n')"
   ]
  },
  {
   "cell_type": "markdown",
   "metadata": {
    "id": "5rU4w8tQ1TsF"
   },
   "source": [
    "**Create or Attach an AmlCompute cluster¶**\n",
    "\n",
    "You will need to create a compute target for your AutoML run. In this tutorial, you get the default AmlCompute as your training compute resource.\n",
    "\n",
    "Udacity Note There is no need to create a new compute target, it can re-use the previous cluster"
   ]
  },
  {
   "cell_type": "code",
   "execution_count": 12,
   "metadata": {
    "id": "YCRP-9Ae1Xvj"
   },
   "outputs": [
    {
     "name": "stdout",
     "output_type": "stream",
     "text": [
      "Found existing cluster, use it.\n",
      "Succeeded.....................................................................................................................\n",
      "AmlCompute wait for completion finished\n",
      "\n",
      "Wait timeout has been reached\n",
      "Current provisioning state of AmlCompute is \"Succeeded\" and current node count is \"0\"\n"
     ]
    }
   ],
   "source": [
    "from azureml.core.compute import AmlCompute\n",
    "from azureml.core.compute import ComputeTarget\n",
    "from azureml.core.compute_target import ComputeTargetException\n",
    "\n",
    "# NOTE: update the cluster name to match the existing cluster\n",
    "# Choose a name for your CPU cluster\n",
    "amlcompute_cluster_name = \"automl-cluster\"\n",
    "\n",
    "# Verify that cluster does not exist already\n",
    "try:\n",
    "    compute_target = ComputeTarget(workspace=ws, name=amlcompute_cluster_name)\n",
    "    print('Found existing cluster, use it.')\n",
    "except ComputeTargetException:\n",
    "    compute_config = AmlCompute.provisioning_configuration(vm_size='STANDARD_D2_V2',# for GPU, use \"STANDARD_NC6\"\n",
    "                                                           #vm_priority = 'lowpriority', # optional\n",
    "                                                           max_nodes=4)\n",
    "    compute_target = ComputeTarget.create(ws, amlcompute_cluster_name, compute_config)\n",
    "\n",
    "compute_target.wait_for_completion(show_output=True, min_node_count = 1, timeout_in_minutes = 10)\n",
    "# For a more detailed view of current AmlCompute status, use get_status()."
   ]
  },
  {
   "cell_type": "markdown",
   "metadata": {
    "id": "ogGpnyip1kXe"
   },
   "source": [
    "**Data**\n",
    "\n",
    "**Udacity note:**\n",
    "\n",
    "Make sure the key is the same name as the dataset that is uploaded, and that the description matches. If it is hard to find or unknown, loop over the ws.datasets.keys() and print() them. If it isn't found because it was deleted, it can be recreated with the link that has the CSV"
   ]
  },
  {
   "cell_type": "code",
   "execution_count": 13,
   "metadata": {
    "id": "s7vzLvTO1lXM"
   },
   "outputs": [],
   "source": [
    "# Try to load the dataset from the Workspace. Otherwise, create it from the file\n",
    "# NOTE: update the key to match the dataset name\n",
    "found = False\n",
    "key = \"LV_cleaned_data\"\n",
    "description_text = \"LV hotel reviews from trip advisor\"\n",
    "\n",
    "if key in ws.datasets.keys(): \n",
    "        found = True\n",
    "        dataset = ws.datasets[key] \n",
    "\n",
    "if not found:\n",
    "        # Create AML Dataset and register it into Workspace\n",
    "        LV_cleaned_data = 'https://raw.githubusercontent.com/Kbhamidipa3/udacityazure_capstone_final/main/LV-github-automl.csv'\n",
    "        dataset = Dataset.Tabular.from_delimited_files(LV_cleaned_data)        \n",
    "        #Register Dataset in Workspace\n",
    "        dataset = dataset.register(workspace=ws,\n",
    "                                   name=key,\n",
    "                                   description=description_text)\n",
    "\n",
    "\n",
    "df = dataset.to_pandas_dataframe()\n",
    "config = ScriptRunConfig(source_directory='training', script='train.py', compute_target='cpu-cluster')"
   ]
  },
  {
   "cell_type": "markdown",
   "metadata": {
    "id": "bNEdHKEu1o2m"
   },
   "source": [
    "**Review the Dataset Result**\n",
    "\n",
    "You can peek the result of a TabularDataset at any range using skip(i) and take(j).to_pandas_dataframe(). Doing so evaluates only j records for all the steps in the TabularDataset, which makes it fast even against large datasets.\n",
    "\n",
    "TabularDataset objects are composed of a list of transformation steps (optional)."
   ]
  },
  {
   "cell_type": "code",
   "execution_count": 14,
   "metadata": {
    "id": "TL7AmF-p1-XL"
   },
   "outputs": [
    {
     "data": {
      "text/html": [
       "<div>\n",
       "<style scoped>\n",
       "    .dataframe tbody tr th:only-of-type {\n",
       "        vertical-align: middle;\n",
       "    }\n",
       "\n",
       "    .dataframe tbody tr th {\n",
       "        vertical-align: top;\n",
       "    }\n",
       "\n",
       "    .dataframe thead th {\n",
       "        text-align: right;\n",
       "    }\n",
       "</style>\n",
       "<table border=\"1\" class=\"dataframe\">\n",
       "  <thead>\n",
       "    <tr style=\"text-align: right;\">\n",
       "      <th></th>\n",
       "      <th>Column1</th>\n",
       "      <th>Casino</th>\n",
       "      <th>Free_internet</th>\n",
       "      <th>Gym</th>\n",
       "      <th>Helpful_votes</th>\n",
       "      <th>Hotel_name</th>\n",
       "      <th>Hotel_stars</th>\n",
       "      <th>Member_years</th>\n",
       "      <th>Nr_hotel_reviews</th>\n",
       "      <th>Nr_reviews</th>\n",
       "      <th>...</th>\n",
       "      <th>Period_of_stay</th>\n",
       "      <th>Pool</th>\n",
       "      <th>Review_month</th>\n",
       "      <th>Review_weekday</th>\n",
       "      <th>Score</th>\n",
       "      <th>Spa</th>\n",
       "      <th>Tennis_court</th>\n",
       "      <th>Traveler_type</th>\n",
       "      <th>User_continent</th>\n",
       "      <th>User_country</th>\n",
       "    </tr>\n",
       "  </thead>\n",
       "  <tbody>\n",
       "    <tr>\n",
       "      <th>0</th>\n",
       "      <td>0</td>\n",
       "      <td>True</td>\n",
       "      <td>True</td>\n",
       "      <td>True</td>\n",
       "      <td>13</td>\n",
       "      <td>Circus Circus Hotel &amp; Casino Las Vegas</td>\n",
       "      <td>3</td>\n",
       "      <td>9.0</td>\n",
       "      <td>4</td>\n",
       "      <td>11</td>\n",
       "      <td>...</td>\n",
       "      <td>Dec-Feb</td>\n",
       "      <td>False</td>\n",
       "      <td>January</td>\n",
       "      <td>Thursday</td>\n",
       "      <td>1</td>\n",
       "      <td>False</td>\n",
       "      <td>False</td>\n",
       "      <td>Friends</td>\n",
       "      <td>North America</td>\n",
       "      <td>USA</td>\n",
       "    </tr>\n",
       "    <tr>\n",
       "      <th>1</th>\n",
       "      <td>1</td>\n",
       "      <td>True</td>\n",
       "      <td>True</td>\n",
       "      <td>True</td>\n",
       "      <td>75</td>\n",
       "      <td>Circus Circus Hotel &amp; Casino Las Vegas</td>\n",
       "      <td>3</td>\n",
       "      <td>3.0</td>\n",
       "      <td>21</td>\n",
       "      <td>119</td>\n",
       "      <td>...</td>\n",
       "      <td>Dec-Feb</td>\n",
       "      <td>False</td>\n",
       "      <td>January</td>\n",
       "      <td>Friday</td>\n",
       "      <td>1</td>\n",
       "      <td>False</td>\n",
       "      <td>False</td>\n",
       "      <td>Business</td>\n",
       "      <td>North America</td>\n",
       "      <td>USA</td>\n",
       "    </tr>\n",
       "    <tr>\n",
       "      <th>2</th>\n",
       "      <td>2</td>\n",
       "      <td>True</td>\n",
       "      <td>True</td>\n",
       "      <td>True</td>\n",
       "      <td>25</td>\n",
       "      <td>Circus Circus Hotel &amp; Casino Las Vegas</td>\n",
       "      <td>3</td>\n",
       "      <td>2.0</td>\n",
       "      <td>9</td>\n",
       "      <td>36</td>\n",
       "      <td>...</td>\n",
       "      <td>Mar-May</td>\n",
       "      <td>False</td>\n",
       "      <td>February</td>\n",
       "      <td>Saturday</td>\n",
       "      <td>1</td>\n",
       "      <td>False</td>\n",
       "      <td>False</td>\n",
       "      <td>Families</td>\n",
       "      <td>North America</td>\n",
       "      <td>USA</td>\n",
       "    </tr>\n",
       "    <tr>\n",
       "      <th>3</th>\n",
       "      <td>3</td>\n",
       "      <td>True</td>\n",
       "      <td>True</td>\n",
       "      <td>True</td>\n",
       "      <td>14</td>\n",
       "      <td>Circus Circus Hotel &amp; Casino Las Vegas</td>\n",
       "      <td>3</td>\n",
       "      <td>6.0</td>\n",
       "      <td>7</td>\n",
       "      <td>14</td>\n",
       "      <td>...</td>\n",
       "      <td>Mar-May</td>\n",
       "      <td>False</td>\n",
       "      <td>February</td>\n",
       "      <td>Friday</td>\n",
       "      <td>1</td>\n",
       "      <td>False</td>\n",
       "      <td>False</td>\n",
       "      <td>Friends</td>\n",
       "      <td>Europe</td>\n",
       "      <td>UK</td>\n",
       "    </tr>\n",
       "    <tr>\n",
       "      <th>4</th>\n",
       "      <td>4</td>\n",
       "      <td>True</td>\n",
       "      <td>True</td>\n",
       "      <td>True</td>\n",
       "      <td>2</td>\n",
       "      <td>Circus Circus Hotel &amp; Casino Las Vegas</td>\n",
       "      <td>3</td>\n",
       "      <td>7.0</td>\n",
       "      <td>5</td>\n",
       "      <td>5</td>\n",
       "      <td>...</td>\n",
       "      <td>Mar-May</td>\n",
       "      <td>False</td>\n",
       "      <td>March</td>\n",
       "      <td>Tuesday</td>\n",
       "      <td>1</td>\n",
       "      <td>False</td>\n",
       "      <td>False</td>\n",
       "      <td>Solo</td>\n",
       "      <td>North America</td>\n",
       "      <td>Canada</td>\n",
       "    </tr>\n",
       "  </tbody>\n",
       "</table>\n",
       "<p>5 rows × 21 columns</p>\n",
       "</div>"
      ],
      "text/plain": [
       "   Column1  Casino  Free_internet   Gym  Helpful_votes  \\\n",
       "0        0    True           True  True             13   \n",
       "1        1    True           True  True             75   \n",
       "2        2    True           True  True             25   \n",
       "3        3    True           True  True             14   \n",
       "4        4    True           True  True              2   \n",
       "\n",
       "                               Hotel_name  Hotel_stars  Member_years  \\\n",
       "0  Circus Circus Hotel & Casino Las Vegas            3           9.0   \n",
       "1  Circus Circus Hotel & Casino Las Vegas            3           3.0   \n",
       "2  Circus Circus Hotel & Casino Las Vegas            3           2.0   \n",
       "3  Circus Circus Hotel & Casino Las Vegas            3           6.0   \n",
       "4  Circus Circus Hotel & Casino Las Vegas            3           7.0   \n",
       "\n",
       "   Nr_hotel_reviews  Nr_reviews  ...  Period_of_stay   Pool  Review_month  \\\n",
       "0                 4          11  ...         Dec-Feb  False       January   \n",
       "1                21         119  ...         Dec-Feb  False       January   \n",
       "2                 9          36  ...         Mar-May  False      February   \n",
       "3                 7          14  ...         Mar-May  False      February   \n",
       "4                 5           5  ...         Mar-May  False         March   \n",
       "\n",
       "  Review_weekday Score    Spa  Tennis_court  Traveler_type User_continent  \\\n",
       "0       Thursday     1  False         False        Friends  North America   \n",
       "1         Friday     1  False         False       Business  North America   \n",
       "2       Saturday     1  False         False       Families  North America   \n",
       "3         Friday     1  False         False        Friends         Europe   \n",
       "4        Tuesday     1  False         False           Solo  North America   \n",
       "\n",
       "  User_country  \n",
       "0          USA  \n",
       "1          USA  \n",
       "2          USA  \n",
       "3           UK  \n",
       "4       Canada  \n",
       "\n",
       "[5 rows x 21 columns]"
      ]
     },
     "execution_count": 14,
     "metadata": {},
     "output_type": "execute_result"
    }
   ],
   "source": [
    "dataset.take(5).to_pandas_dataframe()"
   ]
  },
  {
   "cell_type": "markdown",
   "metadata": {
    "id": "ejL6DaPQ3skj"
   },
   "source": [
    "**Split into train and test data**"
   ]
  },
  {
   "cell_type": "code",
   "execution_count": 15,
   "metadata": {
    "id": "eaAc9HlC3B1N"
   },
   "outputs": [
    {
     "name": "stderr",
     "output_type": "stream",
     "text": [
      "/mnt/batch/tasks/shared/LS_root/mounts/clusters/compute-lv/code/Users/odl_user_131644/train.py:56: UserWarning: Pandas doesn't allow columns to be created via a new attribute name - see https://pandas.pydata.org/pandas-docs/stable/indexing.html#attribute-access\n",
      "  x_df.User_continent_dup = x_df.User_continent.fillna(x_df.User_country)\n",
      "/mnt/batch/tasks/shared/LS_root/mounts/clusters/compute-lv/code/Users/odl_user_131644/train.py:60: UserWarning: Pandas doesn't allow columns to be created via a new attribute name - see https://pandas.pydata.org/pandas-docs/stable/indexing.html#attribute-access\n",
      "  x_df.Nr_rooms_dup = x_df.Nr_rooms.fillna(x_df.Hotel_name)\n",
      "/mnt/batch/tasks/shared/LS_root/mounts/clusters/compute-lv/code/Users/odl_user_131644/train.py:63: UserWarning: Pandas doesn't allow columns to be created via a new attribute name - see https://pandas.pydata.org/pandas-docs/stable/indexing.html#attribute-access\n",
      "  x_df.Review_month_dup = x_df.Review_month.fillna(x_df.Period_of_stay)\n",
      "/mnt/batch/tasks/shared/LS_root/mounts/clusters/compute-lv/code/Users/odl_user_131644/train.py:66: UserWarning: Pandas doesn't allow columns to be created via a new attribute name - see https://pandas.pydata.org/pandas-docs/stable/indexing.html#attribute-access\n",
      "  x_df.Review_weekday_dup = x_df.Review_weekday.fillna(x_df.Hotel_name)\n",
      "/mnt/batch/tasks/shared/LS_root/mounts/clusters/compute-lv/code/Users/odl_user_131644/train.py:105: FutureWarning: The signature of `Series.to_csv` was aligned to that of `DataFrame.to_csv`, and argument 'header' will change its default value from False to True: please pass an explicit value to suppress this warning.\n",
      "  y_df.to_csv(\"LV-github-label.csv\")\n"
     ]
    },
    {
     "name": "stdout",
     "output_type": "stream",
     "text": [
      "Uploading an estimated of 1 files\n",
      "Uploading data_train/data_train.csv\n",
      "Uploaded data_train/data_train.csv, 1 files out of an estimated total of 1\n",
      "Uploaded 1 files\n"
     ]
    }
   ],
   "source": [
    "from train import clean_data\n",
    "from sklearn.model_selection import train_test_split\n",
    "import pandas as pd\n",
    "\n",
    " \n",
    "#x, y = clean_data(ds)\n",
    "train_data, test_data = dataset.random_split(percentage=0.75, seed=223)\n",
    "x_train = train_data.to_pandas_dataframe().pop('Score')\n",
    "y_train = train_data.to_pandas_dataframe().Score\n",
    "x_test = test_data.to_pandas_dataframe().pop('Score')\n",
    "y_test = test_data.to_pandas_dataframe().Score\n",
    "data_train = pd.concat([x_train,y_train], axis=1)\n",
    "\n",
    "os.makedirs('data_train', exist_ok=True)\n",
    "\n",
    "local_path = './data_train/data_train.csv'\n",
    "data_train.to_csv(local_path)\n",
    "\n",
    "# upload the local file to a datastore on the cloud\n",
    "workspace = Workspace(ws.subscription_id, ws.resource_group, ws.name)\n",
    "\n",
    "# get the datastore to upload prepared data\n",
    "datastore = ws.get_default_datastore()\n",
    "\n",
    "# upload the local file from src_dir to the target_path in datastore\n",
    "datastore.upload(src_dir='data_train', target_path='data_train')\n",
    "\n",
    "# create a dataset referencing the cloud location\n",
    "data_train = Dataset.Tabular.from_delimited_files(path = [(datastore, ('data_train/data_train.csv'))])"
   ]
  },
  {
   "cell_type": "markdown",
   "metadata": {
    "id": "yaziKBGT2CCm"
   },
   "source": [
    "**AutoML Configuration**\n",
    "\n",
    "TODO: Explain why you chose the automl settings and cofiguration you used below."
   ]
  },
  {
   "cell_type": "code",
   "execution_count": 16,
   "metadata": {
    "id": "D4oAWjuj2GeT"
   },
   "outputs": [],
   "source": [
    "automl_settings = {\n",
    "    \"experiment_timeout_minutes\": 20,\n",
    "    \"max_concurrent_iterations\": 5,\n",
    "    \"primary_metric\" : 'accuracy'\n",
    "}\n",
    "automl_config = AutoMLConfig(compute_target=compute_target,\n",
    "                             task = \"classification\",\n",
    "                             training_data=dataset,\n",
    "                             label_column_name=\"Score\",   \n",
    "                             enable_early_stopping= True,\n",
    "                             featurization= 'auto',\n",
    "                             debug_log = \"automl_errors.log\",\n",
    "                             **automl_settings\n",
    "                            )"
   ]
  },
  {
   "cell_type": "markdown",
   "metadata": {
    "id": "ZFf0TOXA4GeW"
   },
   "source": [
    "**Submit your automl run**"
   ]
  },
  {
   "cell_type": "code",
   "execution_count": 17,
   "metadata": {
    "id": "A0qZS5T44EQg"
   },
   "outputs": [
    {
     "name": "stdout",
     "output_type": "stream",
     "text": [
      "Running on remote.\n",
      "No run_configuration provided, running on automl-cluster with default configuration\n",
      "Running on remote compute: automl-cluster\n",
      "Parent Run ID: AutoML_1ee1c244-76b6-4154-b485-a97a3308bed4\n",
      "\n",
      "Current status: FeaturesGeneration. Generating features for the dataset.\n",
      "Current status: DatasetBalancing. Performing class balancing sweeping\n",
      "Current status: DatasetCrossValidationSplit. Generating individually featurized CV splits.\n",
      "Current status: ModelSelection. Beginning model selection.\n",
      "\n",
      "****************************************************************************************************\n",
      "DATA GUARDRAILS: \n",
      "\n",
      "TYPE:         Cross validation\n",
      "STATUS:       DONE\n",
      "DESCRIPTION:  Each iteration of the trained model was validated through cross-validation.\n",
      "              \n",
      "DETAILS:      \n",
      "+---------------------------------+\n",
      "|Number of folds                  |\n",
      "+=================================+\n",
      "|10                               |\n",
      "+---------------------------------+\n",
      "\n",
      "****************************************************************************************************\n",
      "\n",
      "TYPE:         Class balancing detection\n",
      "STATUS:       ALERTED\n",
      "DESCRIPTION:  To decrease model bias, please cancel the current run and fix balancing problem.\n",
      "              Learn more about imbalanced data: https://aka.ms/AutomatedMLImbalancedData\n",
      "DETAILS:      Imbalanced data can lead to a falsely perceived positive effect of a model's accuracy because the input data has bias towards one class.\n",
      "+---------------------------------+---------------------------------+--------------------------------------+\n",
      "|Size of the smallest class       |Name/Label of the smallest class |Number of samples in the training data|\n",
      "+=================================+=================================+======================================+\n",
      "|41                               |0                                |504                                   |\n",
      "+---------------------------------+---------------------------------+--------------------------------------+\n",
      "\n",
      "****************************************************************************************************\n",
      "\n",
      "TYPE:         Missing feature values imputation\n",
      "STATUS:       PASSED\n",
      "DESCRIPTION:  No feature missing values were detected in the training data.\n",
      "              Learn more about missing value imputation: https://aka.ms/AutomatedMLFeaturization\n",
      "\n",
      "****************************************************************************************************\n",
      "\n",
      "TYPE:         High cardinality feature detection\n",
      "STATUS:       DONE\n",
      "DESCRIPTION:  High cardinality features were detected in your inputs and handled.\n",
      "              Learn more about high cardinality feature handling: https://aka.ms/AutomatedMLFeaturization\n",
      "DETAILS:      High cardinality features refer to columns that contain a large percentage of unique values.\n",
      "+---------------------------------+---------------------------------+\n",
      "|Column name                      |Column Content Type              |\n",
      "+=================================+=================================+\n",
      "|User_country                     |categorical_hash                 |\n",
      "+---------------------------------+---------------------------------+\n",
      "\n",
      "****************************************************************************************************\n",
      "\n",
      "****************************************************************************************************\n",
      "ITERATION: The iteration being evaluated.\n",
      "PIPELINE: A summary description of the pipeline being evaluated.\n",
      "DURATION: Time taken for the current iteration.\n",
      "METRIC: The result of computing score on the fitted pipeline.\n",
      "BEST: The best observed score thus far.\n",
      "****************************************************************************************************\n",
      "\n",
      " ITERATION   PIPELINE                                       DURATION      METRIC      BEST\n",
      "         3   MaxAbsScaler RandomForest                      0:00:42       0.9186    0.9186\n",
      "         1   MaxAbsScaler XGBoostClassifier                 0:00:52       0.9166    0.9186\n",
      "         2   MaxAbsScaler RandomForest                      0:00:50       0.9186    0.9186\n",
      "         0   MaxAbsScaler LightGBM                          0:00:50       0.9067    0.9186\n",
      "         7   SparseNormalizer XGBoostClassifier             0:00:48       0.9126    0.9186\n",
      "         8   SparseNormalizer XGBoostClassifier             0:00:49       0.9126    0.9186\n",
      "         9   MaxAbsScaler LogisticRegression                0:00:47       0.9046    0.9186\n",
      "         4   MaxAbsScaler RandomForest                      0:03:26       0.8729    0.9186\n",
      "         5   MaxAbsScaler RandomForest                      0:03:31       0.8054    0.9186\n",
      "         6   SparseNormalizer XGBoostClassifier             0:03:24       0.9107    0.9186\n",
      "        10   SparseNormalizer XGBoostClassifier             0:00:53       0.9186    0.9186\n",
      "        11   MaxAbsScaler RandomForest                      0:00:47       0.9186    0.9186\n",
      "        12   MaxAbsScaler RandomForest                      0:00:50       0.9186    0.9186\n",
      "        13   MaxAbsScaler GradientBoosting                  0:00:49       0.9186    0.9186\n",
      "        14   MaxAbsScaler ExtremeRandomTrees                0:00:54       0.9186    0.9186\n",
      "        15   MaxAbsScaler ExtremeRandomTrees                0:00:49       0.9186    0.9186\n",
      "        16   MaxAbsScaler LightGBM                          0:00:46       0.9186    0.9186\n",
      "        18   StandardScalerWrapper LightGBM                 0:00:42       0.9186    0.9186\n",
      "        17   MaxAbsScaler LogisticRegression                0:00:47       0.9066    0.9186\n",
      "        19   StandardScalerWrapper LightGBM                 0:00:42       0.9186    0.9186\n",
      "        20   SparseNormalizer XGBoostClassifier             0:00:43       0.9146    0.9186\n",
      "        21   StandardScalerWrapper LightGBM                 0:00:40       0.9186    0.9186\n",
      "        22   StandardScalerWrapper XGBoostClassifier        0:00:51       0.9186    0.9186\n",
      "        23   MaxAbsScaler LightGBM                          0:00:49       0.9186    0.9186\n",
      "        24   SparseNormalizer XGBoostClassifier             0:00:48       0.9126    0.9186\n",
      "        25   SparseNormalizer RandomForest                  0:00:46       0.9186    0.9186\n",
      "        26   SparseNormalizer XGBoostClassifier             0:00:55       0.9107    0.9186\n",
      "        27   StandardScalerWrapper LightGBM                 0:00:53       0.9186    0.9186\n",
      "        28   MaxAbsScaler LightGBM                          0:00:47       0.9186    0.9186\n",
      "        29   StandardScalerWrapper ExtremeRandomTrees       0:00:48       0.9186    0.9186\n",
      "        30   SparseNormalizer XGBoostClassifier             0:00:46       0.9186    0.9186\n",
      "        31   StandardScalerWrapper LightGBM                 0:00:47       0.9186    0.9186\n",
      "        32   MaxAbsScaler LightGBM                          0:00:39       0.9186    0.9186\n",
      "        33   StandardScalerWrapper LightGBM                 0:00:45       0.9186    0.9186\n",
      "        34   MaxAbsScaler LightGBM                          0:00:46       0.9186    0.9186\n",
      "        35   SparseNormalizer XGBoostClassifier             0:00:32       0.9186    0.9186\n",
      "        36   MaxAbsScaler LightGBM                          0:00:42       0.9186    0.9186\n",
      "        37   StandardScalerWrapper XGBoostClassifier        0:00:45       0.9186    0.9186\n",
      "        38                                                  0:00:24          nan    0.9186\n",
      "        39                                                  0:00:12          nan    0.9186\n",
      "        40                                                  0:00:15          nan    0.9186\n",
      "        41    VotingEnsemble                                0:01:47       0.9186    0.9186\n",
      "        42    StackEnsemble                                 0:01:52       0.9186    0.9186\n"
     ]
    }
   ],
   "source": [
    "experiment_name = 'lv-automl-classification'\n",
    "experiment = Experiment(ws, experiment_name)\n",
    "run = experiment.submit(automl_config, show_output=True)"
   ]
  },
  {
   "cell_type": "markdown",
   "metadata": {
    "id": "LVm7S0Cf5gaY"
   },
   "source": [
    "Results\n",
    "Widget for Monitoring Runs\n",
    "The widget will first report a \"loading\" status while running the first iteration. After completing the first iteration, an auto-updating graph and table will be shown. The widget will refresh once per minute, so you should see the graph update as child runs complete.\n",
    "\n",
    "Note: The widget displays a link at the bottom. Use this link to open a web interface to explore the individual run details"
   ]
  },
  {
   "cell_type": "code",
   "execution_count": 18,
   "metadata": {
    "id": "Ike1GL_15pdE"
   },
   "outputs": [
    {
     "data": {
      "application/vnd.jupyter.widget-view+json": {
       "model_id": "67a2311e9424401185d0229f87f1bdf0",
       "version_major": 2,
       "version_minor": 0
      },
      "text/plain": [
       "_AutoMLWidget(widget_settings={'childWidgetDisplay': 'popup', 'send_telemetry': False, 'log_level': 'INFO', 's…"
      ]
     },
     "metadata": {},
     "output_type": "display_data"
    },
    {
     "data": {
      "application/aml.mini.widget.v1": "{\"status\": \"Completed\", \"workbench_run_details_uri\": \"https://ml.azure.com/experiments/lv-automl-classification/runs/AutoML_1ee1c244-76b6-4154-b485-a97a3308bed4?wsid=/subscriptions/f9d5a085-54dc-4215-9ba6-dad5d86e60a0/resourcegroups/aml-quickstarts-131644/workspaces/quick-starts-ws-131644\", \"run_id\": \"AutoML_1ee1c244-76b6-4154-b485-a97a3308bed4\", \"run_properties\": {\"run_id\": \"AutoML_1ee1c244-76b6-4154-b485-a97a3308bed4\", \"created_utc\": \"2020-12-24T17:57:20.049471Z\", \"properties\": {\"num_iterations\": \"1000\", \"training_type\": \"TrainFull\", \"acquisition_function\": \"EI\", \"primary_metric\": \"accuracy\", \"train_split\": \"0\", \"acquisition_parameter\": \"0\", \"num_cross_validation\": null, \"target\": \"automl-cluster\", \"AMLSettingsJsonString\": \"{\\\"path\\\":null,\\\"name\\\":\\\"lv-automl-classification\\\",\\\"subscription_id\\\":\\\"f9d5a085-54dc-4215-9ba6-dad5d86e60a0\\\",\\\"resource_group\\\":\\\"aml-quickstarts-131644\\\",\\\"workspace_name\\\":\\\"quick-starts-ws-131644\\\",\\\"region\\\":\\\"southcentralus\\\",\\\"compute_target\\\":\\\"automl-cluster\\\",\\\"spark_service\\\":null,\\\"azure_service\\\":\\\"remote\\\",\\\"many_models\\\":false,\\\"pipeline_fetch_max_batch_size\\\":1,\\\"iterations\\\":1000,\\\"primary_metric\\\":\\\"accuracy\\\",\\\"task_type\\\":\\\"classification\\\",\\\"data_script\\\":null,\\\"validation_size\\\":0.0,\\\"n_cross_validations\\\":null,\\\"y_min\\\":null,\\\"y_max\\\":null,\\\"num_classes\\\":null,\\\"featurization\\\":\\\"auto\\\",\\\"_ignore_package_version_incompatibilities\\\":false,\\\"is_timeseries\\\":false,\\\"max_cores_per_iteration\\\":1,\\\"max_concurrent_iterations\\\":5,\\\"iteration_timeout_minutes\\\":null,\\\"mem_in_mb\\\":null,\\\"enforce_time_on_windows\\\":false,\\\"experiment_timeout_minutes\\\":20,\\\"experiment_exit_score\\\":null,\\\"whitelist_models\\\":null,\\\"blacklist_algos\\\":[\\\"TensorFlowLinearClassifier\\\",\\\"TensorFlowDNN\\\"],\\\"supported_models\\\":[\\\"TensorFlowLinearClassifier\\\",\\\"BernoulliNaiveBayes\\\",\\\"LogisticRegression\\\",\\\"LinearSVM\\\",\\\"DecisionTree\\\",\\\"ExtremeRandomTrees\\\",\\\"SVM\\\",\\\"KNN\\\",\\\"LightGBM\\\",\\\"TensorFlowDNN\\\",\\\"XGBoostClassifier\\\",\\\"GradientBoosting\\\",\\\"SGD\\\",\\\"AveragedPerceptronClassifier\\\",\\\"MultinomialNaiveBayes\\\",\\\"RandomForest\\\"],\\\"auto_blacklist\\\":true,\\\"blacklist_samples_reached\\\":false,\\\"exclude_nan_labels\\\":true,\\\"verbosity\\\":20,\\\"_debug_log\\\":\\\"azureml_automl.log\\\",\\\"show_warnings\\\":false,\\\"model_explainability\\\":true,\\\"service_url\\\":null,\\\"sdk_url\\\":null,\\\"sdk_packages\\\":null,\\\"enable_onnx_compatible_models\\\":false,\\\"enable_split_onnx_featurizer_estimator_models\\\":false,\\\"vm_type\\\":\\\"STANDARD_D2_V2\\\",\\\"telemetry_verbosity\\\":20,\\\"send_telemetry\\\":true,\\\"enable_dnn\\\":false,\\\"scenario\\\":\\\"SDK-1.13.0\\\",\\\"environment_label\\\":null,\\\"force_text_dnn\\\":false,\\\"enable_feature_sweeping\\\":true,\\\"enable_early_stopping\\\":true,\\\"early_stopping_n_iters\\\":10,\\\"metrics\\\":null,\\\"enable_ensembling\\\":true,\\\"enable_stack_ensembling\\\":true,\\\"ensemble_iterations\\\":15,\\\"enable_tf\\\":false,\\\"enable_subsampling\\\":null,\\\"subsample_seed\\\":null,\\\"enable_nimbusml\\\":false,\\\"enable_streaming\\\":false,\\\"force_streaming\\\":false,\\\"track_child_runs\\\":true,\\\"allowed_private_models\\\":[],\\\"label_column_name\\\":\\\"Score\\\",\\\"weight_column_name\\\":null,\\\"cv_split_column_names\\\":null,\\\"enable_local_managed\\\":false,\\\"_local_managed_run_id\\\":null,\\\"cost_mode\\\":1,\\\"lag_length\\\":0,\\\"metric_operation\\\":\\\"maximize\\\",\\\"preprocess\\\":true}\", \"DataPrepJsonString\": \"{\\\\\\\"training_data\\\\\\\": \\\\\\\"{\\\\\\\\\\\\\\\"blocks\\\\\\\\\\\\\\\": [{\\\\\\\\\\\\\\\"id\\\\\\\\\\\\\\\": \\\\\\\\\\\\\\\"dc4bbc78-64f1-45c4-9d10-c50456507e18\\\\\\\\\\\\\\\", \\\\\\\\\\\\\\\"type\\\\\\\\\\\\\\\": \\\\\\\\\\\\\\\"Microsoft.DPrep.GetFilesBlock\\\\\\\\\\\\\\\", \\\\\\\\\\\\\\\"arguments\\\\\\\\\\\\\\\": {\\\\\\\\\\\\\\\"isArchive\\\\\\\\\\\\\\\": false, \\\\\\\\\\\\\\\"path\\\\\\\\\\\\\\\": {\\\\\\\\\\\\\\\"target\\\\\\\\\\\\\\\": 4, \\\\\\\\\\\\\\\"resourceDetails\\\\\\\\\\\\\\\": [{\\\\\\\\\\\\\\\"path\\\\\\\\\\\\\\\": \\\\\\\\\\\\\\\"https://raw.githubusercontent.com/Kbhamidipa3/udacityazure_capstone_final/main/LV-github-automl.csv\\\\\\\\\\\\\\\"}]}}, \\\\\\\\\\\\\\\"localData\\\\\\\\\\\\\\\": {}, \\\\\\\\\\\\\\\"isEnabled\\\\\\\\\\\\\\\": true, \\\\\\\\\\\\\\\"name\\\\\\\\\\\\\\\": null, \\\\\\\\\\\\\\\"annotation\\\\\\\\\\\\\\\": null}, {\\\\\\\\\\\\\\\"id\\\\\\\\\\\\\\\": \\\\\\\\\\\\\\\"5461a422-057d-4675-b9db-5893adb51b2b\\\\\\\\\\\\\\\", \\\\\\\\\\\\\\\"type\\\\\\\\\\\\\\\": \\\\\\\\\\\\\\\"Microsoft.DPrep.ParseDelimitedBlock\\\\\\\\\\\\\\\", \\\\\\\\\\\\\\\"arguments\\\\\\\\\\\\\\\": {\\\\\\\\\\\\\\\"columnHeadersMode\\\\\\\\\\\\\\\": 3, \\\\\\\\\\\\\\\"fileEncoding\\\\\\\\\\\\\\\": 0, \\\\\\\\\\\\\\\"handleQuotedLineBreaks\\\\\\\\\\\\\\\": false, \\\\\\\\\\\\\\\"preview\\\\\\\\\\\\\\\": false, \\\\\\\\\\\\\\\"separator\\\\\\\\\\\\\\\": \\\\\\\\\\\\\\\",\\\\\\\\\\\\\\\", \\\\\\\\\\\\\\\"skipRows\\\\\\\\\\\\\\\": 0, \\\\\\\\\\\\\\\"skipRowsMode\\\\\\\\\\\\\\\": 0}, \\\\\\\\\\\\\\\"localData\\\\\\\\\\\\\\\": {}, \\\\\\\\\\\\\\\"isEnabled\\\\\\\\\\\\\\\": true, \\\\\\\\\\\\\\\"name\\\\\\\\\\\\\\\": null, \\\\\\\\\\\\\\\"annotation\\\\\\\\\\\\\\\": null}, {\\\\\\\\\\\\\\\"id\\\\\\\\\\\\\\\": \\\\\\\\\\\\\\\"e5d6c9a3-91b9-466f-885d-2668abb402bd\\\\\\\\\\\\\\\", \\\\\\\\\\\\\\\"type\\\\\\\\\\\\\\\": \\\\\\\\\\\\\\\"Microsoft.DPrep.DropColumnsBlock\\\\\\\\\\\\\\\", \\\\\\\\\\\\\\\"arguments\\\\\\\\\\\\\\\": {\\\\\\\\\\\\\\\"columns\\\\\\\\\\\\\\\": {\\\\\\\\\\\\\\\"type\\\\\\\\\\\\\\\": 0, \\\\\\\\\\\\\\\"details\\\\\\\\\\\\\\\": {\\\\\\\\\\\\\\\"selectedColumns\\\\\\\\\\\\\\\": [\\\\\\\\\\\\\\\"Path\\\\\\\\\\\\\\\"]}}}, \\\\\\\\\\\\\\\"localData\\\\\\\\\\\\\\\": {}, \\\\\\\\\\\\\\\"isEnabled\\\\\\\\\\\\\\\": true, \\\\\\\\\\\\\\\"name\\\\\\\\\\\\\\\": null, \\\\\\\\\\\\\\\"annotation\\\\\\\\\\\\\\\": null}, {\\\\\\\\\\\\\\\"id\\\\\\\\\\\\\\\": \\\\\\\\\\\\\\\"68a5df0f-8eec-4fab-80ac-51075e0ec585\\\\\\\\\\\\\\\", \\\\\\\\\\\\\\\"type\\\\\\\\\\\\\\\": \\\\\\\\\\\\\\\"Microsoft.DPrep.SetColumnTypesBlock\\\\\\\\\\\\\\\", \\\\\\\\\\\\\\\"arguments\\\\\\\\\\\\\\\": {\\\\\\\\\\\\\\\"columnConversion\\\\\\\\\\\\\\\": [{\\\\\\\\\\\\\\\"column\\\\\\\\\\\\\\\": {\\\\\\\\\\\\\\\"type\\\\\\\\\\\\\\\": 2, \\\\\\\\\\\\\\\"details\\\\\\\\\\\\\\\": {\\\\\\\\\\\\\\\"selectedColumn\\\\\\\\\\\\\\\": \\\\\\\\\\\\\\\"Column1\\\\\\\\\\\\\\\"}}, \\\\\\\\\\\\\\\"typeProperty\\\\\\\\\\\\\\\": 2}, {\\\\\\\\\\\\\\\"column\\\\\\\\\\\\\\\": {\\\\\\\\\\\\\\\"type\\\\\\\\\\\\\\\": 2, \\\\\\\\\\\\\\\"details\\\\\\\\\\\\\\\": {\\\\\\\\\\\\\\\"selectedColumn\\\\\\\\\\\\\\\": \\\\\\\\\\\\\\\"Casino\\\\\\\\\\\\\\\"}}, \\\\\\\\\\\\\\\"typeProperty\\\\\\\\\\\\\\\": 1}, {\\\\\\\\\\\\\\\"column\\\\\\\\\\\\\\\": {\\\\\\\\\\\\\\\"type\\\\\\\\\\\\\\\": 2, \\\\\\\\\\\\\\\"details\\\\\\\\\\\\\\\": {\\\\\\\\\\\\\\\"selectedColumn\\\\\\\\\\\\\\\": \\\\\\\\\\\\\\\"Free_internet\\\\\\\\\\\\\\\"}}, \\\\\\\\\\\\\\\"typeProperty\\\\\\\\\\\\\\\": 1}, {\\\\\\\\\\\\\\\"column\\\\\\\\\\\\\\\": {\\\\\\\\\\\\\\\"type\\\\\\\\\\\\\\\": 2, \\\\\\\\\\\\\\\"details\\\\\\\\\\\\\\\": {\\\\\\\\\\\\\\\"selectedColumn\\\\\\\\\\\\\\\": \\\\\\\\\\\\\\\"Gym\\\\\\\\\\\\\\\"}}, \\\\\\\\\\\\\\\"typeProperty\\\\\\\\\\\\\\\": 1}, {\\\\\\\\\\\\\\\"column\\\\\\\\\\\\\\\": {\\\\\\\\\\\\\\\"type\\\\\\\\\\\\\\\": 2, \\\\\\\\\\\\\\\"details\\\\\\\\\\\\\\\": {\\\\\\\\\\\\\\\"selectedColumn\\\\\\\\\\\\\\\": \\\\\\\\\\\\\\\"Helpful_votes\\\\\\\\\\\\\\\"}}, \\\\\\\\\\\\\\\"typeProperty\\\\\\\\\\\\\\\": 2}, {\\\\\\\\\\\\\\\"column\\\\\\\\\\\\\\\": {\\\\\\\\\\\\\\\"type\\\\\\\\\\\\\\\": 2, \\\\\\\\\\\\\\\"details\\\\\\\\\\\\\\\": {\\\\\\\\\\\\\\\"selectedColumn\\\\\\\\\\\\\\\": \\\\\\\\\\\\\\\"Hotel_name\\\\\\\\\\\\\\\"}}, \\\\\\\\\\\\\\\"typeProperty\\\\\\\\\\\\\\\": 0}, {\\\\\\\\\\\\\\\"column\\\\\\\\\\\\\\\": {\\\\\\\\\\\\\\\"type\\\\\\\\\\\\\\\": 2, \\\\\\\\\\\\\\\"details\\\\\\\\\\\\\\\": {\\\\\\\\\\\\\\\"selectedColumn\\\\\\\\\\\\\\\": \\\\\\\\\\\\\\\"Hotel_stars\\\\\\\\\\\\\\\"}}, \\\\\\\\\\\\\\\"typeProperty\\\\\\\\\\\\\\\": 2}, {\\\\\\\\\\\\\\\"column\\\\\\\\\\\\\\\": {\\\\\\\\\\\\\\\"type\\\\\\\\\\\\\\\": 2, \\\\\\\\\\\\\\\"details\\\\\\\\\\\\\\\": {\\\\\\\\\\\\\\\"selectedColumn\\\\\\\\\\\\\\\": \\\\\\\\\\\\\\\"Member_years\\\\\\\\\\\\\\\"}}, \\\\\\\\\\\\\\\"typeProperty\\\\\\\\\\\\\\\": 3}, {\\\\\\\\\\\\\\\"column\\\\\\\\\\\\\\\": {\\\\\\\\\\\\\\\"type\\\\\\\\\\\\\\\": 2, \\\\\\\\\\\\\\\"details\\\\\\\\\\\\\\\": {\\\\\\\\\\\\\\\"selectedColumn\\\\\\\\\\\\\\\": \\\\\\\\\\\\\\\"Nr_hotel_reviews\\\\\\\\\\\\\\\"}}, \\\\\\\\\\\\\\\"typeProperty\\\\\\\\\\\\\\\": 2}, {\\\\\\\\\\\\\\\"column\\\\\\\\\\\\\\\": {\\\\\\\\\\\\\\\"type\\\\\\\\\\\\\\\": 2, \\\\\\\\\\\\\\\"details\\\\\\\\\\\\\\\": {\\\\\\\\\\\\\\\"selectedColumn\\\\\\\\\\\\\\\": \\\\\\\\\\\\\\\"Nr_reviews\\\\\\\\\\\\\\\"}}, \\\\\\\\\\\\\\\"typeProperty\\\\\\\\\\\\\\\": 2}, {\\\\\\\\\\\\\\\"column\\\\\\\\\\\\\\\": {\\\\\\\\\\\\\\\"type\\\\\\\\\\\\\\\": 2, \\\\\\\\\\\\\\\"details\\\\\\\\\\\\\\\": {\\\\\\\\\\\\\\\"selectedColumn\\\\\\\\\\\\\\\": \\\\\\\\\\\\\\\"Nr_rooms\\\\\\\\\\\\\\\"}}, \\\\\\\\\\\\\\\"typeProperty\\\\\\\\\\\\\\\": 3}, {\\\\\\\\\\\\\\\"column\\\\\\\\\\\\\\\": {\\\\\\\\\\\\\\\"type\\\\\\\\\\\\\\\": 2, \\\\\\\\\\\\\\\"details\\\\\\\\\\\\\\\": {\\\\\\\\\\\\\\\"selectedColumn\\\\\\\\\\\\\\\": \\\\\\\\\\\\\\\"Period_of_stay\\\\\\\\\\\\\\\"}}, \\\\\\\\\\\\\\\"typeProperty\\\\\\\\\\\\\\\": 0}, {\\\\\\\\\\\\\\\"column\\\\\\\\\\\\\\\": {\\\\\\\\\\\\\\\"type\\\\\\\\\\\\\\\": 2, \\\\\\\\\\\\\\\"details\\\\\\\\\\\\\\\": {\\\\\\\\\\\\\\\"selectedColumn\\\\\\\\\\\\\\\": \\\\\\\\\\\\\\\"Pool\\\\\\\\\\\\\\\"}}, \\\\\\\\\\\\\\\"typeProperty\\\\\\\\\\\\\\\": 1}, {\\\\\\\\\\\\\\\"column\\\\\\\\\\\\\\\": {\\\\\\\\\\\\\\\"type\\\\\\\\\\\\\\\": 2, \\\\\\\\\\\\\\\"details\\\\\\\\\\\\\\\": {\\\\\\\\\\\\\\\"selectedColumn\\\\\\\\\\\\\\\": \\\\\\\\\\\\\\\"Review_month\\\\\\\\\\\\\\\"}}, \\\\\\\\\\\\\\\"typeProperty\\\\\\\\\\\\\\\": 0}, {\\\\\\\\\\\\\\\"column\\\\\\\\\\\\\\\": {\\\\\\\\\\\\\\\"type\\\\\\\\\\\\\\\": 2, \\\\\\\\\\\\\\\"details\\\\\\\\\\\\\\\": {\\\\\\\\\\\\\\\"selectedColumn\\\\\\\\\\\\\\\": \\\\\\\\\\\\\\\"Review_weekday\\\\\\\\\\\\\\\"}}, \\\\\\\\\\\\\\\"typeProperty\\\\\\\\\\\\\\\": 0}, {\\\\\\\\\\\\\\\"column\\\\\\\\\\\\\\\": {\\\\\\\\\\\\\\\"type\\\\\\\\\\\\\\\": 2, \\\\\\\\\\\\\\\"details\\\\\\\\\\\\\\\": {\\\\\\\\\\\\\\\"selectedColumn\\\\\\\\\\\\\\\": \\\\\\\\\\\\\\\"Score\\\\\\\\\\\\\\\"}}, \\\\\\\\\\\\\\\"typeProperty\\\\\\\\\\\\\\\": 2}, {\\\\\\\\\\\\\\\"column\\\\\\\\\\\\\\\": {\\\\\\\\\\\\\\\"type\\\\\\\\\\\\\\\": 2, \\\\\\\\\\\\\\\"details\\\\\\\\\\\\\\\": {\\\\\\\\\\\\\\\"selectedColumn\\\\\\\\\\\\\\\": \\\\\\\\\\\\\\\"Spa\\\\\\\\\\\\\\\"}}, \\\\\\\\\\\\\\\"typeProperty\\\\\\\\\\\\\\\": 1}, {\\\\\\\\\\\\\\\"column\\\\\\\\\\\\\\\": {\\\\\\\\\\\\\\\"type\\\\\\\\\\\\\\\": 2, \\\\\\\\\\\\\\\"details\\\\\\\\\\\\\\\": {\\\\\\\\\\\\\\\"selectedColumn\\\\\\\\\\\\\\\": \\\\\\\\\\\\\\\"Tennis_court\\\\\\\\\\\\\\\"}}, \\\\\\\\\\\\\\\"typeProperty\\\\\\\\\\\\\\\": 1}, {\\\\\\\\\\\\\\\"column\\\\\\\\\\\\\\\": {\\\\\\\\\\\\\\\"type\\\\\\\\\\\\\\\": 2, \\\\\\\\\\\\\\\"details\\\\\\\\\\\\\\\": {\\\\\\\\\\\\\\\"selectedColumn\\\\\\\\\\\\\\\": \\\\\\\\\\\\\\\"Traveler_type\\\\\\\\\\\\\\\"}}, \\\\\\\\\\\\\\\"typeProperty\\\\\\\\\\\\\\\": 0}, {\\\\\\\\\\\\\\\"column\\\\\\\\\\\\\\\": {\\\\\\\\\\\\\\\"type\\\\\\\\\\\\\\\": 2, \\\\\\\\\\\\\\\"details\\\\\\\\\\\\\\\": {\\\\\\\\\\\\\\\"selectedColumn\\\\\\\\\\\\\\\": \\\\\\\\\\\\\\\"User_continent\\\\\\\\\\\\\\\"}}, \\\\\\\\\\\\\\\"typeProperty\\\\\\\\\\\\\\\": 0}, {\\\\\\\\\\\\\\\"column\\\\\\\\\\\\\\\": {\\\\\\\\\\\\\\\"type\\\\\\\\\\\\\\\": 2, \\\\\\\\\\\\\\\"details\\\\\\\\\\\\\\\": {\\\\\\\\\\\\\\\"selectedColumn\\\\\\\\\\\\\\\": \\\\\\\\\\\\\\\"User_country\\\\\\\\\\\\\\\"}}, \\\\\\\\\\\\\\\"typeProperty\\\\\\\\\\\\\\\": 0}]}, \\\\\\\\\\\\\\\"localData\\\\\\\\\\\\\\\": {}, \\\\\\\\\\\\\\\"isEnabled\\\\\\\\\\\\\\\": true, \\\\\\\\\\\\\\\"name\\\\\\\\\\\\\\\": null, \\\\\\\\\\\\\\\"annotation\\\\\\\\\\\\\\\": null}], \\\\\\\\\\\\\\\"inspectors\\\\\\\\\\\\\\\": [], \\\\\\\\\\\\\\\"meta\\\\\\\\\\\\\\\": {\\\\\\\\\\\\\\\"steps_added\\\\\\\\\\\\\\\": \\\\\\\\\\\\\\\"4\\\\\\\\\\\\\\\"}}\\\\\\\", \\\\\\\"activities\\\\\\\": 0}\", \"EnableSubsampling\": null, \"runTemplate\": \"AutoML\", \"azureml.runsource\": \"automl\", \"display_task_type\": \"classification\", \"dependencies_versions\": \"{\\\"azureml-widgets\\\": \\\"1.19.0\\\", \\\"azureml-train\\\": \\\"1.19.0\\\", \\\"azureml-train-restclients-hyperdrive\\\": \\\"1.19.0\\\", \\\"azureml-train-core\\\": \\\"1.19.0\\\", \\\"azureml-train-automl\\\": \\\"1.19.0\\\", \\\"azureml-train-automl-runtime\\\": \\\"1.19.0\\\", \\\"azureml-train-automl-client\\\": \\\"1.19.0\\\", \\\"azureml-tensorboard\\\": \\\"1.19.0\\\", \\\"azureml-telemetry\\\": \\\"1.19.0\\\", \\\"azureml-sdk\\\": \\\"1.19.0\\\", \\\"azureml-samples\\\": \\\"0+unknown\\\", \\\"azureml-pipeline\\\": \\\"1.19.0\\\", \\\"azureml-pipeline-steps\\\": \\\"1.19.0\\\", \\\"azureml-pipeline-core\\\": \\\"1.19.0\\\", \\\"azureml-opendatasets\\\": \\\"1.19.0\\\", \\\"azureml-model-management-sdk\\\": \\\"1.0.1b6.post1\\\", \\\"azureml-mlflow\\\": \\\"1.19.0\\\", \\\"azureml-interpret\\\": \\\"1.19.0\\\", \\\"azureml-explain-model\\\": \\\"1.19.0\\\", \\\"azureml-defaults\\\": \\\"1.19.0\\\", \\\"azureml-dataset-runtime\\\": \\\"1.19.0\\\", \\\"azureml-dataprep\\\": \\\"2.6.1\\\", \\\"azureml-dataprep-rslex\\\": \\\"1.4.0\\\", \\\"azureml-dataprep-native\\\": \\\"26.0.0\\\", \\\"azureml-datadrift\\\": \\\"1.19.0\\\", \\\"azureml-core\\\": \\\"1.19.0\\\", \\\"azureml-contrib-services\\\": \\\"1.19.0\\\", \\\"azureml-contrib-server\\\": \\\"1.19.0\\\", \\\"azureml-contrib-reinforcementlearning\\\": \\\"1.19.0\\\", \\\"azureml-contrib-pipeline-steps\\\": \\\"1.19.0\\\", \\\"azureml-contrib-notebook\\\": \\\"1.19.0\\\", \\\"azureml-contrib-interpret\\\": \\\"1.19.0\\\", \\\"azureml-contrib-gbdt\\\": \\\"1.19.0\\\", \\\"azureml-contrib-fairness\\\": \\\"1.19.0\\\", \\\"azureml-contrib-dataset\\\": \\\"1.19.0\\\", \\\"azureml-cli-common\\\": \\\"1.19.0\\\", \\\"azureml-automl-runtime\\\": \\\"1.19.0\\\", \\\"azureml-automl-core\\\": \\\"1.19.0\\\", \\\"azureml-accel-models\\\": \\\"1.19.0\\\"}\", \"_aml_system_scenario_identification\": \"Remote.Parent\", \"ClientType\": \"SDK\", \"environment_cpu_name\": \"AzureML-AutoML\", \"environment_cpu_label\": \"prod\", \"environment_gpu_name\": \"AzureML-AutoML-GPU\", \"environment_gpu_label\": \"prod\", \"root_attribution\": \"automl\", \"attribution\": \"AutoML\", \"Orchestrator\": \"AutoML\", \"CancelUri\": \"https://southcentralus.experiments.azureml.net/jasmine/v1.0/subscriptions/f9d5a085-54dc-4215-9ba6-dad5d86e60a0/resourceGroups/aml-quickstarts-131644/providers/Microsoft.MachineLearningServices/workspaces/quick-starts-ws-131644/experimentids/b9215adb-dd8f-4d07-b2c8-2d37967503d4/cancel/AutoML_1ee1c244-76b6-4154-b485-a97a3308bed4\", \"ClientSdkVersion\": \"1.19.0\", \"snapshotId\": \"00000000-0000-0000-0000-000000000000\", \"SetupRunId\": \"AutoML_1ee1c244-76b6-4154-b485-a97a3308bed4_setup\", \"SetupRunContainerId\": \"dcid.AutoML_1ee1c244-76b6-4154-b485-a97a3308bed4_setup\", \"FeaturizationRunJsonPath\": \"featurizer_container.json\", \"FeaturizationRunId\": \"AutoML_1ee1c244-76b6-4154-b485-a97a3308bed4_featurize\", \"ProblemInfoJsonString\": \"{\\\"dataset_num_categorical\\\": 0, \\\"is_sparse\\\": true, \\\"subsampling\\\": false, \\\"dataset_classes\\\": 2, \\\"dataset_features\\\": 102, \\\"dataset_samples\\\": 504, \\\"single_frequency_class_detected\\\": false}\", \"ModelExplainRunId\": \"AutoML_1ee1c244-76b6-4154-b485-a97a3308bed4_ModelExplain\"}, \"tags\": {\"model_explain_run\": \"best_run\", \"_aml_system_azureml.automlComponent\": \"AutoML\", \"pipeline_id\": \"\", \"score\": \"\", \"predicted_cost\": \"\", \"fit_time\": \"\", \"training_percent\": \"\", \"iteration\": \"\", \"run_preprocessor\": \"\", \"run_algorithm\": \"\", \"dynamic_whitelisting_iterations\": \"<25>;<30>;<35>;<40>;\", \"automl_best_child_run_id\": \"AutoML_1ee1c244-76b6-4154-b485-a97a3308bed4_22\", \"model_explain_best_run_child_id\": \"AutoML_1ee1c244-76b6-4154-b485-a97a3308bed4_22\"}, \"end_time_utc\": \"2020-12-24T18:24:13.566965Z\", \"status\": \"Completed\", \"log_files\": {}, \"log_groups\": [], \"run_duration\": \"0:26:53\"}, \"child_runs\": [{\"run_id\": \"AutoML_1ee1c244-76b6-4154-b485-a97a3308bed4_0\", \"run_number\": 5, \"metric\": null, \"status\": \"Completed\", \"run_type\": \"azureml.scriptrun\", \"training_percent\": \"100\", \"start_time\": \"2020-12-24T18:11:49.741211Z\", \"end_time\": \"2020-12-24T18:12:39.705741Z\", \"created_time\": \"2020-12-24T18:08:59.218925Z\", \"created_time_dt\": \"2020-12-24T18:08:59.218925Z\", \"duration\": \"0:03:40\", \"iteration\": \"0\", \"goal\": \"accuracy_max\", \"run_name\": \"MaxAbsScaler, LightGBM\", \"run_properties\": \"copy=True\", \"primary_metric\": 0.9067451, \"best_metric\": 0.9067451}, {\"run_id\": \"AutoML_1ee1c244-76b6-4154-b485-a97a3308bed4_3\", \"run_number\": 6, \"metric\": null, \"status\": \"Completed\", \"run_type\": \"azureml.scriptrun\", \"training_percent\": \"100\", \"start_time\": \"2020-12-24T18:09:11.608236Z\", \"end_time\": \"2020-12-24T18:09:53.811378Z\", \"created_time\": \"2020-12-24T18:08:59.345764Z\", \"created_time_dt\": \"2020-12-24T18:08:59.345764Z\", \"duration\": \"0:00:54\", \"iteration\": \"3\", \"goal\": \"accuracy_max\", \"run_name\": \"MaxAbsScaler, RandomForest\", \"run_properties\": \"copy=True\", \"primary_metric\": 0.91858824, \"best_metric\": 0.91858824}, {\"run_id\": \"AutoML_1ee1c244-76b6-4154-b485-a97a3308bed4_1\", \"run_number\": 7, \"metric\": null, \"status\": \"Completed\", \"run_type\": \"azureml.scriptrun\", \"training_percent\": \"100\", \"start_time\": \"2020-12-24T18:09:55.289603Z\", \"end_time\": \"2020-12-24T18:10:47.440775Z\", \"created_time\": \"2020-12-24T18:08:59.353533Z\", \"created_time_dt\": \"2020-12-24T18:08:59.353533Z\", \"duration\": \"0:01:48\", \"iteration\": \"1\", \"goal\": \"accuracy_max\", \"run_name\": \"MaxAbsScaler, XGBoostClassifier\", \"run_properties\": \"copy=True\", \"primary_metric\": 0.91662745, \"best_metric\": 0.91662745}, {\"run_id\": \"AutoML_1ee1c244-76b6-4154-b485-a97a3308bed4_2\", \"run_number\": 8, \"metric\": null, \"status\": \"Completed\", \"run_type\": \"azureml.scriptrun\", \"training_percent\": \"100\", \"start_time\": \"2020-12-24T18:10:55.158943Z\", \"end_time\": \"2020-12-24T18:11:44.98393Z\", \"created_time\": \"2020-12-24T18:08:59.407151Z\", \"created_time_dt\": \"2020-12-24T18:08:59.407151Z\", \"duration\": \"0:02:45\", \"iteration\": \"2\", \"goal\": \"accuracy_max\", \"run_name\": \"MaxAbsScaler, RandomForest\", \"run_properties\": \"copy=True\", \"primary_metric\": 0.91858824, \"best_metric\": 0.91858824}, {\"run_id\": \"AutoML_1ee1c244-76b6-4154-b485-a97a3308bed4_4\", \"run_number\": 9, \"metric\": null, \"status\": \"Completed\", \"run_type\": \"azureml.scriptrun\", \"training_percent\": \"100\", \"start_time\": \"2020-12-24T18:12:03.300229Z\", \"end_time\": \"2020-12-24T18:15:28.868187Z\", \"created_time\": \"2020-12-24T18:08:59.353366Z\", \"created_time_dt\": \"2020-12-24T18:08:59.353366Z\", \"duration\": \"0:06:29\", \"iteration\": \"4\", \"goal\": \"accuracy_max\", \"run_name\": \"MaxAbsScaler, RandomForest\", \"run_properties\": \"copy=True\", \"primary_metric\": 0.87286275, \"best_metric\": 0.91858824}, {\"run_id\": \"AutoML_1ee1c244-76b6-4154-b485-a97a3308bed4_5\", \"run_number\": 10, \"metric\": null, \"status\": \"Completed\", \"run_type\": \"azureml.scriptrun\", \"training_percent\": \"100\", \"start_time\": \"2020-12-24T18:12:04.524899Z\", \"end_time\": \"2020-12-24T18:15:35.972816Z\", \"created_time\": \"2020-12-24T18:09:57.924721Z\", \"created_time_dt\": \"2020-12-24T18:09:57.924721Z\", \"duration\": \"0:05:38\", \"iteration\": \"5\", \"goal\": \"accuracy_max\", \"run_name\": \"MaxAbsScaler, RandomForest\", \"run_properties\": \"copy=True\", \"primary_metric\": 0.80537255, \"best_metric\": 0.91858824}, {\"run_id\": \"AutoML_1ee1c244-76b6-4154-b485-a97a3308bed4_6\", \"run_number\": 11, \"metric\": null, \"status\": \"Completed\", \"run_type\": \"azureml.scriptrun\", \"training_percent\": \"100\", \"start_time\": \"2020-12-24T18:12:05.771031Z\", \"end_time\": \"2020-12-24T18:15:29.308682Z\", \"created_time\": \"2020-12-24T18:10:51.650052Z\", \"created_time_dt\": \"2020-12-24T18:10:51.650052Z\", \"duration\": \"0:04:37\", \"iteration\": \"6\", \"goal\": \"accuracy_max\", \"run_name\": \"SparseNormalizer, XGBoostClassifier\", \"run_properties\": \"<azureml.automl.runtime.shared.model_wrappers.SparseNormalizer object at 0x7feb5003a240\", \"primary_metric\": 0.91070588, \"best_metric\": 0.91858824}, {\"run_id\": \"AutoML_1ee1c244-76b6-4154-b485-a97a3308bed4_7\", \"run_number\": 12, \"metric\": null, \"status\": \"Completed\", \"run_type\": \"azureml.scriptrun\", \"training_percent\": \"100\", \"start_time\": \"2020-12-24T18:12:41.182885Z\", \"end_time\": \"2020-12-24T18:13:28.980656Z\", \"created_time\": \"2020-12-24T18:11:48.126802Z\", \"created_time_dt\": \"2020-12-24T18:11:48.126802Z\", \"duration\": \"0:01:40\", \"iteration\": \"7\", \"goal\": \"accuracy_max\", \"run_name\": \"SparseNormalizer, XGBoostClassifier\", \"run_properties\": \"<azureml.automl.runtime.shared.model_wrappers.SparseNormalizer object at 0x7f93f23e38d0\", \"primary_metric\": 0.91258824, \"best_metric\": 0.91858824}, {\"run_id\": \"AutoML_1ee1c244-76b6-4154-b485-a97a3308bed4_8\", \"run_number\": 13, \"metric\": null, \"status\": \"Completed\", \"run_type\": \"azureml.scriptrun\", \"training_percent\": \"100\", \"start_time\": \"2020-12-24T18:13:32.53549Z\", \"end_time\": \"2020-12-24T18:14:21.711047Z\", \"created_time\": \"2020-12-24T18:12:42.817049Z\", \"created_time_dt\": \"2020-12-24T18:12:42.817049Z\", \"duration\": \"0:01:38\", \"iteration\": \"8\", \"goal\": \"accuracy_max\", \"run_name\": \"SparseNormalizer, XGBoostClassifier\", \"run_properties\": \"<azureml.automl.runtime.shared.model_wrappers.SparseNormalizer object at 0x7efea8748438\", \"primary_metric\": 0.91262745, \"best_metric\": 0.91858824}, {\"run_id\": \"AutoML_1ee1c244-76b6-4154-b485-a97a3308bed4_9\", \"run_number\": 14, \"metric\": null, \"status\": \"Completed\", \"run_type\": \"azureml.scriptrun\", \"training_percent\": \"100\", \"start_time\": \"2020-12-24T18:14:22.88783Z\", \"end_time\": \"2020-12-24T18:15:09.452382Z\", \"created_time\": \"2020-12-24T18:13:32.330967Z\", \"created_time_dt\": \"2020-12-24T18:13:32.330967Z\", \"duration\": \"0:01:37\", \"iteration\": \"9\", \"goal\": \"accuracy_max\", \"run_name\": \"MaxAbsScaler, LogisticRegression\", \"run_properties\": \"copy=True\", \"primary_metric\": 0.90462745, \"best_metric\": 0.91858824}, {\"run_id\": \"AutoML_1ee1c244-76b6-4154-b485-a97a3308bed4_10\", \"run_number\": 15, \"metric\": null, \"status\": \"Completed\", \"run_type\": \"azureml.scriptrun\", \"training_percent\": \"100\", \"start_time\": \"2020-12-24T18:15:13.065841Z\", \"end_time\": \"2020-12-24T18:16:05.756566Z\", \"created_time\": \"2020-12-24T18:14:25.189858Z\", \"created_time_dt\": \"2020-12-24T18:14:25.189858Z\", \"duration\": \"0:01:40\", \"iteration\": \"10\", \"goal\": \"accuracy_max\", \"run_name\": \"SparseNormalizer, XGBoostClassifier\", \"run_properties\": \"<azureml.automl.runtime.shared.model_wrappers.SparseNormalizer object at 0x7f559d068fd0\", \"primary_metric\": 0.91858824, \"best_metric\": 0.91858824}, {\"run_id\": \"AutoML_1ee1c244-76b6-4154-b485-a97a3308bed4_11\", \"run_number\": 16, \"metric\": null, \"status\": \"Completed\", \"run_type\": \"azureml.scriptrun\", \"training_percent\": \"100\", \"start_time\": \"2020-12-24T18:15:30.375902Z\", \"end_time\": \"2020-12-24T18:16:17.068648Z\", \"created_time\": \"2020-12-24T18:15:12.15615Z\", \"created_time_dt\": \"2020-12-24T18:15:12.15615Z\", \"duration\": \"0:01:04\", \"iteration\": \"11\", \"goal\": \"accuracy_max\", \"run_name\": \"MaxAbsScaler, RandomForest\", \"run_properties\": \"copy=True\", \"primary_metric\": 0.91858824, \"best_metric\": 0.91858824}, {\"run_id\": \"AutoML_1ee1c244-76b6-4154-b485-a97a3308bed4_12\", \"run_number\": 17, \"metric\": null, \"status\": \"Completed\", \"run_type\": \"azureml.scriptrun\", \"training_percent\": \"100\", \"start_time\": \"2020-12-24T18:15:43.317416Z\", \"end_time\": \"2020-12-24T18:16:33.806253Z\", \"created_time\": \"2020-12-24T18:15:31.764849Z\", \"created_time_dt\": \"2020-12-24T18:15:31.764849Z\", \"duration\": \"0:01:02\", \"iteration\": \"12\", \"goal\": \"accuracy_max\", \"run_name\": \"MaxAbsScaler, RandomForest\", \"run_properties\": \"copy=True\", \"primary_metric\": 0.91858824, \"best_metric\": 0.91858824}, {\"run_id\": \"AutoML_1ee1c244-76b6-4154-b485-a97a3308bed4_13\", \"run_number\": 18, \"metric\": null, \"status\": \"Completed\", \"run_type\": \"azureml.scriptrun\", \"training_percent\": \"100\", \"start_time\": \"2020-12-24T18:15:44.954574Z\", \"end_time\": \"2020-12-24T18:16:34.018698Z\", \"created_time\": \"2020-12-24T18:15:31.956603Z\", \"created_time_dt\": \"2020-12-24T18:15:31.956603Z\", \"duration\": \"0:01:02\", \"iteration\": \"13\", \"goal\": \"accuracy_max\", \"run_name\": \"MaxAbsScaler, GradientBoosting\", \"run_properties\": \"copy=True\", \"primary_metric\": 0.91858824, \"best_metric\": 0.91858824}, {\"run_id\": \"AutoML_1ee1c244-76b6-4154-b485-a97a3308bed4_14\", \"run_number\": 19, \"metric\": null, \"status\": \"Completed\", \"run_type\": \"azureml.scriptrun\", \"training_percent\": \"100\", \"start_time\": \"2020-12-24T18:16:07.037834Z\", \"end_time\": \"2020-12-24T18:17:01.179363Z\", \"created_time\": \"2020-12-24T18:15:39.449142Z\", \"created_time_dt\": \"2020-12-24T18:15:39.449142Z\", \"duration\": \"0:01:21\", \"iteration\": \"14\", \"goal\": \"accuracy_max\", \"run_name\": \"MaxAbsScaler, ExtremeRandomTrees\", \"run_properties\": \"copy=True\", \"primary_metric\": 0.91858824, \"best_metric\": 0.91858824}, {\"run_id\": \"AutoML_1ee1c244-76b6-4154-b485-a97a3308bed4_15\", \"run_number\": 20, \"metric\": null, \"status\": \"Completed\", \"run_type\": \"azureml.scriptrun\", \"training_percent\": \"100\", \"start_time\": \"2020-12-24T18:16:27.166111Z\", \"end_time\": \"2020-12-24T18:17:16.123424Z\", \"created_time\": \"2020-12-24T18:16:09.229788Z\", \"created_time_dt\": \"2020-12-24T18:16:09.229788Z\", \"duration\": \"0:01:06\", \"iteration\": \"15\", \"goal\": \"accuracy_max\", \"run_name\": \"MaxAbsScaler, ExtremeRandomTrees\", \"run_properties\": \"copy=True\", \"primary_metric\": 0.91858824, \"best_metric\": 0.91858824}, {\"run_id\": \"AutoML_1ee1c244-76b6-4154-b485-a97a3308bed4_16\", \"run_number\": 21, \"metric\": null, \"status\": \"Completed\", \"run_type\": \"azureml.scriptrun\", \"training_percent\": \"100\", \"start_time\": \"2020-12-24T18:16:36.706851Z\", \"end_time\": \"2020-12-24T18:17:22.736624Z\", \"created_time\": \"2020-12-24T18:16:20.564828Z\", \"created_time_dt\": \"2020-12-24T18:16:20.564828Z\", \"duration\": \"0:01:02\", \"iteration\": \"16\", \"goal\": \"accuracy_max\", \"run_name\": \"MaxAbsScaler, LightGBM\", \"run_properties\": \"copy=True\", \"primary_metric\": 0.91858824, \"best_metric\": 0.91858824}, {\"run_id\": \"AutoML_1ee1c244-76b6-4154-b485-a97a3308bed4_18\", \"run_number\": 22, \"metric\": null, \"status\": \"Completed\", \"run_type\": \"azureml.scriptrun\", \"training_percent\": \"100\", \"start_time\": \"2020-12-24T18:16:48.878615Z\", \"end_time\": \"2020-12-24T18:17:30.717187Z\", \"created_time\": \"2020-12-24T18:16:37.747094Z\", \"created_time_dt\": \"2020-12-24T18:16:37.747094Z\", \"duration\": \"0:00:52\", \"iteration\": \"18\", \"goal\": \"accuracy_max\", \"run_name\": \"StandardScalerWrapper, LightGBM\", \"run_properties\": \"<azureml.automl.runtime.shared.model_wrappers.StandardScalerWrapper object at 0x7f07ec1a8fd0\", \"primary_metric\": 0.91858824, \"best_metric\": 0.91858824}, {\"run_id\": \"AutoML_1ee1c244-76b6-4154-b485-a97a3308bed4_17\", \"run_number\": 23, \"metric\": null, \"status\": \"Completed\", \"run_type\": \"azureml.scriptrun\", \"training_percent\": \"100\", \"start_time\": \"2020-12-24T18:17:02.818928Z\", \"end_time\": \"2020-12-24T18:17:49.546011Z\", \"created_time\": \"2020-12-24T18:16:37.868672Z\", \"created_time_dt\": \"2020-12-24T18:16:37.868672Z\", \"duration\": \"0:01:11\", \"iteration\": \"17\", \"goal\": \"accuracy_max\", \"run_name\": \"MaxAbsScaler, LogisticRegression\", \"run_properties\": \"copy=True\", \"primary_metric\": 0.90662745, \"best_metric\": 0.91858824}, {\"run_id\": \"AutoML_1ee1c244-76b6-4154-b485-a97a3308bed4_19\", \"run_number\": 24, \"metric\": null, \"status\": \"Completed\", \"run_type\": \"azureml.scriptrun\", \"training_percent\": \"100\", \"start_time\": \"2020-12-24T18:17:21.748912Z\", \"end_time\": \"2020-12-24T18:18:03.782313Z\", \"created_time\": \"2020-12-24T18:17:04.428597Z\", \"created_time_dt\": \"2020-12-24T18:17:04.428597Z\", \"duration\": \"0:00:59\", \"iteration\": \"19\", \"goal\": \"accuracy_max\", \"run_name\": \"StandardScalerWrapper, LightGBM\", \"run_properties\": \"<azureml.automl.runtime.shared.model_wrappers.StandardScalerWrapper object at 0x7f7fb4d6d390\", \"primary_metric\": 0.91858824, \"best_metric\": 0.91858824}, {\"run_id\": \"AutoML_1ee1c244-76b6-4154-b485-a97a3308bed4_20\", \"run_number\": 25, \"metric\": null, \"status\": \"Completed\", \"run_type\": \"azureml.scriptrun\", \"training_percent\": \"100\", \"start_time\": \"2020-12-24T18:17:32.846171Z\", \"end_time\": \"2020-12-24T18:18:15.775588Z\", \"created_time\": \"2020-12-24T18:17:19.437361Z\", \"created_time_dt\": \"2020-12-24T18:17:19.437361Z\", \"duration\": \"0:00:56\", \"iteration\": \"20\", \"goal\": \"accuracy_max\", \"run_name\": \"SparseNormalizer, XGBoostClassifier\", \"run_properties\": \"<azureml.automl.runtime.shared.model_wrappers.SparseNormalizer object at 0x7fcf3430c710\", \"primary_metric\": 0.91462745, \"best_metric\": 0.91858824}, {\"run_id\": \"AutoML_1ee1c244-76b6-4154-b485-a97a3308bed4_21\", \"run_number\": 26, \"metric\": null, \"status\": \"Completed\", \"run_type\": \"azureml.scriptrun\", \"training_percent\": \"100\", \"start_time\": \"2020-12-24T18:17:38.608813Z\", \"end_time\": \"2020-12-24T18:18:18.516315Z\", \"created_time\": \"2020-12-24T18:17:26.025265Z\", \"created_time_dt\": \"2020-12-24T18:17:26.025265Z\", \"duration\": \"0:00:52\", \"iteration\": \"21\", \"goal\": \"accuracy_max\", \"run_name\": \"StandardScalerWrapper, LightGBM\", \"run_properties\": \"<azureml.automl.runtime.shared.model_wrappers.StandardScalerWrapper object at 0x7f00251ffba8\", \"primary_metric\": 0.91858824, \"best_metric\": 0.91858824}, {\"run_id\": \"AutoML_1ee1c244-76b6-4154-b485-a97a3308bed4_22\", \"run_number\": 27, \"metric\": null, \"status\": \"Completed\", \"run_type\": \"azureml.scriptrun\", \"training_percent\": \"100\", \"start_time\": \"2020-12-24T18:17:53.869989Z\", \"end_time\": \"2020-12-24T18:18:44.756743Z\", \"created_time\": \"2020-12-24T18:17:33.971366Z\", \"created_time_dt\": \"2020-12-24T18:17:33.971366Z\", \"duration\": \"0:01:10\", \"iteration\": \"22\", \"goal\": \"accuracy_max\", \"run_name\": \"StandardScalerWrapper, XGBoostClassifier\", \"run_properties\": \"<azureml.automl.runtime.shared.model_wrappers.StandardScalerWrapper object at 0x7f86d8cb4e10\", \"primary_metric\": 0.91862745, \"best_metric\": 0.91862745}, {\"run_id\": \"AutoML_1ee1c244-76b6-4154-b485-a97a3308bed4_23\", \"run_number\": 28, \"metric\": null, \"status\": \"Completed\", \"run_type\": \"azureml.scriptrun\", \"training_percent\": \"100\", \"start_time\": \"2020-12-24T18:18:06.859611Z\", \"end_time\": \"2020-12-24T18:18:56.200944Z\", \"created_time\": \"2020-12-24T18:17:53.307695Z\", \"created_time_dt\": \"2020-12-24T18:17:53.307695Z\", \"duration\": \"0:01:02\", \"iteration\": \"23\", \"goal\": \"accuracy_max\", \"run_name\": \"MaxAbsScaler, LightGBM\", \"run_properties\": \"copy=True\", \"primary_metric\": 0.91858824, \"best_metric\": 0.91862745}, {\"run_id\": \"AutoML_1ee1c244-76b6-4154-b485-a97a3308bed4_24\", \"run_number\": 29, \"metric\": null, \"status\": \"Completed\", \"run_type\": \"azureml.scriptrun\", \"training_percent\": \"100\", \"start_time\": \"2020-12-24T18:18:21.329913Z\", \"end_time\": \"2020-12-24T18:19:08.987386Z\", \"created_time\": \"2020-12-24T18:18:07.067337Z\", \"created_time_dt\": \"2020-12-24T18:18:07.067337Z\", \"duration\": \"0:01:01\", \"iteration\": \"24\", \"goal\": \"accuracy_max\", \"run_name\": \"SparseNormalizer, XGBoostClassifier\", \"run_properties\": \"<azureml.automl.runtime.shared.model_wrappers.SparseNormalizer object at 0x7f88e9970d68\", \"primary_metric\": 0.91262745, \"best_metric\": 0.91862745}, {\"run_id\": \"AutoML_1ee1c244-76b6-4154-b485-a97a3308bed4_25\", \"run_number\": 30, \"metric\": null, \"status\": \"Completed\", \"run_type\": \"azureml.scriptrun\", \"training_percent\": \"100\", \"start_time\": \"2020-12-24T18:18:33.400419Z\", \"end_time\": \"2020-12-24T18:19:19.473096Z\", \"created_time\": \"2020-12-24T18:18:20.261092Z\", \"created_time_dt\": \"2020-12-24T18:18:20.261092Z\", \"duration\": \"0:00:59\", \"iteration\": \"25\", \"goal\": \"accuracy_max\", \"run_name\": \"SparseNormalizer, RandomForest\", \"run_properties\": \"<azureml.automl.runtime.shared.model_wrappers.SparseNormalizer object at 0x7f458d02eac8\", \"primary_metric\": 0.91858824, \"best_metric\": 0.91862745}, {\"run_id\": \"AutoML_1ee1c244-76b6-4154-b485-a97a3308bed4_26\", \"run_number\": 31, \"metric\": null, \"status\": \"Completed\", \"run_type\": \"azureml.scriptrun\", \"training_percent\": \"100\", \"start_time\": \"2020-12-24T18:18:44.85453Z\", \"end_time\": \"2020-12-24T18:19:39.655926Z\", \"created_time\": \"2020-12-24T18:18:25.550522Z\", \"created_time_dt\": \"2020-12-24T18:18:25.550522Z\", \"duration\": \"0:01:14\", \"iteration\": \"26\", \"goal\": \"accuracy_max\", \"run_name\": \"SparseNormalizer, XGBoostClassifier\", \"run_properties\": \"<azureml.automl.runtime.shared.model_wrappers.SparseNormalizer object at 0x7f00f74cac88\", \"primary_metric\": 0.91066667, \"best_metric\": 0.91862745}, {\"run_id\": \"AutoML_1ee1c244-76b6-4154-b485-a97a3308bed4_27\", \"run_number\": 32, \"metric\": null, \"status\": \"Completed\", \"run_type\": \"azureml.scriptrun\", \"training_percent\": \"100\", \"start_time\": \"2020-12-24T18:19:02.519037Z\", \"end_time\": \"2020-12-24T18:19:55.320976Z\", \"created_time\": \"2020-12-24T18:18:47.114377Z\", \"created_time_dt\": \"2020-12-24T18:18:47.114377Z\", \"duration\": \"0:01:08\", \"iteration\": \"27\", \"goal\": \"accuracy_max\", \"run_name\": \"StandardScalerWrapper, LightGBM\", \"run_properties\": \"<azureml.automl.runtime.shared.model_wrappers.StandardScalerWrapper object at 0x7f1fd0801198\", \"primary_metric\": 0.91858824, \"best_metric\": 0.91862745}, {\"run_id\": \"AutoML_1ee1c244-76b6-4154-b485-a97a3308bed4_28\", \"run_number\": 33, \"metric\": null, \"status\": \"Completed\", \"run_type\": \"azureml.scriptrun\", \"training_percent\": \"100\", \"start_time\": \"2020-12-24T18:19:10.306422Z\", \"end_time\": \"2020-12-24T18:19:57.674164Z\", \"created_time\": \"2020-12-24T18:18:59.049836Z\", \"created_time_dt\": \"2020-12-24T18:18:59.049836Z\", \"duration\": \"0:00:58\", \"iteration\": \"28\", \"goal\": \"accuracy_max\", \"run_name\": \"MaxAbsScaler, LightGBM\", \"run_properties\": \"copy=True\", \"primary_metric\": 0.91858824, \"best_metric\": 0.91862745}, {\"run_id\": \"AutoML_1ee1c244-76b6-4154-b485-a97a3308bed4_29\", \"run_number\": 34, \"metric\": null, \"status\": \"Completed\", \"run_type\": \"azureml.scriptrun\", \"training_percent\": \"100\", \"start_time\": \"2020-12-24T18:19:22.968291Z\", \"end_time\": \"2020-12-24T18:20:11.113621Z\", \"created_time\": \"2020-12-24T18:19:11.843079Z\", \"created_time_dt\": \"2020-12-24T18:19:11.843079Z\", \"duration\": \"0:00:59\", \"iteration\": \"29\", \"goal\": \"accuracy_max\", \"run_name\": \"StandardScalerWrapper, ExtremeRandomTrees\", \"run_properties\": \"<azureml.automl.runtime.shared.model_wrappers.StandardScalerWrapper object at 0x7f9e1ae73ba8\", \"primary_metric\": 0.91858824, \"best_metric\": 0.91862745}, {\"run_id\": \"AutoML_1ee1c244-76b6-4154-b485-a97a3308bed4_30\", \"run_number\": 35, \"metric\": null, \"status\": \"Completed\", \"run_type\": \"azureml.scriptrun\", \"training_percent\": \"100\", \"start_time\": \"2020-12-24T18:19:45.55864Z\", \"end_time\": \"2020-12-24T18:20:31.216023Z\", \"created_time\": \"2020-12-24T18:19:23.201762Z\", \"created_time_dt\": \"2020-12-24T18:19:23.201762Z\", \"duration\": \"0:01:08\", \"iteration\": \"30\", \"goal\": \"accuracy_max\", \"run_name\": \"SparseNormalizer, XGBoostClassifier\", \"run_properties\": \"<azureml.automl.runtime.shared.model_wrappers.SparseNormalizer object at 0x7fbf9683ba58\", \"primary_metric\": 0.91858824, \"best_metric\": 0.91862745}, {\"run_id\": \"AutoML_1ee1c244-76b6-4154-b485-a97a3308bed4_31\", \"run_number\": 36, \"metric\": null, \"status\": \"Completed\", \"run_type\": \"azureml.scriptrun\", \"training_percent\": \"100\", \"start_time\": \"2020-12-24T18:19:58.504391Z\", \"end_time\": \"2020-12-24T18:20:45.115686Z\", \"created_time\": \"2020-12-24T18:19:42.051446Z\", \"created_time_dt\": \"2020-12-24T18:19:42.051446Z\", \"duration\": \"0:01:03\", \"iteration\": \"31\", \"goal\": \"accuracy_max\", \"run_name\": \"StandardScalerWrapper, LightGBM\", \"run_properties\": \"<azureml.automl.runtime.shared.model_wrappers.StandardScalerWrapper object at 0x7f7178de5ac8\", \"primary_metric\": 0.91858824, \"best_metric\": 0.91862745}, {\"run_id\": \"AutoML_1ee1c244-76b6-4154-b485-a97a3308bed4_32\", \"run_number\": 37, \"metric\": null, \"status\": \"Completed\", \"run_type\": \"azureml.scriptrun\", \"training_percent\": \"100\", \"start_time\": \"2020-12-24T18:20:10.905143Z\", \"end_time\": \"2020-12-24T18:20:49.976027Z\", \"created_time\": \"2020-12-24T18:19:58.30451Z\", \"created_time_dt\": \"2020-12-24T18:19:58.30451Z\", \"duration\": \"0:00:51\", \"iteration\": \"32\", \"goal\": \"accuracy_max\", \"run_name\": \"MaxAbsScaler, LightGBM\", \"run_properties\": \"copy=True\", \"primary_metric\": 0.91858824, \"best_metric\": 0.91862745}, {\"run_id\": \"AutoML_1ee1c244-76b6-4154-b485-a97a3308bed4_33\", \"run_number\": 38, \"metric\": null, \"status\": \"Completed\", \"run_type\": \"azureml.scriptrun\", \"training_percent\": \"100\", \"start_time\": \"2020-12-24T18:20:14.352574Z\", \"end_time\": \"2020-12-24T18:20:58.867154Z\", \"created_time\": \"2020-12-24T18:20:03.315114Z\", \"created_time_dt\": \"2020-12-24T18:20:03.315114Z\", \"duration\": \"0:00:55\", \"iteration\": \"33\", \"goal\": \"accuracy_max\", \"run_name\": \"StandardScalerWrapper, LightGBM\", \"run_properties\": \"<azureml.automl.runtime.shared.model_wrappers.StandardScalerWrapper object at 0x7f2cf8027208\", \"primary_metric\": 0.91858824, \"best_metric\": 0.91862745}, {\"run_id\": \"AutoML_1ee1c244-76b6-4154-b485-a97a3308bed4_34\", \"run_number\": 39, \"metric\": null, \"status\": \"Completed\", \"run_type\": \"azureml.scriptrun\", \"training_percent\": \"100\", \"start_time\": \"2020-12-24T18:20:36.363906Z\", \"end_time\": \"2020-12-24T18:21:21.995018Z\", \"created_time\": \"2020-12-24T18:20:13.953864Z\", \"created_time_dt\": \"2020-12-24T18:20:13.953864Z\", \"duration\": \"0:01:08\", \"iteration\": \"34\", \"goal\": \"accuracy_max\", \"run_name\": \"MaxAbsScaler, LightGBM\", \"run_properties\": \"copy=True\", \"primary_metric\": 0.91858824, \"best_metric\": 0.91862745}, {\"run_id\": \"AutoML_1ee1c244-76b6-4154-b485-a97a3308bed4_35\", \"run_number\": 40, \"metric\": null, \"status\": \"Completed\", \"run_type\": \"azureml.scriptrun\", \"training_percent\": \"100\", \"start_time\": \"2020-12-24T18:21:01.424994Z\", \"end_time\": \"2020-12-24T18:21:33.860927Z\", \"created_time\": \"2020-12-24T18:20:34.775126Z\", \"created_time_dt\": \"2020-12-24T18:20:34.775126Z\", \"duration\": \"0:00:59\", \"iteration\": \"35\", \"goal\": \"accuracy_max\", \"run_name\": \"SparseNormalizer, XGBoostClassifier\", \"run_properties\": \"<azureml.automl.runtime.shared.model_wrappers.SparseNormalizer object at 0x7f0420e3fe48\", \"primary_metric\": 0.91858824, \"best_metric\": 0.91862745}, {\"run_id\": \"AutoML_1ee1c244-76b6-4154-b485-a97a3308bed4_36\", \"run_number\": 41, \"metric\": null, \"status\": \"Completed\", \"run_type\": \"azureml.scriptrun\", \"training_percent\": \"100\", \"start_time\": \"2020-12-24T18:20:57.975535Z\", \"end_time\": \"2020-12-24T18:21:40.168307Z\", \"created_time\": \"2020-12-24T18:20:47.684015Z\", \"created_time_dt\": \"2020-12-24T18:20:47.684015Z\", \"duration\": \"0:00:52\", \"iteration\": \"36\", \"goal\": \"accuracy_max\", \"run_name\": \"MaxAbsScaler, LightGBM\", \"run_properties\": \"copy=True\", \"primary_metric\": 0.91858824, \"best_metric\": 0.91862745}, {\"run_id\": \"AutoML_1ee1c244-76b6-4154-b485-a97a3308bed4_37\", \"run_number\": 42, \"metric\": null, \"status\": \"Canceled\", \"run_type\": \"azureml.scriptrun\", \"training_percent\": \"100\", \"start_time\": \"2020-12-24T18:21:04.81516Z\", \"end_time\": \"2020-12-24T18:21:49.682142Z\", \"created_time\": \"2020-12-24T18:20:52.323937Z\", \"created_time_dt\": \"2020-12-24T18:20:52.323937Z\", \"duration\": \"0:00:57\", \"iteration\": \"37\", \"goal\": \"accuracy_max\", \"run_name\": \"StandardScalerWrapper, XGBoostClassifier\", \"run_properties\": \"<azureml.automl.runtime.shared.model_wrappers.StandardScalerWrapper object at 0x7fc7b45a0c88\", \"primary_metric\": 0.91858824, \"best_metric\": 0.91862745}, {\"run_id\": \"AutoML_1ee1c244-76b6-4154-b485-a97a3308bed4_38\", \"run_number\": 43, \"metric\": null, \"status\": \"Canceled\", \"run_type\": \"azureml.scriptrun\", \"training_percent\": \"100\", \"start_time\": \"2020-12-24T18:21:23.780992Z\", \"end_time\": \"2020-12-24T18:21:47.444753Z\", \"created_time\": \"2020-12-24T18:21:01.072173Z\", \"created_time_dt\": \"2020-12-24T18:21:01.072173Z\", \"duration\": \"0:00:46\", \"iteration\": \"38\", \"goal\": null, \"run_name\": \"Canceled\", \"run_properties\": null}, {\"run_id\": \"AutoML_1ee1c244-76b6-4154-b485-a97a3308bed4_39\", \"run_number\": 44, \"metric\": null, \"status\": \"Canceled\", \"run_type\": \"azureml.scriptrun\", \"training_percent\": \"100\", \"start_time\": \"2020-12-24T18:21:36.973217Z\", \"end_time\": \"2020-12-24T18:21:49.033978Z\", \"created_time\": \"2020-12-24T18:21:24.1854Z\", \"created_time_dt\": \"2020-12-24T18:21:24.1854Z\", \"duration\": \"0:00:24\", \"iteration\": \"39\", \"goal\": null, \"run_name\": \"Canceled\", \"run_properties\": null}, {\"run_id\": \"AutoML_1ee1c244-76b6-4154-b485-a97a3308bed4_40\", \"run_number\": 45, \"metric\": null, \"status\": \"Canceled\", \"run_type\": \"azureml.scriptrun\", \"training_percent\": \"100\", \"start_time\": \"2020-12-24T18:21:36.982915Z\", \"end_time\": \"2020-12-24T18:21:52.350246Z\", \"created_time\": \"2020-12-24T18:21:36.982915Z\", \"created_time_dt\": \"2020-12-24T18:21:36.982915Z\", \"duration\": \"0:00:15\", \"iteration\": \"40\", \"goal\": null, \"run_name\": \"Canceled\", \"run_properties\": null}, {\"run_id\": \"AutoML_1ee1c244-76b6-4154-b485-a97a3308bed4_41\", \"run_number\": 46, \"metric\": null, \"status\": \"Completed\", \"run_type\": \"azureml.scriptrun\", \"training_percent\": \"100\", \"start_time\": \"2020-12-24T18:22:05.171481Z\", \"end_time\": \"2020-12-24T18:23:52.384965Z\", \"created_time\": \"2020-12-24T18:21:53.493473Z\", \"created_time_dt\": \"2020-12-24T18:21:53.493473Z\", \"duration\": \"0:01:58\", \"iteration\": \"41\", \"goal\": \"accuracy_max\", \"run_name\": \"VotingEnsemble\", \"run_properties\": \"classification_labels=None,\\n                              estimators=[('22',\\n                                           Pipeline(memory=None,\\n                                                    steps=[('standardscalerwrapper',\\n                                                            <azureml.automl.runtime.shared.model_wrappers.StandardScalerWrapper object at 0x7f40f6d51fd0>\", \"primary_metric\": 0.91858824, \"best_metric\": 0.91862745}, {\"run_id\": \"AutoML_1ee1c244-76b6-4154-b485-a97a3308bed4_42\", \"run_number\": 47, \"metric\": null, \"status\": \"Completed\", \"run_type\": \"azureml.scriptrun\", \"training_percent\": \"100\", \"start_time\": \"2020-12-24T18:22:08.057676Z\", \"end_time\": \"2020-12-24T18:24:00.368412Z\", \"created_time\": \"2020-12-24T18:21:53.679592Z\", \"created_time_dt\": \"2020-12-24T18:21:53.679592Z\", \"duration\": \"0:02:06\", \"iteration\": \"42\", \"goal\": \"accuracy_max\", \"run_name\": \"StackEnsemble\", \"run_properties\": \"base_learners=[('22',\\n                                        Pipeline(memory=None,\\n                                                 steps=[('standardscalerwrapper',\\n                                                         <azureml.automl.runtime.shared.model_wrappers.StandardScalerWrapper object at 0x7fbc16425be0>\", \"primary_metric\": 0.91858824, \"best_metric\": 0.91862745}], \"children_metrics\": {\"categories\": [0], \"series\": {\"precision_score_macro\": [{\"categories\": [\"0\", \"1\", \"2\", \"3\", \"4\", \"5\", \"6\", \"7\", \"8\", \"9\", \"10\", \"11\", \"12\", \"13\", \"14\", \"15\", \"16\", \"17\", \"18\", \"19\", \"20\", \"21\", \"22\", \"23\", \"24\", \"25\", \"26\", \"27\", \"28\", \"29\", \"30\", \"31\", \"32\", \"33\", \"34\", \"35\", \"36\", \"37\", \"41\", \"42\"], \"mode\": \"markers\", \"name\": \"precision_score_macro\", \"stepped\": false, \"type\": \"scatter\", \"data\": [0.5356226990796318, 0.6376432573029212, 0.4592941176470588, 0.4592941176470588, 0.5250658101731988, 0.5556653327871305, 0.5717151580798832, 0.5357615046018407, 0.4849462284913965, 0.5779675572356602, 0.4592941176470588, 0.4592941176470588, 0.4592941176470588, 0.4592941176470588, 0.4592941176470588, 0.4592941176470588, 0.4592941176470588, 0.5605206582633053, 0.4592941176470588, 0.4592941176470588, 0.5358703481392556, 0.4592941176470588, 0.5101936774709884, 0.4592941176470588, 0.5098947579031612, 0.4592941176470588, 0.5199756104569487, 0.4592941176470588, 0.4592941176470588, 0.4592941176470588, 0.4592941176470588, 0.4592941176470588, 0.4592941176470588, 0.4592941176470588, 0.4592941176470588, 0.4592941176470588, 0.4592941176470588, 0.4592941176470588, 0.4592941176470588, 0.4592941176470588]}, {\"categories\": [\"0\", \"1\", \"2\", \"3\", \"4\", \"5\", \"6\", \"7\", \"8\", \"9\", \"10\", \"11\", \"12\", \"13\", \"14\", \"15\", \"16\", \"17\", \"18\", \"19\", \"20\", \"21\", \"22\", \"23\", \"24\", \"25\", \"26\", \"27\", \"28\", \"29\", \"30\", \"31\", \"32\", \"33\", \"34\", \"35\", \"36\", \"37\", \"41\", \"42\"], \"mode\": \"lines\", \"name\": \"precision_score_macro_max\", \"stepped\": true, \"type\": \"scatter\", \"data\": [0.5356226990796318, 0.6376432573029212, 0.6376432573029212, 0.6376432573029212, 0.6376432573029212, 0.6376432573029212, 0.6376432573029212, 0.6376432573029212, 0.6376432573029212, 0.6376432573029212, 0.6376432573029212, 0.6376432573029212, 0.6376432573029212, 0.6376432573029212, 0.6376432573029212, 0.6376432573029212, 0.6376432573029212, 0.6376432573029212, 0.6376432573029212, 0.6376432573029212, 0.6376432573029212, 0.6376432573029212, 0.6376432573029212, 0.6376432573029212, 0.6376432573029212, 0.6376432573029212, 0.6376432573029212, 0.6376432573029212, 0.6376432573029212, 0.6376432573029212, 0.6376432573029212, 0.6376432573029212, 0.6376432573029212, 0.6376432573029212, 0.6376432573029212, 0.6376432573029212, 0.6376432573029212, 0.6376432573029212, 0.6376432573029212, 0.6376432573029212]}], \"average_precision_score_macro\": [{\"categories\": [\"0\", \"1\", \"2\", \"3\", \"4\", \"5\", \"6\", \"7\", \"8\", \"9\", \"10\", \"11\", \"12\", \"13\", \"14\", \"15\", \"16\", \"17\", \"18\", \"19\", \"20\", \"21\", \"22\", \"23\", \"24\", \"25\", \"26\", \"27\", \"28\", \"29\", \"30\", \"31\", \"32\", \"33\", \"34\", \"35\", \"36\", \"37\", \"41\", \"42\"], \"mode\": \"markers\", \"name\": \"average_precision_score_macro\", \"stepped\": false, \"type\": \"scatter\", \"data\": [0.63448302717047, 0.6526745854275897, 0.6232449336296296, 0.6043416853495996, 0.6043698261206845, 0.5938720741052995, 0.6020120069952034, 0.6332643182045621, 0.5939539195517181, 0.5856681187921119, 0.6028430117098253, 0.6331541142343122, 0.6356562433246026, 0.6303957504555421, 0.5912104093052103, 0.5871169100167496, 0.5932050335876909, 0.5873380709302702, 0.626247651871596, 0.6210491906790327, 0.6199632562492859, 0.6039828043497333, 0.5976533384096923, 0.5939526152113036, 0.6076966783470077, 0.5894926909072471, 0.616262511868968, 0.598288952001513, 0.6072319541407708, 0.6020761417949213, 0.5, 0.6021717593766083, 0.6030853898308923, 0.6253224347233441, 0.6269560076326286, 0.5, 0.5978193552361564, 0.6295855460647064, 0.6271368624024098, 0.6283209143499863]}, {\"categories\": [\"0\", \"1\", \"2\", \"3\", \"4\", \"5\", \"6\", \"7\", \"8\", \"9\", \"10\", \"11\", \"12\", \"13\", \"14\", \"15\", \"16\", \"17\", \"18\", \"19\", \"20\", \"21\", \"22\", \"23\", \"24\", \"25\", \"26\", \"27\", \"28\", \"29\", \"30\", \"31\", \"32\", \"33\", \"34\", \"35\", \"36\", \"37\", \"41\", \"42\"], \"mode\": \"lines\", \"name\": \"average_precision_score_macro_max\", \"stepped\": true, \"type\": \"scatter\", \"data\": [0.63448302717047, 0.6526745854275897, 0.6526745854275897, 0.6526745854275897, 0.6526745854275897, 0.6526745854275897, 0.6526745854275897, 0.6526745854275897, 0.6526745854275897, 0.6526745854275897, 0.6526745854275897, 0.6526745854275897, 0.6526745854275897, 0.6526745854275897, 0.6526745854275897, 0.6526745854275897, 0.6526745854275897, 0.6526745854275897, 0.6526745854275897, 0.6526745854275897, 0.6526745854275897, 0.6526745854275897, 0.6526745854275897, 0.6526745854275897, 0.6526745854275897, 0.6526745854275897, 0.6526745854275897, 0.6526745854275897, 0.6526745854275897, 0.6526745854275897, 0.6526745854275897, 0.6526745854275897, 0.6526745854275897, 0.6526745854275897, 0.6526745854275897, 0.6526745854275897, 0.6526745854275897, 0.6526745854275897, 0.6526745854275897, 0.6526745854275897]}], \"norm_macro_recall\": [{\"categories\": [\"0\", \"1\", \"2\", \"3\", \"4\", \"5\", \"6\", \"7\", \"8\", \"9\", \"10\", \"11\", \"12\", \"13\", \"14\", \"15\", \"16\", \"17\", \"18\", \"19\", \"20\", \"21\", \"22\", \"23\", \"24\", \"25\", \"26\", \"27\", \"28\", \"29\", \"30\", \"31\", \"32\", \"33\", \"34\", \"35\", \"36\", \"37\", \"41\", \"42\"], \"mode\": \"markers\", \"name\": \"norm_macro_recall\", \"stepped\": false, \"type\": \"scatter\", \"data\": [0.0478723404255319, 0.0961111111111111, 0.0, 0.0, 0.0881394170731133, 0.22666182960215187, 0.09695241031966288, 0.04782608695652173, 0.02282608695652173, 0.07388888888888889, 0.0, 0.0, 0.0, 0.0, 0.0, 0.0, 0.0, 0.05833333333333333, 0.0, 0.0, 0.0478723404255319, 0.0, 0.025, 0.0, 0.019999999999999997, 0.0, 0.059033816425120775, 0.0, 0.0, 0.0, 0.0, 0.0, 0.0, 0.0, 0.0, 0.0, 0.0, 0.0, 0.0, 0.0]}, {\"categories\": [\"0\", \"1\", \"2\", \"3\", \"4\", \"5\", \"6\", \"7\", \"8\", \"9\", \"10\", \"11\", \"12\", \"13\", \"14\", \"15\", \"16\", \"17\", \"18\", \"19\", \"20\", \"21\", \"22\", \"23\", \"24\", \"25\", \"26\", \"27\", \"28\", \"29\", \"30\", \"31\", \"32\", \"33\", \"34\", \"35\", \"36\", \"37\", \"41\", \"42\"], \"mode\": \"lines\", \"name\": \"norm_macro_recall_max\", \"stepped\": true, \"type\": \"scatter\", \"data\": [0.0478723404255319, 0.0961111111111111, 0.0961111111111111, 0.0961111111111111, 0.0961111111111111, 0.22666182960215187, 0.22666182960215187, 0.22666182960215187, 0.22666182960215187, 0.22666182960215187, 0.22666182960215187, 0.22666182960215187, 0.22666182960215187, 0.22666182960215187, 0.22666182960215187, 0.22666182960215187, 0.22666182960215187, 0.22666182960215187, 0.22666182960215187, 0.22666182960215187, 0.22666182960215187, 0.22666182960215187, 0.22666182960215187, 0.22666182960215187, 0.22666182960215187, 0.22666182960215187, 0.22666182960215187, 0.22666182960215187, 0.22666182960215187, 0.22666182960215187, 0.22666182960215187, 0.22666182960215187, 0.22666182960215187, 0.22666182960215187, 0.22666182960215187, 0.22666182960215187, 0.22666182960215187, 0.22666182960215187, 0.22666182960215187, 0.22666182960215187]}], \"AUC_micro\": [{\"categories\": [\"0\", \"1\", \"2\", \"3\", \"4\", \"5\", \"6\", \"7\", \"8\", \"9\", \"10\", \"11\", \"12\", \"13\", \"14\", \"15\", \"16\", \"17\", \"18\", \"19\", \"20\", \"21\", \"22\", \"23\", \"24\", \"25\", \"26\", \"27\", \"28\", \"29\", \"30\", \"31\", \"32\", \"33\", \"34\", \"35\", \"36\", \"37\", \"41\", \"42\"], \"mode\": \"markers\", \"name\": \"AUC_micro\", \"stepped\": false, \"type\": \"scatter\", \"data\": [0.9466340945790082, 0.9446663283352557, 0.9500647750865051, 0.9431816685890043, 0.9327455286428297, 0.869970303729335, 0.9417502037677817, 0.9438616685890041, 0.9420659438677432, 0.9309102037677818, 0.94575292579777, 0.9428076739715493, 0.9434472895040369, 0.9456803075740099, 0.9321160169165706, 0.9313626143790849, 0.9382678662053057, 0.9347777777777777, 0.94010554402153, 0.948237201076509, 0.9430604998077662, 0.9394694194540563, 0.9467902037677817, 0.9453548635140331, 0.9428845828527489, 0.9374542714340638, 0.9412010765090351, 0.9404352479815457, 0.9389296116878123, 0.9357245674740484, 0.9185882352941176, 0.9442527335640138, 0.9458247750865052, 0.94264030757401, 0.944071757016532, 0.9185882352941176, 0.9412628219915418, 0.9446768012302961, 0.9455397154940407, 0.9454628219915417]}, {\"categories\": [\"0\", \"1\", \"2\", \"3\", \"4\", \"5\", \"6\", \"7\", \"8\", \"9\", \"10\", \"11\", \"12\", \"13\", \"14\", \"15\", \"16\", \"17\", \"18\", \"19\", \"20\", \"21\", \"22\", \"23\", \"24\", \"25\", \"26\", \"27\", \"28\", \"29\", \"30\", \"31\", \"32\", \"33\", \"34\", \"35\", \"36\", \"37\", \"41\", \"42\"], \"mode\": \"lines\", \"name\": \"AUC_micro_max\", \"stepped\": true, \"type\": \"scatter\", \"data\": [0.9466340945790082, 0.9466340945790082, 0.9500647750865051, 0.9500647750865051, 0.9500647750865051, 0.9500647750865051, 0.9500647750865051, 0.9500647750865051, 0.9500647750865051, 0.9500647750865051, 0.9500647750865051, 0.9500647750865051, 0.9500647750865051, 0.9500647750865051, 0.9500647750865051, 0.9500647750865051, 0.9500647750865051, 0.9500647750865051, 0.9500647750865051, 0.9500647750865051, 0.9500647750865051, 0.9500647750865051, 0.9500647750865051, 0.9500647750865051, 0.9500647750865051, 0.9500647750865051, 0.9500647750865051, 0.9500647750865051, 0.9500647750865051, 0.9500647750865051, 0.9500647750865051, 0.9500647750865051, 0.9500647750865051, 0.9500647750865051, 0.9500647750865051, 0.9500647750865051, 0.9500647750865051, 0.9500647750865051, 0.9500647750865051, 0.9500647750865051]}], \"precision_score_micro\": [{\"categories\": [\"0\", \"1\", \"2\", \"3\", \"4\", \"5\", \"6\", \"7\", \"8\", \"9\", \"10\", \"11\", \"12\", \"13\", \"14\", \"15\", \"16\", \"17\", \"18\", \"19\", \"20\", \"21\", \"22\", \"23\", \"24\", \"25\", \"26\", \"27\", \"28\", \"29\", \"30\", \"31\", \"32\", \"33\", \"34\", \"35\", \"36\", \"37\", \"41\", \"42\"], \"mode\": \"markers\", \"name\": \"precision_score_micro\", \"stepped\": false, \"type\": \"scatter\", \"data\": [0.9067450980392155, 0.916627450980392, 0.9185882352941176, 0.9185882352941176, 0.8728627450980392, 0.805372549019608, 0.9107058823529413, 0.9125882352941176, 0.912627450980392, 0.9046274509803922, 0.9185882352941176, 0.9185882352941176, 0.9185882352941176, 0.9185882352941176, 0.9185882352941176, 0.9185882352941176, 0.9185882352941176, 0.9066274509803922, 0.9185882352941176, 0.9185882352941176, 0.9146274509803922, 0.9185882352941176, 0.9186274509803921, 0.9185882352941176, 0.9126274509803922, 0.9185882352941176, 0.9106666666666665, 0.9185882352941176, 0.9185882352941176, 0.9185882352941176, 0.9185882352941176, 0.9185882352941176, 0.9185882352941176, 0.9185882352941176, 0.9185882352941176, 0.9185882352941176, 0.9185882352941176, 0.9185882352941176, 0.9185882352941176, 0.9185882352941176]}, {\"categories\": [\"0\", \"1\", \"2\", \"3\", \"4\", \"5\", \"6\", \"7\", \"8\", \"9\", \"10\", \"11\", \"12\", \"13\", \"14\", \"15\", \"16\", \"17\", \"18\", \"19\", \"20\", \"21\", \"22\", \"23\", \"24\", \"25\", \"26\", \"27\", \"28\", \"29\", \"30\", \"31\", \"32\", \"33\", \"34\", \"35\", \"36\", \"37\", \"41\", \"42\"], \"mode\": \"lines\", \"name\": \"precision_score_micro_max\", \"stepped\": true, \"type\": \"scatter\", \"data\": [0.9067450980392155, 0.916627450980392, 0.9185882352941176, 0.9185882352941176, 0.9185882352941176, 0.9185882352941176, 0.9185882352941176, 0.9185882352941176, 0.9185882352941176, 0.9185882352941176, 0.9185882352941176, 0.9185882352941176, 0.9185882352941176, 0.9185882352941176, 0.9185882352941176, 0.9185882352941176, 0.9185882352941176, 0.9185882352941176, 0.9185882352941176, 0.9185882352941176, 0.9185882352941176, 0.9185882352941176, 0.9186274509803921, 0.9186274509803921, 0.9186274509803921, 0.9186274509803921, 0.9186274509803921, 0.9186274509803921, 0.9186274509803921, 0.9186274509803921, 0.9186274509803921, 0.9186274509803921, 0.9186274509803921, 0.9186274509803921, 0.9186274509803921, 0.9186274509803921, 0.9186274509803921, 0.9186274509803921, 0.9186274509803921, 0.9186274509803921]}], \"recall_score_weighted\": [{\"categories\": [\"0\", \"1\", \"2\", \"3\", \"4\", \"5\", \"6\", \"7\", \"8\", \"9\", \"10\", \"11\", \"12\", \"13\", \"14\", \"15\", \"16\", \"17\", \"18\", \"19\", \"20\", \"21\", \"22\", \"23\", \"24\", \"25\", \"26\", \"27\", \"28\", \"29\", \"30\", \"31\", \"32\", \"33\", \"34\", \"35\", \"36\", \"37\", \"41\", \"42\"], \"mode\": \"markers\", \"name\": \"recall_score_weighted\", \"stepped\": false, \"type\": \"scatter\", \"data\": [0.9067450980392155, 0.916627450980392, 0.9185882352941176, 0.9185882352941176, 0.8728627450980392, 0.805372549019608, 0.9107058823529413, 0.9125882352941176, 0.912627450980392, 0.9046274509803922, 0.9185882352941176, 0.9185882352941176, 0.9185882352941176, 0.9185882352941176, 0.9185882352941176, 0.9185882352941176, 0.9185882352941176, 0.9066274509803922, 0.9185882352941176, 0.9185882352941176, 0.9146274509803922, 0.9185882352941176, 0.9186274509803921, 0.9185882352941176, 0.9126274509803922, 0.9185882352941176, 0.9106666666666665, 0.9185882352941176, 0.9185882352941176, 0.9185882352941176, 0.9185882352941176, 0.9185882352941176, 0.9185882352941176, 0.9185882352941176, 0.9185882352941176, 0.9185882352941176, 0.9185882352941176, 0.9185882352941176, 0.9185882352941176, 0.9185882352941176]}, {\"categories\": [\"0\", \"1\", \"2\", \"3\", \"4\", \"5\", \"6\", \"7\", \"8\", \"9\", \"10\", \"11\", \"12\", \"13\", \"14\", \"15\", \"16\", \"17\", \"18\", \"19\", \"20\", \"21\", \"22\", \"23\", \"24\", \"25\", \"26\", \"27\", \"28\", \"29\", \"30\", \"31\", \"32\", \"33\", \"34\", \"35\", \"36\", \"37\", \"41\", \"42\"], \"mode\": \"lines\", \"name\": \"recall_score_weighted_max\", \"stepped\": true, \"type\": \"scatter\", \"data\": [0.9067450980392155, 0.916627450980392, 0.9185882352941176, 0.9185882352941176, 0.9185882352941176, 0.9185882352941176, 0.9185882352941176, 0.9185882352941176, 0.9185882352941176, 0.9185882352941176, 0.9185882352941176, 0.9185882352941176, 0.9185882352941176, 0.9185882352941176, 0.9185882352941176, 0.9185882352941176, 0.9185882352941176, 0.9185882352941176, 0.9185882352941176, 0.9185882352941176, 0.9185882352941176, 0.9185882352941176, 0.9186274509803921, 0.9186274509803921, 0.9186274509803921, 0.9186274509803921, 0.9186274509803921, 0.9186274509803921, 0.9186274509803921, 0.9186274509803921, 0.9186274509803921, 0.9186274509803921, 0.9186274509803921, 0.9186274509803921, 0.9186274509803921, 0.9186274509803921, 0.9186274509803921, 0.9186274509803921, 0.9186274509803921, 0.9186274509803921]}], \"accuracy\": [{\"categories\": [\"0\", \"1\", \"2\", \"3\", \"4\", \"5\", \"6\", \"7\", \"8\", \"9\", \"10\", \"11\", \"12\", \"13\", \"14\", \"15\", \"16\", \"17\", \"18\", \"19\", \"20\", \"21\", \"22\", \"23\", \"24\", \"25\", \"26\", \"27\", \"28\", \"29\", \"30\", \"31\", \"32\", \"33\", \"34\", \"35\", \"36\", \"37\", \"41\", \"42\"], \"mode\": \"markers\", \"name\": \"accuracy\", \"stepped\": false, \"type\": \"scatter\", \"data\": [0.9067450980392155, 0.916627450980392, 0.9185882352941176, 0.9185882352941176, 0.8728627450980392, 0.805372549019608, 0.9107058823529413, 0.9125882352941176, 0.912627450980392, 0.9046274509803922, 0.9185882352941176, 0.9185882352941176, 0.9185882352941176, 0.9185882352941176, 0.9185882352941176, 0.9185882352941176, 0.9185882352941176, 0.9066274509803922, 0.9185882352941176, 0.9185882352941176, 0.9146274509803922, 0.9185882352941176, 0.9186274509803921, 0.9185882352941176, 0.9126274509803922, 0.9185882352941176, 0.9106666666666665, 0.9185882352941176, 0.9185882352941176, 0.9185882352941176, 0.9185882352941176, 0.9185882352941176, 0.9185882352941176, 0.9185882352941176, 0.9185882352941176, 0.9185882352941176, 0.9185882352941176, 0.9185882352941176, 0.9185882352941176, 0.9185882352941176]}, {\"categories\": [\"0\", \"1\", \"2\", \"3\", \"4\", \"5\", \"6\", \"7\", \"8\", \"9\", \"10\", \"11\", \"12\", \"13\", \"14\", \"15\", \"16\", \"17\", \"18\", \"19\", \"20\", \"21\", \"22\", \"23\", \"24\", \"25\", \"26\", \"27\", \"28\", \"29\", \"30\", \"31\", \"32\", \"33\", \"34\", \"35\", \"36\", \"37\", \"41\", \"42\"], \"mode\": \"lines\", \"name\": \"accuracy_max\", \"stepped\": true, \"type\": \"scatter\", \"data\": [0.9067450980392155, 0.916627450980392, 0.9185882352941176, 0.9185882352941176, 0.9185882352941176, 0.9185882352941176, 0.9185882352941176, 0.9185882352941176, 0.9185882352941176, 0.9185882352941176, 0.9185882352941176, 0.9185882352941176, 0.9185882352941176, 0.9185882352941176, 0.9185882352941176, 0.9185882352941176, 0.9185882352941176, 0.9185882352941176, 0.9185882352941176, 0.9185882352941176, 0.9185882352941176, 0.9185882352941176, 0.9186274509803921, 0.9186274509803921, 0.9186274509803921, 0.9186274509803921, 0.9186274509803921, 0.9186274509803921, 0.9186274509803921, 0.9186274509803921, 0.9186274509803921, 0.9186274509803921, 0.9186274509803921, 0.9186274509803921, 0.9186274509803921, 0.9186274509803921, 0.9186274509803921, 0.9186274509803921, 0.9186274509803921, 0.9186274509803921]}], \"precision_score_weighted\": [{\"categories\": [\"0\", \"1\", \"2\", \"3\", \"4\", \"5\", \"6\", \"7\", \"8\", \"9\", \"10\", \"11\", \"12\", \"13\", \"14\", \"15\", \"16\", \"17\", \"18\", \"19\", \"20\", \"21\", \"22\", \"23\", \"24\", \"25\", \"26\", \"27\", \"28\", \"29\", \"30\", \"31\", \"32\", \"33\", \"34\", \"35\", \"36\", \"37\", \"41\", \"42\"], \"mode\": \"markers\", \"name\": \"precision_score_weighted\", \"stepped\": false, \"type\": \"scatter\", \"data\": [0.8588462221359132, 0.8794287194093322, 0.844481722414456, 0.844481722414456, 0.8602916348812822, 0.8783967930874115, 0.8719816891283185, 0.8590328774254801, 0.8496824892309865, 0.8653681649414043, 0.844481722414456, 0.844481722414456, 0.844481722414456, 0.844481722414456, 0.844481722414456, 0.844481722414456, 0.844481722414456, 0.8606357326067682, 0.844481722414456, 0.844481722414456, 0.8593071371293615, 0.844481722414456, 0.8541337137207824, 0.844481722414456, 0.8553589175277955, 0.844481722414456, 0.8587660205158407, 0.844481722414456, 0.844481722414456, 0.844481722414456, 0.844481722414456, 0.844481722414456, 0.844481722414456, 0.844481722414456, 0.844481722414456, 0.844481722414456, 0.844481722414456, 0.844481722414456, 0.844481722414456, 0.844481722414456]}, {\"categories\": [\"0\", \"1\", \"2\", \"3\", \"4\", \"5\", \"6\", \"7\", \"8\", \"9\", \"10\", \"11\", \"12\", \"13\", \"14\", \"15\", \"16\", \"17\", \"18\", \"19\", \"20\", \"21\", \"22\", \"23\", \"24\", \"25\", \"26\", \"27\", \"28\", \"29\", \"30\", \"31\", \"32\", \"33\", \"34\", \"35\", \"36\", \"37\", \"41\", \"42\"], \"mode\": \"lines\", \"name\": \"precision_score_weighted_max\", \"stepped\": true, \"type\": \"scatter\", \"data\": [0.8588462221359132, 0.8794287194093322, 0.8794287194093322, 0.8794287194093322, 0.8794287194093322, 0.8794287194093322, 0.8794287194093322, 0.8794287194093322, 0.8794287194093322, 0.8794287194093322, 0.8794287194093322, 0.8794287194093322, 0.8794287194093322, 0.8794287194093322, 0.8794287194093322, 0.8794287194093322, 0.8794287194093322, 0.8794287194093322, 0.8794287194093322, 0.8794287194093322, 0.8794287194093322, 0.8794287194093322, 0.8794287194093322, 0.8794287194093322, 0.8794287194093322, 0.8794287194093322, 0.8794287194093322, 0.8794287194093322, 0.8794287194093322, 0.8794287194093322, 0.8794287194093322, 0.8794287194093322, 0.8794287194093322, 0.8794287194093322, 0.8794287194093322, 0.8794287194093322, 0.8794287194093322, 0.8794287194093322, 0.8794287194093322, 0.8794287194093322]}], \"f1_score_micro\": [{\"categories\": [\"0\", \"1\", \"2\", \"3\", \"4\", \"5\", \"6\", \"7\", \"8\", \"9\", \"10\", \"11\", \"12\", \"13\", \"14\", \"15\", \"16\", \"17\", \"18\", \"19\", \"20\", \"21\", \"22\", \"23\", \"24\", \"25\", \"26\", \"27\", \"28\", \"29\", \"30\", \"31\", \"32\", \"33\", \"34\", \"35\", \"36\", \"37\", \"41\", \"42\"], \"mode\": \"markers\", \"name\": \"f1_score_micro\", \"stepped\": false, \"type\": \"scatter\", \"data\": [0.9067450980392155, 0.916627450980392, 0.9185882352941176, 0.9185882352941176, 0.8728627450980392, 0.805372549019608, 0.9107058823529413, 0.9125882352941176, 0.912627450980392, 0.9046274509803922, 0.9185882352941176, 0.9185882352941176, 0.9185882352941176, 0.9185882352941176, 0.9185882352941176, 0.9185882352941176, 0.9185882352941176, 0.9066274509803922, 0.9185882352941176, 0.9185882352941176, 0.9146274509803922, 0.9185882352941176, 0.9186274509803921, 0.9185882352941176, 0.9126274509803922, 0.9185882352941176, 0.9106666666666665, 0.9185882352941176, 0.9185882352941176, 0.9185882352941176, 0.9185882352941176, 0.9185882352941176, 0.9185882352941176, 0.9185882352941176, 0.9185882352941176, 0.9185882352941176, 0.9185882352941176, 0.9185882352941176, 0.9185882352941176, 0.9185882352941176]}, {\"categories\": [\"0\", \"1\", \"2\", \"3\", \"4\", \"5\", \"6\", \"7\", \"8\", \"9\", \"10\", \"11\", \"12\", \"13\", \"14\", \"15\", \"16\", \"17\", \"18\", \"19\", \"20\", \"21\", \"22\", \"23\", \"24\", \"25\", \"26\", \"27\", \"28\", \"29\", \"30\", \"31\", \"32\", \"33\", \"34\", \"35\", \"36\", \"37\", \"41\", \"42\"], \"mode\": \"lines\", \"name\": \"f1_score_micro_max\", \"stepped\": true, \"type\": \"scatter\", \"data\": [0.9067450980392155, 0.916627450980392, 0.9185882352941176, 0.9185882352941176, 0.9185882352941176, 0.9185882352941176, 0.9185882352941176, 0.9185882352941176, 0.9185882352941176, 0.9185882352941176, 0.9185882352941176, 0.9185882352941176, 0.9185882352941176, 0.9185882352941176, 0.9185882352941176, 0.9185882352941176, 0.9185882352941176, 0.9185882352941176, 0.9185882352941176, 0.9185882352941176, 0.9185882352941176, 0.9185882352941176, 0.9186274509803921, 0.9186274509803921, 0.9186274509803921, 0.9186274509803921, 0.9186274509803921, 0.9186274509803921, 0.9186274509803921, 0.9186274509803921, 0.9186274509803921, 0.9186274509803921, 0.9186274509803921, 0.9186274509803921, 0.9186274509803921, 0.9186274509803921, 0.9186274509803921, 0.9186274509803921, 0.9186274509803921, 0.9186274509803921]}], \"recall_score_micro\": [{\"categories\": [\"0\", \"1\", \"2\", \"3\", \"4\", \"5\", \"6\", \"7\", \"8\", \"9\", \"10\", \"11\", \"12\", \"13\", \"14\", \"15\", \"16\", \"17\", \"18\", \"19\", \"20\", \"21\", \"22\", \"23\", \"24\", \"25\", \"26\", \"27\", \"28\", \"29\", \"30\", \"31\", \"32\", \"33\", \"34\", \"35\", \"36\", \"37\", \"41\", \"42\"], \"mode\": \"markers\", \"name\": \"recall_score_micro\", \"stepped\": false, \"type\": \"scatter\", \"data\": [0.9067450980392155, 0.916627450980392, 0.9185882352941176, 0.9185882352941176, 0.8728627450980392, 0.805372549019608, 0.9107058823529413, 0.9125882352941176, 0.912627450980392, 0.9046274509803922, 0.9185882352941176, 0.9185882352941176, 0.9185882352941176, 0.9185882352941176, 0.9185882352941176, 0.9185882352941176, 0.9185882352941176, 0.9066274509803922, 0.9185882352941176, 0.9185882352941176, 0.9146274509803922, 0.9185882352941176, 0.9186274509803921, 0.9185882352941176, 0.9126274509803922, 0.9185882352941176, 0.9106666666666665, 0.9185882352941176, 0.9185882352941176, 0.9185882352941176, 0.9185882352941176, 0.9185882352941176, 0.9185882352941176, 0.9185882352941176, 0.9185882352941176, 0.9185882352941176, 0.9185882352941176, 0.9185882352941176, 0.9185882352941176, 0.9185882352941176]}, {\"categories\": [\"0\", \"1\", \"2\", \"3\", \"4\", \"5\", \"6\", \"7\", \"8\", \"9\", \"10\", \"11\", \"12\", \"13\", \"14\", \"15\", \"16\", \"17\", \"18\", \"19\", \"20\", \"21\", \"22\", \"23\", \"24\", \"25\", \"26\", \"27\", \"28\", \"29\", \"30\", \"31\", \"32\", \"33\", \"34\", \"35\", \"36\", \"37\", \"41\", \"42\"], \"mode\": \"lines\", \"name\": \"recall_score_micro_max\", \"stepped\": true, \"type\": \"scatter\", \"data\": [0.9067450980392155, 0.916627450980392, 0.9185882352941176, 0.9185882352941176, 0.9185882352941176, 0.9185882352941176, 0.9185882352941176, 0.9185882352941176, 0.9185882352941176, 0.9185882352941176, 0.9185882352941176, 0.9185882352941176, 0.9185882352941176, 0.9185882352941176, 0.9185882352941176, 0.9185882352941176, 0.9185882352941176, 0.9185882352941176, 0.9185882352941176, 0.9185882352941176, 0.9185882352941176, 0.9185882352941176, 0.9186274509803921, 0.9186274509803921, 0.9186274509803921, 0.9186274509803921, 0.9186274509803921, 0.9186274509803921, 0.9186274509803921, 0.9186274509803921, 0.9186274509803921, 0.9186274509803921, 0.9186274509803921, 0.9186274509803921, 0.9186274509803921, 0.9186274509803921, 0.9186274509803921, 0.9186274509803921, 0.9186274509803921, 0.9186274509803921]}], \"balanced_accuracy\": [{\"categories\": [\"0\", \"1\", \"2\", \"3\", \"4\", \"5\", \"6\", \"7\", \"8\", \"9\", \"10\", \"11\", \"12\", \"13\", \"14\", \"15\", \"16\", \"17\", \"18\", \"19\", \"20\", \"21\", \"22\", \"23\", \"24\", \"25\", \"26\", \"27\", \"28\", \"29\", \"30\", \"31\", \"32\", \"33\", \"34\", \"35\", \"36\", \"37\", \"41\", \"42\"], \"mode\": \"markers\", \"name\": \"balanced_accuracy\", \"stepped\": false, \"type\": \"scatter\", \"data\": [0.5165250639262797, 0.5437881187441165, 0.5, 0.5, 0.5259732747734122, 0.6041472413316882, 0.5453715590460668, 0.5195834565710342, 0.5081945676821452, 0.5283320133910904, 0.5, 0.5, 0.5, 0.5, 0.5, 0.5, 0.5, 0.5205069542894354, 0.5, 0.5, 0.5207176944166504, 0.5, 0.5114795918367347, 0.5, 0.5057176944166504, 0.5, 0.5274760918860297, 0.5, 0.5, 0.5, 0.5, 0.5, 0.5, 0.5, 0.5, 0.5, 0.5, 0.5, 0.5, 0.5]}, {\"categories\": [\"0\", \"1\", \"2\", \"3\", \"4\", \"5\", \"6\", \"7\", \"8\", \"9\", \"10\", \"11\", \"12\", \"13\", \"14\", \"15\", \"16\", \"17\", \"18\", \"19\", \"20\", \"21\", \"22\", \"23\", \"24\", \"25\", \"26\", \"27\", \"28\", \"29\", \"30\", \"31\", \"32\", \"33\", \"34\", \"35\", \"36\", \"37\", \"41\", \"42\"], \"mode\": \"lines\", \"name\": \"balanced_accuracy_max\", \"stepped\": true, \"type\": \"scatter\", \"data\": [0.5165250639262797, 0.5437881187441165, 0.5437881187441165, 0.5437881187441165, 0.5437881187441165, 0.6041472413316882, 0.6041472413316882, 0.6041472413316882, 0.6041472413316882, 0.6041472413316882, 0.6041472413316882, 0.6041472413316882, 0.6041472413316882, 0.6041472413316882, 0.6041472413316882, 0.6041472413316882, 0.6041472413316882, 0.6041472413316882, 0.6041472413316882, 0.6041472413316882, 0.6041472413316882, 0.6041472413316882, 0.6041472413316882, 0.6041472413316882, 0.6041472413316882, 0.6041472413316882, 0.6041472413316882, 0.6041472413316882, 0.6041472413316882, 0.6041472413316882, 0.6041472413316882, 0.6041472413316882, 0.6041472413316882, 0.6041472413316882, 0.6041472413316882, 0.6041472413316882, 0.6041472413316882, 0.6041472413316882, 0.6041472413316882, 0.6041472413316882]}], \"recall_score_macro\": [{\"categories\": [\"0\", \"1\", \"2\", \"3\", \"4\", \"5\", \"6\", \"7\", \"8\", \"9\", \"10\", \"11\", \"12\", \"13\", \"14\", \"15\", \"16\", \"17\", \"18\", \"19\", \"20\", \"21\", \"22\", \"23\", \"24\", \"25\", \"26\", \"27\", \"28\", \"29\", \"30\", \"31\", \"32\", \"33\", \"34\", \"35\", \"36\", \"37\", \"41\", \"42\"], \"mode\": \"markers\", \"name\": \"recall_score_macro\", \"stepped\": false, \"type\": \"scatter\", \"data\": [0.5165250639262797, 0.5437881187441165, 0.5, 0.5, 0.5259732747734122, 0.6041472413316882, 0.5453715590460668, 0.5195834565710342, 0.5081945676821452, 0.5283320133910904, 0.5, 0.5, 0.5, 0.5, 0.5, 0.5, 0.5, 0.5205069542894354, 0.5, 0.5, 0.5207176944166504, 0.5, 0.5114795918367347, 0.5, 0.5057176944166504, 0.5, 0.5274760918860297, 0.5, 0.5, 0.5, 0.5, 0.5, 0.5, 0.5, 0.5, 0.5, 0.5, 0.5, 0.5, 0.5]}, {\"categories\": [\"0\", \"1\", \"2\", \"3\", \"4\", \"5\", \"6\", \"7\", \"8\", \"9\", \"10\", \"11\", \"12\", \"13\", \"14\", \"15\", \"16\", \"17\", \"18\", \"19\", \"20\", \"21\", \"22\", \"23\", \"24\", \"25\", \"26\", \"27\", \"28\", \"29\", \"30\", \"31\", \"32\", \"33\", \"34\", \"35\", \"36\", \"37\", \"41\", \"42\"], \"mode\": \"lines\", \"name\": \"recall_score_macro_max\", \"stepped\": true, \"type\": \"scatter\", \"data\": [0.5165250639262797, 0.5437881187441165, 0.5437881187441165, 0.5437881187441165, 0.5437881187441165, 0.6041472413316882, 0.6041472413316882, 0.6041472413316882, 0.6041472413316882, 0.6041472413316882, 0.6041472413316882, 0.6041472413316882, 0.6041472413316882, 0.6041472413316882, 0.6041472413316882, 0.6041472413316882, 0.6041472413316882, 0.6041472413316882, 0.6041472413316882, 0.6041472413316882, 0.6041472413316882, 0.6041472413316882, 0.6041472413316882, 0.6041472413316882, 0.6041472413316882, 0.6041472413316882, 0.6041472413316882, 0.6041472413316882, 0.6041472413316882, 0.6041472413316882, 0.6041472413316882, 0.6041472413316882, 0.6041472413316882, 0.6041472413316882, 0.6041472413316882, 0.6041472413316882, 0.6041472413316882, 0.6041472413316882, 0.6041472413316882, 0.6041472413316882]}], \"AUC_weighted\": [{\"categories\": [\"0\", \"1\", \"2\", \"3\", \"4\", \"5\", \"6\", \"7\", \"8\", \"9\", \"10\", \"11\", \"12\", \"13\", \"14\", \"15\", \"16\", \"17\", \"18\", \"19\", \"20\", \"21\", \"22\", \"23\", \"24\", \"25\", \"26\", \"27\", \"28\", \"29\", \"30\", \"31\", \"32\", \"33\", \"34\", \"35\", \"36\", \"37\", \"41\", \"42\"], \"mode\": \"markers\", \"name\": \"AUC_weighted\", \"stepped\": false, \"type\": \"scatter\", \"data\": [0.6616277217482235, 0.6496602531352378, 0.6901815435365319, 0.6540163425996864, 0.6375704753055551, 0.5868549896060798, 0.6512613501251743, 0.6462858777082964, 0.6234541838205496, 0.6024226279200017, 0.6712917127603719, 0.6398339294842778, 0.641940810414048, 0.6573149967830144, 0.5724787469907683, 0.5647983313627496, 0.6097273421297611, 0.6022383330789307, 0.6219697481018955, 0.6751456067156048, 0.6467417779537863, 0.6144942528668346, 0.6632430817732942, 0.6572897529455457, 0.6389217774152235, 0.6230173913092261, 0.6539650197377892, 0.6212024284302997, 0.6166068751733926, 0.5939193772984959, 0.5, 0.6546881908598189, 0.6617075309711404, 0.6409737196974897, 0.6504622328217621, 0.5, 0.6307778091695484, 0.6494986576664241, 0.6524390272297633, 0.6515221060751102]}, {\"categories\": [\"0\", \"1\", \"2\", \"3\", \"4\", \"5\", \"6\", \"7\", \"8\", \"9\", \"10\", \"11\", \"12\", \"13\", \"14\", \"15\", \"16\", \"17\", \"18\", \"19\", \"20\", \"21\", \"22\", \"23\", \"24\", \"25\", \"26\", \"27\", \"28\", \"29\", \"30\", \"31\", \"32\", \"33\", \"34\", \"35\", \"36\", \"37\", \"41\", \"42\"], \"mode\": \"lines\", \"name\": \"AUC_weighted_max\", \"stepped\": true, \"type\": \"scatter\", \"data\": [0.6616277217482235, 0.6616277217482235, 0.6901815435365319, 0.6901815435365319, 0.6901815435365319, 0.6901815435365319, 0.6901815435365319, 0.6901815435365319, 0.6901815435365319, 0.6901815435365319, 0.6901815435365319, 0.6901815435365319, 0.6901815435365319, 0.6901815435365319, 0.6901815435365319, 0.6901815435365319, 0.6901815435365319, 0.6901815435365319, 0.6901815435365319, 0.6901815435365319, 0.6901815435365319, 0.6901815435365319, 0.6901815435365319, 0.6901815435365319, 0.6901815435365319, 0.6901815435365319, 0.6901815435365319, 0.6901815435365319, 0.6901815435365319, 0.6901815435365319, 0.6901815435365319, 0.6901815435365319, 0.6901815435365319, 0.6901815435365319, 0.6901815435365319, 0.6901815435365319, 0.6901815435365319, 0.6901815435365319, 0.6901815435365319, 0.6901815435365319]}], \"matthews_correlation\": [{\"categories\": [\"0\", \"1\", \"2\", \"3\", \"4\", \"5\", \"6\", \"7\", \"8\", \"9\", \"10\", \"11\", \"12\", \"13\", \"14\", \"15\", \"16\", \"17\", \"18\", \"19\", \"20\", \"21\", \"22\", \"23\", \"24\", \"25\", \"26\", \"27\", \"28\", \"29\", \"30\", \"31\", \"32\", \"33\", \"34\", \"35\", \"36\", \"37\", \"41\", \"42\"], \"mode\": \"markers\", \"name\": \"matthews_correlation\", \"stepped\": false, \"type\": \"scatter\", \"data\": [0.06053477261350726, 0.1616467148216177, 0.0, 0.0, 0.0567990599200638, 0.14985579335508112, 0.12130083969211902, 0.06620417665892578, 0.019769611497255448, 0.09952249279755429, 0.0, 0.0, 0.0, 0.0, 0.0, 0.0, 0.0, 0.07633624903620773, 0.0, 0.0, 0.06829290607679875, 0.0, 0.045588071308037624, 0.0, 0.026937861256260298, 0.0, 0.0707618853316192, 0.0, 0.0, 0.0, 0.0, 0.0, 0.0, 0.0, 0.0, 0.0, 0.0, 0.0, 0.0, 0.0]}, {\"categories\": [\"0\", \"1\", \"2\", \"3\", \"4\", \"5\", \"6\", \"7\", \"8\", \"9\", \"10\", \"11\", \"12\", \"13\", \"14\", \"15\", \"16\", \"17\", \"18\", \"19\", \"20\", \"21\", \"22\", \"23\", \"24\", \"25\", \"26\", \"27\", \"28\", \"29\", \"30\", \"31\", \"32\", \"33\", \"34\", \"35\", \"36\", \"37\", \"41\", \"42\"], \"mode\": \"lines\", \"name\": \"matthews_correlation_max\", \"stepped\": true, \"type\": \"scatter\", \"data\": [0.06053477261350726, 0.1616467148216177, 0.1616467148216177, 0.1616467148216177, 0.1616467148216177, 0.1616467148216177, 0.1616467148216177, 0.1616467148216177, 0.1616467148216177, 0.1616467148216177, 0.1616467148216177, 0.1616467148216177, 0.1616467148216177, 0.1616467148216177, 0.1616467148216177, 0.1616467148216177, 0.1616467148216177, 0.1616467148216177, 0.1616467148216177, 0.1616467148216177, 0.1616467148216177, 0.1616467148216177, 0.1616467148216177, 0.1616467148216177, 0.1616467148216177, 0.1616467148216177, 0.1616467148216177, 0.1616467148216177, 0.1616467148216177, 0.1616467148216177, 0.1616467148216177, 0.1616467148216177, 0.1616467148216177, 0.1616467148216177, 0.1616467148216177, 0.1616467148216177, 0.1616467148216177, 0.1616467148216177, 0.1616467148216177, 0.1616467148216177]}], \"average_precision_score_micro\": [{\"categories\": [\"0\", \"1\", \"2\", \"3\", \"4\", \"5\", \"6\", \"7\", \"8\", \"9\", \"10\", \"11\", \"12\", \"13\", \"14\", \"15\", \"16\", \"17\", \"18\", \"19\", \"20\", \"21\", \"22\", \"23\", \"24\", \"25\", \"26\", \"27\", \"28\", \"29\", \"30\", \"31\", \"32\", \"33\", \"34\", \"35\", \"36\", \"37\", \"41\", \"42\"], \"mode\": \"markers\", \"name\": \"average_precision_score_micro\", \"stepped\": false, \"type\": \"scatter\", \"data\": [0.936306894576099, 0.9360287726477454, 0.9438653394835779, 0.9328044119426974, 0.9252367208241127, 0.8638553934435912, 0.9284664614692115, 0.9344551948816073, 0.9307567165047764, 0.925081650442575, 0.9313253398802497, 0.9249734590545708, 0.9256398495760912, 0.9330633861671034, 0.9159017585584589, 0.9164714400901429, 0.9232314546814312, 0.9285737398633191, 0.9251564281568443, 0.9380965015043236, 0.9322547903029867, 0.9238402343561954, 0.9319604521693925, 0.9371009279299602, 0.9378268604536384, 0.9318115775415894, 0.926872391786864, 0.9264922318344733, 0.920305458557443, 0.9262493638492127, 0.8851876047673972, 0.934077284013784, 0.9351652695160023, 0.9304600413268407, 0.9329184264698073, 0.8851876047673972, 0.9287637639341737, 0.9292113091172591, 0.9342210921741396, 0.9341142854656752]}, {\"categories\": [\"0\", \"1\", \"2\", \"3\", \"4\", \"5\", \"6\", \"7\", \"8\", \"9\", \"10\", \"11\", \"12\", \"13\", \"14\", \"15\", \"16\", \"17\", \"18\", \"19\", \"20\", \"21\", \"22\", \"23\", \"24\", \"25\", \"26\", \"27\", \"28\", \"29\", \"30\", \"31\", \"32\", \"33\", \"34\", \"35\", \"36\", \"37\", \"41\", \"42\"], \"mode\": \"lines\", \"name\": \"average_precision_score_micro_max\", \"stepped\": true, \"type\": \"scatter\", \"data\": [0.936306894576099, 0.936306894576099, 0.9438653394835779, 0.9438653394835779, 0.9438653394835779, 0.9438653394835779, 0.9438653394835779, 0.9438653394835779, 0.9438653394835779, 0.9438653394835779, 0.9438653394835779, 0.9438653394835779, 0.9438653394835779, 0.9438653394835779, 0.9438653394835779, 0.9438653394835779, 0.9438653394835779, 0.9438653394835779, 0.9438653394835779, 0.9438653394835779, 0.9438653394835779, 0.9438653394835779, 0.9438653394835779, 0.9438653394835779, 0.9438653394835779, 0.9438653394835779, 0.9438653394835779, 0.9438653394835779, 0.9438653394835779, 0.9438653394835779, 0.9438653394835779, 0.9438653394835779, 0.9438653394835779, 0.9438653394835779, 0.9438653394835779, 0.9438653394835779, 0.9438653394835779, 0.9438653394835779, 0.9438653394835779, 0.9438653394835779]}], \"log_loss\": [{\"categories\": [\"0\", \"1\", \"2\", \"3\", \"4\", \"5\", \"6\", \"7\", \"8\", \"9\", \"10\", \"11\", \"12\", \"13\", \"14\", \"15\", \"16\", \"17\", \"18\", \"19\", \"20\", \"21\", \"22\", \"23\", \"24\", \"25\", \"26\", \"27\", \"28\", \"29\", \"30\", \"31\", \"32\", \"33\", \"34\", \"35\", \"36\", \"37\", \"41\", \"42\"], \"mode\": \"markers\", \"name\": \"log_loss\", \"stepped\": false, \"type\": \"scatter\", \"data\": [0.3958747535776013, 0.2743282666499331, 0.265619915784601, 0.27490882273600137, 0.4026121134818063, 0.5052482490643179, 0.3466520597052088, 0.29144514205789934, 0.27527768198209474, 0.36359887864451096, 0.354191834098952, 0.28279830218689217, 0.2741690789014749, 0.26268946531002807, 0.2852276666502737, 0.2832740904911847, 0.2714706878250076, 0.3226437068067981, 0.2686861066811784, 0.26672079127613557, 0.29215307728384354, 0.2769529204668507, 0.3606989945032684, 0.26957984794128054, 0.2727180081966114, 0.2775078608946894, 0.3549239397647169, 0.26947918504098256, 0.2730409587516426, 0.27937867464703614, 0.2834168854399365, 0.267791327240743, 0.2664559718565596, 0.2757044465347308, 0.2719981642106443, 0.2833110036990191, 0.2723613099782085, 0.36033689917989964, 0.29172187489668533, 0.2777733359652172]}, {\"categories\": [\"0\", \"1\", \"2\", \"3\", \"4\", \"5\", \"6\", \"7\", \"8\", \"9\", \"10\", \"11\", \"12\", \"13\", \"14\", \"15\", \"16\", \"17\", \"18\", \"19\", \"20\", \"21\", \"22\", \"23\", \"24\", \"25\", \"26\", \"27\", \"28\", \"29\", \"30\", \"31\", \"32\", \"33\", \"34\", \"35\", \"36\", \"37\", \"41\", \"42\"], \"mode\": \"lines\", \"name\": \"log_loss_min\", \"stepped\": true, \"type\": \"scatter\", \"data\": [0.3958747535776013, 0.2743282666499331, 0.265619915784601, 0.265619915784601, 0.265619915784601, 0.265619915784601, 0.265619915784601, 0.265619915784601, 0.265619915784601, 0.265619915784601, 0.265619915784601, 0.265619915784601, 0.265619915784601, 0.26268946531002807, 0.26268946531002807, 0.26268946531002807, 0.26268946531002807, 0.26268946531002807, 0.26268946531002807, 0.26268946531002807, 0.26268946531002807, 0.26268946531002807, 0.26268946531002807, 0.26268946531002807, 0.26268946531002807, 0.26268946531002807, 0.26268946531002807, 0.26268946531002807, 0.26268946531002807, 0.26268946531002807, 0.26268946531002807, 0.26268946531002807, 0.26268946531002807, 0.26268946531002807, 0.26268946531002807, 0.26268946531002807, 0.26268946531002807, 0.26268946531002807, 0.26268946531002807, 0.26268946531002807]}], \"f1_score_macro\": [{\"categories\": [\"0\", \"1\", \"2\", \"3\", \"4\", \"5\", \"6\", \"7\", \"8\", \"9\", \"10\", \"11\", \"12\", \"13\", \"14\", \"15\", \"16\", \"17\", \"18\", \"19\", \"20\", \"21\", \"22\", \"23\", \"24\", \"25\", \"26\", \"27\", \"28\", \"29\", \"30\", \"31\", \"32\", \"33\", \"34\", \"35\", \"36\", \"37\", \"41\", \"42\"], \"mode\": \"markers\", \"name\": \"f1_score_macro\", \"stepped\": false, \"type\": \"scatter\", \"data\": [0.5120324870623516, 0.5539233198077341, 0.47868657777990514, 0.47868657777990514, 0.5247454703821377, 0.5554884844796483, 0.5437522867764897, 0.5136080837373571, 0.49368561066191674, 0.5321671431814352, 0.47868657777990514, 0.47868657777990514, 0.47868657777990514, 0.47868657777990514, 0.47868657777990514, 0.47868657777990514, 0.47868657777990514, 0.5202964337992843, 0.47868657777990514, 0.47868657777990514, 0.5141918058611611, 0.47868657777990514, 0.4986758122296659, 0.47868657777990514, 0.49368741989624876, 0.47868657777990514, 0.5198196868370943, 0.47868657777990514, 0.47868657777990514, 0.47868657777990514, 0.47868657777990514, 0.47868657777990514, 0.47868657777990514, 0.47868657777990514, 0.47868657777990514, 0.47868657777990514, 0.47868657777990514, 0.47868657777990514, 0.47868657777990514, 0.47868657777990514]}, {\"categories\": [\"0\", \"1\", \"2\", \"3\", \"4\", \"5\", \"6\", \"7\", \"8\", \"9\", \"10\", \"11\", \"12\", \"13\", \"14\", \"15\", \"16\", \"17\", \"18\", \"19\", \"20\", \"21\", \"22\", \"23\", \"24\", \"25\", \"26\", \"27\", \"28\", \"29\", \"30\", \"31\", \"32\", \"33\", \"34\", \"35\", \"36\", \"37\", \"41\", \"42\"], \"mode\": \"lines\", \"name\": \"f1_score_macro_max\", \"stepped\": true, \"type\": \"scatter\", \"data\": [0.5120324870623516, 0.5539233198077341, 0.5539233198077341, 0.5539233198077341, 0.5539233198077341, 0.5554884844796483, 0.5554884844796483, 0.5554884844796483, 0.5554884844796483, 0.5554884844796483, 0.5554884844796483, 0.5554884844796483, 0.5554884844796483, 0.5554884844796483, 0.5554884844796483, 0.5554884844796483, 0.5554884844796483, 0.5554884844796483, 0.5554884844796483, 0.5554884844796483, 0.5554884844796483, 0.5554884844796483, 0.5554884844796483, 0.5554884844796483, 0.5554884844796483, 0.5554884844796483, 0.5554884844796483, 0.5554884844796483, 0.5554884844796483, 0.5554884844796483, 0.5554884844796483, 0.5554884844796483, 0.5554884844796483, 0.5554884844796483, 0.5554884844796483, 0.5554884844796483, 0.5554884844796483, 0.5554884844796483, 0.5554884844796483, 0.5554884844796483]}], \"AUC_macro\": [{\"categories\": [\"0\", \"1\", \"2\", \"3\", \"4\", \"5\", \"6\", \"7\", \"8\", \"9\", \"10\", \"11\", \"12\", \"13\", \"14\", \"15\", \"16\", \"17\", \"18\", \"19\", \"20\", \"21\", \"22\", \"23\", \"24\", \"25\", \"26\", \"27\", \"28\", \"29\", \"30\", \"31\", \"32\", \"33\", \"34\", \"35\", \"36\", \"37\", \"41\", \"42\"], \"mode\": \"markers\", \"name\": \"AUC_macro\", \"stepped\": false, \"type\": \"scatter\", \"data\": [0.6616277217482236, 0.6496602531352378, 0.6901815435365319, 0.6540163425996864, 0.6375704753055551, 0.5868549896060798, 0.6512613501251743, 0.6462858777082964, 0.6234541838205496, 0.6024226279200017, 0.6712917127603719, 0.6398339294842778, 0.641940810414048, 0.6573149967830142, 0.5724787469907683, 0.5647983313627498, 0.6097273421297611, 0.6022383330789307, 0.6219697481018955, 0.6751456067156048, 0.6467417779537863, 0.6144942528668346, 0.6632430817732942, 0.6572897529455457, 0.6389217774152235, 0.6230173913092262, 0.6539650197377892, 0.6212024284302997, 0.6166068751733926, 0.5939193772984959, 0.5, 0.6546881908598189, 0.6617075309711403, 0.6409737196974897, 0.6504622328217621, 0.5, 0.6307778091695484, 0.6494986576664241, 0.6524390272297633, 0.6515221060751102]}, {\"categories\": [\"0\", \"1\", \"2\", \"3\", \"4\", \"5\", \"6\", \"7\", \"8\", \"9\", \"10\", \"11\", \"12\", \"13\", \"14\", \"15\", \"16\", \"17\", \"18\", \"19\", \"20\", \"21\", \"22\", \"23\", \"24\", \"25\", \"26\", \"27\", \"28\", \"29\", \"30\", \"31\", \"32\", \"33\", \"34\", \"35\", \"36\", \"37\", \"41\", \"42\"], \"mode\": \"lines\", \"name\": \"AUC_macro_max\", \"stepped\": true, \"type\": \"scatter\", \"data\": [0.6616277217482236, 0.6616277217482236, 0.6901815435365319, 0.6901815435365319, 0.6901815435365319, 0.6901815435365319, 0.6901815435365319, 0.6901815435365319, 0.6901815435365319, 0.6901815435365319, 0.6901815435365319, 0.6901815435365319, 0.6901815435365319, 0.6901815435365319, 0.6901815435365319, 0.6901815435365319, 0.6901815435365319, 0.6901815435365319, 0.6901815435365319, 0.6901815435365319, 0.6901815435365319, 0.6901815435365319, 0.6901815435365319, 0.6901815435365319, 0.6901815435365319, 0.6901815435365319, 0.6901815435365319, 0.6901815435365319, 0.6901815435365319, 0.6901815435365319, 0.6901815435365319, 0.6901815435365319, 0.6901815435365319, 0.6901815435365319, 0.6901815435365319, 0.6901815435365319, 0.6901815435365319, 0.6901815435365319, 0.6901815435365319, 0.6901815435365319]}], \"f1_score_weighted\": [{\"categories\": [\"0\", \"1\", \"2\", \"3\", \"4\", \"5\", \"6\", \"7\", \"8\", \"9\", \"10\", \"11\", \"12\", \"13\", \"14\", \"15\", \"16\", \"17\", \"18\", \"19\", \"20\", \"21\", \"22\", \"23\", \"24\", \"25\", \"26\", \"27\", \"28\", \"29\", \"30\", \"31\", \"32\", \"33\", \"34\", \"35\", \"36\", \"37\", \"41\", \"42\"], \"mode\": \"markers\", \"name\": \"f1_score_weighted\", \"stepped\": false, \"type\": \"scatter\", \"data\": [0.8794008210117227, 0.890780037203484, 0.8798033150284251, 0.8798033150284251, 0.8660308255926801, 0.8351377351852681, 0.887534634623291, 0.8824009463025094, 0.8793819117458798, 0.881052341006608, 0.8798033150284251, 0.8798033150284251, 0.8798033150284251, 0.8798033150284251, 0.8798033150284251, 0.8798033150284251, 0.8798033150284251, 0.8797298569518828, 0.8798033150284251, 0.8798033150284251, 0.8834608899441017, 0.8798033150284251, 0.8829414862139646, 0.8798033150284251, 0.8799670425299325, 0.8798033150284251, 0.8829285093591835, 0.8798033150284251, 0.8798033150284251, 0.8798033150284251, 0.8798033150284251, 0.8798033150284251, 0.8798033150284251, 0.8798033150284251, 0.8798033150284251, 0.8798033150284251, 0.8798033150284251, 0.8798033150284251, 0.8798033150284251, 0.8798033150284251]}, {\"categories\": [\"0\", \"1\", \"2\", \"3\", \"4\", \"5\", \"6\", \"7\", \"8\", \"9\", \"10\", \"11\", \"12\", \"13\", \"14\", \"15\", \"16\", \"17\", \"18\", \"19\", \"20\", \"21\", \"22\", \"23\", \"24\", \"25\", \"26\", \"27\", \"28\", \"29\", \"30\", \"31\", \"32\", \"33\", \"34\", \"35\", \"36\", \"37\", \"41\", \"42\"], \"mode\": \"lines\", \"name\": \"f1_score_weighted_max\", \"stepped\": true, \"type\": \"scatter\", \"data\": [0.8794008210117227, 0.890780037203484, 0.890780037203484, 0.890780037203484, 0.890780037203484, 0.890780037203484, 0.890780037203484, 0.890780037203484, 0.890780037203484, 0.890780037203484, 0.890780037203484, 0.890780037203484, 0.890780037203484, 0.890780037203484, 0.890780037203484, 0.890780037203484, 0.890780037203484, 0.890780037203484, 0.890780037203484, 0.890780037203484, 0.890780037203484, 0.890780037203484, 0.890780037203484, 0.890780037203484, 0.890780037203484, 0.890780037203484, 0.890780037203484, 0.890780037203484, 0.890780037203484, 0.890780037203484, 0.890780037203484, 0.890780037203484, 0.890780037203484, 0.890780037203484, 0.890780037203484, 0.890780037203484, 0.890780037203484, 0.890780037203484, 0.890780037203484, 0.890780037203484]}], \"average_precision_score_weighted\": [{\"categories\": [\"0\", \"1\", \"2\", \"3\", \"4\", \"5\", \"6\", \"7\", \"8\", \"9\", \"10\", \"11\", \"12\", \"13\", \"14\", \"15\", \"16\", \"17\", \"18\", \"19\", \"20\", \"21\", \"22\", \"23\", \"24\", \"25\", \"26\", \"27\", \"28\", \"29\", \"30\", \"31\", \"32\", \"33\", \"34\", \"35\", \"36\", \"37\", \"41\", \"42\"], \"mode\": \"markers\", \"name\": \"average_precision_score_weighted\", \"stepped\": false, \"type\": \"scatter\", \"data\": [0.9031260838712966, 0.9054536494344555, 0.9071464912511263, 0.8953317496112898, 0.8969624929016634, 0.8866290001294195, 0.8921415042120143, 0.9013136944135903, 0.8925045773363933, 0.8908153665688504, 0.8957146045311483, 0.8926225855548313, 0.8932586969298001, 0.8989326089710783, 0.878970579358621, 0.8792370572313001, 0.8854341838620312, 0.891719415545186, 0.8928028521433269, 0.9014741588840802, 0.8968511371836831, 0.8868981266522395, 0.8964389392592699, 0.8974101157914702, 0.9009611038087695, 0.8925946479405849, 0.8925598014631223, 0.8882482475238236, 0.8845787494234104, 0.8898549760590828, 0.8517869742406766, 0.8958661972920116, 0.8964396523274896, 0.8961203193463732, 0.8981579186708405, 0.8517869742406766, 0.8909807362106221, 0.8977594264027118, 0.8999825192518636, 0.9001390127548283]}, {\"categories\": [\"0\", \"1\", \"2\", \"3\", \"4\", \"5\", \"6\", \"7\", \"8\", \"9\", \"10\", \"11\", \"12\", \"13\", \"14\", \"15\", \"16\", \"17\", \"18\", \"19\", \"20\", \"21\", \"22\", \"23\", \"24\", \"25\", \"26\", \"27\", \"28\", \"29\", \"30\", \"31\", \"32\", \"33\", \"34\", \"35\", \"36\", \"37\", \"41\", \"42\"], \"mode\": \"lines\", \"name\": \"average_precision_score_weighted_max\", \"stepped\": true, \"type\": \"scatter\", \"data\": [0.9031260838712966, 0.9054536494344555, 0.9071464912511263, 0.9071464912511263, 0.9071464912511263, 0.9071464912511263, 0.9071464912511263, 0.9071464912511263, 0.9071464912511263, 0.9071464912511263, 0.9071464912511263, 0.9071464912511263, 0.9071464912511263, 0.9071464912511263, 0.9071464912511263, 0.9071464912511263, 0.9071464912511263, 0.9071464912511263, 0.9071464912511263, 0.9071464912511263, 0.9071464912511263, 0.9071464912511263, 0.9071464912511263, 0.9071464912511263, 0.9071464912511263, 0.9071464912511263, 0.9071464912511263, 0.9071464912511263, 0.9071464912511263, 0.9071464912511263, 0.9071464912511263, 0.9071464912511263, 0.9071464912511263, 0.9071464912511263, 0.9071464912511263, 0.9071464912511263, 0.9071464912511263, 0.9071464912511263, 0.9071464912511263, 0.9071464912511263]}], \"weighted_accuracy\": [{\"categories\": [\"0\", \"1\", \"2\", \"3\", \"4\", \"5\", \"6\", \"7\", \"8\", \"9\", \"10\", \"11\", \"12\", \"13\", \"14\", \"15\", \"16\", \"17\", \"18\", \"19\", \"20\", \"21\", \"22\", \"23\", \"24\", \"25\", \"26\", \"27\", \"28\", \"29\", \"30\", \"31\", \"32\", \"33\", \"34\", \"35\", \"36\", \"37\", \"41\", \"42\"], \"mode\": \"markers\", \"name\": \"weighted_accuracy\", \"stepped\": false, \"type\": \"scatter\", \"data\": [0.9746352790863042, 0.9812599193769378, 0.9911141418101306, 0.9911141418101306, 0.9321832065777571, 0.8402836466585789, 0.9730855113337405, 0.9807386714138324, 0.9827540180841531, 0.9701952329042298, 0.9911141418101306, 0.9911141418101306, 0.9911141418101306, 0.9911141418101306, 0.9911141418101306, 0.9911141418101306, 0.9911141418101306, 0.9742654785661093, 0.9911141418101306, 0.9911141418101306, 0.9829790323135519, 0.9911141418101306, 0.9892643370334963, 0.9911141418101306, 0.9828451755028318, 0.9911141418101306, 0.9767953952962618, 0.9911141418101306, 0.9911141418101306, 0.9911141418101306, 0.9911141418101306, 0.9911141418101306, 0.9911141418101306, 0.9911141418101306, 0.9911141418101306, 0.9911141418101306, 0.9911141418101306, 0.9911141418101306, 0.9911141418101306, 0.9911141418101306]}, {\"categories\": [\"0\", \"1\", \"2\", \"3\", \"4\", \"5\", \"6\", \"7\", \"8\", \"9\", \"10\", \"11\", \"12\", \"13\", \"14\", \"15\", \"16\", \"17\", \"18\", \"19\", \"20\", \"21\", \"22\", \"23\", \"24\", \"25\", \"26\", \"27\", \"28\", \"29\", \"30\", \"31\", \"32\", \"33\", \"34\", \"35\", \"36\", \"37\", \"41\", \"42\"], \"mode\": \"lines\", \"name\": \"weighted_accuracy_max\", \"stepped\": true, \"type\": \"scatter\", \"data\": [0.9746352790863042, 0.9812599193769378, 0.9911141418101306, 0.9911141418101306, 0.9911141418101306, 0.9911141418101306, 0.9911141418101306, 0.9911141418101306, 0.9911141418101306, 0.9911141418101306, 0.9911141418101306, 0.9911141418101306, 0.9911141418101306, 0.9911141418101306, 0.9911141418101306, 0.9911141418101306, 0.9911141418101306, 0.9911141418101306, 0.9911141418101306, 0.9911141418101306, 0.9911141418101306, 0.9911141418101306, 0.9911141418101306, 0.9911141418101306, 0.9911141418101306, 0.9911141418101306, 0.9911141418101306, 0.9911141418101306, 0.9911141418101306, 0.9911141418101306, 0.9911141418101306, 0.9911141418101306, 0.9911141418101306, 0.9911141418101306, 0.9911141418101306, 0.9911141418101306, 0.9911141418101306, 0.9911141418101306, 0.9911141418101306, 0.9911141418101306]}]}, \"metricName\": null, \"primaryMetricName\": \"accuracy\", \"showLegend\": false}, \"run_metrics\": [{\"name\": \"experiment_status\", \"run_id\": \"AutoML_1ee1c244-76b6-4154-b485-a97a3308bed4\", \"categories\": [0, 1, 2, 3, 4, 5, 6, 7, 8, 9, 10, 11, 12, 13, 14], \"series\": [{\"data\": [\"DatasetEvaluation\", \"FeaturesGeneration\", \"DatasetFeaturization\", \"DatasetFeaturizationCompleted\", \"DatasetBalancing\", \"DatasetCrossValidationSplit\", \"ModelSelection\", \"BestRunExplainModel\", \"ModelExplanationDataSetSetup\", \"PickSurrogateModel\", \"EngineeredFeatureExplanations\", \"EngineeredFeatureExplanations\", \"RawFeaturesExplanations\", \"RawFeaturesExplanations\", \"BestRunExplainModel\"]}]}, {\"name\": \"experiment_status_description\", \"run_id\": \"AutoML_1ee1c244-76b6-4154-b485-a97a3308bed4\", \"categories\": [0, 1, 2, 3, 4, 5, 6, 7, 8, 9, 10, 11, 12, 13, 14], \"series\": [{\"data\": [\"Gathering dataset statistics.\", \"Generating features for the dataset.\", \"Beginning to fit featurizers and featurize the dataset.\", \"Completed fit featurizers and featurizing the dataset.\", \"Performing class balancing sweeping\", \"Generating individually featurized CV splits.\", \"Beginning model selection.\", \"Best run model explanations started\", \"Model explanations data setup completed\", \"Choosing LightGBM as the surrogate model for explanations\", \"Computation of engineered features started\", \"Computation of engineered features completed\", \"Computation of raw features started\", \"Computation of raw features completed\", \"Best run model explanations completed\"]}]}, {\"name\": \"AUC_macro\", \"run_id\": \"AutoML_1ee1c244-76b6-4154-b485-a97a3308bed4\", \"categories\": [0], \"series\": [{\"data\": [0.6632430817732942]}]}, {\"name\": \"recall_score_micro\", \"run_id\": \"AutoML_1ee1c244-76b6-4154-b485-a97a3308bed4\", \"categories\": [0], \"series\": [{\"data\": [0.9186274509803921]}]}, {\"name\": \"average_precision_score_micro\", \"run_id\": \"AutoML_1ee1c244-76b6-4154-b485-a97a3308bed4\", \"categories\": [0], \"series\": [{\"data\": [0.9319604521693925]}]}, {\"name\": \"accuracy\", \"run_id\": \"AutoML_1ee1c244-76b6-4154-b485-a97a3308bed4\", \"categories\": [0], \"series\": [{\"data\": [0.9186274509803921]}]}, {\"name\": \"precision_score_macro\", \"run_id\": \"AutoML_1ee1c244-76b6-4154-b485-a97a3308bed4\", \"categories\": [0], \"series\": [{\"data\": [0.5101936774709884]}]}, {\"name\": \"f1_score_micro\", \"run_id\": \"AutoML_1ee1c244-76b6-4154-b485-a97a3308bed4\", \"categories\": [0], \"series\": [{\"data\": [0.9186274509803921]}]}, {\"name\": \"average_precision_score_macro\", \"run_id\": \"AutoML_1ee1c244-76b6-4154-b485-a97a3308bed4\", \"categories\": [0], \"series\": [{\"data\": [0.5976533384096923]}]}, {\"name\": \"log_loss\", \"run_id\": \"AutoML_1ee1c244-76b6-4154-b485-a97a3308bed4\", \"categories\": [0], \"series\": [{\"data\": [0.3606989945032684]}]}, {\"name\": \"recall_score_macro\", \"run_id\": \"AutoML_1ee1c244-76b6-4154-b485-a97a3308bed4\", \"categories\": [0], \"series\": [{\"data\": [0.5114795918367347]}]}, {\"name\": \"matthews_correlation\", \"run_id\": \"AutoML_1ee1c244-76b6-4154-b485-a97a3308bed4\", \"categories\": [0], \"series\": [{\"data\": [0.045588071308037624]}]}, {\"name\": \"norm_macro_recall\", \"run_id\": \"AutoML_1ee1c244-76b6-4154-b485-a97a3308bed4\", \"categories\": [0], \"series\": [{\"data\": [0.025]}]}, {\"name\": \"f1_score_macro\", \"run_id\": \"AutoML_1ee1c244-76b6-4154-b485-a97a3308bed4\", \"categories\": [0], \"series\": [{\"data\": [0.4986758122296659]}]}, {\"name\": \"precision_score_weighted\", \"run_id\": \"AutoML_1ee1c244-76b6-4154-b485-a97a3308bed4\", \"categories\": [0], \"series\": [{\"data\": [0.8541337137207824]}]}, {\"name\": \"f1_score_weighted\", \"run_id\": \"AutoML_1ee1c244-76b6-4154-b485-a97a3308bed4\", \"categories\": [0], \"series\": [{\"data\": [0.8829414862139646]}]}, {\"name\": \"weighted_accuracy\", \"run_id\": \"AutoML_1ee1c244-76b6-4154-b485-a97a3308bed4\", \"categories\": [0], \"series\": [{\"data\": [0.9892643370334963]}]}, {\"name\": \"balanced_accuracy\", \"run_id\": \"AutoML_1ee1c244-76b6-4154-b485-a97a3308bed4\", \"categories\": [0], \"series\": [{\"data\": [0.5114795918367347]}]}, {\"name\": \"precision_score_micro\", \"run_id\": \"AutoML_1ee1c244-76b6-4154-b485-a97a3308bed4\", \"categories\": [0], \"series\": [{\"data\": [0.9186274509803921]}]}, {\"name\": \"AUC_weighted\", \"run_id\": \"AutoML_1ee1c244-76b6-4154-b485-a97a3308bed4\", \"categories\": [0], \"series\": [{\"data\": [0.6632430817732942]}]}, {\"name\": \"average_precision_score_weighted\", \"run_id\": \"AutoML_1ee1c244-76b6-4154-b485-a97a3308bed4\", \"categories\": [0], \"series\": [{\"data\": [0.8964389392592699]}]}, {\"name\": \"AUC_micro\", \"run_id\": \"AutoML_1ee1c244-76b6-4154-b485-a97a3308bed4\", \"categories\": [0], \"series\": [{\"data\": [0.9467902037677817]}]}, {\"name\": \"recall_score_weighted\", \"run_id\": \"AutoML_1ee1c244-76b6-4154-b485-a97a3308bed4\", \"categories\": [0], \"series\": [{\"data\": [0.9186274509803921]}]}], \"run_logs\": \"\\nRun is completed.\", \"graph\": {}, \"widget_settings\": {\"childWidgetDisplay\": \"popup\", \"send_telemetry\": false, \"log_level\": \"INFO\", \"sdk_version\": \"1.19.0\"}, \"loading\": false}"
     },
     "metadata": {},
     "output_type": "display_data"
    }
   ],
   "source": [
    "from azureml.widgets import RunDetails\n",
    "RunDetails(run).show()"
   ]
  },
  {
   "cell_type": "markdown",
   "metadata": {
    "id": "j6Mgb1o_4OZR"
   },
   "source": [
    "**Analyze results**\n",
    "\n",
    "Retrieve the Best Model\n",
    "Below we select the best pipeline from our iterations. The get_output method on automl_classifier returns the best run and the fitted model for the last invocation. Overloads on get_output allow you to retrieve the best run and fitted model for any logged metric or for a particular iteration."
   ]
  },
  {
   "cell_type": "code",
   "execution_count": 26,
   "metadata": {
    "id": "ayaOLXjy4O7F"
   },
   "outputs": [
    {
     "name": "stdout",
     "output_type": "stream",
     "text": [
      "Run(Experiment: lv-automl-classification,\n",
      "Id: AutoML_1ee1c244-76b6-4154-b485-a97a3308bed4_22,\n",
      "Type: azureml.scriptrun,\n",
      "Status: Completed)\n",
      "Pipeline(memory=None,\n",
      "         steps=[('datatransformer',\n",
      "                 DataTransformer(enable_dnn=None, enable_feature_sweeping=None,\n",
      "                                 feature_sweeping_config=None,\n",
      "                                 feature_sweeping_timeout=None,\n",
      "                                 featurization_config=None, force_text_dnn=None,\n",
      "                                 is_cross_validation=None,\n",
      "                                 is_onnx_compatible=None, logger=None,\n",
      "                                 observer=None, task=None, working_dir=None)),\n",
      "                ('StandardScalerWrapper',\n",
      "                 <azureml...\n",
      "                                   grow_policy='lossguide', learning_rate=0.1,\n",
      "                                   max_bin=7, max_delta_step=0, max_depth=10,\n",
      "                                   max_leaves=0, min_child_weight=1,\n",
      "                                   missing=nan, n_estimators=10, n_jobs=1,\n",
      "                                   nthread=None, objective='reg:logistic',\n",
      "                                   random_state=0, reg_alpha=1.5625,\n",
      "                                   reg_lambda=1.5625, scale_pos_weight=1,\n",
      "                                   seed=None, silent=None, subsample=1,\n",
      "                                   tree_method='hist', verbose=-10,\n",
      "                                   verbosity=0))],\n",
      "         verbose=False)\n"
     ]
    }
   ],
   "source": [
    "best_run, fitted_model = run.get_output()\n",
    "print(best_run)\n",
    "print(fitted_model)"
   ]
  },
  {
   "cell_type": "markdown",
   "metadata": {
    "id": "7KE7lJDI6AQI"
   },
   "source": [
    "**Tests**\n",
    "\n",
    "Now that the model is trained, split the data in the same way the data was split for training (The difference here is the data is being split locally) and then run the test data through the trained model to get the predicted values."
   ]
  },
  {
   "cell_type": "code",
   "execution_count": 27,
   "metadata": {
    "id": "J7NePAUs6Ed4"
   },
   "outputs": [],
   "source": [
    "# convert the test data to dataframe\n",
    "X_test_df = test_data.drop_columns('Score').to_pandas_dataframe()\n",
    "y_test_df = test_data.keep_columns('Score', validate=True).to_pandas_dataframe()"
   ]
  },
  {
   "cell_type": "code",
   "execution_count": 28,
   "metadata": {
    "id": "GkzH8HHv6c0Q"
   },
   "outputs": [
    {
     "data": {
      "text/plain": [
       "array([1, 0, 1, 1, 0, 1, 1, 1, 1, 1, 0, 1, 1, 0, 1, 0, 1, 0, 0, 0, 1, 1,\n",
       "       1, 1, 1, 1, 1, 1, 1, 1, 1, 1, 0, 1, 1, 1, 1, 1, 1, 1, 1, 1, 1, 1,\n",
       "       1, 1, 1, 1, 1, 1, 1, 1, 1, 1, 1, 0, 1, 1, 1, 0, 1, 1, 0, 1, 1, 1,\n",
       "       1, 1, 1, 0, 1, 1, 1, 1, 1, 1, 1, 1, 1, 1, 1, 1, 1, 1, 1, 1, 1, 1,\n",
       "       1, 1, 1, 1, 1, 1, 1, 1, 1, 1, 1, 1, 0, 1, 1, 1, 1, 1, 0, 1, 0, 1,\n",
       "       1, 1, 1, 1, 1, 1, 1, 1, 1, 1])"
      ]
     },
     "execution_count": 28,
     "metadata": {},
     "output_type": "execute_result"
    }
   ],
   "source": [
    "# call the predict functions on the model\n",
    "y_pred = fitted_model.predict(X_test_df)\n",
    "y_pred"
   ]
  },
  {
   "cell_type": "markdown",
   "metadata": {
    "id": "2LHtTWaK6f_P"
   },
   "source": [
    "**Calculate metrics for the prediction**\n",
    "\n",
    "Now visualize the data on a scatter plot to show what our truth (actual) values are compared to the predicted values from the trained model that was returned."
   ]
  },
  {
   "cell_type": "code",
   "execution_count": 29,
   "metadata": {
    "id": "YEVPEt2R6jtY"
   },
   "outputs": [
    {
     "data": {
      "image/png": "[encoded data removed]",
      "text/plain": [
       "<Figure size 432x288 with 2 Axes>"
      ]
     },
     "metadata": {
      "needs_background": "light"
     },
     "output_type": "display_data"
    }
   ],
   "source": [
    "from sklearn.metrics import confusion_matrix\n",
    "import numpy as np\n",
    "import itertools\n",
    "\n",
    "cf =confusion_matrix(y_test_df.values,y_pred)\n",
    "plt.imshow(cf,cmap=plt.cm.Blues,interpolation='nearest')\n",
    "plt.colorbar()\n",
    "plt.title('Confusion Matrix')\n",
    "plt.xlabel('Predicted')\n",
    "plt.ylabel('Actual')\n",
    "class_labels = ['False','True']\n",
    "tick_marks = np.arange(len(class_labels))\n",
    "plt.xticks(tick_marks,class_labels)\n",
    "plt.yticks([-0.5,0,1,1.5],['','False','True',''])\n",
    "# plotting text value inside cells\n",
    "thresh = cf.max() / 2.\n",
    "for i,j in itertools.product(range(cf.shape[0]),range(cf.shape[1])):\n",
    "    plt.text(j,i,format(cf[i,j],'d'),horizontalalignment='center',color='white' if cf[i,j] >thresh else 'black')\n",
    "plt.show()"
   ]
  },
  {
   "cell_type": "markdown",
   "metadata": {
    "id": "DQZlrP9H7JGx"
   },
   "source": [
    "**Retrieve any other AutoML model from training**"
   ]
  },
  {
   "cell_type": "code",
   "execution_count": 35,
   "metadata": {
    "id": "OxR5IT5-7LUs"
   },
   "outputs": [],
   "source": [
    "best_run, fitted_model = run.get_output(metric='accuracy')"
   ]
  },
  {
   "cell_type": "markdown",
   "metadata": {
    "id": "JCkRyAGQ7eGx"
   },
   "source": [
    "**Setup the model explanations for AutoML models**\n",
    "\n",
    "The fitted_model can generate the following which will be used for getting the engineered explanations using automl_setup_model_explanations:-\n",
    "\n",
    "Featurized data from train samples/test samples\n",
    "Gather engineered name lists\n",
    "Find the classes in your labeled column in classification scenarios\n",
    "The automl_explainer_setup_obj contains all the structures from above list."
   ]
  },
  {
   "cell_type": "code",
   "execution_count": 36,
   "metadata": {
    "id": "rb8TPM4T7gw6"
   },
   "outputs": [],
   "source": [
    "X_train = train_data.drop_columns('Score')\n",
    "y_train = train_data.keep_columns('Score', validate=True)\n",
    "X_test = test_data.drop_columns('Score')"
   ]
  },
  {
   "cell_type": "code",
   "execution_count": 37,
   "metadata": {
    "id": "hm6kUwjq7kq4"
   },
   "outputs": [
    {
     "name": "stdout",
     "output_type": "stream",
     "text": [
      "Current status: Setting up data for AutoML explanations\n",
      "Current status: Setting up the AutoML featurizer\n",
      "Current status: Setting up the AutoML estimator\n",
      "Current status: Setting up the AutoML featurization for explanations\n",
      "Current status: Using 120 evaluation samples\n",
      "Current status: Generating a feature map for raw feature importance\n",
      "Current status: Finding all classes from the dataset\n",
      "Current status: Choosing the surrogate model as LightGBM for the AutoML model\n",
      "Current status: Data for AutoML explanations successfully setup\n"
     ]
    }
   ],
   "source": [
    "from azureml.train.automl.runtime.automl_explain_utilities import automl_setup_model_explanations\n",
    "\n",
    "automl_explainer_setup_obj = automl_setup_model_explanations(fitted_model, X=X_train, \n",
    "                                                             X_test=X_test, y=y_train, \n",
    "                                                             task='classification')"
   ]
  },
  {
   "cell_type": "markdown",
   "metadata": {
    "id": "GdO6qFFN8I7H"
   },
   "source": [
    "**Initialize the Mimic Explainer for feature importance**\n",
    "\n",
    "For explaining the AutoML models, use the MimicWrapper from azureml-interpret package. The MimicWrapper can be initialized with fields in automl_explainer_setup_obj, your workspace and a surrogate model to explain the AutoML model (fitted_model here). The MimicWrapper also takes the automl_run object where engineered explanations will be uploaded."
   ]
  },
  {
   "cell_type": "code",
   "execution_count": 39,
   "metadata": {
    "id": "QIh02E1O8NaH"
   },
   "outputs": [],
   "source": [
    "from interpret.ext.glassbox import LGBMExplainableModel\n",
    "from azureml.interpret.mimic_wrapper import MimicWrapper\n",
    "explainer = MimicWrapper(ws, automl_explainer_setup_obj.automl_estimator,\n",
    "                         explainable_model=automl_explainer_setup_obj.surrogate_model, \n",
    "                         init_dataset=automl_explainer_setup_obj.X_transform, run=best_run,\n",
    "                         features=automl_explainer_setup_obj.engineered_feature_names, \n",
    "                         feature_maps=[automl_explainer_setup_obj.feature_map],\n",
    "                         classes=automl_explainer_setup_obj.classes,\n",
    "                         explainer_kwargs=automl_explainer_setup_obj.surrogate_model_params)"
   ]
  },
  {
   "cell_type": "markdown",
   "metadata": {
    "id": "GgseHnEx8T6X"
   },
   "source": [
    "**Use Mimic Explainer for computing and visualizing engineered feature importance**\n",
    "\n",
    "The explain() method in MimicWrapper can be called with the transformed test samples to get the feature importance for the generated engineered features. You can also use azure portal url to view the dash board visualization of the feature importance values of the engineered features."
   ]
  },
  {
   "cell_type": "code",
   "execution_count": 40,
   "metadata": {
    "id": "6lFGepbf8ZP3"
   },
   "outputs": [
    {
     "name": "stdout",
     "output_type": "stream",
     "text": [
      "{'Nr_reviews_MeanImputer': 0.20817541766035283, 'Nr_rooms_MeanImputer': 0.17595352414917756, 'Column1_MeanImputer': 0.10743331243631143, 'Traveler_type_CharGramCountVectorizer_friends': 0.06271116747196405, 'Nr_hotel_reviews_MeanImputer': 0.0584854009246879, 'Member_years_MeanImputer': 0.04843469856616649, 'Helpful_votes_MeanImputer': 0.03621167554417862, 'Review_weekday_CharGramCountVectorizer_tuesday': 0.029221711556277695, 'Tennis_court_ModeCatImputer_LabelEncoder': 0.02128406226380229, 'Hotel_stars_CharGramCountVectorizer_4': 0.01735162648862878, 'Spa_ModeCatImputer_LabelEncoder': 0.01577191830367337, 'Review_weekday_CharGramCountVectorizer_wednesday': 0.013464910017819817, 'Review_month_CharGramCountVectorizer_may': 0.013452774747890433, 'Review_month_CharGramCountVectorizer_june': 0.011972442034721724, 'Hotel_stars_CharGramCountVectorizer_3': 0.011620013622642898, 'Period_of_stay_CharGramCountVectorizer_jun-aug': 0.011615544188235462, 'User_country_HashOneHotEncoder_9': 0.011149926055748605, 'Review_month_CharGramCountVectorizer_july': 0.009464980672665204, 'Period_of_stay_CharGramCountVectorizer_mar-may': 0.009332934769225752, 'User_country_HashOneHotEncoder_3': 0.008899711496459935, 'User_country_HashOneHotEncoder_6': 0.008843495075823184, 'Review_month_CharGramCountVectorizer_january': 0.008045756435649818, 'Review_weekday_CharGramCountVectorizer_friday': 0.007485547575375589, 'Review_month_CharGramCountVectorizer_september': 0.0072141950710439984, 'Review_month_CharGramCountVectorizer_february': 0.007128775590604513, 'Traveler_type_CharGramCountVectorizer_families': 0.006892688010756114, 'Review_weekday_CharGramCountVectorizer_thursday': 0.0065406106649654825, 'User_continent_CharGramCountVectorizer_north america': 0.006365073961512285, 'Traveler_type_CharGramCountVectorizer_business': 0.005883897306051956, 'Review_weekday_CharGramCountVectorizer_sunday': 0.005342226399762725, 'Period_of_stay_CharGramCountVectorizer_sep-nov': 0.00457036977846498, 'Traveler_type_CharGramCountVectorizer_couples': 0.00442870868028121, 'Hotel_name_CharGramCountVectorizer_hilton grand vacations on the boulevard': 0.0041915311748629645, 'Traveler_type_CharGramCountVectorizer_solo': 0.003333717379317001, 'Period_of_stay_CharGramCountVectorizer_dec-feb': 0.0031579995869449717, 'User_continent_CharGramCountVectorizer_europe': 0.0027358604474911024, 'Review_weekday_CharGramCountVectorizer_monday': 0.0026241185367684022, 'Review_month_CharGramCountVectorizer_december': 0.0017925740843909503, 'User_continent_CharGramCountVectorizer_asia': 0.001735365570026233, 'Review_month_CharGramCountVectorizer_august': 0.0012164406810060125, 'User_country_HashOneHotEncoder_4': 0.0009640058781235264, 'Review_month_CharGramCountVectorizer_march': 0.0008818217925134383, 'Review_weekday_CharGramCountVectorizer_saturday': 0.0006431407025291777, 'Hotel_stars_CharGramCountVectorizer_5': 0.0004924710521268239, 'Hotel_name_CharGramCountVectorizer_the cosmopolitan las vegas': 0.0, 'Hotel_name_CharGramCountVectorizer_tuscany las vegas suites & casino': 0.0, 'User_country_HashOneHotEncoder_29': 0.0, 'Hotel_name_CharGramCountVectorizer_trump international hotel las vegas': 0.0, 'Hotel_name_CharGramCountVectorizer_tropicana las vegas - a double tree by hilton hotel': 0.0, 'User_country_HashOneHotEncoder_28': 0.0, 'Hotel_name_CharGramCountVectorizer_treasure island- ti hotel & casino': 0.0, 'Hotel_name_CharGramCountVectorizer_the westin las vegas hotel casino & spa': 0.0, 'Hotel_name_CharGramCountVectorizer_the venetian las vegas hotel': 0.0, 'User_country_HashOneHotEncoder_27': 0.0, 'Hotel_name_CharGramCountVectorizer_the palazzo resort hotel casino': 0.0, 'Hotel_name_CharGramCountVectorizer_the cromwell': 0.0, 'Hotel_name_CharGramCountVectorizer_caesars palace': 0.0, 'Hotel_name_CharGramCountVectorizer_bellagio las vegas': 0.0, 'Hotel_name_CharGramCountVectorizer_paris las vegas': 0.0, 'Hotel_name_CharGramCountVectorizer_monte carlo resort&casino': 0.0, \"Hotel_name_CharGramCountVectorizer_marriott's grand chateau\": 0.0, 'User_country_HashOneHotEncoder_26': 0.0, 'User_country_HashOneHotEncoder_25': 0.0, 'Casino_ModeCatImputer_LabelEncoder': 0.0, 'Free_internet_ModeCatImputer_LabelEncoder': 0.0, 'Hotel_name_CharGramCountVectorizer_wynn las vegas': 0.0, 'Hotel_name_CharGramCountVectorizer_hilton grand vacations at the flamingo': 0.0, 'Hotel_name_CharGramCountVectorizer_excalibur hotel & casino': 0.0, 'Hotel_name_CharGramCountVectorizer_encore at wynn las vegas': 0.0, 'Hotel_name_CharGramCountVectorizer_circus circus hotel & casino las vegas': 0.0, 'Gym_ModeCatImputer_LabelEncoder': 0.0, 'Hotel_name_CharGramCountVectorizer_wyndham grand desert': 0.0, 'User_country_HashOneHotEncoder_8': 0.0, 'User_country_HashOneHotEncoder_24': 0.0, 'User_country_HashOneHotEncoder_15': 0.0, 'User_country_HashOneHotEncoder_10': 0.0, 'User_country_HashOneHotEncoder_5': 0.0, 'User_country_HashOneHotEncoder_11': 0.0, 'User_country_HashOneHotEncoder_2': 0.0, 'User_country_HashOneHotEncoder_1': 0.0, 'User_country_HashOneHotEncoder_0': 0.0, 'User_continent_CharGramCountVectorizer_south america': 0.0, 'User_continent_CharGramCountVectorizer_oceania': 0.0, 'User_continent_CharGramCountVectorizer_africa': 0.0, 'User_country_HashOneHotEncoder_12': 0.0, 'User_country_HashOneHotEncoder_13': 0.0, 'User_country_HashOneHotEncoder_14': 0.0, 'User_country_HashOneHotEncoder_16': 0.0, 'User_country_HashOneHotEncoder_23': 0.0, 'User_country_HashOneHotEncoder_30': 0.0, 'Review_month_CharGramCountVectorizer_october': 0.0, 'Review_month_CharGramCountVectorizer_november': 0.0, 'User_country_HashOneHotEncoder_17': 0.0, 'User_country_HashOneHotEncoder_18': 0.0, 'User_country_HashOneHotEncoder_19': 0.0, 'User_country_HashOneHotEncoder_20': 0.0, 'User_country_HashOneHotEncoder_7': 0.0, 'Review_month_CharGramCountVectorizer_april': 0.0, 'Pool_ModeCatImputer_LabelEncoder': 0.0, 'User_country_HashOneHotEncoder_21': 0.0, 'User_country_HashOneHotEncoder_22': 0.0, 'User_country_HashOneHotEncoder_31': 0.0}\n",
      "You can visualize the engineered explanations under the 'Explanations (preview)' tab in the AutoML run at:-\n",
      "https://ml.azure.com/experiments/lv-automl-classification/runs/AutoML_1ee1c244-76b6-4154-b485-a97a3308bed4_22?wsid=/subscriptions/f9d5a085-54dc-4215-9ba6-dad5d86e60a0/resourcegroups/aml-quickstarts-131644/workspaces/quick-starts-ws-131644\n"
     ]
    }
   ],
   "source": [
    "# Compute the engineered explanations\n",
    "engineered_explanations = explainer.explain(['local', 'global'], eval_dataset=automl_explainer_setup_obj.X_test_transform)\n",
    "print(engineered_explanations.get_feature_importance_dict())\n",
    "print(\"You can visualize the engineered explanations under the 'Explanations (preview)' tab in the AutoML run at:-\\n\" + best_run.get_portal_url())"
   ]
  },
  {
   "cell_type": "markdown",
   "metadata": {
    "id": "YOFkPVia8eg0"
   },
   "source": [
    "**Use Mimic Explainer for computing and visualizing raw feature importance**\n",
    "\n",
    "The explain() method in MimicWrapper can be called with the transformed test samples to get the feature importance for the original features in your data. You can also use azure portal url to view the dash board visualization of the feature importance values of the original/raw features."
   ]
  },
  {
   "cell_type": "code",
   "execution_count": 42,
   "metadata": {
    "id": "PVpMicFy8mHW"
   },
   "outputs": [
    {
     "name": "stdout",
     "output_type": "stream",
     "text": [
      "{'Nr_reviews': 0.20817541766035283, 'Nr_rooms': 0.17595352414917756, 'Column1': 0.10743331243631143, 'Traveler_type': 0.08325017884837033, 'Review_weekday': 0.06532226545349888, 'Review_month': 0.06116976111048609, 'Nr_hotel_reviews': 0.0584854009246879, 'Member_years': 0.04843469856616649, 'Helpful_votes': 0.03621167554417862, 'User_country': 0.029857138506155248, 'Hotel_stars': 0.029464111163398497, 'Period_of_stay': 0.028676848322871165, 'Tennis_court': 0.02128406226380229, 'Spa': 0.01577191830367337, 'User_continent': 0.010836299979029622, 'Hotel_name': 0.0041915311748629645, 'Pool': 0.0, 'Gym': 0.0, 'Free_internet': 0.0, 'Casino': 0.0}\n",
      "You can visualize the raw explanations under the 'Explanations (preview)' tab in the AutoML run at:-\n",
      "https://ml.azure.com/experiments/lv-automl-classification/runs/AutoML_1ee1c244-76b6-4154-b485-a97a3308bed4_22?wsid=/subscriptions/f9d5a085-54dc-4215-9ba6-dad5d86e60a0/resourcegroups/aml-quickstarts-131644/workspaces/quick-starts-ws-131644\n"
     ]
    }
   ],
   "source": [
    "# Compute the raw explanations\n",
    "raw_explanations = explainer.explain(['local', 'global'], get_raw=True,\n",
    "                                     raw_feature_names=automl_explainer_setup_obj.raw_feature_names,\n",
    "                                     eval_dataset=automl_explainer_setup_obj.X_test_transform,\n",
    "                                     raw_eval_dataset=automl_explainer_setup_obj.X_test_raw)\n",
    "print(raw_explanations.get_feature_importance_dict())\n",
    "print(\"You can visualize the raw explanations under the 'Explanations (preview)' tab in the AutoML run at:-\\n\" + best_run.get_portal_url())"
   ]
  },
  {
   "cell_type": "markdown",
   "metadata": {
    "id": "CoRVRw9P8n02"
   },
   "source": [
    "**Initialize the scoring Explainer, save and upload it for later use in scoring explanation**"
   ]
  },
  {
   "cell_type": "code",
   "execution_count": 69,
   "metadata": {
    "id": "C31ztX008s86"
   },
   "outputs": [
    {
     "name": "stdout",
     "output_type": "stream",
     "text": [
      "Model(workspace=Workspace.create(name='quick-starts-ws-131644', subscription_id='f9d5a085-54dc-4215-9ba6-dad5d86e60a0', resource_group='aml-quickstarts-131644'), name=lv-automl-classification, id=lv-automl-classification:6, version=6, tags={}, properties={})\n"
     ]
    }
   ],
   "source": [
    "from azureml.interpret.scoring.scoring_explainer import TreeScoringExplainer\n",
    "import joblib\n",
    "\n",
    "# Initialize the ScoringExplainer\n",
    "scoring_explainer = TreeScoringExplainer(explainer.explainer, feature_maps=[automl_explainer_setup_obj.feature_map])\n",
    "\n",
    "# Pickle scoring explainer locally to './scoring_explainer.pkl'\n",
    "scoring_explainer_file_name = 'scoring_explainer.pkl'\n",
    "with open(scoring_explainer_file_name, 'wb') as stream:\n",
    "    joblib.dump(scoring_explainer, stream)\n",
    "\n",
    "# Register trained automl model present in the 'outputs' folder in the artifacts\n",
    "#original_model = best_run.register_model(model_name='lv-automl-classification',model_path='outputs/model.pkl')\n",
    "    \n",
    "original_model = best_run.register_model(model_name='lv-automl-classification', \n",
    "                                           model_path='outputs/model.pkl')\n",
    "print(original_model)\n",
    "\n",
    "# Upload the scoring explainer to the automl run\n",
    "#best_run.upload_file('outputs/scoring_explainer.pkl', scoring_explainer_file_name)\n",
    "scoring_explainer_model = best_run.register_model(model_name='scoring_explainer', model_path='outputs/scoring_explainer.pkl')"
   ]
  },
  {
   "cell_type": "markdown",
   "metadata": {
    "id": "CVO-goYF-AAe"
   },
   "source": [
    "**Create the conda dependencies for setting up the service**"
   ]
  },
  {
   "cell_type": "code",
   "execution_count": 64,
   "metadata": {
    "id": "7aGkwlXC-Bgj"
   },
   "outputs": [
    {
     "name": "stdout",
     "output_type": "stream",
     "text": [
      "# Conda environment specification. The dependencies defined in this file will\n",
      "# be automatically provisioned for runs with userManagedDependencies=False.\n",
      "\n",
      "# Details about the Conda environment file format:\n",
      "# https://conda.io/docs/user-guide/tasks/manage-environments.html#create-env-file-manually\n",
      "\n",
      "name: project_environment\n",
      "dependencies:\n",
      "  # The python interpreter version.\n",
      "  # Currently Azure ML only supports 3.5.2 and later.\n",
      "- python=3.6.2\n",
      "\n",
      "- pip:\n",
      "  - azureml-interpret~=1.19.0\n",
      "  - azureml-train-automl~=1.19.0\n",
      "  - azureml-defaults~=1.19.0\n",
      "- scikit-learn\n",
      "- pandas\n",
      "- numpy\n",
      "- py-xgboost<=0.80\n",
      "channels:\n",
      "- anaconda\n",
      "- conda-forge\n",
      "\n"
     ]
    }
   ],
   "source": [
    "from azureml.core.conda_dependencies import CondaDependencies\n",
    "\n",
    "azureml_pip_packages = [\n",
    "    'azureml-interpret', 'azureml-train-automl', 'azureml-defaults'\n",
    "]\n",
    "\n",
    "myenv = CondaDependencies.create(conda_packages=['scikit-learn', 'pandas', 'numpy', 'py-xgboost<=0.80'],\n",
    "                                 pip_packages=azureml_pip_packages,\n",
    "                                 pin_sdk_version=True)\n",
    "\n",
    "with open(\"myenv.yml\",\"w\") as f:\n",
    "    f.write(myenv.serialize_to_string())\n",
    "\n",
    "with open(\"myenv.yml\",\"r\") as f:\n",
    "    print(f.read())"
   ]
  },
  {
   "cell_type": "code",
   "execution_count": 62,
   "metadata": {},
   "outputs": [
    {
     "data": {
      "text/plain": [
       "'/mnt/batch/tasks/shared/LS_root/mounts/clusters/compute-lv/code/Users/odl_user_131644'"
      ]
     },
     "execution_count": 62,
     "metadata": {},
     "output_type": "execute_result"
    }
   ],
   "source": [
    "import os\n",
    "path = os.getcwd()\n",
    "os.listdir(path)\n",
    "path\n",
    "\n"
   ]
  },
  {
   "cell_type": "markdown",
   "metadata": {
    "id": "qxklb5ZD-Dv3"
   },
   "source": [
    "**Deploy the service**"
   ]
  },
  {
   "cell_type": "code",
   "execution_count": 73,
   "metadata": {
    "id": "yqoIOtvLHvnQ",
    "scrolled": true
   },
   "outputs": [
    {
     "name": "stdout",
     "output_type": "stream",
     "text": [
      "Tips: You can try get_logs(): https://aka.ms/debugimage#dockerlog or local deployment: https://aka.ms/debugimage#debug-locally to debug if deployment takes longer than 10 minutes.\n",
      "Running.....................................................................................\n",
      "Failed\n"
     ]
    },
    {
     "name": "stderr",
     "output_type": "stream",
     "text": [
      "ERROR:azureml.core.webservice.webservice:Service deployment polling reached non-successful terminal state, current service state: Failed\n",
      "Operation ID: dbcf6724-a63f-4d1c-ab2c-08a7bbded7f4\n",
      "More information can be found using '.get_logs()'\n",
      "Error:\n",
      "{\n",
      "  \"code\": \"AciDeploymentFailed\",\n",
      "  \"message\": \"Aci Deployment failed with exception: Your container application crashed. This may be caused by errors in your scoring file's init() function.\\nPlease check the logs for your container instance: model-score. From the AML SDK, you can run print(service.get_logs()) if you have service object to fetch the logs. \\nYou can interactively debug your scoring file locally. Please refer to https://docs.microsoft.com/azure/machine-learning/how-to-debug-visual-studio-code#debug-and-troubleshoot-deployments for more information.\\nYou can also try to run image 8d2b521c330c42ebaeb825fe3c3b5ef2.azurecr.io/azureml/azureml_41868f9a2ccda6649509c1df4048b13e locally. Please refer to https://aka.ms/debugimage#service-launch-fails for more information.\",\n",
      "  \"details\": [\n",
      "    {\n",
      "      \"code\": \"CrashLoopBackOff\",\n",
      "      \"message\": \"Your container application crashed. This may be caused by errors in your scoring file's init() function.\\nPlease check the logs for your container instance: model-score. From the AML SDK, you can run print(service.get_logs()) if you have service object to fetch the logs. \\nYou can interactively debug your scoring file locally. Please refer to https://docs.microsoft.com/azure/machine-learning/how-to-debug-visual-studio-code#debug-and-troubleshoot-deployments for more information.\\nYou can also try to run image 8d2b521c330c42ebaeb825fe3c3b5ef2.azurecr.io/azureml/azureml_41868f9a2ccda6649509c1df4048b13e locally. Please refer to https://aka.ms/debugimage#service-launch-fails for more information.\"\n",
      "    },\n",
      "    {\n",
      "      \"code\": \"AciDeploymentFailed\",\n",
      "      \"message\": \"Your container application crashed. Please follow the steps to debug:\\n1. From the AML SDK, you can run print(service.get_logs()) if you have service object to fetch the logs. Please refer to https://aka.ms/debugimage#dockerlog for more information.\\n2. If your container application crashed. This may be caused by errors in your scoring file's init() function. You can try debugging locally first. Please refer to https://aka.ms/debugimage#debug-locally for more information.\\n3. You can also interactively debug your scoring file locally. Please refer to https://docs.microsoft.com/azure/machine-learning/how-to-debug-visual-studio-code#debug-and-troubleshoot-deployments for more information.\\n4. View the diagnostic events to check status of container, it may help you to debug the issue. {\\\"restartCount\\\":4,\\\"currentState\\\":{\\\"state\\\":\\\"Waiting\\\",\\\"startTime\\\":null,\\\"exitCode\\\":null,\\\"finishTime\\\":null,\\\"detailStatus\\\":\\\"CrashLoopBackOff: Back-off restarting failed\\\"},\\\"previousState\\\":{\\\"state\\\":\\\"Terminated\\\",\\\"startTime\\\":\\\"2020-12-24T20:26:04.699Z\\\",\\\"exitCode\\\":111,\\\"finishTime\\\":\\\"2020-12-24T20:26:12.682Z\\\",\\\"detailStatus\\\":\\\"Error\\\"},\\\"events\\\":null}\"\n",
      "    }\n",
      "  ]\n",
      "}\n",
      "\n"
     ]
    },
    {
     "ename": "WebserviceException",
     "evalue": "WebserviceException:\n\tMessage: Service deployment polling reached non-successful terminal state, current service state: Failed\nOperation ID: dbcf6724-a63f-4d1c-ab2c-08a7bbded7f4\nMore information can be found using '.get_logs()'\nError:\n{\n  \"code\": \"AciDeploymentFailed\",\n  \"message\": \"Aci Deployment failed with exception: Your container application crashed. This may be caused by errors in your scoring file's init() function.\\nPlease check the logs for your container instance: model-score. From the AML SDK, you can run print(service.get_logs()) if you have service object to fetch the logs. \\nYou can interactively debug your scoring file locally. Please refer to https://docs.microsoft.com/azure/machine-learning/how-to-debug-visual-studio-code#debug-and-troubleshoot-deployments for more information.\\nYou can also try to run image 8d2b521c330c42ebaeb825fe3c3b5ef2.azurecr.io/azureml/azureml_41868f9a2ccda6649509c1df4048b13e locally. Please refer to https://aka.ms/debugimage#service-launch-fails for more information.\",\n  \"details\": [\n    {\n      \"code\": \"CrashLoopBackOff\",\n      \"message\": \"Your container application crashed. This may be caused by errors in your scoring file's init() function.\\nPlease check the logs for your container instance: model-score. From the AML SDK, you can run print(service.get_logs()) if you have service object to fetch the logs. \\nYou can interactively debug your scoring file locally. Please refer to https://docs.microsoft.com/azure/machine-learning/how-to-debug-visual-studio-code#debug-and-troubleshoot-deployments for more information.\\nYou can also try to run image 8d2b521c330c42ebaeb825fe3c3b5ef2.azurecr.io/azureml/azureml_41868f9a2ccda6649509c1df4048b13e locally. Please refer to https://aka.ms/debugimage#service-launch-fails for more information.\"\n    },\n    {\n      \"code\": \"AciDeploymentFailed\",\n      \"message\": \"Your container application crashed. Please follow the steps to debug:\\n1. From the AML SDK, you can run print(service.get_logs()) if you have service object to fetch the logs. Please refer to https://aka.ms/debugimage#dockerlog for more information.\\n2. If your container application crashed. This may be caused by errors in your scoring file's init() function. You can try debugging locally first. Please refer to https://aka.ms/debugimage#debug-locally for more information.\\n3. You can also interactively debug your scoring file locally. Please refer to https://docs.microsoft.com/azure/machine-learning/how-to-debug-visual-studio-code#debug-and-troubleshoot-deployments for more information.\\n4. View the diagnostic events to check status of container, it may help you to debug the issue. {\\\"restartCount\\\":4,\\\"currentState\\\":{\\\"state\\\":\\\"Waiting\\\",\\\"startTime\\\":null,\\\"exitCode\\\":null,\\\"finishTime\\\":null,\\\"detailStatus\\\":\\\"CrashLoopBackOff: Back-off restarting failed\\\"},\\\"previousState\\\":{\\\"state\\\":\\\"Terminated\\\",\\\"startTime\\\":\\\"2020-12-24T20:26:04.699Z\\\",\\\"exitCode\\\":111,\\\"finishTime\\\":\\\"2020-12-24T20:26:12.682Z\\\",\\\"detailStatus\\\":\\\"Error\\\"},\\\"events\\\":null}\"\n    }\n  ]\n}\n\tInnerException None\n\tErrorResponse \n{\n    \"error\": {\n        \"message\": \"Service deployment polling reached non-successful terminal state, current service state: Failed\\nOperation ID: dbcf6724-a63f-4d1c-ab2c-08a7bbded7f4\\nMore information can be found using '.get_logs()'\\nError:\\n{\\n  \\\"code\\\": \\\"AciDeploymentFailed\\\",\\n  \\\"message\\\": \\\"Aci Deployment failed with exception: Your container application crashed. This may be caused by errors in your scoring file's init() function.\\\\nPlease check the logs for your container instance: model-score. From the AML SDK, you can run print(service.get_logs()) if you have service object to fetch the logs. \\\\nYou can interactively debug your scoring file locally. Please refer to https://docs.microsoft.com/azure/machine-learning/how-to-debug-visual-studio-code#debug-and-troubleshoot-deployments for more information.\\\\nYou can also try to run image 8d2b521c330c42ebaeb825fe3c3b5ef2.azurecr.io/azureml/azureml_41868f9a2ccda6649509c1df4048b13e locally. Please refer to https://aka.ms/debugimage#service-launch-fails for more information.\\\",\\n  \\\"details\\\": [\\n    {\\n      \\\"code\\\": \\\"CrashLoopBackOff\\\",\\n      \\\"message\\\": \\\"Your container application crashed. This may be caused by errors in your scoring file's init() function.\\\\nPlease check the logs for your container instance: model-score. From the AML SDK, you can run print(service.get_logs()) if you have service object to fetch the logs. \\\\nYou can interactively debug your scoring file locally. Please refer to https://docs.microsoft.com/azure/machine-learning/how-to-debug-visual-studio-code#debug-and-troubleshoot-deployments for more information.\\\\nYou can also try to run image 8d2b521c330c42ebaeb825fe3c3b5ef2.azurecr.io/azureml/azureml_41868f9a2ccda6649509c1df4048b13e locally. Please refer to https://aka.ms/debugimage#service-launch-fails for more information.\\\"\\n    },\\n    {\\n      \\\"code\\\": \\\"AciDeploymentFailed\\\",\\n      \\\"message\\\": \\\"Your container application crashed. Please follow the steps to debug:\\\\n1. From the AML SDK, you can run print(service.get_logs()) if you have service object to fetch the logs. Please refer to https://aka.ms/debugimage#dockerlog for more information.\\\\n2. If your container application crashed. This may be caused by errors in your scoring file's init() function. You can try debugging locally first. Please refer to https://aka.ms/debugimage#debug-locally for more information.\\\\n3. You can also interactively debug your scoring file locally. Please refer to https://docs.microsoft.com/azure/machine-learning/how-to-debug-visual-studio-code#debug-and-troubleshoot-deployments for more information.\\\\n4. View the diagnostic events to check status of container, it may help you to debug the issue. {\\\\\\\"restartCount\\\\\\\":4,\\\\\\\"currentState\\\\\\\":{\\\\\\\"state\\\\\\\":\\\\\\\"Waiting\\\\\\\",\\\\\\\"startTime\\\\\\\":null,\\\\\\\"exitCode\\\\\\\":null,\\\\\\\"finishTime\\\\\\\":null,\\\\\\\"detailStatus\\\\\\\":\\\\\\\"CrashLoopBackOff: Back-off restarting failed\\\\\\\"},\\\\\\\"previousState\\\\\\\":{\\\\\\\"state\\\\\\\":\\\\\\\"Terminated\\\\\\\",\\\\\\\"startTime\\\\\\\":\\\\\\\"2020-12-24T20:26:04.699Z\\\\\\\",\\\\\\\"exitCode\\\\\\\":111,\\\\\\\"finishTime\\\\\\\":\\\\\\\"2020-12-24T20:26:12.682Z\\\\\\\",\\\\\\\"detailStatus\\\\\\\":\\\\\\\"Error\\\\\\\"},\\\\\\\"events\\\\\\\":null}\\\"\\n    }\\n  ]\\n}\"\n    }\n}",
     "output_type": "error",
     "traceback": [
      "\u001b[0;31m---------------------------------------------------------------------------\u001b[0m",
      "\u001b[0;31mWebserviceException\u001b[0m                       Traceback (most recent call last)",
      "\u001b[0;32m<ipython-input-73-e2484a1b4bfe>\u001b[0m in \u001b[0;36m<module>\u001b[0;34m\u001b[0m\n\u001b[1;32m     21\u001b[0m                        \u001b[0minference_config\u001b[0m\u001b[0;34m,\u001b[0m\u001b[0;34m\u001b[0m\u001b[0;34m\u001b[0m\u001b[0m\n\u001b[1;32m     22\u001b[0m                        aciconfig)\n\u001b[0;32m---> 23\u001b[0;31m \u001b[0maci_service\u001b[0m\u001b[0;34m.\u001b[0m\u001b[0mwait_for_deployment\u001b[0m\u001b[0;34m(\u001b[0m\u001b[0mshow_output\u001b[0m\u001b[0;34m=\u001b[0m\u001b[0;32mTrue\u001b[0m\u001b[0;34m)\u001b[0m\u001b[0;34m\u001b[0m\u001b[0;34m\u001b[0m\u001b[0m\n\u001b[0m\u001b[1;32m     24\u001b[0m \u001b[0maci_service\u001b[0m\u001b[0;34m.\u001b[0m\u001b[0mregen_key\u001b[0m\u001b[0;34m(\u001b[0m\u001b[0;34m\"Primary\"\u001b[0m\u001b[0;34m)\u001b[0m\u001b[0;34m\u001b[0m\u001b[0;34m\u001b[0m\u001b[0m\n\u001b[1;32m     25\u001b[0m \u001b[0;31m# or\u001b[0m\u001b[0;34m\u001b[0m\u001b[0;34m\u001b[0m\u001b[0;34m\u001b[0m\u001b[0m\n",
      "\u001b[0;32m/anaconda/envs/azureml_py36/lib/python3.6/site-packages/azureml/core/webservice/webservice.py\u001b[0m in \u001b[0;36mwait_for_deployment\u001b[0;34m(self, show_output, timeout_sec)\u001b[0m\n\u001b[1;32m    913\u001b[0m                                           \u001b[0;34m'Error:\\n'\u001b[0m\u001b[0;34m\u001b[0m\u001b[0;34m\u001b[0m\u001b[0m\n\u001b[1;32m    914\u001b[0m                                           '{}'.format(self.state, self._operation_endpoint.split('/')[-1],\n\u001b[0;32m--> 915\u001b[0;31m                                                       logs_response, error_response), logger=module_logger)\n\u001b[0m\u001b[1;32m    916\u001b[0m             print('{} service creation operation finished, operation \"{}\"'.format(self._webservice_type,\n\u001b[1;32m    917\u001b[0m                                                                                   operation_state))\n",
      "\u001b[0;31mWebserviceException\u001b[0m: WebserviceException:\n\tMessage: Service deployment polling reached non-successful terminal state, current service state: Failed\nOperation ID: dbcf6724-a63f-4d1c-ab2c-08a7bbded7f4\nMore information can be found using '.get_logs()'\nError:\n{\n  \"code\": \"AciDeploymentFailed\",\n  \"message\": \"Aci Deployment failed with exception: Your container application crashed. This may be caused by errors in your scoring file's init() function.\\nPlease check the logs for your container instance: model-score. From the AML SDK, you can run print(service.get_logs()) if you have service object to fetch the logs. \\nYou can interactively debug your scoring file locally. Please refer to https://docs.microsoft.com/azure/machine-learning/how-to-debug-visual-studio-code#debug-and-troubleshoot-deployments for more information.\\nYou can also try to run image 8d2b521c330c42ebaeb825fe3c3b5ef2.azurecr.io/azureml/azureml_41868f9a2ccda6649509c1df4048b13e locally. Please refer to https://aka.ms/debugimage#service-launch-fails for more information.\",\n  \"details\": [\n    {\n      \"code\": \"CrashLoopBackOff\",\n      \"message\": \"Your container application crashed. This may be caused by errors in your scoring file's init() function.\\nPlease check the logs for your container instance: model-score. From the AML SDK, you can run print(service.get_logs()) if you have service object to fetch the logs. \\nYou can interactively debug your scoring file locally. Please refer to https://docs.microsoft.com/azure/machine-learning/how-to-debug-visual-studio-code#debug-and-troubleshoot-deployments for more information.\\nYou can also try to run image 8d2b521c330c42ebaeb825fe3c3b5ef2.azurecr.io/azureml/azureml_41868f9a2ccda6649509c1df4048b13e locally. Please refer to https://aka.ms/debugimage#service-launch-fails for more information.\"\n    },\n    {\n      \"code\": \"AciDeploymentFailed\",\n      \"message\": \"Your container application crashed. Please follow the steps to debug:\\n1. From the AML SDK, you can run print(service.get_logs()) if you have service object to fetch the logs. Please refer to https://aka.ms/debugimage#dockerlog for more information.\\n2. If your container application crashed. This may be caused by errors in your scoring file's init() function. You can try debugging locally first. Please refer to https://aka.ms/debugimage#debug-locally for more information.\\n3. You can also interactively debug your scoring file locally. Please refer to https://docs.microsoft.com/azure/machine-learning/how-to-debug-visual-studio-code#debug-and-troubleshoot-deployments for more information.\\n4. View the diagnostic events to check status of container, it may help you to debug the issue. {\\\"restartCount\\\":4,\\\"currentState\\\":{\\\"state\\\":\\\"Waiting\\\",\\\"startTime\\\":null,\\\"exitCode\\\":null,\\\"finishTime\\\":null,\\\"detailStatus\\\":\\\"CrashLoopBackOff: Back-off restarting failed\\\"},\\\"previousState\\\":{\\\"state\\\":\\\"Terminated\\\",\\\"startTime\\\":\\\"2020-12-24T20:26:04.699Z\\\",\\\"exitCode\\\":111,\\\"finishTime\\\":\\\"2020-12-24T20:26:12.682Z\\\",\\\"detailStatus\\\":\\\"Error\\\"},\\\"events\\\":null}\"\n    }\n  ]\n}\n\tInnerException None\n\tErrorResponse \n{\n    \"error\": {\n        \"message\": \"Service deployment polling reached non-successful terminal state, current service state: Failed\\nOperation ID: dbcf6724-a63f-4d1c-ab2c-08a7bbded7f4\\nMore information can be found using '.get_logs()'\\nError:\\n{\\n  \\\"code\\\": \\\"AciDeploymentFailed\\\",\\n  \\\"message\\\": \\\"Aci Deployment failed with exception: Your container application crashed. This may be caused by errors in your scoring file's init() function.\\\\nPlease check the logs for your container instance: model-score. From the AML SDK, you can run print(service.get_logs()) if you have service object to fetch the logs. \\\\nYou can interactively debug your scoring file locally. Please refer to https://docs.microsoft.com/azure/machine-learning/how-to-debug-visual-studio-code#debug-and-troubleshoot-deployments for more information.\\\\nYou can also try to run image 8d2b521c330c42ebaeb825fe3c3b5ef2.azurecr.io/azureml/azureml_41868f9a2ccda6649509c1df4048b13e locally. Please refer to https://aka.ms/debugimage#service-launch-fails for more information.\\\",\\n  \\\"details\\\": [\\n    {\\n      \\\"code\\\": \\\"CrashLoopBackOff\\\",\\n      \\\"message\\\": \\\"Your container application crashed. This may be caused by errors in your scoring file's init() function.\\\\nPlease check the logs for your container instance: model-score. From the AML SDK, you can run print(service.get_logs()) if you have service object to fetch the logs. \\\\nYou can interactively debug your scoring file locally. Please refer to https://docs.microsoft.com/azure/machine-learning/how-to-debug-visual-studio-code#debug-and-troubleshoot-deployments for more information.\\\\nYou can also try to run image 8d2b521c330c42ebaeb825fe3c3b5ef2.azurecr.io/azureml/azureml_41868f9a2ccda6649509c1df4048b13e locally. Please refer to https://aka.ms/debugimage#service-launch-fails for more information.\\\"\\n    },\\n    {\\n      \\\"code\\\": \\\"AciDeploymentFailed\\\",\\n      \\\"message\\\": \\\"Your container application crashed. Please follow the steps to debug:\\\\n1. From the AML SDK, you can run print(service.get_logs()) if you have service object to fetch the logs. Please refer to https://aka.ms/debugimage#dockerlog for more information.\\\\n2. If your container application crashed. This may be caused by errors in your scoring file's init() function. You can try debugging locally first. Please refer to https://aka.ms/debugimage#debug-locally for more information.\\\\n3. You can also interactively debug your scoring file locally. Please refer to https://docs.microsoft.com/azure/machine-learning/how-to-debug-visual-studio-code#debug-and-troubleshoot-deployments for more information.\\\\n4. View the diagnostic events to check status of container, it may help you to debug the issue. {\\\\\\\"restartCount\\\\\\\":4,\\\\\\\"currentState\\\\\\\":{\\\\\\\"state\\\\\\\":\\\\\\\"Waiting\\\\\\\",\\\\\\\"startTime\\\\\\\":null,\\\\\\\"exitCode\\\\\\\":null,\\\\\\\"finishTime\\\\\\\":null,\\\\\\\"detailStatus\\\\\\\":\\\\\\\"CrashLoopBackOff: Back-off restarting failed\\\\\\\"},\\\\\\\"previousState\\\\\\\":{\\\\\\\"state\\\\\\\":\\\\\\\"Terminated\\\\\\\",\\\\\\\"startTime\\\\\\\":\\\\\\\"2020-12-24T20:26:04.699Z\\\\\\\",\\\\\\\"exitCode\\\\\\\":111,\\\\\\\"finishTime\\\\\\\":\\\\\\\"2020-12-24T20:26:12.682Z\\\\\\\",\\\\\\\"detailStatus\\\\\\\":\\\\\\\"Error\\\\\\\"},\\\\\\\"events\\\\\\\":null}\\\"\\n    }\\n  ]\\n}\"\n    }\n}"
     ]
    }
   ],
   "source": [
    "from azureml.core.webservice import Webservice\n",
    "from azureml.core.webservice import AciWebservice\n",
    "from azureml.core.model import Model, InferenceConfig\n",
    "from azureml.core.environment import Environment\n",
    "\n",
    "aciconfig = AciWebservice.deploy_configuration(cpu_cores=1,\n",
    "                                               memory_gb=1,\n",
    "                                               auth_enabled=True,\n",
    "                                               enable_app_insights=True,\n",
    "                                               tags={\"data\": \"LV_cleaned_data\"}\n",
    "                                               )\n",
    "\n",
    "\n",
    "myenv = Environment.from_conda_specification(name=\"myenv\", file_path=\"myenv.yml\")\n",
    "inference_config = InferenceConfig(entry_script='score.py', environment=myenv)\n",
    "\n",
    "# Use configs and models generated above\n",
    "aci_service = Model.deploy(ws,\n",
    "                       'model-score',\n",
    "                       [scoring_explainer_model, original_model],\n",
    "                       inference_config,\n",
    "                       aciconfig)\n",
    "aci_service.wait_for_deployment(show_output=True)\n",
    "aci_service.regen_key(\"Primary\")\n",
    "# or\n",
    "aci_service.regen_key(\"Secondary\")\n",
    "print(aci_service.get_logs())"
   ]
  },
  {
   "cell_type": "markdown",
   "metadata": {
    "id": "ddbCXV7QIA2w"
   },
   "source": [
    "**View the service logs**"
   ]
  },
  {
   "cell_type": "code",
   "execution_count": 58,
   "metadata": {
    "id": "yxkOakJ2I6F3"
   },
   "outputs": [],
   "source": [
    "aci_service.get_logs()"
   ]
  },
  {
   "cell_type": "markdown",
   "metadata": {
    "id": "Vj2gflNVH6Oh"
   },
   "source": [
    "**Inference with test data**"
   ]
  },
  {
   "cell_type": "code",
   "execution_count": null,
   "metadata": {
    "id": "ucn5YGRUH982"
   },
   "outputs": [],
   "source": [
    "if service.state == 'Healthy':\n",
    "    # Serialize the first row of the test data into json\n",
    "    X_test_json = X_test[:1].to_json(orient='records')\n",
    "    print(X_test_json)\n",
    "    # Call the service to get the predictions and the engineered explanations\n",
    "    output = service.run(X_test_json)\n",
    "    # Print the predicted value\n",
    "    print(output['predictions'])\n",
    "    # Print the engineered feature importances for the predicted value\n",
    "    print(output['engineered_local_importance_values'])"
   ]
  },
  {
   "cell_type": "markdown",
   "metadata": {
    "id": "EEXEbXzbJLh_"
   },
   "source": [
    "**Delete the service.**"
   ]
  },
  {
   "cell_type": "code",
   "execution_count": null,
   "metadata": {
    "id": "R1uXmUpOJNET"
   },
   "outputs": [],
   "source": [
    "#service.delete()"
   ]
  },
  {
   "cell_type": "markdown",
   "metadata": {
    "id": "_J3kcdv84ae6"
   },
   "source": [
    "**Delete the cluster at the end of the run**"
   ]
  },
  {
   "cell_type": "code",
   "execution_count": null,
   "metadata": {
    "id": "vL71J_4z4ZN_"
   },
   "outputs": [],
   "source": [
    "#cpu_cluster.delete()"
   ]
  }
 ],
 "metadata": {
  "colab": {
   "collapsed_sections": [],
   "name": "automl.ipynb",
   "provenance": []
  },
  "kernel_info": {
   "name": "python3"
  },
  "kernelspec": {
   "display_name": "Python 3",
   "language": "python",
   "name": "python3"
  },
  "language_info": {
   "codemirror_mode": {
    "name": "ipython",
    "version": 3
   },
   "file_extension": ".py",
   "mimetype": "text/x-python",
   "name": "python",
   "nbconvert_exporter": "python",
   "pygments_lexer": "ipython3",
   "version": "3.6.9"
  },
  "nteract": {
   "version": "nteract-front-end@1.0.0"
  }
 },
 "nbformat": 4,
 "nbformat_minor": 1
}
