{
  "nbformat": 4,
  "nbformat_minor": 0,
  "metadata": {
    "colab": {
      "name": "automl.ipynb",
      "provenance": []
    },
    "kernelspec": {
      "name": "python3",
      "display_name": "Python 3"
    }
  },
  "cells": [
    {
      "cell_type": "markdown",
      "metadata": {
        "id": "pNwiQxsz1IQd"
      },
      "source": [
        "Automated ML\r\n",
        "TODO: Import Dependencies. In the cell below, import all the dependencies that you will need to complete the project."
      ]
    },
    {
      "cell_type": "code",
      "metadata": {
        "id": "DMcCv4bM04fR"
      },
      "source": [
        "import logging\r\n",
        "import os\r\n",
        "import csv\r\n",
        "\r\n",
        "from matplotlib import pyplot as plt\r\n",
        "import numpy as np\r\n",
        "import pandas as pd\r\n",
        "from sklearn import datasets\r\n",
        "import pkg_resources\r\n",
        "\r\n",
        "import azureml.core\r\n",
        "from azureml.core.experiment import Experiment\r\n",
        "from azureml.core.workspace import Workspace\r\n",
        "from azureml.train.automl import AutoMLConfig\r\n",
        "from azureml.core.dataset import Dataset\r\n",
        "\r\n",
        "from azureml.pipeline.steps import AutoMLStep\r\n",
        "\r\n",
        "# Check core SDK version number\r\n",
        "print(\"SDK version:\", azureml.core.VERSION)"
      ],
      "execution_count": null,
      "outputs": []
    },
    {
      "cell_type": "markdown",
      "metadata": {
        "id": "dRBV9sMs1ETX"
      },
      "source": [
        "Dataset\r\n",
        "Overview\r\n",
        "TODO: In this markdown cell, give an overview of the dataset you are using. Also mention the task you will be performing.\r\n",
        "\r\n",
        "TODO: Get data. In the cell below, write code to access the data you will be using in this project. Remember that the dataset needs to be external."
      ]
    },
    {
      "cell_type": "code",
      "metadata": {
        "id": "43zx6FqC1DMH"
      },
      "source": [
        "ws = Workspace.from_config()\r\n",
        "print(ws.name, ws.resource_group, ws.location, ws.subscription_id, sep = '\\n')\r\n",
        "\r\n",
        "# choose a name for experiment\r\n",
        "experiment_name = 'lv-automl'\r\n",
        "project_folder = './pipeline-project'\r\n",
        "\r\n",
        "experiment = Experiment(ws, experiment_name)\r\n",
        "experiment"
      ],
      "execution_count": null,
      "outputs": []
    },
    {
      "cell_type": "markdown",
      "metadata": {
        "id": "5rU4w8tQ1TsF"
      },
      "source": [
        "Create or Attach an AmlCompute cluster¶\r\n",
        "You will need to create a compute target for your AutoML run. In this tutorial, you get the default AmlCompute as your training compute resource.\r\n",
        "\r\n",
        "Udacity Note There is no need to create a new compute target, it can re-use the previous cluster"
      ]
    },
    {
      "cell_type": "code",
      "metadata": {
        "id": "YCRP-9Ae1Xvj"
      },
      "source": [
        "from azureml.core.compute import AmlCompute\r\n",
        "from azureml.core.compute import ComputeTarget\r\n",
        "from azureml.core.compute_target import ComputeTargetException\r\n",
        "\r\n",
        "# NOTE: update the cluster name to match the existing cluster\r\n",
        "# Choose a name for your CPU cluster\r\n",
        "amlcompute_cluster_name = \"automl-cluster\"\r\n",
        "\r\n",
        "# Verify that cluster does not exist already\r\n",
        "try:\r\n",
        "    compute_target = ComputeTarget(workspace=ws, name=amlcompute_cluster_name)\r\n",
        "    print('Found existing cluster, use it.')\r\n",
        "except ComputeTargetException:\r\n",
        "    compute_config = AmlCompute.provisioning_configuration(vm_size='STANDARD_D2_V2',# for GPU, use \"STANDARD_NC6\"\r\n",
        "                                                           #vm_priority = 'lowpriority', # optional\r\n",
        "                                                           max_nodes=4)\r\n",
        "    compute_target = ComputeTarget.create(ws, amlcompute_cluster_name, compute_config)\r\n",
        "\r\n",
        "compute_target.wait_for_completion(show_output=True, min_node_count = 1, timeout_in_minutes = 10)\r\n",
        "# For a more detailed view of current AmlCompute status, use get_status()."
      ],
      "execution_count": null,
      "outputs": []
    },
    {
      "cell_type": "markdown",
      "metadata": {
        "id": "ogGpnyip1kXe"
      },
      "source": [
        "Data\r\n",
        "Udacity note: Make sure the key is the same name as the dataset that is uploaded, and that the description matches. If it is hard to find or unknown, loop over the ws.datasets.keys() and print() them. If it isn't found because it was deleted, it can be recreated with the link that has the CSV"
      ]
    },
    {
      "cell_type": "code",
      "metadata": {
        "id": "s7vzLvTO1lXM"
      },
      "source": [
        "# Try to load the dataset from the Workspace. Otherwise, create it from the file\r\n",
        "# NOTE: update the key to match the dataset name\r\n",
        "found = False\r\n",
        "key = \"LVhotels Dataset\"\r\n",
        "description_text = \"LV hotel reviews from trip advisor\"\r\n",
        "\r\n",
        "if key in ws.datasets.keys(): \r\n",
        "        found = True\r\n",
        "        dataset = ws.datasets[key] \r\n",
        "\r\n",
        "if not found:\r\n",
        "        # Create AML Dataset and register it into Workspace\r\n",
        "        example_data = 'https://raw.githubusercontent.com/Kbhamidipa3/udacityazure_capstone_final/main/LasVegasTripAdvisorReviews-Dataset.csv'\r\n",
        "        dataset = Dataset.Tabular.from_delimited_files(example_data, validate=True, header='ALL_FILES_HAVE_SAME_HEADERS',separator=\";\", encoding='utf8')        \r\n",
        "        #Register Dataset in Workspace\r\n",
        "        dataset = dataset.register(workspace=ws,\r\n",
        "                                   name=key,\r\n",
        "                                   description=description_text)\r\n",
        "\r\n",
        "\r\n",
        "df = dataset.to_pandas_dataframe()\r\n",
        "df.to_csv(r'LV-csv.csv', sep=',', index=False)\r\n",
        "df.describe()\r\n",
        "df_top=df.head()\r\n",
        "df_top\r\n",
        "val = df['Score'].values[0]\r\n",
        "val\r\n",
        "df['Score'] = df['Score'].astype(int)\r\n",
        "print(df['Score'].dtypes)\r\n",
        "df['Score']=df['Score'].apply(lambda x: x+3)"
      ],
      "execution_count": null,
      "outputs": []
    },
    {
      "cell_type": "markdown",
      "metadata": {
        "id": "bNEdHKEu1o2m"
      },
      "source": [
        "Review the Dataset Result\r\n",
        "You can peek the result of a TabularDataset at any range using skip(i) and take(j).to_pandas_dataframe(). Doing so evaluates only j records for all the steps in the TabularDataset, which makes it fast even against large datasets.\r\n",
        "\r\n",
        "TabularDataset objects are composed of a list of transformation steps (optional)."
      ]
    },
    {
      "cell_type": "code",
      "metadata": {
        "id": "TL7AmF-p1-XL"
      },
      "source": [
        "dataset.take(5).to_pandas_dataframe()"
      ],
      "execution_count": null,
      "outputs": []
    },
    {
      "cell_type": "markdown",
      "metadata": {
        "id": "yaziKBGT2CCm"
      },
      "source": [
        "AutoML Configuration\r\n",
        "TODO: Explain why you chose the automl settings and cofiguration you used below."
      ]
    },
    {
      "cell_type": "code",
      "metadata": {
        "id": "D4oAWjuj2GeT"
      },
      "source": [
        "automl_settings = {\r\n",
        "    \"experiment_timeout_minutes\": 20,\r\n",
        "    \"max_concurrent_iterations\": 5,\r\n",
        "    \"primary_metric\" : 'accuracy'\r\n",
        "}\r\n",
        "automl_config = AutoMLConfig(compute_target=compute_target,\r\n",
        "                             task = \"classification\",\r\n",
        "                             training_data=dataset,\r\n",
        "                             label_column_name=\"y\",   \r\n",
        "                             path = project_folder,\r\n",
        "                             enable_early_stopping= True,\r\n",
        "                             featurization= 'auto',\r\n",
        "                             debug_log = \"automl_errors.log\",\r\n",
        "                             **automl_settings\r\n",
        "                            )"
      ],
      "execution_count": null,
      "outputs": []
    },
    {
      "cell_type": "markdown",
      "metadata": {
        "id": "mVYj7ec-2KDl"
      },
      "source": [
        "Create Pipeline and AutoMLStep\r\n",
        "You can define outputs for the AutoMLStep using TrainingOutput."
      ]
    },
    {
      "cell_type": "code",
      "metadata": {
        "id": "InnGsucX2NY8"
      },
      "source": [
        "from azureml.pipeline.core import PipelineData, TrainingOutput\r\n",
        "\r\n",
        "ds = ws.get_default_datastore()\r\n",
        "metrics_output_name = 'metrics_output'\r\n",
        "best_model_output_name = 'best_model_output'\r\n",
        "\r\n",
        "metrics_data = PipelineData(name='metrics_data',\r\n",
        "                           datastore=ds,\r\n",
        "                           pipeline_output_name=metrics_output_name,\r\n",
        "                           training_output=TrainingOutput(type='Metrics'))\r\n",
        "model_data = PipelineData(name='model_data',\r\n",
        "                           datastore=ds,\r\n",
        "                           pipeline_output_name=best_model_output_name,\r\n",
        "                           training_output=TrainingOutput(type='Model'))"
      ],
      "execution_count": null,
      "outputs": []
    },
    {
      "cell_type": "markdown",
      "metadata": {
        "id": "OuccHKiK2QgI"
      },
      "source": [
        "Create an AutoMLStep."
      ]
    },
    {
      "cell_type": "code",
      "metadata": {
        "id": "COdxOLIo2VGz"
      },
      "source": [
        "automl_step = AutoMLStep(\r\n",
        "    name='automl_module',\r\n",
        "    automl_config=automl_config,\r\n",
        "    outputs=[metrics_data, model_data],\r\n",
        "    allow_reuse=True)"
      ],
      "execution_count": null,
      "outputs": []
    },
    {
      "cell_type": "code",
      "metadata": {
        "id": "ro5Pie7J2ayh"
      },
      "source": [
        "from azureml.pipeline.core import Pipeline\r\n",
        "pipeline = Pipeline(\r\n",
        "    description=\"pipeline_with_automlstep\",\r\n",
        "    workspace=ws,    \r\n",
        "    steps=[automl_step])"
      ],
      "execution_count": null,
      "outputs": []
    },
    {
      "cell_type": "code",
      "metadata": {
        "id": "z0uXtLhR2bp_"
      },
      "source": [
        "# TODO: Submit your experiment\r\n",
        "pipeline_run = experiment.submit(pipeline)"
      ],
      "execution_count": null,
      "outputs": []
    },
    {
      "cell_type": "markdown",
      "metadata": {
        "id": "kFBd8zm_2eKL"
      },
      "source": [
        "Run Details\r\n",
        "OPTIONAL: Write about the different models trained and their performance. Why do you think some models did better than others?\r\n",
        "\r\n",
        "TODO: In the cell below, use the RunDetails widget to show the different experiments."
      ]
    },
    {
      "cell_type": "code",
      "metadata": {
        "id": "p69l4Aj92hdo"
      },
      "source": [
        "from azureml.widgets import RunDetails\r\n",
        "RunDetails(pipeline_run).show()"
      ],
      "execution_count": null,
      "outputs": []
    },
    {
      "cell_type": "code",
      "metadata": {
        "id": "zEHy_2KL2kvL"
      },
      "source": [
        "pipeline_run.wait_for_completion()"
      ],
      "execution_count": null,
      "outputs": []
    },
    {
      "cell_type": "markdown",
      "metadata": {
        "id": "KEKYGE-U2ntG"
      },
      "source": [
        "Examine Results\r\n",
        "Retrieve the metrics of all child runs\r\n",
        "Outputs of above run can be used as inputs of other steps in pipeline. In this tutorial, we will examine the outputs by retrieve output data and running some tests."
      ]
    },
    {
      "cell_type": "code",
      "metadata": {
        "id": "J4lmeOn52qSl"
      },
      "source": [
        "metrics_output = pipeline_run.get_pipeline_output(metrics_output_name)\r\n",
        "num_file_downloaded = metrics_output.download('.', show_progress=True)"
      ],
      "execution_count": null,
      "outputs": []
    },
    {
      "cell_type": "code",
      "metadata": {
        "id": "aQ2KaJiM2vI_"
      },
      "source": [
        "import json\r\n",
        "with open(metrics_output._path_on_datastore) as f:\r\n",
        "    metrics_output_result = f.read()\r\n",
        "    \r\n",
        "deserialized_metrics_output = json.loads(metrics_output_result)\r\n",
        "df = pd.DataFrame(deserialized_metrics_output)\r\n",
        "df"
      ],
      "execution_count": null,
      "outputs": []
    },
    {
      "cell_type": "markdown",
      "metadata": {
        "id": "7c-IiuNT2x10"
      },
      "source": [
        "Best Model¶\r\n",
        "TODO: In the cell below, get the best model from the automl experiments and display all the properties of the model."
      ]
    },
    {
      "cell_type": "code",
      "metadata": {
        "id": "V4Icx7Zr2yh2"
      },
      "source": [
        "# Retrieve best model from Pipeline Run\r\n",
        "best_model_output = pipeline_run.get_pipeline_output(best_model_output_name)\r\n",
        "num_file_downloaded = best_model_output.download('.', show_progress=True)"
      ],
      "execution_count": null,
      "outputs": []
    },
    {
      "cell_type": "code",
      "metadata": {
        "id": "K8wDSAZH3Toa"
      },
      "source": [
        "import pickle\r\n",
        "\r\n",
        "with open(best_model_output._path_on_datastore, \"rb\" ) as f:\r\n",
        "    best_model = pickle.load(f)\r\n",
        "best_model"
      ],
      "execution_count": null,
      "outputs": []
    },
    {
      "cell_type": "code",
      "metadata": {
        "id": "mC1iofJZ3YUJ"
      },
      "source": [
        "best_model.steps"
      ],
      "execution_count": null,
      "outputs": []
    },
    {
      "cell_type": "markdown",
      "metadata": {
        "id": "Zq4aURuO3jfq"
      },
      "source": [
        "Model Deployment\r\n",
        "Remember you have to deploy only one of the two models you trained.. Perform the steps in the rest of this notebook only if you wish to deploy this model.\r\n",
        "\r\n",
        "TODO: In the cell below, register the model, create an inference config and deploy the model as a web service."
      ]
    },
    {
      "cell_type": "code",
      "metadata": {
        "id": "wRhoeXB23kga"
      },
      "source": [
        "dataset_test = Dataset.Tabular.from_delimited_files(path='https://automlsamplenotebookdata.blob.core.windows.net/automl-sample-notebook-data/bankmarketing_train.csv')\r\n",
        "df_test = dataset_test.to_pandas_dataframe()\r\n",
        "df_test = df_test[pd.notnull(df_test['y'])]\r\n",
        "\r\n",
        "y_test = df_test['y']\r\n",
        "X_test = df_test.drop(['y'], axis=1)"
      ],
      "execution_count": null,
      "outputs": []
    },
    {
      "cell_type": "markdown",
      "metadata": {
        "id": "VaCvgW3l3ytj"
      },
      "source": [
        "Testing Our Best Fitted Model\r\n",
        "We will use confusion matrix to see how our model works."
      ]
    },
    {
      "cell_type": "code",
      "metadata": {
        "id": "KblX8URm3zLt"
      },
      "source": [
        "from sklearn.metrics import confusion_matrix\r\n",
        "ypred = best_model.predict(X_test)\r\n",
        "cm = confusion_matrix(y_test, ypred)"
      ],
      "execution_count": null,
      "outputs": []
    },
    {
      "cell_type": "code",
      "metadata": {
        "id": "AvWmYG9V363u"
      },
      "source": [
        "# Visualize the confusion matrix\r\n",
        "pd.DataFrame(cm).style.background_gradient(cmap='Blues', low=0, high=0.9)"
      ],
      "execution_count": null,
      "outputs": []
    },
    {
      "cell_type": "markdown",
      "metadata": {
        "id": "wT7bWQSn4BYm"
      },
      "source": [
        "Publish and run from REST endpoint\r\n",
        "Run the following code to publish the pipeline to your workspace. In your workspace in the portal, you can see metadata for the pipeline including run history and durations. You can also run the pipeline manually from the portal.\r\n",
        "\r\n",
        "Additionally, publishing the pipeline enables a REST endpoint to rerun the pipeline from any HTTP library on any platform."
      ]
    },
    {
      "cell_type": "code",
      "metadata": {
        "id": "6_bwbZ1R4CLD"
      },
      "source": [
        "published_pipeline = pipeline_run.publish_pipeline(\r\n",
        "    name=\"pipeline_with_automlstep\", description=\"This is pipeline created using automl step\", version=\"1.0\")\r\n",
        "\r\n",
        "published_pipeline\r\n"
      ],
      "execution_count": null,
      "outputs": []
    },
    {
      "cell_type": "markdown",
      "metadata": {
        "id": "DdN9lt2b4Lt7"
      },
      "source": [
        "Authenticate once again, to retrieve the auth_header so that the endpoint can be used"
      ]
    },
    {
      "cell_type": "code",
      "metadata": {
        "id": "Rano6eIm4MB4"
      },
      "source": [
        "from azureml.core.authentication import InteractiveLoginAuthentication\r\n",
        "\r\n",
        "interactive_auth = InteractiveLoginAuthentication()\r\n",
        "auth_header = interactive_auth.get_authentication_header()"
      ],
      "execution_count": null,
      "outputs": []
    },
    {
      "cell_type": "markdown",
      "metadata": {
        "id": "yrstDA7x4Y12"
      },
      "source": [
        "Get the REST url from the endpoint property of the published pipeline object. You can also find the REST url in your workspace in the portal. Build an HTTP POST request to the endpoint, specifying your authentication header. Additionally, add a JSON payload object with the experiment name and the batch size parameter. As a reminder, the process_count_per_node is passed through to ParallelRunStep because you defined it is defined as a PipelineParameter object in the step configuration.\r\n",
        "\r\n",
        "Make the request to trigger the run. Access the Id key from the response dict to get the value of the run id."
      ]
    },
    {
      "cell_type": "code",
      "metadata": {
        "id": "QfGocjwl4Zrt"
      },
      "source": [
        "import requests\r\n",
        "\r\n",
        "rest_endpoint = published_pipeline.endpoint\r\n",
        "response = requests.post(rest_endpoint, \r\n",
        "                         headers=auth_header, \r\n",
        "                         json={\"ExperimentName\": \"exp-automl\"}\r\n",
        "                        )"
      ],
      "execution_count": null,
      "outputs": []
    },
    {
      "cell_type": "code",
      "metadata": {
        "id": "hS-uSTAy4ght"
      },
      "source": [
        "try:\r\n",
        "    response.raise_for_status()\r\n",
        "except Exception:    \r\n",
        "    raise Exception(\"Received bad response from the endpoint: {}\\n\"\r\n",
        "                    \"Response Code: {}\\n\"\r\n",
        "                    \"Headers: {}\\n\"\r\n",
        "                    \"Content: {}\".format(rest_endpoint, response.status_code, response.headers, response.content))\r\n",
        "\r\n",
        "run_id = response.json().get('Id')\r\n",
        "print('Submitted pipeline run: ', run_id)"
      ],
      "execution_count": null,
      "outputs": []
    },
    {
      "cell_type": "markdown",
      "metadata": {
        "id": "z2y5u6_A4j0r"
      },
      "source": [
        "Use the run id to monitor the status of the new run. This will take another 10-15 min to run and will look similar to the previous pipeline run, so if you don't need to see another pipeline run, you can skip watching the full output."
      ]
    },
    {
      "cell_type": "code",
      "metadata": {
        "id": "m4FGv0pW4lPk"
      },
      "source": [
        "from azureml.pipeline.core.run import PipelineRun\r\n",
        "from azureml.widgets import RunDetails\r\n",
        "\r\n",
        "published_pipeline_run = PipelineRun(ws.experiments[\"exp-automl\"], run_id)\r\n",
        "RunDetails(published_pipeline_run).show()"
      ],
      "execution_count": null,
      "outputs": []
    }
  ]
}