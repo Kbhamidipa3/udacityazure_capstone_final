{
 "cells": [
  {
   "cell_type": "markdown",
   "metadata": {
    "id": "pNwiQxsz1IQd"
   },
   "source": [
    "**Automated ML**\n",
    "\n",
    "TODO: Import Dependencies. In the cell below, import all the dependencies that you will need to complete the project."
   ]
  },
  {
   "cell_type": "code",
   "execution_count": 5,
   "metadata": {
    "id": "DMcCv4bM04fR"
   },
   "outputs": [
    {
     "name": "stdout",
     "output_type": "stream",
     "text": [
      "SDK version: 1.19.0\n"
     ]
    }
   ],
   "source": [
    "import logging\n",
    "import os\n",
    "import csv\n",
    "\n",
    "from matplotlib import pyplot as plt\n",
    "import numpy as np\n",
    "import pandas as pd\n",
    "from sklearn import datasets\n",
    "import pkg_resources\n",
    "\n",
    "import azureml.core\n",
    "from azureml.core.experiment import Experiment\n",
    "from azureml.core.workspace import Workspace\n",
    "from azureml.train.automl import AutoMLConfig\n",
    "from azureml.core.dataset import Dataset\n",
    "from azureml.core import Workspace,ScriptRunConfig,Experiment, Run\n",
    "from azureml.pipeline.steps import AutoMLStep\n",
    "\n",
    "# Check core SDK version number\n",
    "print(\"SDK version:\", azureml.core.VERSION)"
   ]
  },
  {
   "cell_type": "markdown",
   "metadata": {
    "id": "dRBV9sMs1ETX"
   },
   "source": [
    "**Dataset**\n",
    "\n",
    "***Overview***\n",
    "\n",
    "TODO: In this markdown cell, give an overview of the dataset you are using. Also mention the task you will be performing.\n",
    "\n",
    "TODO: Get data. In the cell below, write code to access the data you will be using in this project. Remember that the dataset needs to be external."
   ]
  },
  {
   "cell_type": "code",
   "execution_count": 6,
   "metadata": {
    "id": "43zx6FqC1DMH"
   },
   "outputs": [
    {
     "name": "stdout",
     "output_type": "stream",
     "text": [
      "quick-starts-ws-131566\n",
      "aml-quickstarts-131566\n",
      "southcentralus\n",
      "61c5c3f0-6dc7-4ed9-a7f3-c704b20e3b30\n"
     ]
    }
   ],
   "source": [
    "ws = Workspace.from_config()\n",
    "print(ws.name, ws.resource_group, ws.location, ws.subscription_id, sep = '\\n')"
   ]
  },
  {
   "cell_type": "markdown",
   "metadata": {
    "id": "5rU4w8tQ1TsF"
   },
   "source": [
    "**Create or Attach an AmlCompute cluster¶**\n",
    "\n",
    "You will need to create a compute target for your AutoML run. In this tutorial, you get the default AmlCompute as your training compute resource.\n",
    "\n",
    "Udacity Note There is no need to create a new compute target, it can re-use the previous cluster"
   ]
  },
  {
   "cell_type": "code",
   "execution_count": 7,
   "metadata": {
    "id": "YCRP-9Ae1Xvj"
   },
   "outputs": [
    {
     "name": "stdout",
     "output_type": "stream",
     "text": [
      "Found existing cluster, use it.\n",
      "Succeeded.....................................................................................................................\n",
      "AmlCompute wait for completion finished\n",
      "\n",
      "Wait timeout has been reached\n",
      "Current provisioning state of AmlCompute is \"Succeeded\" and current node count is \"0\"\n"
     ]
    }
   ],
   "source": [
    "from azureml.core.compute import AmlCompute\n",
    "from azureml.core.compute import ComputeTarget\n",
    "from azureml.core.compute_target import ComputeTargetException\n",
    "\n",
    "# NOTE: update the cluster name to match the existing cluster\n",
    "# Choose a name for your CPU cluster\n",
    "amlcompute_cluster_name = \"automl-cluster\"\n",
    "\n",
    "# Verify that cluster does not exist already\n",
    "try:\n",
    "    compute_target = ComputeTarget(workspace=ws, name=amlcompute_cluster_name)\n",
    "    print('Found existing cluster, use it.')\n",
    "except ComputeTargetException:\n",
    "    compute_config = AmlCompute.provisioning_configuration(vm_size='STANDARD_D2_V2',# for GPU, use \"STANDARD_NC6\"\n",
    "                                                           #vm_priority = 'lowpriority', # optional\n",
    "                                                           max_nodes=4)\n",
    "    compute_target = ComputeTarget.create(ws, amlcompute_cluster_name, compute_config)\n",
    "\n",
    "compute_target.wait_for_completion(show_output=True, min_node_count = 1, timeout_in_minutes = 10)\n",
    "# For a more detailed view of current AmlCompute status, use get_status()."
   ]
  },
  {
   "cell_type": "markdown",
   "metadata": {
    "id": "ogGpnyip1kXe"
   },
   "source": [
    "**Data**\n",
    "\n",
    "**Udacity note:**\n",
    "\n",
    "Make sure the key is the same name as the dataset that is uploaded, and that the description matches. If it is hard to find or unknown, loop over the ws.datasets.keys() and print() them. If it isn't found because it was deleted, it can be recreated with the link that has the CSV"
   ]
  },
  {
   "cell_type": "code",
   "execution_count": 29,
   "metadata": {
    "id": "s7vzLvTO1lXM"
   },
   "outputs": [],
   "source": [
    "# Try to load the dataset from the Workspace. Otherwise, create it from the file\n",
    "# NOTE: update the key to match the dataset name\n",
    "found = False\n",
    "key = \"LV_cleaned_data\"\n",
    "description_text = \"LV hotel reviews from trip advisor\"\n",
    "\n",
    "if key in ws.datasets.keys(): \n",
    "        found = True\n",
    "        dataset = ws.datasets[key] \n",
    "\n",
    "if not found:\n",
    "        # Create AML Dataset and register it into Workspace\n",
    "        LV_cleaned_data = 'https://raw.githubusercontent.com/Kbhamidipa3/udacityazure_capstone_final/main/LV-github-automl.csv'\n",
    "        dataset = Dataset.Tabular.from_delimited_files(LV_cleaned_data)        \n",
    "        #Register Dataset in Workspace\n",
    "        dataset = dataset.register(workspace=ws,\n",
    "                                   name=key,\n",
    "                                   description=description_text)\n",
    "\n",
    "\n",
    "df = dataset.to_pandas_dataframe()\n",
    "config = ScriptRunConfig(source_directory='training', script='train.py', compute_target='cpu-cluster')"
   ]
  },
  {
   "cell_type": "markdown",
   "metadata": {
    "id": "bNEdHKEu1o2m"
   },
   "source": [
    "**Review the Dataset Result**\n",
    "\n",
    "You can peek the result of a TabularDataset at any range using skip(i) and take(j).to_pandas_dataframe(). Doing so evaluates only j records for all the steps in the TabularDataset, which makes it fast even against large datasets.\n",
    "\n",
    "TabularDataset objects are composed of a list of transformation steps (optional)."
   ]
  },
  {
   "cell_type": "code",
   "execution_count": 30,
   "metadata": {
    "id": "TL7AmF-p1-XL"
   },
   "outputs": [
    {
     "data": {
      "text/html": [
       "<div>\n",
       "<style scoped>\n",
       "    .dataframe tbody tr th:only-of-type {\n",
       "        vertical-align: middle;\n",
       "    }\n",
       "\n",
       "    .dataframe tbody tr th {\n",
       "        vertical-align: top;\n",
       "    }\n",
       "\n",
       "    .dataframe thead th {\n",
       "        text-align: right;\n",
       "    }\n",
       "</style>\n",
       "<table border=\"1\" class=\"dataframe\">\n",
       "  <thead>\n",
       "    <tr style=\"text-align: right;\">\n",
       "      <th></th>\n",
       "      <th>Column1</th>\n",
       "      <th>Casino</th>\n",
       "      <th>Free_internet</th>\n",
       "      <th>Gym</th>\n",
       "      <th>Helpful_votes</th>\n",
       "      <th>Hotel_name</th>\n",
       "      <th>Hotel_stars</th>\n",
       "      <th>Member_years</th>\n",
       "      <th>Nr_hotel_reviews</th>\n",
       "      <th>Nr_reviews</th>\n",
       "      <th>...</th>\n",
       "      <th>Period_of_stay</th>\n",
       "      <th>Pool</th>\n",
       "      <th>Review_month</th>\n",
       "      <th>Review_weekday</th>\n",
       "      <th>Score</th>\n",
       "      <th>Spa</th>\n",
       "      <th>Tennis_court</th>\n",
       "      <th>Traveler_type</th>\n",
       "      <th>User_continent</th>\n",
       "      <th>User_country</th>\n",
       "    </tr>\n",
       "  </thead>\n",
       "  <tbody>\n",
       "    <tr>\n",
       "      <th>0</th>\n",
       "      <td>0</td>\n",
       "      <td>True</td>\n",
       "      <td>True</td>\n",
       "      <td>True</td>\n",
       "      <td>13</td>\n",
       "      <td>Circus Circus Hotel &amp; Casino Las Vegas</td>\n",
       "      <td>3</td>\n",
       "      <td>9</td>\n",
       "      <td>4</td>\n",
       "      <td>11</td>\n",
       "      <td>...</td>\n",
       "      <td>Dec-Feb</td>\n",
       "      <td>False</td>\n",
       "      <td>January</td>\n",
       "      <td>Thursday</td>\n",
       "      <td>1</td>\n",
       "      <td>False</td>\n",
       "      <td>False</td>\n",
       "      <td>Friends</td>\n",
       "      <td>North America</td>\n",
       "      <td>USA</td>\n",
       "    </tr>\n",
       "    <tr>\n",
       "      <th>1</th>\n",
       "      <td>1</td>\n",
       "      <td>True</td>\n",
       "      <td>True</td>\n",
       "      <td>True</td>\n",
       "      <td>75</td>\n",
       "      <td>Circus Circus Hotel &amp; Casino Las Vegas</td>\n",
       "      <td>3</td>\n",
       "      <td>3</td>\n",
       "      <td>21</td>\n",
       "      <td>119</td>\n",
       "      <td>...</td>\n",
       "      <td>Dec-Feb</td>\n",
       "      <td>False</td>\n",
       "      <td>January</td>\n",
       "      <td>Friday</td>\n",
       "      <td>1</td>\n",
       "      <td>False</td>\n",
       "      <td>False</td>\n",
       "      <td>Business</td>\n",
       "      <td>North America</td>\n",
       "      <td>USA</td>\n",
       "    </tr>\n",
       "    <tr>\n",
       "      <th>2</th>\n",
       "      <td>2</td>\n",
       "      <td>True</td>\n",
       "      <td>True</td>\n",
       "      <td>True</td>\n",
       "      <td>25</td>\n",
       "      <td>Circus Circus Hotel &amp; Casino Las Vegas</td>\n",
       "      <td>3</td>\n",
       "      <td>2</td>\n",
       "      <td>9</td>\n",
       "      <td>36</td>\n",
       "      <td>...</td>\n",
       "      <td>Mar-May</td>\n",
       "      <td>False</td>\n",
       "      <td>February</td>\n",
       "      <td>Saturday</td>\n",
       "      <td>1</td>\n",
       "      <td>False</td>\n",
       "      <td>False</td>\n",
       "      <td>Families</td>\n",
       "      <td>North America</td>\n",
       "      <td>USA</td>\n",
       "    </tr>\n",
       "    <tr>\n",
       "      <th>3</th>\n",
       "      <td>3</td>\n",
       "      <td>True</td>\n",
       "      <td>True</td>\n",
       "      <td>True</td>\n",
       "      <td>14</td>\n",
       "      <td>Circus Circus Hotel &amp; Casino Las Vegas</td>\n",
       "      <td>3</td>\n",
       "      <td>6</td>\n",
       "      <td>7</td>\n",
       "      <td>14</td>\n",
       "      <td>...</td>\n",
       "      <td>Mar-May</td>\n",
       "      <td>False</td>\n",
       "      <td>February</td>\n",
       "      <td>Friday</td>\n",
       "      <td>1</td>\n",
       "      <td>False</td>\n",
       "      <td>False</td>\n",
       "      <td>Friends</td>\n",
       "      <td>Europe</td>\n",
       "      <td>UK</td>\n",
       "    </tr>\n",
       "    <tr>\n",
       "      <th>4</th>\n",
       "      <td>4</td>\n",
       "      <td>True</td>\n",
       "      <td>True</td>\n",
       "      <td>True</td>\n",
       "      <td>2</td>\n",
       "      <td>Circus Circus Hotel &amp; Casino Las Vegas</td>\n",
       "      <td>3</td>\n",
       "      <td>7</td>\n",
       "      <td>5</td>\n",
       "      <td>5</td>\n",
       "      <td>...</td>\n",
       "      <td>Mar-May</td>\n",
       "      <td>False</td>\n",
       "      <td>March</td>\n",
       "      <td>Tuesday</td>\n",
       "      <td>1</td>\n",
       "      <td>False</td>\n",
       "      <td>False</td>\n",
       "      <td>Solo</td>\n",
       "      <td>North America</td>\n",
       "      <td>Canada</td>\n",
       "    </tr>\n",
       "  </tbody>\n",
       "</table>\n",
       "<p>5 rows × 21 columns</p>\n",
       "</div>"
      ],
      "text/plain": [
       "   Column1  Casino  Free_internet   Gym  Helpful_votes  \\\n",
       "0        0    True           True  True             13   \n",
       "1        1    True           True  True             75   \n",
       "2        2    True           True  True             25   \n",
       "3        3    True           True  True             14   \n",
       "4        4    True           True  True              2   \n",
       "\n",
       "                               Hotel_name  Hotel_stars  Member_years  \\\n",
       "0  Circus Circus Hotel & Casino Las Vegas            3             9   \n",
       "1  Circus Circus Hotel & Casino Las Vegas            3             3   \n",
       "2  Circus Circus Hotel & Casino Las Vegas            3             2   \n",
       "3  Circus Circus Hotel & Casino Las Vegas            3             6   \n",
       "4  Circus Circus Hotel & Casino Las Vegas            3             7   \n",
       "\n",
       "   Nr_hotel_reviews  Nr_reviews  ...  Period_of_stay   Pool  Review_month  \\\n",
       "0                 4          11  ...         Dec-Feb  False       January   \n",
       "1                21         119  ...         Dec-Feb  False       January   \n",
       "2                 9          36  ...         Mar-May  False      February   \n",
       "3                 7          14  ...         Mar-May  False      February   \n",
       "4                 5           5  ...         Mar-May  False         March   \n",
       "\n",
       "  Review_weekday Score    Spa  Tennis_court  Traveler_type User_continent  \\\n",
       "0       Thursday     1  False         False        Friends  North America   \n",
       "1         Friday     1  False         False       Business  North America   \n",
       "2       Saturday     1  False         False       Families  North America   \n",
       "3         Friday     1  False         False        Friends         Europe   \n",
       "4        Tuesday     1  False         False           Solo  North America   \n",
       "\n",
       "  User_country  \n",
       "0          USA  \n",
       "1          USA  \n",
       "2          USA  \n",
       "3           UK  \n",
       "4       Canada  \n",
       "\n",
       "[5 rows x 21 columns]"
      ]
     },
     "execution_count": 30,
     "metadata": {},
     "output_type": "execute_result"
    }
   ],
   "source": [
    "dataset.take(5).to_pandas_dataframe()"
   ]
  },
  {
   "cell_type": "markdown",
   "metadata": {
    "id": "ejL6DaPQ3skj"
   },
   "source": [
    "**Split into train and test data**"
   ]
  },
  {
   "cell_type": "code",
   "execution_count": 34,
   "metadata": {
    "id": "eaAc9HlC3B1N"
   },
   "outputs": [
    {
     "name": "stdout",
     "output_type": "stream",
     "text": [
      "Uploading an estimated of 1 files\n",
      "Target already exists. Skipping upload for data_train/data_train.csv\n",
      "Uploaded 0 files\n"
     ]
    }
   ],
   "source": [
    "from train import clean_data\n",
    "from sklearn.model_selection import train_test_split\n",
    "import pandas as pd\n",
    "\n",
    " \n",
    "#x, y = clean_data(ds)\n",
    "train_data, test_data = dataset.random_split(percentage=0.75, seed=223)\n",
    "x_train = train_data.to_pandas_dataframe().pop('Score')\n",
    "y_train = train_data.to_pandas_dataframe().Score\n",
    "x_test = test_data.to_pandas_dataframe().pop('Score')\n",
    "y_test = test_data.to_pandas_dataframe().Score\n",
    "data_train = pd.concat([x_train,y_train], axis=1)\n",
    "\n",
    "os.makedirs('data_train', exist_ok=True)\n",
    "\n",
    "local_path = './data_train/data_train.csv'\n",
    "data_train.to_csv(local_path)\n",
    "\n",
    "# upload the local file to a datastore on the cloud\n",
    "workspace = Workspace(ws.subscription_id, ws.resource_group, ws.name)\n",
    "\n",
    "# get the datastore to upload prepared data\n",
    "datastore = ws.get_default_datastore()\n",
    "\n",
    "# upload the local file from src_dir to the target_path in datastore\n",
    "datastore.upload(src_dir='data_train', target_path='data_train')\n",
    "\n",
    "# create a dataset referencing the cloud location\n",
    "data_train = Dataset.Tabular.from_delimited_files(path = [(datastore, ('data_train/data_train.csv'))])"
   ]
  },
  {
   "cell_type": "markdown",
   "metadata": {
    "id": "yaziKBGT2CCm"
   },
   "source": [
    "**AutoML Configuration**\n",
    "\n",
    "TODO: Explain why you chose the automl settings and cofiguration you used below."
   ]
  },
  {
   "cell_type": "code",
   "execution_count": 35,
   "metadata": {
    "id": "D4oAWjuj2GeT"
   },
   "outputs": [],
   "source": [
    "automl_settings = {\n",
    "    \"experiment_timeout_minutes\": 20,\n",
    "    \"max_concurrent_iterations\": 5,\n",
    "    \"primary_metric\" : 'accuracy'\n",
    "}\n",
    "automl_config = AutoMLConfig(compute_target=compute_target,\n",
    "                             task = \"classification\",\n",
    "                             training_data=dataset,\n",
    "                             label_column_name=\"Score\",   \n",
    "                             enable_early_stopping= True,\n",
    "                             featurization= 'auto',\n",
    "                             debug_log = \"automl_errors.log\",\n",
    "                             **automl_settings\n",
    "                            )"
   ]
  },
  {
   "cell_type": "markdown",
   "metadata": {
    "id": "ZFf0TOXA4GeW"
   },
   "source": [
    "**Submit your automl run**"
   ]
  },
  {
   "cell_type": "code",
   "execution_count": 33,
   "metadata": {
    "id": "A0qZS5T44EQg"
   },
   "outputs": [
    {
     "name": "stdout",
     "output_type": "stream",
     "text": [
      "Running on remote.\n",
      "No run_configuration provided, running on automl-cluster with default configuration\n",
      "Running on remote compute: automl-cluster\n",
      "Parent Run ID: AutoML_4d713bd5-53de-413c-8017-184f88c4b73d\n",
      "\n",
      "Current status: FeaturesGeneration. Generating features for the dataset.\n",
      "Current status: DatasetBalancing. Generating individually featurized CV splits.\n",
      "Current status: DatasetCrossValidationSplit. Generating individually featurized CV splits.\n",
      "Current status: ModelSelection. Beginning model selection.\n",
      "\n",
      "****************************************************************************************************\n",
      "DATA GUARDRAILS: \n",
      "\n",
      "TYPE:         Cross validation\n",
      "STATUS:       DONE\n",
      "DESCRIPTION:  Each iteration of the trained model was validated through cross-validation.\n",
      "              \n",
      "DETAILS:      \n",
      "+---------------------------------+\n",
      "|Number of folds                  |\n",
      "+=================================+\n",
      "|10                               |\n",
      "+---------------------------------+\n",
      "\n",
      "****************************************************************************************************\n",
      "\n",
      "TYPE:         Class balancing detection\n",
      "STATUS:       ALERTED\n",
      "DESCRIPTION:  To decrease model bias, please cancel the current run and fix balancing problem.\n",
      "              Learn more about imbalanced data: https://aka.ms/AutomatedMLImbalancedData\n",
      "DETAILS:      Imbalanced data can lead to a falsely perceived positive effect of a model's accuracy because the input data has bias towards one class.\n",
      "+---------------------------------+---------------------------------+--------------------------------------+\n",
      "|Size of the smallest class       |Name/Label of the smallest class |Number of samples in the training data|\n",
      "+=================================+=================================+======================================+\n",
      "|41                               |0                                |504                                   |\n",
      "+---------------------------------+---------------------------------+--------------------------------------+\n",
      "\n",
      "****************************************************************************************************\n",
      "\n",
      "TYPE:         Missing feature values imputation\n",
      "STATUS:       PASSED\n",
      "DESCRIPTION:  No feature missing values were detected in the training data.\n",
      "              Learn more about missing value imputation: https://aka.ms/AutomatedMLFeaturization\n",
      "\n",
      "****************************************************************************************************\n",
      "\n",
      "TYPE:         High cardinality feature detection\n",
      "STATUS:       DONE\n",
      "DESCRIPTION:  High cardinality features were detected in your inputs and handled.\n",
      "              Learn more about high cardinality feature handling: https://aka.ms/AutomatedMLFeaturization\n",
      "DETAILS:      High cardinality features refer to columns that contain a large percentage of unique values.\n",
      "+---------------------------------+---------------------------------+\n",
      "|Column name                      |Column Content Type              |\n",
      "+=================================+=================================+\n",
      "|User_country                     |categorical_hash                 |\n",
      "+---------------------------------+---------------------------------+\n",
      "\n",
      "****************************************************************************************************\n",
      "\n",
      "****************************************************************************************************\n",
      "ITERATION: The iteration being evaluated.\n",
      "PIPELINE: A summary description of the pipeline being evaluated.\n",
      "DURATION: Time taken for the current iteration.\n",
      "METRIC: The result of computing score on the fitted pipeline.\n",
      "BEST: The best observed score thus far.\n",
      "****************************************************************************************************\n",
      "\n",
      " ITERATION   PIPELINE                                       DURATION      METRIC      BEST\n",
      "         3   MaxAbsScaler RandomForest                      0:00:47       0.9186    0.9186\n",
      "         4   MaxAbsScaler RandomForest                      0:03:32       0.8530    0.9186\n",
      "         0   MaxAbsScaler LightGBM                          0:00:47       0.9066    0.9186\n",
      "         2   MaxAbsScaler RandomForest                      0:00:41       0.9186    0.9186\n",
      "         5   MaxAbsScaler RandomForest                      0:00:46       0.8016    0.9186\n",
      "         7   SparseNormalizer XGBoostClassifier             0:00:50       0.9206    0.9206\n",
      "         8   SparseNormalizer XGBoostClassifier             0:00:45       0.9167    0.9206\n",
      "         9   StandardScalerWrapper LightGBM                 0:00:49       0.9186    0.9206\n",
      "        10   MaxAbsScaler RandomForest                      0:00:51       0.9186    0.9206\n",
      "         1   MaxAbsScaler XGBoostClassifier                 0:03:22       0.9127    0.9206\n",
      "        11   StandardScalerWrapper RandomForest             0:00:53       0.9186    0.9206\n",
      "         6   SparseNormalizer XGBoostClassifier             0:03:25       0.9126    0.9206\n",
      "        12   SparseNormalizer LightGBM                      0:00:56       0.9186    0.9206\n",
      "        13   MaxAbsScaler LogisticRegression                0:00:41       0.9027    0.9206\n",
      "        14   MaxAbsScaler LightGBM                          0:00:45       0.9186    0.9206\n",
      "        16   StandardScalerWrapper LogisticRegression       0:00:40       0.8709    0.9206\n",
      "        15   MaxAbsScaler LightGBM                          0:00:47       0.9186    0.9206\n",
      "        17   MaxAbsScaler LogisticRegression                0:00:41       0.8650    0.9206\n",
      "        18   MaxAbsScaler LightGBM                          0:00:40       0.9186    0.9206\n",
      "        19   StandardScalerWrapper LightGBM                 0:00:42       0.9186    0.9206\n",
      "        20   SparseNormalizer RandomForest                  0:00:49       0.9186    0.9206\n",
      "        21   SparseNormalizer XGBoostClassifier             0:00:42       0.9166    0.9206\n",
      "        22   StandardScalerWrapper RandomForest             0:00:40       0.9186    0.9206\n",
      "        23   MaxAbsScaler LightGBM                          0:00:43       0.9186    0.9206\n",
      "        24   SparseNormalizer LightGBM                      0:00:43       0.9186    0.9206\n",
      "        25   StandardScalerWrapper XGBoostClassifier        0:00:48       0.9186    0.9206\n",
      "        26   StandardScalerWrapper LightGBM                 0:00:45       0.9186    0.9206\n",
      "        27   SparseNormalizer LightGBM                      0:00:43       0.9186    0.9206\n",
      "        28   StandardScalerWrapper XGBoostClassifier        0:00:47       0.9186    0.9206\n",
      "        29   StandardScalerWrapper LightGBM                 0:00:49       0.9186    0.9206\n",
      "        30   SparseNormalizer XGBoostClassifier             0:00:39       0.9186    0.9206\n",
      "        31   SparseNormalizer LightGBM                      0:00:49       0.9166    0.9206\n",
      "        32   StandardScalerWrapper LightGBM                 0:00:44       0.9186    0.9206\n",
      "        34   SparseNormalizer XGBoostClassifier             0:00:41       0.9186    0.9206\n",
      "        35   SparseNormalizer XGBoostClassifier             0:00:43       0.9186    0.9206\n",
      "        36                                                  0:00:21          nan    0.9206\n",
      "        37                                                  0:00:25          nan    0.9206\n",
      "        33   StandardScalerWrapper ExtremeRandomTrees       0:01:12       0.9186    0.9206\n",
      "        39    StackEnsemble                                 0:01:53       0.9186    0.9206\n",
      "        38    VotingEnsemble                                0:02:10       0.9206    0.9206\n"
     ]
    }
   ],
   "source": [
    "experiment_name = 'lv-automl-classification'\n",
    "experiment = Experiment(ws, experiment_name)\n",
    "run = experiment.submit(automl_config, show_output=True)"
   ]
  },
  {
   "cell_type": "markdown",
   "metadata": {
    "id": "LVm7S0Cf5gaY"
   },
   "source": [
    "Results\n",
    "Widget for Monitoring Runs\n",
    "The widget will first report a \"loading\" status while running the first iteration. After completing the first iteration, an auto-updating graph and table will be shown. The widget will refresh once per minute, so you should see the graph update as child runs complete.\n",
    "\n",
    "Note: The widget displays a link at the bottom. Use this link to open a web interface to explore the individual run details"
   ]
  },
  {
   "cell_type": "code",
   "execution_count": 37,
   "metadata": {
    "id": "Ike1GL_15pdE"
   },
   "outputs": [
    {
     "data": {
      "application/vnd.jupyter.widget-view+json": {
       "model_id": "c6d25d1f9987405098149b86535a724d",
       "version_major": 2,
       "version_minor": 0
      },
      "text/plain": [
       "_AutoMLWidget(widget_settings={'childWidgetDisplay': 'popup', 'send_telemetry': False, 'log_level': 'INFO', 's…"
      ]
     },
     "metadata": {},
     "output_type": "display_data"
    },
    {
     "data": {
      "application/aml.mini.widget.v1": "{\"status\": \"Completed\", \"workbench_run_details_uri\": \"https://ml.azure.com/experiments/lv-automl-classification/runs/AutoML_4d713bd5-53de-413c-8017-184f88c4b73d?wsid=/subscriptions/61c5c3f0-6dc7-4ed9-a7f3-c704b20e3b30/resourcegroups/aml-quickstarts-131566/workspaces/quick-starts-ws-131566\", \"run_id\": \"AutoML_4d713bd5-53de-413c-8017-184f88c4b73d\", \"run_properties\": {\"run_id\": \"AutoML_4d713bd5-53de-413c-8017-184f88c4b73d\", \"created_utc\": \"2020-12-24T05:06:50.90061Z\", \"properties\": {\"num_iterations\": \"1000\", \"training_type\": \"TrainFull\", \"acquisition_function\": \"EI\", \"primary_metric\": \"accuracy\", \"train_split\": \"0\", \"acquisition_parameter\": \"0\", \"num_cross_validation\": null, \"target\": \"automl-cluster\", \"AMLSettingsJsonString\": \"{\\\"path\\\":null,\\\"name\\\":\\\"lv-automl-classification\\\",\\\"subscription_id\\\":\\\"61c5c3f0-6dc7-4ed9-a7f3-c704b20e3b30\\\",\\\"resource_group\\\":\\\"aml-quickstarts-131566\\\",\\\"workspace_name\\\":\\\"quick-starts-ws-131566\\\",\\\"region\\\":\\\"southcentralus\\\",\\\"compute_target\\\":\\\"automl-cluster\\\",\\\"spark_service\\\":null,\\\"azure_service\\\":\\\"remote\\\",\\\"many_models\\\":false,\\\"pipeline_fetch_max_batch_size\\\":1,\\\"iterations\\\":1000,\\\"primary_metric\\\":\\\"accuracy\\\",\\\"task_type\\\":\\\"classification\\\",\\\"data_script\\\":null,\\\"validation_size\\\":0.0,\\\"n_cross_validations\\\":null,\\\"y_min\\\":null,\\\"y_max\\\":null,\\\"num_classes\\\":null,\\\"featurization\\\":\\\"auto\\\",\\\"_ignore_package_version_incompatibilities\\\":false,\\\"is_timeseries\\\":false,\\\"max_cores_per_iteration\\\":1,\\\"max_concurrent_iterations\\\":5,\\\"iteration_timeout_minutes\\\":null,\\\"mem_in_mb\\\":null,\\\"enforce_time_on_windows\\\":false,\\\"experiment_timeout_minutes\\\":20,\\\"experiment_exit_score\\\":null,\\\"whitelist_models\\\":null,\\\"blacklist_algos\\\":[\\\"TensorFlowLinearClassifier\\\",\\\"TensorFlowDNN\\\"],\\\"supported_models\\\":[\\\"LinearSVM\\\",\\\"RandomForest\\\",\\\"KNN\\\",\\\"ExtremeRandomTrees\\\",\\\"BernoulliNaiveBayes\\\",\\\"DecisionTree\\\",\\\"XGBoostClassifier\\\",\\\"AveragedPerceptronClassifier\\\",\\\"GradientBoosting\\\",\\\"SVM\\\",\\\"MultinomialNaiveBayes\\\",\\\"TensorFlowDNN\\\",\\\"TensorFlowLinearClassifier\\\",\\\"LogisticRegression\\\",\\\"SGD\\\",\\\"LightGBM\\\"],\\\"auto_blacklist\\\":true,\\\"blacklist_samples_reached\\\":false,\\\"exclude_nan_labels\\\":true,\\\"verbosity\\\":20,\\\"_debug_log\\\":\\\"azureml_automl.log\\\",\\\"show_warnings\\\":false,\\\"model_explainability\\\":true,\\\"service_url\\\":null,\\\"sdk_url\\\":null,\\\"sdk_packages\\\":null,\\\"enable_onnx_compatible_models\\\":false,\\\"enable_split_onnx_featurizer_estimator_models\\\":false,\\\"vm_type\\\":\\\"STANDARD_D2_V2\\\",\\\"telemetry_verbosity\\\":20,\\\"send_telemetry\\\":true,\\\"enable_dnn\\\":false,\\\"scenario\\\":\\\"SDK-1.13.0\\\",\\\"environment_label\\\":null,\\\"force_text_dnn\\\":false,\\\"enable_feature_sweeping\\\":true,\\\"enable_early_stopping\\\":true,\\\"early_stopping_n_iters\\\":10,\\\"metrics\\\":null,\\\"enable_ensembling\\\":true,\\\"enable_stack_ensembling\\\":true,\\\"ensemble_iterations\\\":15,\\\"enable_tf\\\":false,\\\"enable_subsampling\\\":null,\\\"subsample_seed\\\":null,\\\"enable_nimbusml\\\":false,\\\"enable_streaming\\\":false,\\\"force_streaming\\\":false,\\\"track_child_runs\\\":true,\\\"allowed_private_models\\\":[],\\\"label_column_name\\\":\\\"Score\\\",\\\"weight_column_name\\\":null,\\\"cv_split_column_names\\\":null,\\\"enable_local_managed\\\":false,\\\"_local_managed_run_id\\\":null,\\\"cost_mode\\\":1,\\\"lag_length\\\":0,\\\"metric_operation\\\":\\\"maximize\\\",\\\"preprocess\\\":true}\", \"DataPrepJsonString\": \"{\\\\\\\"training_data\\\\\\\": \\\\\\\"{\\\\\\\\\\\\\\\"blocks\\\\\\\\\\\\\\\": [{\\\\\\\\\\\\\\\"id\\\\\\\\\\\\\\\": \\\\\\\\\\\\\\\"3268a1cd-4af5-45ed-b66d-7caacec1cc56\\\\\\\\\\\\\\\", \\\\\\\\\\\\\\\"type\\\\\\\\\\\\\\\": \\\\\\\\\\\\\\\"Microsoft.DPrep.GetFilesBlock\\\\\\\\\\\\\\\", \\\\\\\\\\\\\\\"arguments\\\\\\\\\\\\\\\": {\\\\\\\\\\\\\\\"isArchive\\\\\\\\\\\\\\\": false, \\\\\\\\\\\\\\\"path\\\\\\\\\\\\\\\": {\\\\\\\\\\\\\\\"target\\\\\\\\\\\\\\\": 4, \\\\\\\\\\\\\\\"resourceDetails\\\\\\\\\\\\\\\": [{\\\\\\\\\\\\\\\"path\\\\\\\\\\\\\\\": \\\\\\\\\\\\\\\"https://raw.githubusercontent.com/Kbhamidipa3/udacityazure_capstone_final/main/LV-github-automl.csv\\\\\\\\\\\\\\\"}]}}, \\\\\\\\\\\\\\\"localData\\\\\\\\\\\\\\\": {}, \\\\\\\\\\\\\\\"isEnabled\\\\\\\\\\\\\\\": true, \\\\\\\\\\\\\\\"name\\\\\\\\\\\\\\\": null, \\\\\\\\\\\\\\\"annotation\\\\\\\\\\\\\\\": null}, {\\\\\\\\\\\\\\\"id\\\\\\\\\\\\\\\": \\\\\\\\\\\\\\\"a74ca388-160d-43cf-bc0b-fc6302925791\\\\\\\\\\\\\\\", \\\\\\\\\\\\\\\"type\\\\\\\\\\\\\\\": \\\\\\\\\\\\\\\"Microsoft.DPrep.ParseDelimitedBlock\\\\\\\\\\\\\\\", \\\\\\\\\\\\\\\"arguments\\\\\\\\\\\\\\\": {\\\\\\\\\\\\\\\"columnHeadersMode\\\\\\\\\\\\\\\": 3, \\\\\\\\\\\\\\\"fileEncoding\\\\\\\\\\\\\\\": 0, \\\\\\\\\\\\\\\"handleQuotedLineBreaks\\\\\\\\\\\\\\\": false, \\\\\\\\\\\\\\\"preview\\\\\\\\\\\\\\\": false, \\\\\\\\\\\\\\\"separator\\\\\\\\\\\\\\\": \\\\\\\\\\\\\\\",\\\\\\\\\\\\\\\", \\\\\\\\\\\\\\\"skipRows\\\\\\\\\\\\\\\": 0, \\\\\\\\\\\\\\\"skipRowsMode\\\\\\\\\\\\\\\": 0}, \\\\\\\\\\\\\\\"localData\\\\\\\\\\\\\\\": {}, \\\\\\\\\\\\\\\"isEnabled\\\\\\\\\\\\\\\": true, \\\\\\\\\\\\\\\"name\\\\\\\\\\\\\\\": null, \\\\\\\\\\\\\\\"annotation\\\\\\\\\\\\\\\": null}, {\\\\\\\\\\\\\\\"id\\\\\\\\\\\\\\\": \\\\\\\\\\\\\\\"5428136f-c19c-4901-976f-7f2159a9e9b9\\\\\\\\\\\\\\\", \\\\\\\\\\\\\\\"type\\\\\\\\\\\\\\\": \\\\\\\\\\\\\\\"Microsoft.DPrep.DropColumnsBlock\\\\\\\\\\\\\\\", \\\\\\\\\\\\\\\"arguments\\\\\\\\\\\\\\\": {\\\\\\\\\\\\\\\"columns\\\\\\\\\\\\\\\": {\\\\\\\\\\\\\\\"type\\\\\\\\\\\\\\\": 0, \\\\\\\\\\\\\\\"details\\\\\\\\\\\\\\\": {\\\\\\\\\\\\\\\"selectedColumns\\\\\\\\\\\\\\\": [\\\\\\\\\\\\\\\"Path\\\\\\\\\\\\\\\"]}}}, \\\\\\\\\\\\\\\"localData\\\\\\\\\\\\\\\": {}, \\\\\\\\\\\\\\\"isEnabled\\\\\\\\\\\\\\\": true, \\\\\\\\\\\\\\\"name\\\\\\\\\\\\\\\": null, \\\\\\\\\\\\\\\"annotation\\\\\\\\\\\\\\\": null}, {\\\\\\\\\\\\\\\"id\\\\\\\\\\\\\\\": \\\\\\\\\\\\\\\"a64ea904-7daa-47bb-9a55-1f2a5c8d9f36\\\\\\\\\\\\\\\", \\\\\\\\\\\\\\\"type\\\\\\\\\\\\\\\": \\\\\\\\\\\\\\\"Microsoft.DPrep.SetColumnTypesBlock\\\\\\\\\\\\\\\", \\\\\\\\\\\\\\\"arguments\\\\\\\\\\\\\\\": {\\\\\\\\\\\\\\\"columnConversion\\\\\\\\\\\\\\\": [{\\\\\\\\\\\\\\\"column\\\\\\\\\\\\\\\": {\\\\\\\\\\\\\\\"type\\\\\\\\\\\\\\\": 2, \\\\\\\\\\\\\\\"details\\\\\\\\\\\\\\\": {\\\\\\\\\\\\\\\"selectedColumn\\\\\\\\\\\\\\\": \\\\\\\\\\\\\\\"Column1\\\\\\\\\\\\\\\"}}, \\\\\\\\\\\\\\\"typeProperty\\\\\\\\\\\\\\\": 2}, {\\\\\\\\\\\\\\\"column\\\\\\\\\\\\\\\": {\\\\\\\\\\\\\\\"type\\\\\\\\\\\\\\\": 2, \\\\\\\\\\\\\\\"details\\\\\\\\\\\\\\\": {\\\\\\\\\\\\\\\"selectedColumn\\\\\\\\\\\\\\\": \\\\\\\\\\\\\\\"Casino\\\\\\\\\\\\\\\"}}, \\\\\\\\\\\\\\\"typeProperty\\\\\\\\\\\\\\\": 1}, {\\\\\\\\\\\\\\\"column\\\\\\\\\\\\\\\": {\\\\\\\\\\\\\\\"type\\\\\\\\\\\\\\\": 2, \\\\\\\\\\\\\\\"details\\\\\\\\\\\\\\\": {\\\\\\\\\\\\\\\"selectedColumn\\\\\\\\\\\\\\\": \\\\\\\\\\\\\\\"Free_internet\\\\\\\\\\\\\\\"}}, \\\\\\\\\\\\\\\"typeProperty\\\\\\\\\\\\\\\": 1}, {\\\\\\\\\\\\\\\"column\\\\\\\\\\\\\\\": {\\\\\\\\\\\\\\\"type\\\\\\\\\\\\\\\": 2, \\\\\\\\\\\\\\\"details\\\\\\\\\\\\\\\": {\\\\\\\\\\\\\\\"selectedColumn\\\\\\\\\\\\\\\": \\\\\\\\\\\\\\\"Gym\\\\\\\\\\\\\\\"}}, \\\\\\\\\\\\\\\"typeProperty\\\\\\\\\\\\\\\": 1}, {\\\\\\\\\\\\\\\"column\\\\\\\\\\\\\\\": {\\\\\\\\\\\\\\\"type\\\\\\\\\\\\\\\": 2, \\\\\\\\\\\\\\\"details\\\\\\\\\\\\\\\": {\\\\\\\\\\\\\\\"selectedColumn\\\\\\\\\\\\\\\": \\\\\\\\\\\\\\\"Helpful_votes\\\\\\\\\\\\\\\"}}, \\\\\\\\\\\\\\\"typeProperty\\\\\\\\\\\\\\\": 2}, {\\\\\\\\\\\\\\\"column\\\\\\\\\\\\\\\": {\\\\\\\\\\\\\\\"type\\\\\\\\\\\\\\\": 2, \\\\\\\\\\\\\\\"details\\\\\\\\\\\\\\\": {\\\\\\\\\\\\\\\"selectedColumn\\\\\\\\\\\\\\\": \\\\\\\\\\\\\\\"Hotel_name\\\\\\\\\\\\\\\"}}, \\\\\\\\\\\\\\\"typeProperty\\\\\\\\\\\\\\\": 0}, {\\\\\\\\\\\\\\\"column\\\\\\\\\\\\\\\": {\\\\\\\\\\\\\\\"type\\\\\\\\\\\\\\\": 2, \\\\\\\\\\\\\\\"details\\\\\\\\\\\\\\\": {\\\\\\\\\\\\\\\"selectedColumn\\\\\\\\\\\\\\\": \\\\\\\\\\\\\\\"Hotel_stars\\\\\\\\\\\\\\\"}}, \\\\\\\\\\\\\\\"typeProperty\\\\\\\\\\\\\\\": 2}, {\\\\\\\\\\\\\\\"column\\\\\\\\\\\\\\\": {\\\\\\\\\\\\\\\"type\\\\\\\\\\\\\\\": 2, \\\\\\\\\\\\\\\"details\\\\\\\\\\\\\\\": {\\\\\\\\\\\\\\\"selectedColumn\\\\\\\\\\\\\\\": \\\\\\\\\\\\\\\"Member_years\\\\\\\\\\\\\\\"}}, \\\\\\\\\\\\\\\"typeProperty\\\\\\\\\\\\\\\": 2}, {\\\\\\\\\\\\\\\"column\\\\\\\\\\\\\\\": {\\\\\\\\\\\\\\\"type\\\\\\\\\\\\\\\": 2, \\\\\\\\\\\\\\\"details\\\\\\\\\\\\\\\": {\\\\\\\\\\\\\\\"selectedColumn\\\\\\\\\\\\\\\": \\\\\\\\\\\\\\\"Nr_hotel_reviews\\\\\\\\\\\\\\\"}}, \\\\\\\\\\\\\\\"typeProperty\\\\\\\\\\\\\\\": 2}, {\\\\\\\\\\\\\\\"column\\\\\\\\\\\\\\\": {\\\\\\\\\\\\\\\"type\\\\\\\\\\\\\\\": 2, \\\\\\\\\\\\\\\"details\\\\\\\\\\\\\\\": {\\\\\\\\\\\\\\\"selectedColumn\\\\\\\\\\\\\\\": \\\\\\\\\\\\\\\"Nr_reviews\\\\\\\\\\\\\\\"}}, \\\\\\\\\\\\\\\"typeProperty\\\\\\\\\\\\\\\": 2}, {\\\\\\\\\\\\\\\"column\\\\\\\\\\\\\\\": {\\\\\\\\\\\\\\\"type\\\\\\\\\\\\\\\": 2, \\\\\\\\\\\\\\\"details\\\\\\\\\\\\\\\": {\\\\\\\\\\\\\\\"selectedColumn\\\\\\\\\\\\\\\": \\\\\\\\\\\\\\\"Nr_rooms\\\\\\\\\\\\\\\"}}, \\\\\\\\\\\\\\\"typeProperty\\\\\\\\\\\\\\\": 2}, {\\\\\\\\\\\\\\\"column\\\\\\\\\\\\\\\": {\\\\\\\\\\\\\\\"type\\\\\\\\\\\\\\\": 2, \\\\\\\\\\\\\\\"details\\\\\\\\\\\\\\\": {\\\\\\\\\\\\\\\"selectedColumn\\\\\\\\\\\\\\\": \\\\\\\\\\\\\\\"Period_of_stay\\\\\\\\\\\\\\\"}}, \\\\\\\\\\\\\\\"typeProperty\\\\\\\\\\\\\\\": 0}, {\\\\\\\\\\\\\\\"column\\\\\\\\\\\\\\\": {\\\\\\\\\\\\\\\"type\\\\\\\\\\\\\\\": 2, \\\\\\\\\\\\\\\"details\\\\\\\\\\\\\\\": {\\\\\\\\\\\\\\\"selectedColumn\\\\\\\\\\\\\\\": \\\\\\\\\\\\\\\"Pool\\\\\\\\\\\\\\\"}}, \\\\\\\\\\\\\\\"typeProperty\\\\\\\\\\\\\\\": 1}, {\\\\\\\\\\\\\\\"column\\\\\\\\\\\\\\\": {\\\\\\\\\\\\\\\"type\\\\\\\\\\\\\\\": 2, \\\\\\\\\\\\\\\"details\\\\\\\\\\\\\\\": {\\\\\\\\\\\\\\\"selectedColumn\\\\\\\\\\\\\\\": \\\\\\\\\\\\\\\"Review_month\\\\\\\\\\\\\\\"}}, \\\\\\\\\\\\\\\"typeProperty\\\\\\\\\\\\\\\": 0}, {\\\\\\\\\\\\\\\"column\\\\\\\\\\\\\\\": {\\\\\\\\\\\\\\\"type\\\\\\\\\\\\\\\": 2, \\\\\\\\\\\\\\\"details\\\\\\\\\\\\\\\": {\\\\\\\\\\\\\\\"selectedColumn\\\\\\\\\\\\\\\": \\\\\\\\\\\\\\\"Review_weekday\\\\\\\\\\\\\\\"}}, \\\\\\\\\\\\\\\"typeProperty\\\\\\\\\\\\\\\": 0}, {\\\\\\\\\\\\\\\"column\\\\\\\\\\\\\\\": {\\\\\\\\\\\\\\\"type\\\\\\\\\\\\\\\": 2, \\\\\\\\\\\\\\\"details\\\\\\\\\\\\\\\": {\\\\\\\\\\\\\\\"selectedColumn\\\\\\\\\\\\\\\": \\\\\\\\\\\\\\\"Score\\\\\\\\\\\\\\\"}}, \\\\\\\\\\\\\\\"typeProperty\\\\\\\\\\\\\\\": 2}, {\\\\\\\\\\\\\\\"column\\\\\\\\\\\\\\\": {\\\\\\\\\\\\\\\"type\\\\\\\\\\\\\\\": 2, \\\\\\\\\\\\\\\"details\\\\\\\\\\\\\\\": {\\\\\\\\\\\\\\\"selectedColumn\\\\\\\\\\\\\\\": \\\\\\\\\\\\\\\"Spa\\\\\\\\\\\\\\\"}}, \\\\\\\\\\\\\\\"typeProperty\\\\\\\\\\\\\\\": 1}, {\\\\\\\\\\\\\\\"column\\\\\\\\\\\\\\\": {\\\\\\\\\\\\\\\"type\\\\\\\\\\\\\\\": 2, \\\\\\\\\\\\\\\"details\\\\\\\\\\\\\\\": {\\\\\\\\\\\\\\\"selectedColumn\\\\\\\\\\\\\\\": \\\\\\\\\\\\\\\"Tennis_court\\\\\\\\\\\\\\\"}}, \\\\\\\\\\\\\\\"typeProperty\\\\\\\\\\\\\\\": 1}, {\\\\\\\\\\\\\\\"column\\\\\\\\\\\\\\\": {\\\\\\\\\\\\\\\"type\\\\\\\\\\\\\\\": 2, \\\\\\\\\\\\\\\"details\\\\\\\\\\\\\\\": {\\\\\\\\\\\\\\\"selectedColumn\\\\\\\\\\\\\\\": \\\\\\\\\\\\\\\"Traveler_type\\\\\\\\\\\\\\\"}}, \\\\\\\\\\\\\\\"typeProperty\\\\\\\\\\\\\\\": 0}, {\\\\\\\\\\\\\\\"column\\\\\\\\\\\\\\\": {\\\\\\\\\\\\\\\"type\\\\\\\\\\\\\\\": 2, \\\\\\\\\\\\\\\"details\\\\\\\\\\\\\\\": {\\\\\\\\\\\\\\\"selectedColumn\\\\\\\\\\\\\\\": \\\\\\\\\\\\\\\"User_continent\\\\\\\\\\\\\\\"}}, \\\\\\\\\\\\\\\"typeProperty\\\\\\\\\\\\\\\": 0}, {\\\\\\\\\\\\\\\"column\\\\\\\\\\\\\\\": {\\\\\\\\\\\\\\\"type\\\\\\\\\\\\\\\": 2, \\\\\\\\\\\\\\\"details\\\\\\\\\\\\\\\": {\\\\\\\\\\\\\\\"selectedColumn\\\\\\\\\\\\\\\": \\\\\\\\\\\\\\\"User_country\\\\\\\\\\\\\\\"}}, \\\\\\\\\\\\\\\"typeProperty\\\\\\\\\\\\\\\": 0}]}, \\\\\\\\\\\\\\\"localData\\\\\\\\\\\\\\\": {}, \\\\\\\\\\\\\\\"isEnabled\\\\\\\\\\\\\\\": true, \\\\\\\\\\\\\\\"name\\\\\\\\\\\\\\\": null, \\\\\\\\\\\\\\\"annotation\\\\\\\\\\\\\\\": null}], \\\\\\\\\\\\\\\"inspectors\\\\\\\\\\\\\\\": [], \\\\\\\\\\\\\\\"meta\\\\\\\\\\\\\\\": {\\\\\\\\\\\\\\\"steps_added\\\\\\\\\\\\\\\": \\\\\\\\\\\\\\\"4\\\\\\\\\\\\\\\"}}\\\\\\\", \\\\\\\"activities\\\\\\\": 0}\", \"EnableSubsampling\": null, \"runTemplate\": \"AutoML\", \"azureml.runsource\": \"automl\", \"display_task_type\": \"classification\", \"dependencies_versions\": \"{\\\"azureml-widgets\\\": \\\"1.19.0\\\", \\\"azureml-train\\\": \\\"1.19.0\\\", \\\"azureml-train-restclients-hyperdrive\\\": \\\"1.19.0\\\", \\\"azureml-train-core\\\": \\\"1.19.0\\\", \\\"azureml-train-automl\\\": \\\"1.19.0\\\", \\\"azureml-train-automl-runtime\\\": \\\"1.19.0\\\", \\\"azureml-train-automl-client\\\": \\\"1.19.0\\\", \\\"azureml-tensorboard\\\": \\\"1.19.0\\\", \\\"azureml-telemetry\\\": \\\"1.19.0\\\", \\\"azureml-sdk\\\": \\\"1.19.0\\\", \\\"azureml-samples\\\": \\\"0+unknown\\\", \\\"azureml-pipeline\\\": \\\"1.19.0\\\", \\\"azureml-pipeline-steps\\\": \\\"1.19.0\\\", \\\"azureml-pipeline-core\\\": \\\"1.19.0\\\", \\\"azureml-opendatasets\\\": \\\"1.19.0\\\", \\\"azureml-model-management-sdk\\\": \\\"1.0.1b6.post1\\\", \\\"azureml-mlflow\\\": \\\"1.19.0\\\", \\\"azureml-interpret\\\": \\\"1.19.0\\\", \\\"azureml-explain-model\\\": \\\"1.19.0\\\", \\\"azureml-defaults\\\": \\\"1.19.0\\\", \\\"azureml-dataset-runtime\\\": \\\"1.19.0\\\", \\\"azureml-dataprep\\\": \\\"2.6.1\\\", \\\"azureml-dataprep-rslex\\\": \\\"1.4.0\\\", \\\"azureml-dataprep-native\\\": \\\"26.0.0\\\", \\\"azureml-datadrift\\\": \\\"1.19.0\\\", \\\"azureml-core\\\": \\\"1.19.0\\\", \\\"azureml-contrib-services\\\": \\\"1.19.0\\\", \\\"azureml-contrib-server\\\": \\\"1.19.0\\\", \\\"azureml-contrib-reinforcementlearning\\\": \\\"1.19.0\\\", \\\"azureml-contrib-pipeline-steps\\\": \\\"1.19.0\\\", \\\"azureml-contrib-notebook\\\": \\\"1.19.0\\\", \\\"azureml-contrib-interpret\\\": \\\"1.19.0\\\", \\\"azureml-contrib-gbdt\\\": \\\"1.19.0\\\", \\\"azureml-contrib-fairness\\\": \\\"1.19.0\\\", \\\"azureml-contrib-dataset\\\": \\\"1.19.0\\\", \\\"azureml-cli-common\\\": \\\"1.19.0\\\", \\\"azureml-automl-runtime\\\": \\\"1.19.0\\\", \\\"azureml-automl-core\\\": \\\"1.19.0\\\", \\\"azureml-accel-models\\\": \\\"1.19.0\\\"}\", \"_aml_system_scenario_identification\": \"Remote.Parent\", \"ClientType\": \"SDK\", \"environment_cpu_name\": \"AzureML-AutoML\", \"environment_cpu_label\": \"prod\", \"environment_gpu_name\": \"AzureML-AutoML-GPU\", \"environment_gpu_label\": \"prod\", \"root_attribution\": \"automl\", \"attribution\": \"AutoML\", \"Orchestrator\": \"AutoML\", \"CancelUri\": \"https://southcentralus.experiments.azureml.net/jasmine/v1.0/subscriptions/61c5c3f0-6dc7-4ed9-a7f3-c704b20e3b30/resourceGroups/aml-quickstarts-131566/providers/Microsoft.MachineLearningServices/workspaces/quick-starts-ws-131566/experimentids/54e83372-07d7-4c43-bc9b-6bb6cd8d2d79/cancel/AutoML_4d713bd5-53de-413c-8017-184f88c4b73d\", \"ClientSdkVersion\": \"1.19.0\", \"snapshotId\": \"00000000-0000-0000-0000-000000000000\", \"SetupRunId\": \"AutoML_4d713bd5-53de-413c-8017-184f88c4b73d_setup\", \"SetupRunContainerId\": \"dcid.AutoML_4d713bd5-53de-413c-8017-184f88c4b73d_setup\", \"FeaturizationRunJsonPath\": \"featurizer_container.json\", \"FeaturizationRunId\": \"AutoML_4d713bd5-53de-413c-8017-184f88c4b73d_featurize\", \"ProblemInfoJsonString\": \"{\\\"dataset_num_categorical\\\": 0, \\\"is_sparse\\\": true, \\\"subsampling\\\": false, \\\"dataset_classes\\\": 2, \\\"dataset_features\\\": 134, \\\"dataset_samples\\\": 504, \\\"single_frequency_class_detected\\\": false}\", \"ModelExplainRunId\": \"AutoML_4d713bd5-53de-413c-8017-184f88c4b73d_ModelExplain\"}, \"tags\": {\"model_explain_run\": \"best_run\", \"_aml_system_azureml.automlComponent\": \"AutoML\", \"pipeline_id\": \"\", \"score\": \"\", \"predicted_cost\": \"\", \"fit_time\": \"\", \"training_percent\": \"\", \"iteration\": \"\", \"run_preprocessor\": \"\", \"run_algorithm\": \"\", \"dynamic_whitelisting_iterations\": \"<25>;<30>;<35>;\", \"automl_best_child_run_id\": \"AutoML_4d713bd5-53de-413c-8017-184f88c4b73d_7\", \"model_explain_best_run_child_id\": \"AutoML_4d713bd5-53de-413c-8017-184f88c4b73d_7\"}, \"end_time_utc\": \"2020-12-24T05:33:50.374061Z\", \"status\": \"Completed\", \"log_files\": {}, \"log_groups\": [], \"run_duration\": \"0:26:59\"}, \"child_runs\": [{\"run_id\": \"AutoML_4d713bd5-53de-413c-8017-184f88c4b73d_0\", \"run_number\": 67, \"metric\": null, \"status\": \"Completed\", \"run_type\": \"azureml.scriptrun\", \"training_percent\": \"100\", \"start_time\": \"2020-12-24T05:22:04.5687Z\", \"end_time\": \"2020-12-24T05:22:51.529005Z\", \"created_time\": \"2020-12-24T05:17:23.678789Z\", \"created_time_dt\": \"2020-12-24T05:17:23.678789Z\", \"duration\": \"0:05:27\", \"iteration\": \"0\", \"goal\": \"accuracy_max\", \"run_name\": \"MaxAbsScaler, LightGBM\", \"run_properties\": \"copy=True\", \"primary_metric\": 0.90658824, \"best_metric\": 0.90658824}, {\"run_id\": \"AutoML_4d713bd5-53de-413c-8017-184f88c4b73d_1\", \"run_number\": 68, \"metric\": null, \"status\": \"Completed\", \"run_type\": \"azureml.scriptrun\", \"training_percent\": \"100\", \"start_time\": \"2020-12-24T05:22:24.53783Z\", \"end_time\": \"2020-12-24T05:25:46.928553Z\", \"created_time\": \"2020-12-24T05:17:23.809914Z\", \"created_time_dt\": \"2020-12-24T05:17:23.809914Z\", \"duration\": \"0:08:23\", \"iteration\": \"1\", \"goal\": \"accuracy_max\", \"run_name\": \"MaxAbsScaler, XGBoostClassifier\", \"run_properties\": \"copy=True\", \"primary_metric\": 0.91266667, \"best_metric\": 0.91266667}, {\"run_id\": \"AutoML_4d713bd5-53de-413c-8017-184f88c4b73d_4\", \"run_number\": 69, \"metric\": null, \"status\": \"Completed\", \"run_type\": \"azureml.scriptrun\", \"training_percent\": \"100\", \"start_time\": \"2020-12-24T05:18:28.717331Z\", \"end_time\": \"2020-12-24T05:22:00.389446Z\", \"created_time\": \"2020-12-24T05:17:23.824017Z\", \"created_time_dt\": \"2020-12-24T05:17:23.824017Z\", \"duration\": \"0:04:36\", \"iteration\": \"4\", \"goal\": \"accuracy_max\", \"run_name\": \"MaxAbsScaler, RandomForest\", \"run_properties\": \"copy=True\", \"primary_metric\": 0.85298039, \"best_metric\": 0.91858824}, {\"run_id\": \"AutoML_4d713bd5-53de-413c-8017-184f88c4b73d_2\", \"run_number\": 70, \"metric\": null, \"status\": \"Completed\", \"run_type\": \"azureml.scriptrun\", \"training_percent\": \"100\", \"start_time\": \"2020-12-24T05:22:09.029148Z\", \"end_time\": \"2020-12-24T05:22:49.599134Z\", \"created_time\": \"2020-12-24T05:17:23.851859Z\", \"created_time_dt\": \"2020-12-24T05:17:23.851859Z\", \"duration\": \"0:05:25\", \"iteration\": \"2\", \"goal\": \"accuracy_max\", \"run_name\": \"MaxAbsScaler, RandomForest\", \"run_properties\": \"copy=True\", \"primary_metric\": 0.91858824, \"best_metric\": 0.91858824}, {\"run_id\": \"AutoML_4d713bd5-53de-413c-8017-184f88c4b73d_3\", \"run_number\": 71, \"metric\": null, \"status\": \"Completed\", \"run_type\": \"azureml.scriptrun\", \"training_percent\": \"100\", \"start_time\": \"2020-12-24T05:21:13.48443Z\", \"end_time\": \"2020-12-24T05:22:00.481766Z\", \"created_time\": \"2020-12-24T05:17:23.971646Z\", \"created_time_dt\": \"2020-12-24T05:17:23.971646Z\", \"duration\": \"0:04:36\", \"iteration\": \"3\", \"goal\": \"accuracy_max\", \"run_name\": \"MaxAbsScaler, RandomForest\", \"run_properties\": \"copy=True\", \"primary_metric\": 0.91858824, \"best_metric\": 0.91858824}, {\"run_id\": \"AutoML_4d713bd5-53de-413c-8017-184f88c4b73d_5\", \"run_number\": 72, \"metric\": null, \"status\": \"Completed\", \"run_type\": \"azureml.scriptrun\", \"training_percent\": \"100\", \"start_time\": \"2020-12-24T05:22:51.659926Z\", \"end_time\": \"2020-12-24T05:23:37.842371Z\", \"created_time\": \"2020-12-24T05:22:02.72988Z\", \"created_time_dt\": \"2020-12-24T05:22:02.72988Z\", \"duration\": \"0:01:35\", \"iteration\": \"5\", \"goal\": \"accuracy_max\", \"run_name\": \"MaxAbsScaler, RandomForest\", \"run_properties\": \"copy=True\", \"primary_metric\": 0.80156863, \"best_metric\": 0.91858824}, {\"run_id\": \"AutoML_4d713bd5-53de-413c-8017-184f88c4b73d_6\", \"run_number\": 73, \"metric\": null, \"status\": \"Completed\", \"run_type\": \"azureml.scriptrun\", \"training_percent\": \"100\", \"start_time\": \"2020-12-24T05:22:21.765228Z\", \"end_time\": \"2020-12-24T05:25:46.553146Z\", \"created_time\": \"2020-12-24T05:22:02.752686Z\", \"created_time_dt\": \"2020-12-24T05:22:02.752686Z\", \"duration\": \"0:03:43\", \"iteration\": \"6\", \"goal\": \"accuracy_max\", \"run_name\": \"SparseNormalizer, XGBoostClassifier\", \"run_properties\": \"<azureml.automl.runtime.shared.model_wrappers.SparseNormalizer object at 0x7fa0ec060630\", \"primary_metric\": 0.91258824, \"best_metric\": 0.91858824}, {\"run_id\": \"AutoML_4d713bd5-53de-413c-8017-184f88c4b73d_7\", \"run_number\": 74, \"metric\": null, \"status\": \"Completed\", \"run_type\": \"azureml.scriptrun\", \"training_percent\": \"100\", \"start_time\": \"2020-12-24T05:23:03.244473Z\", \"end_time\": \"2020-12-24T05:23:53.599616Z\", \"created_time\": \"2020-12-24T05:22:51.776394Z\", \"created_time_dt\": \"2020-12-24T05:22:51.776394Z\", \"duration\": \"0:01:01\", \"iteration\": \"7\", \"goal\": \"accuracy_max\", \"run_name\": \"SparseNormalizer, XGBoostClassifier\", \"run_properties\": \"<azureml.automl.runtime.shared.model_wrappers.SparseNormalizer object at 0x7f6a5c5a1f28\", \"primary_metric\": 0.92058824, \"best_metric\": 0.92058824}, {\"run_id\": \"AutoML_4d713bd5-53de-413c-8017-184f88c4b73d_8\", \"run_number\": 75, \"metric\": null, \"status\": \"Completed\", \"run_type\": \"azureml.scriptrun\", \"training_percent\": \"100\", \"start_time\": \"2020-12-24T05:23:40.722606Z\", \"end_time\": \"2020-12-24T05:24:25.730908Z\", \"created_time\": \"2020-12-24T05:22:55.947429Z\", \"created_time_dt\": \"2020-12-24T05:22:55.947429Z\", \"duration\": \"0:01:29\", \"iteration\": \"8\", \"goal\": \"accuracy_max\", \"run_name\": \"SparseNormalizer, XGBoostClassifier\", \"run_properties\": \"<azureml.automl.runtime.shared.model_wrappers.SparseNormalizer object at 0x7f23c8ff6f60\", \"primary_metric\": 0.91666667, \"best_metric\": 0.92058824}, {\"run_id\": \"AutoML_4d713bd5-53de-413c-8017-184f88c4b73d_9\", \"run_number\": 76, \"metric\": null, \"status\": \"Completed\", \"run_type\": \"azureml.scriptrun\", \"training_percent\": \"100\", \"start_time\": \"2020-12-24T05:23:54.70636Z\", \"end_time\": \"2020-12-24T05:24:43.816456Z\", \"created_time\": \"2020-12-24T05:23:39.647547Z\", \"created_time_dt\": \"2020-12-24T05:23:39.647547Z\", \"duration\": \"0:01:04\", \"iteration\": \"9\", \"goal\": \"accuracy_max\", \"run_name\": \"StandardScalerWrapper, LightGBM\", \"run_properties\": \"<azureml.automl.runtime.shared.model_wrappers.StandardScalerWrapper object at 0x7f589afb0d68\", \"primary_metric\": 0.91858824, \"best_metric\": 0.92058824}, {\"run_id\": \"AutoML_4d713bd5-53de-413c-8017-184f88c4b73d_10\", \"run_number\": 77, \"metric\": null, \"status\": \"Completed\", \"run_type\": \"azureml.scriptrun\", \"training_percent\": \"100\", \"start_time\": \"2020-12-24T05:24:32.299572Z\", \"end_time\": \"2020-12-24T05:25:23.239134Z\", \"created_time\": \"2020-12-24T05:23:55.309835Z\", \"created_time_dt\": \"2020-12-24T05:23:55.309835Z\", \"duration\": \"0:01:27\", \"iteration\": \"10\", \"goal\": \"accuracy_max\", \"run_name\": \"MaxAbsScaler, RandomForest\", \"run_properties\": \"copy=True\", \"primary_metric\": 0.91858824, \"best_metric\": 0.92058824}, {\"run_id\": \"AutoML_4d713bd5-53de-413c-8017-184f88c4b73d_11\", \"run_number\": 78, \"metric\": null, \"status\": \"Completed\", \"run_type\": \"azureml.scriptrun\", \"training_percent\": \"100\", \"start_time\": \"2020-12-24T05:24:46.903027Z\", \"end_time\": \"2020-12-24T05:25:39.547526Z\", \"created_time\": \"2020-12-24T05:24:27.641363Z\", \"created_time_dt\": \"2020-12-24T05:24:27.641363Z\", \"duration\": \"0:01:11\", \"iteration\": \"11\", \"goal\": \"accuracy_max\", \"run_name\": \"StandardScalerWrapper, RandomForest\", \"run_properties\": \"<azureml.automl.runtime.shared.model_wrappers.StandardScalerWrapper object at 0x7f544013a470\", \"primary_metric\": 0.91858824, \"best_metric\": 0.92058824}, {\"run_id\": \"AutoML_4d713bd5-53de-413c-8017-184f88c4b73d_12\", \"run_number\": 79, \"metric\": null, \"status\": \"Completed\", \"run_type\": \"azureml.scriptrun\", \"training_percent\": \"100\", \"start_time\": \"2020-12-24T05:25:24.78241Z\", \"end_time\": \"2020-12-24T05:26:21.088946Z\", \"created_time\": \"2020-12-24T05:24:46.10981Z\", \"created_time_dt\": \"2020-12-24T05:24:46.10981Z\", \"duration\": \"0:01:34\", \"iteration\": \"12\", \"goal\": \"accuracy_max\", \"run_name\": \"SparseNormalizer, LightGBM\", \"run_properties\": \"<azureml.automl.runtime.shared.model_wrappers.SparseNormalizer object at 0x7f8619987390\", \"primary_metric\": 0.91858824, \"best_metric\": 0.92058824}, {\"run_id\": \"AutoML_4d713bd5-53de-413c-8017-184f88c4b73d_13\", \"run_number\": 80, \"metric\": null, \"status\": \"Completed\", \"run_type\": \"azureml.scriptrun\", \"training_percent\": \"100\", \"start_time\": \"2020-12-24T05:25:42.12656Z\", \"end_time\": \"2020-12-24T05:26:23.03686Z\", \"created_time\": \"2020-12-24T05:25:24.876832Z\", \"created_time_dt\": \"2020-12-24T05:25:24.876832Z\", \"duration\": \"0:00:58\", \"iteration\": \"13\", \"goal\": \"accuracy_max\", \"run_name\": \"MaxAbsScaler, LogisticRegression\", \"run_properties\": \"copy=True\", \"primary_metric\": 0.90266667, \"best_metric\": 0.92058824}, {\"run_id\": \"AutoML_4d713bd5-53de-413c-8017-184f88c4b73d_14\", \"run_number\": 81, \"metric\": null, \"status\": \"Completed\", \"run_type\": \"azureml.scriptrun\", \"training_percent\": \"100\", \"start_time\": \"2020-12-24T05:25:53.479642Z\", \"end_time\": \"2020-12-24T05:26:38.331467Z\", \"created_time\": \"2020-12-24T05:25:41.693624Z\", \"created_time_dt\": \"2020-12-24T05:25:41.693624Z\", \"duration\": \"0:00:56\", \"iteration\": \"14\", \"goal\": \"accuracy_max\", \"run_name\": \"MaxAbsScaler, LightGBM\", \"run_properties\": \"copy=True\", \"primary_metric\": 0.91858824, \"best_metric\": 0.92058824}, {\"run_id\": \"AutoML_4d713bd5-53de-413c-8017-184f88c4b73d_15\", \"run_number\": 82, \"metric\": null, \"status\": \"Completed\", \"run_type\": \"azureml.scriptrun\", \"training_percent\": \"100\", \"start_time\": \"2020-12-24T05:26:27.301756Z\", \"end_time\": \"2020-12-24T05:27:14.732893Z\", \"created_time\": \"2020-12-24T05:25:48.888839Z\", \"created_time_dt\": \"2020-12-24T05:25:48.888839Z\", \"duration\": \"0:01:25\", \"iteration\": \"15\", \"goal\": \"accuracy_max\", \"run_name\": \"MaxAbsScaler, LightGBM\", \"run_properties\": \"copy=True\", \"primary_metric\": 0.91858824, \"best_metric\": 0.92058824}, {\"run_id\": \"AutoML_4d713bd5-53de-413c-8017-184f88c4b73d_16\", \"run_number\": 83, \"metric\": null, \"status\": \"Completed\", \"run_type\": \"azureml.scriptrun\", \"training_percent\": \"100\", \"start_time\": \"2020-12-24T05:26:01.314289Z\", \"end_time\": \"2020-12-24T05:26:41.621368Z\", \"created_time\": \"2020-12-24T05:25:48.915061Z\", \"created_time_dt\": \"2020-12-24T05:25:48.915061Z\", \"duration\": \"0:00:52\", \"iteration\": \"16\", \"goal\": \"accuracy_max\", \"run_name\": \"StandardScalerWrapper, LogisticRegression\", \"run_properties\": \"<azureml.automl.runtime.shared.model_wrappers.StandardScalerWrapper object at 0x7f30605ef390\", \"primary_metric\": 0.87090196, \"best_metric\": 0.92058824}, {\"run_id\": \"AutoML_4d713bd5-53de-413c-8017-184f88c4b73d_17\", \"run_number\": 84, \"metric\": null, \"status\": \"Completed\", \"run_type\": \"azureml.scriptrun\", \"training_percent\": \"100\", \"start_time\": \"2020-12-24T05:26:34.277471Z\", \"end_time\": \"2020-12-24T05:27:14.893727Z\", \"created_time\": \"2020-12-24T05:26:22.778751Z\", \"created_time_dt\": \"2020-12-24T05:26:22.778751Z\", \"duration\": \"0:00:52\", \"iteration\": \"17\", \"goal\": \"accuracy_max\", \"run_name\": \"MaxAbsScaler, LogisticRegression\", \"run_properties\": \"copy=True\", \"primary_metric\": 0.86498039, \"best_metric\": 0.92058824}, {\"run_id\": \"AutoML_4d713bd5-53de-413c-8017-184f88c4b73d_18\", \"run_number\": 85, \"metric\": null, \"status\": \"Completed\", \"run_type\": \"azureml.scriptrun\", \"training_percent\": \"100\", \"start_time\": \"2020-12-24T05:26:39.677349Z\", \"end_time\": \"2020-12-24T05:27:19.299513Z\", \"created_time\": \"2020-12-24T05:26:26.360117Z\", \"created_time_dt\": \"2020-12-24T05:26:26.360117Z\", \"duration\": \"0:00:52\", \"iteration\": \"18\", \"goal\": \"accuracy_max\", \"run_name\": \"MaxAbsScaler, LightGBM\", \"run_properties\": \"copy=True\", \"primary_metric\": 0.91858824, \"best_metric\": 0.92058824}, {\"run_id\": \"AutoML_4d713bd5-53de-413c-8017-184f88c4b73d_19\", \"run_number\": 86, \"metric\": null, \"status\": \"Completed\", \"run_type\": \"azureml.scriptrun\", \"training_percent\": \"100\", \"start_time\": \"2020-12-24T05:26:50.38379Z\", \"end_time\": \"2020-12-24T05:27:32.149556Z\", \"created_time\": \"2020-12-24T05:26:40.108208Z\", \"created_time_dt\": \"2020-12-24T05:26:40.108208Z\", \"duration\": \"0:00:52\", \"iteration\": \"19\", \"goal\": \"accuracy_max\", \"run_name\": \"StandardScalerWrapper, LightGBM\", \"run_properties\": \"<azureml.automl.runtime.shared.model_wrappers.StandardScalerWrapper object at 0x7f17397c9d30\", \"primary_metric\": 0.91858824, \"best_metric\": 0.92058824}, {\"run_id\": \"AutoML_4d713bd5-53de-413c-8017-184f88c4b73d_20\", \"run_number\": 87, \"metric\": null, \"status\": \"Completed\", \"run_type\": \"azureml.scriptrun\", \"training_percent\": \"100\", \"start_time\": \"2020-12-24T05:27:17.613132Z\", \"end_time\": \"2020-12-24T05:28:06.123241Z\", \"created_time\": \"2020-12-24T05:26:43.650211Z\", \"created_time_dt\": \"2020-12-24T05:26:43.650211Z\", \"duration\": \"0:01:22\", \"iteration\": \"20\", \"goal\": \"accuracy_max\", \"run_name\": \"SparseNormalizer, RandomForest\", \"run_properties\": \"<azureml.automl.runtime.shared.model_wrappers.SparseNormalizer object at 0x7f35c4372128\", \"primary_metric\": 0.91858824, \"best_metric\": 0.92058824}, {\"run_id\": \"AutoML_4d713bd5-53de-413c-8017-184f88c4b73d_21\", \"run_number\": 88, \"metric\": null, \"status\": \"Completed\", \"run_type\": \"azureml.scriptrun\", \"training_percent\": \"100\", \"start_time\": \"2020-12-24T05:27:27.069789Z\", \"end_time\": \"2020-12-24T05:28:08.850703Z\", \"created_time\": \"2020-12-24T05:27:16.455306Z\", \"created_time_dt\": \"2020-12-24T05:27:16.455306Z\", \"duration\": \"0:00:52\", \"iteration\": \"21\", \"goal\": \"accuracy_max\", \"run_name\": \"SparseNormalizer, XGBoostClassifier\", \"run_properties\": \"<azureml.automl.runtime.shared.model_wrappers.SparseNormalizer object at 0x7f0b88da4978\", \"primary_metric\": 0.91658824, \"best_metric\": 0.92058824}, {\"run_id\": \"AutoML_4d713bd5-53de-413c-8017-184f88c4b73d_22\", \"run_number\": 89, \"metric\": null, \"status\": \"Completed\", \"run_type\": \"azureml.scriptrun\", \"training_percent\": \"100\", \"start_time\": \"2020-12-24T05:27:31.108687Z\", \"end_time\": \"2020-12-24T05:28:11.055305Z\", \"created_time\": \"2020-12-24T05:27:19.769596Z\", \"created_time_dt\": \"2020-12-24T05:27:19.769596Z\", \"duration\": \"0:00:51\", \"iteration\": \"22\", \"goal\": \"accuracy_max\", \"run_name\": \"StandardScalerWrapper, RandomForest\", \"run_properties\": \"<azureml.automl.runtime.shared.model_wrappers.StandardScalerWrapper object at 0x7f2f580d8518\", \"primary_metric\": 0.91858824, \"best_metric\": 0.92058824}, {\"run_id\": \"AutoML_4d713bd5-53de-413c-8017-184f88c4b73d_23\", \"run_number\": 90, \"metric\": null, \"status\": \"Completed\", \"run_type\": \"azureml.scriptrun\", \"training_percent\": \"100\", \"start_time\": \"2020-12-24T05:27:36.056444Z\", \"end_time\": \"2020-12-24T05:28:19.295307Z\", \"created_time\": \"2020-12-24T05:27:22.91231Z\", \"created_time_dt\": \"2020-12-24T05:27:22.91231Z\", \"duration\": \"0:00:56\", \"iteration\": \"23\", \"goal\": \"accuracy_max\", \"run_name\": \"MaxAbsScaler, LightGBM\", \"run_properties\": \"copy=True\", \"primary_metric\": 0.91858824, \"best_metric\": 0.92058824}, {\"run_id\": \"AutoML_4d713bd5-53de-413c-8017-184f88c4b73d_24\", \"run_number\": 91, \"metric\": null, \"status\": \"Completed\", \"run_type\": \"azureml.scriptrun\", \"training_percent\": \"100\", \"start_time\": \"2020-12-24T05:28:09.195751Z\", \"end_time\": \"2020-12-24T05:28:52.248104Z\", \"created_time\": \"2020-12-24T05:27:33.869425Z\", \"created_time_dt\": \"2020-12-24T05:27:33.869425Z\", \"duration\": \"0:01:18\", \"iteration\": \"24\", \"goal\": \"accuracy_max\", \"run_name\": \"SparseNormalizer, LightGBM\", \"run_properties\": \"<azureml.automl.runtime.shared.model_wrappers.SparseNormalizer object at 0x7fc9ec030fd0\", \"primary_metric\": 0.91858824, \"best_metric\": 0.92058824}, {\"run_id\": \"AutoML_4d713bd5-53de-413c-8017-184f88c4b73d_25\", \"run_number\": 92, \"metric\": null, \"status\": \"Completed\", \"run_type\": \"azureml.scriptrun\", \"training_percent\": \"100\", \"start_time\": \"2020-12-24T05:28:19.863644Z\", \"end_time\": \"2020-12-24T05:29:07.410538Z\", \"created_time\": \"2020-12-24T05:28:08.849956Z\", \"created_time_dt\": \"2020-12-24T05:28:08.849956Z\", \"duration\": \"0:00:58\", \"iteration\": \"25\", \"goal\": \"accuracy_max\", \"run_name\": \"StandardScalerWrapper, XGBoostClassifier\", \"run_properties\": \"<azureml.automl.runtime.shared.model_wrappers.StandardScalerWrapper object at 0x7f36343df978\", \"primary_metric\": 0.91858824, \"best_metric\": 0.92058824}, {\"run_id\": \"AutoML_4d713bd5-53de-413c-8017-184f88c4b73d_26\", \"run_number\": 93, \"metric\": null, \"status\": \"Completed\", \"run_type\": \"azureml.scriptrun\", \"training_percent\": \"100\", \"start_time\": \"2020-12-24T05:28:22.838486Z\", \"end_time\": \"2020-12-24T05:29:07.428258Z\", \"created_time\": \"2020-12-24T05:28:12.876048Z\", \"created_time_dt\": \"2020-12-24T05:28:12.876048Z\", \"duration\": \"0:00:54\", \"iteration\": \"26\", \"goal\": \"accuracy_max\", \"run_name\": \"StandardScalerWrapper, LightGBM\", \"run_properties\": \"<azureml.automl.runtime.shared.model_wrappers.StandardScalerWrapper object at 0x7f8389baeb00\", \"primary_metric\": 0.91858824, \"best_metric\": 0.92058824}, {\"run_id\": \"AutoML_4d713bd5-53de-413c-8017-184f88c4b73d_27\", \"run_number\": 94, \"metric\": null, \"status\": \"Completed\", \"run_type\": \"azureml.scriptrun\", \"training_percent\": \"100\", \"start_time\": \"2020-12-24T05:28:24.732849Z\", \"end_time\": \"2020-12-24T05:29:07.470592Z\", \"created_time\": \"2020-12-24T05:28:12.90564Z\", \"created_time_dt\": \"2020-12-24T05:28:12.90564Z\", \"duration\": \"0:00:54\", \"iteration\": \"27\", \"goal\": \"accuracy_max\", \"run_name\": \"SparseNormalizer, LightGBM\", \"run_properties\": \"<azureml.automl.runtime.shared.model_wrappers.SparseNormalizer object at 0x7fcb88c08e48\", \"primary_metric\": 0.91858824, \"best_metric\": 0.92058824}, {\"run_id\": \"AutoML_4d713bd5-53de-413c-8017-184f88c4b73d_28\", \"run_number\": 95, \"metric\": null, \"status\": \"Completed\", \"run_type\": \"azureml.scriptrun\", \"training_percent\": \"100\", \"start_time\": \"2020-12-24T05:28:57.039137Z\", \"end_time\": \"2020-12-24T05:29:43.677032Z\", \"created_time\": \"2020-12-24T05:28:21.036114Z\", \"created_time_dt\": \"2020-12-24T05:28:21.036114Z\", \"duration\": \"0:01:22\", \"iteration\": \"28\", \"goal\": \"accuracy_max\", \"run_name\": \"StandardScalerWrapper, XGBoostClassifier\", \"run_properties\": \"<azureml.automl.runtime.shared.model_wrappers.StandardScalerWrapper object at 0x7fd9e6323da0\", \"primary_metric\": 0.91858824, \"best_metric\": 0.92058824}, {\"run_id\": \"AutoML_4d713bd5-53de-413c-8017-184f88c4b73d_29\", \"run_number\": 96, \"metric\": null, \"status\": \"Completed\", \"run_type\": \"azureml.scriptrun\", \"training_percent\": \"100\", \"start_time\": \"2020-12-24T05:29:09.382014Z\", \"end_time\": \"2020-12-24T05:29:58.633539Z\", \"created_time\": \"2020-12-24T05:28:53.933683Z\", \"created_time_dt\": \"2020-12-24T05:28:53.933683Z\", \"duration\": \"0:01:04\", \"iteration\": \"29\", \"goal\": \"accuracy_max\", \"run_name\": \"StandardScalerWrapper, LightGBM\", \"run_properties\": \"<azureml.automl.runtime.shared.model_wrappers.StandardScalerWrapper object at 0x7f3d5ad71e80\", \"primary_metric\": 0.91858824, \"best_metric\": 0.92058824}, {\"run_id\": \"AutoML_4d713bd5-53de-413c-8017-184f88c4b73d_30\", \"run_number\": 97, \"metric\": null, \"status\": \"Completed\", \"run_type\": \"azureml.scriptrun\", \"training_percent\": \"100\", \"start_time\": \"2020-12-24T05:29:21.292352Z\", \"end_time\": \"2020-12-24T05:30:00.268637Z\", \"created_time\": \"2020-12-24T05:29:10.564456Z\", \"created_time_dt\": \"2020-12-24T05:29:10.564456Z\", \"duration\": \"0:00:49\", \"iteration\": \"30\", \"goal\": \"accuracy_max\", \"run_name\": \"SparseNormalizer, XGBoostClassifier\", \"run_properties\": \"<azureml.automl.runtime.shared.model_wrappers.SparseNormalizer object at 0x7fa61c05ca58\", \"primary_metric\": 0.91858824, \"best_metric\": 0.92058824}, {\"run_id\": \"AutoML_4d713bd5-53de-413c-8017-184f88c4b73d_31\", \"run_number\": 98, \"metric\": null, \"status\": \"Completed\", \"run_type\": \"azureml.scriptrun\", \"training_percent\": \"100\", \"start_time\": \"2020-12-24T05:29:23.056245Z\", \"end_time\": \"2020-12-24T05:30:11.676397Z\", \"created_time\": \"2020-12-24T05:29:10.582567Z\", \"created_time_dt\": \"2020-12-24T05:29:10.582567Z\", \"duration\": \"0:01:01\", \"iteration\": \"31\", \"goal\": \"accuracy_max\", \"run_name\": \"SparseNormalizer, LightGBM\", \"run_properties\": \"<azureml.automl.runtime.shared.model_wrappers.SparseNormalizer object at 0x7f780a2eee10\", \"primary_metric\": 0.91662745, \"best_metric\": 0.92058824}, {\"run_id\": \"AutoML_4d713bd5-53de-413c-8017-184f88c4b73d_32\", \"run_number\": 99, \"metric\": null, \"status\": \"Completed\", \"run_type\": \"azureml.scriptrun\", \"training_percent\": \"100\", \"start_time\": \"2020-12-24T05:29:49.663829Z\", \"end_time\": \"2020-12-24T05:30:33.692999Z\", \"created_time\": \"2020-12-24T05:29:10.591423Z\", \"created_time_dt\": \"2020-12-24T05:29:10.591423Z\", \"duration\": \"0:01:23\", \"iteration\": \"32\", \"goal\": \"accuracy_max\", \"run_name\": \"StandardScalerWrapper, LightGBM\", \"run_properties\": \"<azureml.automl.runtime.shared.model_wrappers.StandardScalerWrapper object at 0x7f509263b2e8\", \"primary_metric\": 0.91858824, \"best_metric\": 0.92058824}, {\"run_id\": \"AutoML_4d713bd5-53de-413c-8017-184f88c4b73d_33\", \"run_number\": 100, \"metric\": null, \"status\": \"Canceled\", \"run_type\": \"azureml.scriptrun\", \"training_percent\": \"100\", \"start_time\": \"2020-12-24T05:30:02.642193Z\", \"end_time\": \"2020-12-24T05:31:14.884957Z\", \"created_time\": \"2020-12-24T05:29:45.671009Z\", \"created_time_dt\": \"2020-12-24T05:29:45.671009Z\", \"duration\": \"0:01:29\", \"iteration\": \"33\", \"goal\": \"accuracy_max\", \"run_name\": \"StandardScalerWrapper, ExtremeRandomTrees\", \"run_properties\": \"<azureml.automl.runtime.shared.model_wrappers.StandardScalerWrapper object at 0x7f4f12f88240\", \"primary_metric\": 0.91858824, \"best_metric\": 0.92058824}, {\"run_id\": \"AutoML_4d713bd5-53de-413c-8017-184f88c4b73d_34\", \"run_number\": 101, \"metric\": null, \"status\": \"Completed\", \"run_type\": \"azureml.scriptrun\", \"training_percent\": \"100\", \"start_time\": \"2020-12-24T05:30:10.797132Z\", \"end_time\": \"2020-12-24T05:30:51.540909Z\", \"created_time\": \"2020-12-24T05:30:00.236419Z\", \"created_time_dt\": \"2020-12-24T05:30:00.236419Z\", \"duration\": \"0:00:51\", \"iteration\": \"34\", \"goal\": \"accuracy_max\", \"run_name\": \"SparseNormalizer, XGBoostClassifier\", \"run_properties\": \"<azureml.automl.runtime.shared.model_wrappers.SparseNormalizer object at 0x7fe3d2668da0\", \"primary_metric\": 0.91858824, \"best_metric\": 0.92058824}, {\"run_id\": \"AutoML_4d713bd5-53de-413c-8017-184f88c4b73d_35\", \"run_number\": 102, \"metric\": null, \"status\": \"Canceled\", \"run_type\": \"azureml.scriptrun\", \"training_percent\": \"100\", \"start_time\": \"2020-12-24T05:30:16.617172Z\", \"end_time\": \"2020-12-24T05:30:59.235821Z\", \"created_time\": \"2020-12-24T05:30:04.703919Z\", \"created_time_dt\": \"2020-12-24T05:30:04.703919Z\", \"duration\": \"0:00:54\", \"iteration\": \"35\", \"goal\": \"accuracy_max\", \"run_name\": \"SparseNormalizer, XGBoostClassifier\", \"run_properties\": \"<azureml.automl.runtime.shared.model_wrappers.SparseNormalizer object at 0x7ff8f52044e0\", \"primary_metric\": 0.91858824, \"best_metric\": 0.92058824}, {\"run_id\": \"AutoML_4d713bd5-53de-413c-8017-184f88c4b73d_36\", \"run_number\": 103, \"metric\": null, \"status\": \"Canceled\", \"run_type\": \"azureml.scriptrun\", \"training_percent\": \"100\", \"start_time\": \"2020-12-24T05:30:39.832469Z\", \"end_time\": \"2020-12-24T05:31:00.628243Z\", \"created_time\": \"2020-12-24T05:30:13.647015Z\", \"created_time_dt\": \"2020-12-24T05:30:13.647015Z\", \"duration\": \"0:00:46\", \"iteration\": \"36\", \"goal\": null, \"run_name\": \"Canceled\", \"run_properties\": null}, {\"run_id\": \"AutoML_4d713bd5-53de-413c-8017-184f88c4b73d_37\", \"run_number\": 104, \"metric\": null, \"status\": \"Canceled\", \"run_type\": \"azureml.scriptrun\", \"training_percent\": \"100\", \"start_time\": \"2020-12-24T05:30:35.433148Z\", \"end_time\": \"2020-12-24T05:31:00.171097Z\", \"created_time\": \"2020-12-24T05:30:35.433148Z\", \"created_time_dt\": \"2020-12-24T05:30:35.433148Z\", \"duration\": \"0:00:24\", \"iteration\": \"37\", \"goal\": null, \"run_name\": \"Canceled\", \"run_properties\": null}, {\"run_id\": \"AutoML_4d713bd5-53de-413c-8017-184f88c4b73d_39\", \"run_number\": 105, \"metric\": null, \"status\": \"Completed\", \"run_type\": \"azureml.scriptrun\", \"training_percent\": \"100\", \"start_time\": \"2020-12-24T05:31:27.51209Z\", \"end_time\": \"2020-12-24T05:33:20.589048Z\", \"created_time\": \"2020-12-24T05:31:15.852113Z\", \"created_time_dt\": \"2020-12-24T05:31:15.852113Z\", \"duration\": \"0:02:04\", \"iteration\": \"39\", \"goal\": \"accuracy_max\", \"run_name\": \"StackEnsemble\", \"run_properties\": \"base_learners=[('7',\\n                                        Pipeline(memory=None,\\n                                                 steps=[('sparsenormalizer',\\n                                                         <azureml.automl.runtime.shared.model_wrappers.SparseNormalizer object at 0x7f8f02512d68>\", \"primary_metric\": 0.91858824, \"best_metric\": 0.92058824}, {\"run_id\": \"AutoML_4d713bd5-53de-413c-8017-184f88c4b73d_38\", \"run_number\": 106, \"metric\": null, \"status\": \"Completed\", \"run_type\": \"azureml.scriptrun\", \"training_percent\": \"100\", \"start_time\": \"2020-12-24T05:31:28.399222Z\", \"end_time\": \"2020-12-24T05:33:38.404887Z\", \"created_time\": \"2020-12-24T05:31:15.878405Z\", \"created_time_dt\": \"2020-12-24T05:31:15.878405Z\", \"duration\": \"0:02:22\", \"iteration\": \"38\", \"goal\": \"accuracy_max\", \"run_name\": \"VotingEnsemble\", \"run_properties\": \"classification_labels=None,\\n                              estimators=[('7',\\n                                           Pipeline(memory=None,\\n                                                    steps=[('sparsenormalizer',\\n                                                            <azureml.automl.runtime.shared.model_wrappers.SparseNormalizer object at 0x7fd75c7c55c0>\", \"primary_metric\": 0.92058824, \"best_metric\": 0.92058824}], \"children_metrics\": {\"categories\": [0], \"series\": {\"AUC_weighted\": [{\"categories\": [\"0\", \"1\", \"2\", \"3\", \"4\", \"5\", \"6\", \"7\", \"8\", \"9\", \"10\", \"11\", \"12\", \"13\", \"14\", \"15\", \"16\", \"17\", \"18\", \"19\", \"20\", \"21\", \"22\", \"23\", \"24\", \"25\", \"26\", \"27\", \"28\", \"29\", \"30\", \"31\", \"32\", \"33\", \"34\", \"35\", \"38\", \"39\"], \"mode\": \"markers\", \"name\": \"AUC_weighted\", \"stepped\": false, \"type\": \"scatter\", \"data\": [0.6562856048657586, 0.6414761065208878, 0.6850194958018202, 0.6048708869158173, 0.6690601381686709, 0.6051215233248174, 0.6173789334778867, 0.6152016075367178, 0.6062912336760964, 0.6311296547690637, 0.6413722018456214, 0.6420134077496353, 0.5910141715672709, 0.6324648566566872, 0.6446419378542458, 0.6431901056480649, 0.6257339071075798, 0.6420579175972606, 0.6313847122955198, 0.6254629826143252, 0.5591066970987348, 0.6624221926305391, 0.6645203593072309, 0.6030733993502025, 0.6083444277509497, 0.5, 0.6143505576344372, 0.5813590863175151, 0.6525568257026939, 0.6343751929667019, 0.5, 0.6196935387540555, 0.6157381412525282, 0.5676570851762888, 0.6188917459302776, 0.5, 0.6245421230730099, 0.6303097811391121]}, {\"categories\": [\"0\", \"1\", \"2\", \"3\", \"4\", \"5\", \"6\", \"7\", \"8\", \"9\", \"10\", \"11\", \"12\", \"13\", \"14\", \"15\", \"16\", \"17\", \"18\", \"19\", \"20\", \"21\", \"22\", \"23\", \"24\", \"25\", \"26\", \"27\", \"28\", \"29\", \"30\", \"31\", \"32\", \"33\", \"34\", \"35\", \"38\", \"39\"], \"mode\": \"lines\", \"name\": \"AUC_weighted_max\", \"stepped\": true, \"type\": \"scatter\", \"data\": [0.6562856048657586, 0.6562856048657586, 0.6850194958018202, 0.6850194958018202, 0.6850194958018202, 0.6850194958018202, 0.6850194958018202, 0.6850194958018202, 0.6850194958018202, 0.6850194958018202, 0.6850194958018202, 0.6850194958018202, 0.6850194958018202, 0.6850194958018202, 0.6850194958018202, 0.6850194958018202, 0.6850194958018202, 0.6850194958018202, 0.6850194958018202, 0.6850194958018202, 0.6850194958018202, 0.6850194958018202, 0.6850194958018202, 0.6850194958018202, 0.6850194958018202, 0.6850194958018202, 0.6850194958018202, 0.6850194958018202, 0.6850194958018202, 0.6850194958018202, 0.6850194958018202, 0.6850194958018202, 0.6850194958018202, 0.6850194958018202, 0.6850194958018202, 0.6850194958018202, 0.6850194958018202, 0.6850194958018202]}], \"average_precision_score_weighted\": [{\"categories\": [\"0\", \"1\", \"2\", \"3\", \"4\", \"5\", \"6\", \"7\", \"8\", \"9\", \"10\", \"11\", \"12\", \"13\", \"14\", \"15\", \"16\", \"17\", \"18\", \"19\", \"20\", \"21\", \"22\", \"23\", \"24\", \"25\", \"26\", \"27\", \"28\", \"29\", \"30\", \"31\", \"32\", \"33\", \"34\", \"35\", \"38\", \"39\"], \"mode\": \"markers\", \"name\": \"average_precision_score_weighted\", \"stepped\": false, \"type\": \"scatter\", \"data\": [0.9035078822518049, 0.903981050029212, 0.9103855753122374, 0.8894730501030137, 0.9053164222981869, 0.8896831338983215, 0.8905234997733933, 0.8982424896710327, 0.8947646571223343, 0.8903851536849627, 0.9016818069915251, 0.9042935260791278, 0.888409590257719, 0.8991725444128656, 0.890530577320433, 0.892329956943563, 0.8904560966926015, 0.8956666627269145, 0.8945944599088704, 0.8914915025065557, 0.8775610105402354, 0.9060672819122095, 0.9047081707531337, 0.8793306762741373, 0.883783280735323, 0.8517869742406766, 0.8878409940472946, 0.8862519919261693, 0.8988084107753233, 0.8863265830352889, 0.8517869742406766, 0.8897035092453903, 0.8853476136781598, 0.8867320754303105, 0.8823801474004013, 0.8517869742406766, 0.8984823978965849, 0.8990919492933003]}, {\"categories\": [\"0\", \"1\", \"2\", \"3\", \"4\", \"5\", \"6\", \"7\", \"8\", \"9\", \"10\", \"11\", \"12\", \"13\", \"14\", \"15\", \"16\", \"17\", \"18\", \"19\", \"20\", \"21\", \"22\", \"23\", \"24\", \"25\", \"26\", \"27\", \"28\", \"29\", \"30\", \"31\", \"32\", \"33\", \"34\", \"35\", \"38\", \"39\"], \"mode\": \"lines\", \"name\": \"average_precision_score_weighted_max\", \"stepped\": true, \"type\": \"scatter\", \"data\": [0.9035078822518049, 0.903981050029212, 0.9103855753122374, 0.9103855753122374, 0.9103855753122374, 0.9103855753122374, 0.9103855753122374, 0.9103855753122374, 0.9103855753122374, 0.9103855753122374, 0.9103855753122374, 0.9103855753122374, 0.9103855753122374, 0.9103855753122374, 0.9103855753122374, 0.9103855753122374, 0.9103855753122374, 0.9103855753122374, 0.9103855753122374, 0.9103855753122374, 0.9103855753122374, 0.9103855753122374, 0.9103855753122374, 0.9103855753122374, 0.9103855753122374, 0.9103855753122374, 0.9103855753122374, 0.9103855753122374, 0.9103855753122374, 0.9103855753122374, 0.9103855753122374, 0.9103855753122374, 0.9103855753122374, 0.9103855753122374, 0.9103855753122374, 0.9103855753122374, 0.9103855753122374, 0.9103855753122374]}], \"f1_score_micro\": [{\"categories\": [\"0\", \"1\", \"2\", \"3\", \"4\", \"5\", \"6\", \"7\", \"8\", \"9\", \"10\", \"11\", \"12\", \"13\", \"14\", \"15\", \"16\", \"17\", \"18\", \"19\", \"20\", \"21\", \"22\", \"23\", \"24\", \"25\", \"26\", \"27\", \"28\", \"29\", \"30\", \"31\", \"32\", \"33\", \"34\", \"35\", \"38\", \"39\"], \"mode\": \"markers\", \"name\": \"f1_score_micro\", \"stepped\": false, \"type\": \"scatter\", \"data\": [0.9065882352941177, 0.9126666666666665, 0.9185882352941176, 0.9185882352941176, 0.8529803921568627, 0.8015686274509803, 0.9125882352941176, 0.9205882352941176, 0.9166666666666666, 0.9185882352941176, 0.9185882352941176, 0.9185882352941176, 0.9185882352941176, 0.9026666666666667, 0.9185882352941176, 0.9185882352941176, 0.8709019607843137, 0.8649803921568626, 0.9185882352941176, 0.9185882352941176, 0.9185882352941176, 0.9165882352941177, 0.9185882352941176, 0.9185882352941176, 0.9185882352941176, 0.9185882352941176, 0.9185882352941176, 0.9185882352941176, 0.9185882352941176, 0.9185882352941176, 0.9185882352941176, 0.9166274509803921, 0.9185882352941176, 0.9185882352941176, 0.9185882352941176, 0.9185882352941176, 0.9205882352941176, 0.9185882352941176]}, {\"categories\": [\"0\", \"1\", \"2\", \"3\", \"4\", \"5\", \"6\", \"7\", \"8\", \"9\", \"10\", \"11\", \"12\", \"13\", \"14\", \"15\", \"16\", \"17\", \"18\", \"19\", \"20\", \"21\", \"22\", \"23\", \"24\", \"25\", \"26\", \"27\", \"28\", \"29\", \"30\", \"31\", \"32\", \"33\", \"34\", \"35\", \"38\", \"39\"], \"mode\": \"lines\", \"name\": \"f1_score_micro_max\", \"stepped\": true, \"type\": \"scatter\", \"data\": [0.9065882352941177, 0.9126666666666665, 0.9185882352941176, 0.9185882352941176, 0.9185882352941176, 0.9185882352941176, 0.9185882352941176, 0.9205882352941176, 0.9205882352941176, 0.9205882352941176, 0.9205882352941176, 0.9205882352941176, 0.9205882352941176, 0.9205882352941176, 0.9205882352941176, 0.9205882352941176, 0.9205882352941176, 0.9205882352941176, 0.9205882352941176, 0.9205882352941176, 0.9205882352941176, 0.9205882352941176, 0.9205882352941176, 0.9205882352941176, 0.9205882352941176, 0.9205882352941176, 0.9205882352941176, 0.9205882352941176, 0.9205882352941176, 0.9205882352941176, 0.9205882352941176, 0.9205882352941176, 0.9205882352941176, 0.9205882352941176, 0.9205882352941176, 0.9205882352941176, 0.9205882352941176, 0.9205882352941176]}], \"balanced_accuracy\": [{\"categories\": [\"0\", \"1\", \"2\", \"3\", \"4\", \"5\", \"6\", \"7\", \"8\", \"9\", \"10\", \"11\", \"12\", \"13\", \"14\", \"15\", \"16\", \"17\", \"18\", \"19\", \"20\", \"21\", \"22\", \"23\", \"24\", \"25\", \"26\", \"27\", \"28\", \"29\", \"30\", \"31\", \"32\", \"33\", \"34\", \"35\", \"38\", \"39\"], \"mode\": \"markers\", \"name\": \"balanced_accuracy\", \"stepped\": false, \"type\": \"scatter\", \"data\": [0.5409078475670256, 0.5171214520774499, 0.5, 0.5, 0.5599201619708041, 0.5676116209163928, 0.5195032241324127, 0.5328168011390603, 0.5193288055277615, 0.5, 0.5, 0.5, 0.5, 0.518256179215155, 0.5, 0.5, 0.5165830129640938, 0.5135921965326802, 0.5, 0.5, 0.5, 0.5077733795150916, 0.5, 0.5, 0.5, 0.5, 0.5, 0.5, 0.5, 0.5, 0.5, 0.5305236322956779, 0.5, 0.5, 0.5, 0.5, 0.5125, 0.5]}, {\"categories\": [\"0\", \"1\", \"2\", \"3\", \"4\", \"5\", \"6\", \"7\", \"8\", \"9\", \"10\", \"11\", \"12\", \"13\", \"14\", \"15\", \"16\", \"17\", \"18\", \"19\", \"20\", \"21\", \"22\", \"23\", \"24\", \"25\", \"26\", \"27\", \"28\", \"29\", \"30\", \"31\", \"32\", \"33\", \"34\", \"35\", \"38\", \"39\"], \"mode\": \"lines\", \"name\": \"balanced_accuracy_max\", \"stepped\": true, \"type\": \"scatter\", \"data\": [0.5409078475670256, 0.5409078475670256, 0.5409078475670256, 0.5409078475670256, 0.5599201619708041, 0.5676116209163928, 0.5676116209163928, 0.5676116209163928, 0.5676116209163928, 0.5676116209163928, 0.5676116209163928, 0.5676116209163928, 0.5676116209163928, 0.5676116209163928, 0.5676116209163928, 0.5676116209163928, 0.5676116209163928, 0.5676116209163928, 0.5676116209163928, 0.5676116209163928, 0.5676116209163928, 0.5676116209163928, 0.5676116209163928, 0.5676116209163928, 0.5676116209163928, 0.5676116209163928, 0.5676116209163928, 0.5676116209163928, 0.5676116209163928, 0.5676116209163928, 0.5676116209163928, 0.5676116209163928, 0.5676116209163928, 0.5676116209163928, 0.5676116209163928, 0.5676116209163928, 0.5676116209163928, 0.5676116209163928]}], \"average_precision_score_macro\": [{\"categories\": [\"0\", \"1\", \"2\", \"3\", \"4\", \"5\", \"6\", \"7\", \"8\", \"9\", \"10\", \"11\", \"12\", \"13\", \"14\", \"15\", \"16\", \"17\", \"18\", \"19\", \"20\", \"21\", \"22\", \"23\", \"24\", \"25\", \"26\", \"27\", \"28\", \"29\", \"30\", \"31\", \"32\", \"33\", \"34\", \"35\", \"38\", \"39\"], \"mode\": \"markers\", \"name\": \"average_precision_score_macro\", \"stepped\": false, \"type\": \"scatter\", \"data\": [0.6298609100344027, 0.6293616393317465, 0.616604521201553, 0.6011971018756427, 0.6081290421863332, 0.5744597574309409, 0.5832370808406667, 0.6057686691878549, 0.6016565984662591, 0.6103693050511314, 0.6331939174565517, 0.6210041537634963, 0.5915316034577989, 0.611079000376197, 0.6104603679066155, 0.6108415039434083, 0.5862786135443869, 0.6003256172260801, 0.6324455800186509, 0.6105830809821386, 0.5756439214773178, 0.6100591777702263, 0.6321627631083533, 0.5878426195840356, 0.6149796895427156, 0.5, 0.6186226584346359, 0.5856532956756471, 0.6262773461234012, 0.5860587427363529, 0.5, 0.6201284887543648, 0.5928808038361234, 0.5939206415976143, 0.5823002626754163, 0.5, 0.612012898401381, 0.6179945982112811]}, {\"categories\": [\"0\", \"1\", \"2\", \"3\", \"4\", \"5\", \"6\", \"7\", \"8\", \"9\", \"10\", \"11\", \"12\", \"13\", \"14\", \"15\", \"16\", \"17\", \"18\", \"19\", \"20\", \"21\", \"22\", \"23\", \"24\", \"25\", \"26\", \"27\", \"28\", \"29\", \"30\", \"31\", \"32\", \"33\", \"34\", \"35\", \"38\", \"39\"], \"mode\": \"lines\", \"name\": \"average_precision_score_macro_max\", \"stepped\": true, \"type\": \"scatter\", \"data\": [0.6298609100344027, 0.6298609100344027, 0.6298609100344027, 0.6298609100344027, 0.6298609100344027, 0.6298609100344027, 0.6298609100344027, 0.6298609100344027, 0.6298609100344027, 0.6298609100344027, 0.6331939174565517, 0.6331939174565517, 0.6331939174565517, 0.6331939174565517, 0.6331939174565517, 0.6331939174565517, 0.6331939174565517, 0.6331939174565517, 0.6331939174565517, 0.6331939174565517, 0.6331939174565517, 0.6331939174565517, 0.6331939174565517, 0.6331939174565517, 0.6331939174565517, 0.6331939174565517, 0.6331939174565517, 0.6331939174565517, 0.6331939174565517, 0.6331939174565517, 0.6331939174565517, 0.6331939174565517, 0.6331939174565517, 0.6331939174565517, 0.6331939174565517, 0.6331939174565517, 0.6331939174565517, 0.6331939174565517]}], \"precision_score_micro\": [{\"categories\": [\"0\", \"1\", \"2\", \"3\", \"4\", \"5\", \"6\", \"7\", \"8\", \"9\", \"10\", \"11\", \"12\", \"13\", \"14\", \"15\", \"16\", \"17\", \"18\", \"19\", \"20\", \"21\", \"22\", \"23\", \"24\", \"25\", \"26\", \"27\", \"28\", \"29\", \"30\", \"31\", \"32\", \"33\", \"34\", \"35\", \"38\", \"39\"], \"mode\": \"markers\", \"name\": \"precision_score_micro\", \"stepped\": false, \"type\": \"scatter\", \"data\": [0.9065882352941177, 0.9126666666666665, 0.9185882352941176, 0.9185882352941176, 0.8529803921568628, 0.8015686274509803, 0.9125882352941176, 0.9205882352941176, 0.9166666666666666, 0.9185882352941176, 0.9185882352941176, 0.9185882352941176, 0.9185882352941176, 0.9026666666666667, 0.9185882352941176, 0.9185882352941176, 0.8709019607843137, 0.8649803921568628, 0.9185882352941176, 0.9185882352941176, 0.9185882352941176, 0.9165882352941177, 0.9185882352941176, 0.9185882352941176, 0.9185882352941176, 0.9185882352941176, 0.9185882352941176, 0.9185882352941176, 0.9185882352941176, 0.9185882352941176, 0.9185882352941176, 0.9166274509803921, 0.9185882352941176, 0.9185882352941176, 0.9185882352941176, 0.9185882352941176, 0.9205882352941176, 0.9185882352941176]}, {\"categories\": [\"0\", \"1\", \"2\", \"3\", \"4\", \"5\", \"6\", \"7\", \"8\", \"9\", \"10\", \"11\", \"12\", \"13\", \"14\", \"15\", \"16\", \"17\", \"18\", \"19\", \"20\", \"21\", \"22\", \"23\", \"24\", \"25\", \"26\", \"27\", \"28\", \"29\", \"30\", \"31\", \"32\", \"33\", \"34\", \"35\", \"38\", \"39\"], \"mode\": \"lines\", \"name\": \"precision_score_micro_max\", \"stepped\": true, \"type\": \"scatter\", \"data\": [0.9065882352941177, 0.9126666666666665, 0.9185882352941176, 0.9185882352941176, 0.9185882352941176, 0.9185882352941176, 0.9185882352941176, 0.9205882352941176, 0.9205882352941176, 0.9205882352941176, 0.9205882352941176, 0.9205882352941176, 0.9205882352941176, 0.9205882352941176, 0.9205882352941176, 0.9205882352941176, 0.9205882352941176, 0.9205882352941176, 0.9205882352941176, 0.9205882352941176, 0.9205882352941176, 0.9205882352941176, 0.9205882352941176, 0.9205882352941176, 0.9205882352941176, 0.9205882352941176, 0.9205882352941176, 0.9205882352941176, 0.9205882352941176, 0.9205882352941176, 0.9205882352941176, 0.9205882352941176, 0.9205882352941176, 0.9205882352941176, 0.9205882352941176, 0.9205882352941176, 0.9205882352941176, 0.9205882352941176]}], \"matthews_correlation\": [{\"categories\": [\"0\", \"1\", \"2\", \"3\", \"4\", \"5\", \"6\", \"7\", \"8\", \"9\", \"10\", \"11\", \"12\", \"13\", \"14\", \"15\", \"16\", \"17\", \"18\", \"19\", \"20\", \"21\", \"22\", \"23\", \"24\", \"25\", \"26\", \"27\", \"28\", \"29\", \"30\", \"31\", \"32\", \"33\", \"34\", \"35\", \"38\", \"39\"], \"mode\": \"markers\", \"name\": \"matthews_correlation\", \"stepped\": false, \"type\": \"scatter\", \"data\": [0.10339833956968987, 0.06220700751381127, 0.0, 0.0, 0.12467196350332943, 0.11499663210329522, 0.07800715595127035, 0.13115810856230142, 0.06747560144997924, 0.0, 0.0, 0.0, 0.0, 0.07237126414187842, 0.0, 0.0, 0.0377182701346913, 0.03543230654843234, 0.0, 0.0, 0.0, 0.033484016161243996, 0.0, 0.0, 0.0, 0.0, 0.0, 0.0, 0.0, 0.0, 0.0, 0.11054209437893989, 0.0, 0.0, 0.0, 0.0, 0.04844521416518048, 0.0]}, {\"categories\": [\"0\", \"1\", \"2\", \"3\", \"4\", \"5\", \"6\", \"7\", \"8\", \"9\", \"10\", \"11\", \"12\", \"13\", \"14\", \"15\", \"16\", \"17\", \"18\", \"19\", \"20\", \"21\", \"22\", \"23\", \"24\", \"25\", \"26\", \"27\", \"28\", \"29\", \"30\", \"31\", \"32\", \"33\", \"34\", \"35\", \"38\", \"39\"], \"mode\": \"lines\", \"name\": \"matthews_correlation_max\", \"stepped\": true, \"type\": \"scatter\", \"data\": [0.10339833956968987, 0.10339833956968987, 0.10339833956968987, 0.10339833956968987, 0.12467196350332943, 0.12467196350332943, 0.12467196350332943, 0.13115810856230142, 0.13115810856230142, 0.13115810856230142, 0.13115810856230142, 0.13115810856230142, 0.13115810856230142, 0.13115810856230142, 0.13115810856230142, 0.13115810856230142, 0.13115810856230142, 0.13115810856230142, 0.13115810856230142, 0.13115810856230142, 0.13115810856230142, 0.13115810856230142, 0.13115810856230142, 0.13115810856230142, 0.13115810856230142, 0.13115810856230142, 0.13115810856230142, 0.13115810856230142, 0.13115810856230142, 0.13115810856230142, 0.13115810856230142, 0.13115810856230142, 0.13115810856230142, 0.13115810856230142, 0.13115810856230142, 0.13115810856230142, 0.13115810856230142, 0.13115810856230142]}], \"weighted_accuracy\": [{\"categories\": [\"0\", \"1\", \"2\", \"3\", \"4\", \"5\", \"6\", \"7\", \"8\", \"9\", \"10\", \"11\", \"12\", \"13\", \"14\", \"15\", \"16\", \"17\", \"18\", \"19\", \"20\", \"21\", \"22\", \"23\", \"24\", \"25\", \"26\", \"27\", \"28\", \"29\", \"30\", \"31\", \"32\", \"33\", \"34\", \"35\", \"38\", \"39\"], \"mode\": \"markers\", \"name\": \"weighted_accuracy\", \"stepped\": false, \"type\": \"scatter\", \"data\": [0.9704841277433349, 0.9808911266576932, 0.9911141418101306, 0.9911141418101306, 0.9028554985292347, 0.8417184498522221, 0.9806364023126457, 0.9874224720769181, 0.985238281422897, 0.9911141418101306, 0.9911141418101306, 0.9911141418101306, 0.9911141418101306, 0.969851228267655, 0.9911141418101306, 0.9911141418101306, 0.9336307419662825, 0.9276240742307621, 0.9911141418101306, 0.9911141418101306, 0.9911141418101306, 0.986973475422969, 0.9911141418101306, 0.9911141418101306, 0.9911141418101306, 0.9911141418101306, 0.9911141418101306, 0.9911141418101306, 0.9911141418101306, 0.9911141418101306, 0.9911141418101306, 0.9829322353681039, 0.9911141418101306, 0.9911141418101306, 0.9911141418101306, 0.9911141418101306, 0.9913017590709184, 0.9911141418101306]}, {\"categories\": [\"0\", \"1\", \"2\", \"3\", \"4\", \"5\", \"6\", \"7\", \"8\", \"9\", \"10\", \"11\", \"12\", \"13\", \"14\", \"15\", \"16\", \"17\", \"18\", \"19\", \"20\", \"21\", \"22\", \"23\", \"24\", \"25\", \"26\", \"27\", \"28\", \"29\", \"30\", \"31\", \"32\", \"33\", \"34\", \"35\", \"38\", \"39\"], \"mode\": \"lines\", \"name\": \"weighted_accuracy_max\", \"stepped\": true, \"type\": \"scatter\", \"data\": [0.9704841277433349, 0.9808911266576932, 0.9911141418101306, 0.9911141418101306, 0.9911141418101306, 0.9911141418101306, 0.9911141418101306, 0.9911141418101306, 0.9911141418101306, 0.9911141418101306, 0.9911141418101306, 0.9911141418101306, 0.9911141418101306, 0.9911141418101306, 0.9911141418101306, 0.9911141418101306, 0.9911141418101306, 0.9911141418101306, 0.9911141418101306, 0.9911141418101306, 0.9911141418101306, 0.9911141418101306, 0.9911141418101306, 0.9911141418101306, 0.9911141418101306, 0.9911141418101306, 0.9911141418101306, 0.9911141418101306, 0.9911141418101306, 0.9911141418101306, 0.9911141418101306, 0.9911141418101306, 0.9911141418101306, 0.9911141418101306, 0.9911141418101306, 0.9911141418101306, 0.9913017590709184, 0.9913017590709184]}], \"norm_macro_recall\": [{\"categories\": [\"0\", \"1\", \"2\", \"3\", \"4\", \"5\", \"6\", \"7\", \"8\", \"9\", \"10\", \"11\", \"12\", \"13\", \"14\", \"15\", \"16\", \"17\", \"18\", \"19\", \"20\", \"21\", \"22\", \"23\", \"24\", \"25\", \"26\", \"27\", \"28\", \"29\", \"30\", \"31\", \"32\", \"33\", \"34\", \"35\", \"38\", \"39\"], \"mode\": \"markers\", \"name\": \"norm_macro_recall\", \"stepped\": false, \"type\": \"scatter\", \"data\": [0.08385651146058179, 0.04277777777777778, 0.0, 0.0, 0.1557264082550746, 0.1556314050980918, 0.05, 0.06999999999999999, 0.04282608695652172, 0.0, 0.0, 0.0, 0.0, 0.05833333333333333, 0.0, 0.0, 0.0852836879432624, 0.08315602836879432, 0.0, 0.0, 0.0, 0.019999999999999997, 0.0, 0.0, 0.0, 0.0, 0.0, 0.0, 0.0, 0.0, 0.0, 0.06782608695652173, 0.0, 0.0, 0.0, 0.0, 0.025, 0.0]}, {\"categories\": [\"0\", \"1\", \"2\", \"3\", \"4\", \"5\", \"6\", \"7\", \"8\", \"9\", \"10\", \"11\", \"12\", \"13\", \"14\", \"15\", \"16\", \"17\", \"18\", \"19\", \"20\", \"21\", \"22\", \"23\", \"24\", \"25\", \"26\", \"27\", \"28\", \"29\", \"30\", \"31\", \"32\", \"33\", \"34\", \"35\", \"38\", \"39\"], \"mode\": \"lines\", \"name\": \"norm_macro_recall_max\", \"stepped\": true, \"type\": \"scatter\", \"data\": [0.08385651146058179, 0.08385651146058179, 0.08385651146058179, 0.08385651146058179, 0.1557264082550746, 0.1557264082550746, 0.1557264082550746, 0.1557264082550746, 0.1557264082550746, 0.1557264082550746, 0.1557264082550746, 0.1557264082550746, 0.1557264082550746, 0.1557264082550746, 0.1557264082550746, 0.1557264082550746, 0.1557264082550746, 0.1557264082550746, 0.1557264082550746, 0.1557264082550746, 0.1557264082550746, 0.1557264082550746, 0.1557264082550746, 0.1557264082550746, 0.1557264082550746, 0.1557264082550746, 0.1557264082550746, 0.1557264082550746, 0.1557264082550746, 0.1557264082550746, 0.1557264082550746, 0.1557264082550746, 0.1557264082550746, 0.1557264082550746, 0.1557264082550746, 0.1557264082550746, 0.1557264082550746, 0.1557264082550746]}], \"f1_score_weighted\": [{\"categories\": [\"0\", \"1\", \"2\", \"3\", \"4\", \"5\", \"6\", \"7\", \"8\", \"9\", \"10\", \"11\", \"12\", \"13\", \"14\", \"15\", \"16\", \"17\", \"18\", \"19\", \"20\", \"21\", \"22\", \"23\", \"24\", \"25\", \"26\", \"27\", \"28\", \"29\", \"30\", \"31\", \"32\", \"33\", \"34\", \"35\", \"38\", \"39\"], \"mode\": \"markers\", \"name\": \"f1_score_weighted\", \"stepped\": false, \"type\": \"scatter\", \"data\": [0.882339355225921, 0.8826720677270338, 0.8798033150284251, 0.8798033150284251, 0.859307309010205, 0.8310902923891534, 0.8829394351403472, 0.8902252790824765, 0.8846500614781521, 0.8798033150284251, 0.8798033150284251, 0.8798033150284251, 0.8798033150284251, 0.8777302371235424, 0.8798033150284251, 0.8798033150284251, 0.8610381198789735, 0.8572982373767501, 0.8798033150284251, 0.8798033150284251, 0.8798033150284251, 0.8820291104711624, 0.8798033150284251, 0.8798033150284251, 0.8798033150284251, 0.8798033150284251, 0.8798033150284251, 0.8798033150284251, 0.8798033150284251, 0.8798033150284251, 0.8798033150284251, 0.8877356544175651, 0.8798033150284251, 0.8798033150284251, 0.8798033150284251, 0.8798033150284251, 0.8839313852038637, 0.8798033150284251]}, {\"categories\": [\"0\", \"1\", \"2\", \"3\", \"4\", \"5\", \"6\", \"7\", \"8\", \"9\", \"10\", \"11\", \"12\", \"13\", \"14\", \"15\", \"16\", \"17\", \"18\", \"19\", \"20\", \"21\", \"22\", \"23\", \"24\", \"25\", \"26\", \"27\", \"28\", \"29\", \"30\", \"31\", \"32\", \"33\", \"34\", \"35\", \"38\", \"39\"], \"mode\": \"lines\", \"name\": \"f1_score_weighted_max\", \"stepped\": true, \"type\": \"scatter\", \"data\": [0.882339355225921, 0.8826720677270338, 0.8826720677270338, 0.8826720677270338, 0.8826720677270338, 0.8826720677270338, 0.8829394351403472, 0.8902252790824765, 0.8902252790824765, 0.8902252790824765, 0.8902252790824765, 0.8902252790824765, 0.8902252790824765, 0.8902252790824765, 0.8902252790824765, 0.8902252790824765, 0.8902252790824765, 0.8902252790824765, 0.8902252790824765, 0.8902252790824765, 0.8902252790824765, 0.8902252790824765, 0.8902252790824765, 0.8902252790824765, 0.8902252790824765, 0.8902252790824765, 0.8902252790824765, 0.8902252790824765, 0.8902252790824765, 0.8902252790824765, 0.8902252790824765, 0.8902252790824765, 0.8902252790824765, 0.8902252790824765, 0.8902252790824765, 0.8902252790824765, 0.8902252790824765, 0.8902252790824765]}], \"accuracy\": [{\"categories\": [\"0\", \"1\", \"2\", \"3\", \"4\", \"5\", \"6\", \"7\", \"8\", \"9\", \"10\", \"11\", \"12\", \"13\", \"14\", \"15\", \"16\", \"17\", \"18\", \"19\", \"20\", \"21\", \"22\", \"23\", \"24\", \"25\", \"26\", \"27\", \"28\", \"29\", \"30\", \"31\", \"32\", \"33\", \"34\", \"35\", \"38\", \"39\"], \"mode\": \"markers\", \"name\": \"accuracy\", \"stepped\": false, \"type\": \"scatter\", \"data\": [0.9065882352941177, 0.9126666666666665, 0.9185882352941176, 0.9185882352941176, 0.8529803921568628, 0.8015686274509803, 0.9125882352941176, 0.9205882352941176, 0.9166666666666666, 0.9185882352941176, 0.9185882352941176, 0.9185882352941176, 0.9185882352941176, 0.9026666666666667, 0.9185882352941176, 0.9185882352941176, 0.8709019607843137, 0.8649803921568628, 0.9185882352941176, 0.9185882352941176, 0.9185882352941176, 0.9165882352941177, 0.9185882352941176, 0.9185882352941176, 0.9185882352941176, 0.9185882352941176, 0.9185882352941176, 0.9185882352941176, 0.9185882352941176, 0.9185882352941176, 0.9185882352941176, 0.9166274509803921, 0.9185882352941176, 0.9185882352941176, 0.9185882352941176, 0.9185882352941176, 0.9205882352941176, 0.9185882352941176]}, {\"categories\": [\"0\", \"1\", \"2\", \"3\", \"4\", \"5\", \"6\", \"7\", \"8\", \"9\", \"10\", \"11\", \"12\", \"13\", \"14\", \"15\", \"16\", \"17\", \"18\", \"19\", \"20\", \"21\", \"22\", \"23\", \"24\", \"25\", \"26\", \"27\", \"28\", \"29\", \"30\", \"31\", \"32\", \"33\", \"34\", \"35\", \"38\", \"39\"], \"mode\": \"lines\", \"name\": \"accuracy_max\", \"stepped\": true, \"type\": \"scatter\", \"data\": [0.9065882352941177, 0.9126666666666665, 0.9185882352941176, 0.9185882352941176, 0.9185882352941176, 0.9185882352941176, 0.9185882352941176, 0.9205882352941176, 0.9205882352941176, 0.9205882352941176, 0.9205882352941176, 0.9205882352941176, 0.9205882352941176, 0.9205882352941176, 0.9205882352941176, 0.9205882352941176, 0.9205882352941176, 0.9205882352941176, 0.9205882352941176, 0.9205882352941176, 0.9205882352941176, 0.9205882352941176, 0.9205882352941176, 0.9205882352941176, 0.9205882352941176, 0.9205882352941176, 0.9205882352941176, 0.9205882352941176, 0.9205882352941176, 0.9205882352941176, 0.9205882352941176, 0.9205882352941176, 0.9205882352941176, 0.9205882352941176, 0.9205882352941176, 0.9205882352941176, 0.9205882352941176, 0.9205882352941176]}], \"average_precision_score_micro\": [{\"categories\": [\"0\", \"1\", \"2\", \"3\", \"4\", \"5\", \"6\", \"7\", \"8\", \"9\", \"10\", \"11\", \"12\", \"13\", \"14\", \"15\", \"16\", \"17\", \"18\", \"19\", \"20\", \"21\", \"22\", \"23\", \"24\", \"25\", \"26\", \"27\", \"28\", \"29\", \"30\", \"31\", \"32\", \"33\", \"34\", \"35\", \"38\", \"39\"], \"mode\": \"markers\", \"name\": \"average_precision_score_micro\", \"stepped\": false, \"type\": \"scatter\", \"data\": [0.936445103548168, 0.937397536894041, 0.9475973344267266, 0.926588978952514, 0.9265917703406034, 0.8787028675694069, 0.9298440174887037, 0.9337276602903364, 0.9310027410727487, 0.9259093656890383, 0.9346414669004245, 0.9395558751706711, 0.9250907872311481, 0.9349456741949748, 0.9262183572897698, 0.9287463715837427, 0.9178121297996269, 0.9238302901259967, 0.9264945848146592, 0.926809225216186, 0.9154535320866731, 0.9435562271697708, 0.9389490584357774, 0.9171180398152179, 0.9182287046148288, 0.8851876047673972, 0.9213205387928797, 0.9238056309795726, 0.9321786670284673, 0.9256387145162496, 0.8851876047673972, 0.9228750941334448, 0.9233839931757336, 0.9235237167464382, 0.9186632703255718, 0.8851876047673972, 0.9336521585516053, 0.9336133188902181]}, {\"categories\": [\"0\", \"1\", \"2\", \"3\", \"4\", \"5\", \"6\", \"7\", \"8\", \"9\", \"10\", \"11\", \"12\", \"13\", \"14\", \"15\", \"16\", \"17\", \"18\", \"19\", \"20\", \"21\", \"22\", \"23\", \"24\", \"25\", \"26\", \"27\", \"28\", \"29\", \"30\", \"31\", \"32\", \"33\", \"34\", \"35\", \"38\", \"39\"], \"mode\": \"lines\", \"name\": \"average_precision_score_micro_max\", \"stepped\": true, \"type\": \"scatter\", \"data\": [0.936445103548168, 0.937397536894041, 0.9475973344267266, 0.9475973344267266, 0.9475973344267266, 0.9475973344267266, 0.9475973344267266, 0.9475973344267266, 0.9475973344267266, 0.9475973344267266, 0.9475973344267266, 0.9475973344267266, 0.9475973344267266, 0.9475973344267266, 0.9475973344267266, 0.9475973344267266, 0.9475973344267266, 0.9475973344267266, 0.9475973344267266, 0.9475973344267266, 0.9475973344267266, 0.9475973344267266, 0.9475973344267266, 0.9475973344267266, 0.9475973344267266, 0.9475973344267266, 0.9475973344267266, 0.9475973344267266, 0.9475973344267266, 0.9475973344267266, 0.9475973344267266, 0.9475973344267266, 0.9475973344267266, 0.9475973344267266, 0.9475973344267266, 0.9475973344267266, 0.9475973344267266, 0.9475973344267266]}], \"AUC_micro\": [{\"categories\": [\"0\", \"1\", \"2\", \"3\", \"4\", \"5\", \"6\", \"7\", \"8\", \"9\", \"10\", \"11\", \"12\", \"13\", \"14\", \"15\", \"16\", \"17\", \"18\", \"19\", \"20\", \"21\", \"22\", \"23\", \"24\", \"25\", \"26\", \"27\", \"28\", \"29\", \"30\", \"31\", \"32\", \"33\", \"34\", \"35\", \"38\", \"39\"], \"mode\": \"markers\", \"name\": \"AUC_micro\", \"stepped\": false, \"type\": \"scatter\", \"data\": [0.9433471126489812, 0.9425335024990389, 0.9496826451364859, 0.9369929104190696, 0.9288798923490967, 0.879715140330642, 0.938804951941561, 0.9376255440215301, 0.9367672895040368, 0.9399785620915033, 0.9423443752402921, 0.9435606920415225, 0.9370138869665514, 0.9397385620915035, 0.9424333102652825, 0.9425222452902731, 0.9240259284890427, 0.9289148635140331, 0.9399575855440216, 0.9405036063052672, 0.9312853287197231, 0.945173502499039, 0.9465696270665129, 0.9364426297577856, 0.9358666974240677, 0.9185882352941176, 0.9385890349865438, 0.9344853364090735, 0.945343206459054, 0.9417929257977701, 0.9185882352941176, 0.9355401153402537, 0.9388919492502883, 0.9323070818915802, 0.9376150557477892, 0.9185882352941176, 0.9402135024990388, 0.9411272895040369]}, {\"categories\": [\"0\", \"1\", \"2\", \"3\", \"4\", \"5\", \"6\", \"7\", \"8\", \"9\", \"10\", \"11\", \"12\", \"13\", \"14\", \"15\", \"16\", \"17\", \"18\", \"19\", \"20\", \"21\", \"22\", \"23\", \"24\", \"25\", \"26\", \"27\", \"28\", \"29\", \"30\", \"31\", \"32\", \"33\", \"34\", \"35\", \"38\", \"39\"], \"mode\": \"lines\", \"name\": \"AUC_micro_max\", \"stepped\": true, \"type\": \"scatter\", \"data\": [0.9433471126489812, 0.9433471126489812, 0.9496826451364859, 0.9496826451364859, 0.9496826451364859, 0.9496826451364859, 0.9496826451364859, 0.9496826451364859, 0.9496826451364859, 0.9496826451364859, 0.9496826451364859, 0.9496826451364859, 0.9496826451364859, 0.9496826451364859, 0.9496826451364859, 0.9496826451364859, 0.9496826451364859, 0.9496826451364859, 0.9496826451364859, 0.9496826451364859, 0.9496826451364859, 0.9496826451364859, 0.9496826451364859, 0.9496826451364859, 0.9496826451364859, 0.9496826451364859, 0.9496826451364859, 0.9496826451364859, 0.9496826451364859, 0.9496826451364859, 0.9496826451364859, 0.9496826451364859, 0.9496826451364859, 0.9496826451364859, 0.9496826451364859, 0.9496826451364859, 0.9496826451364859, 0.9496826451364859]}], \"recall_score_micro\": [{\"categories\": [\"0\", \"1\", \"2\", \"3\", \"4\", \"5\", \"6\", \"7\", \"8\", \"9\", \"10\", \"11\", \"12\", \"13\", \"14\", \"15\", \"16\", \"17\", \"18\", \"19\", \"20\", \"21\", \"22\", \"23\", \"24\", \"25\", \"26\", \"27\", \"28\", \"29\", \"30\", \"31\", \"32\", \"33\", \"34\", \"35\", \"38\", \"39\"], \"mode\": \"markers\", \"name\": \"recall_score_micro\", \"stepped\": false, \"type\": \"scatter\", \"data\": [0.9065882352941177, 0.9126666666666665, 0.9185882352941176, 0.9185882352941176, 0.8529803921568628, 0.8015686274509803, 0.9125882352941176, 0.9205882352941176, 0.9166666666666666, 0.9185882352941176, 0.9185882352941176, 0.9185882352941176, 0.9185882352941176, 0.9026666666666667, 0.9185882352941176, 0.9185882352941176, 0.8709019607843137, 0.8649803921568628, 0.9185882352941176, 0.9185882352941176, 0.9185882352941176, 0.9165882352941177, 0.9185882352941176, 0.9185882352941176, 0.9185882352941176, 0.9185882352941176, 0.9185882352941176, 0.9185882352941176, 0.9185882352941176, 0.9185882352941176, 0.9185882352941176, 0.9166274509803921, 0.9185882352941176, 0.9185882352941176, 0.9185882352941176, 0.9185882352941176, 0.9205882352941176, 0.9185882352941176]}, {\"categories\": [\"0\", \"1\", \"2\", \"3\", \"4\", \"5\", \"6\", \"7\", \"8\", \"9\", \"10\", \"11\", \"12\", \"13\", \"14\", \"15\", \"16\", \"17\", \"18\", \"19\", \"20\", \"21\", \"22\", \"23\", \"24\", \"25\", \"26\", \"27\", \"28\", \"29\", \"30\", \"31\", \"32\", \"33\", \"34\", \"35\", \"38\", \"39\"], \"mode\": \"lines\", \"name\": \"recall_score_micro_max\", \"stepped\": true, \"type\": \"scatter\", \"data\": [0.9065882352941177, 0.9126666666666665, 0.9185882352941176, 0.9185882352941176, 0.9185882352941176, 0.9185882352941176, 0.9185882352941176, 0.9205882352941176, 0.9205882352941176, 0.9205882352941176, 0.9205882352941176, 0.9205882352941176, 0.9205882352941176, 0.9205882352941176, 0.9205882352941176, 0.9205882352941176, 0.9205882352941176, 0.9205882352941176, 0.9205882352941176, 0.9205882352941176, 0.9205882352941176, 0.9205882352941176, 0.9205882352941176, 0.9205882352941176, 0.9205882352941176, 0.9205882352941176, 0.9205882352941176, 0.9205882352941176, 0.9205882352941176, 0.9205882352941176, 0.9205882352941176, 0.9205882352941176, 0.9205882352941176, 0.9205882352941176, 0.9205882352941176, 0.9205882352941176, 0.9205882352941176, 0.9205882352941176]}], \"log_loss\": [{\"categories\": [\"0\", \"1\", \"2\", \"3\", \"4\", \"5\", \"6\", \"7\", \"8\", \"9\", \"10\", \"11\", \"12\", \"13\", \"14\", \"15\", \"16\", \"17\", \"18\", \"19\", \"20\", \"21\", \"22\", \"23\", \"24\", \"25\", \"26\", \"27\", \"28\", \"29\", \"30\", \"31\", \"32\", \"33\", \"34\", \"35\", \"38\", \"39\"], \"mode\": \"markers\", \"name\": \"log_loss\", \"stepped\": false, \"type\": \"scatter\", \"data\": [0.39960509455308063, 0.28390257495825255, 0.2643668288723898, 0.27461416980608644, 0.4004972001186927, 0.49009747031657935, 0.2894381910521446, 0.3219940723912277, 0.32132549869851645, 0.27992503232021615, 0.2720456901679216, 0.2792343007615559, 0.2758382666245415, 0.3208593182925711, 0.26827791030405307, 0.26918977968794694, 0.47320424649179255, 0.45437476037133917, 0.2695204750863942, 0.2717195040202084, 0.5975994149258621, 0.2747273786539163, 0.2688679111301613, 0.2806232152888418, 0.27863779999804894, 0.3628802147116811, 0.2738062189405686, 0.27741675130883736, 0.2712534119192683, 0.2704153253525262, 0.2834889889185657, 0.29612350648013186, 0.27270461079440234, 0.2817286101940428, 0.35712807371154387, 0.2833110036990191, 0.2717593604389033, 0.27679804443150974]}, {\"categories\": [\"0\", \"1\", \"2\", \"3\", \"4\", \"5\", \"6\", \"7\", \"8\", \"9\", \"10\", \"11\", \"12\", \"13\", \"14\", \"15\", \"16\", \"17\", \"18\", \"19\", \"20\", \"21\", \"22\", \"23\", \"24\", \"25\", \"26\", \"27\", \"28\", \"29\", \"30\", \"31\", \"32\", \"33\", \"34\", \"35\", \"38\", \"39\"], \"mode\": \"lines\", \"name\": \"log_loss_min\", \"stepped\": true, \"type\": \"scatter\", \"data\": [0.39960509455308063, 0.28390257495825255, 0.2643668288723898, 0.2643668288723898, 0.2643668288723898, 0.2643668288723898, 0.2643668288723898, 0.2643668288723898, 0.2643668288723898, 0.2643668288723898, 0.2643668288723898, 0.2643668288723898, 0.2643668288723898, 0.2643668288723898, 0.2643668288723898, 0.2643668288723898, 0.2643668288723898, 0.2643668288723898, 0.2643668288723898, 0.2643668288723898, 0.2643668288723898, 0.2643668288723898, 0.2643668288723898, 0.2643668288723898, 0.2643668288723898, 0.2643668288723898, 0.2643668288723898, 0.2643668288723898, 0.2643668288723898, 0.2643668288723898, 0.2643668288723898, 0.2643668288723898, 0.2643668288723898, 0.2643668288723898, 0.2643668288723898, 0.2643668288723898, 0.2643668288723898, 0.2643668288723898]}], \"recall_score_weighted\": [{\"categories\": [\"0\", \"1\", \"2\", \"3\", \"4\", \"5\", \"6\", \"7\", \"8\", \"9\", \"10\", \"11\", \"12\", \"13\", \"14\", \"15\", \"16\", \"17\", \"18\", \"19\", \"20\", \"21\", \"22\", \"23\", \"24\", \"25\", \"26\", \"27\", \"28\", \"29\", \"30\", \"31\", \"32\", \"33\", \"34\", \"35\", \"38\", \"39\"], \"mode\": \"markers\", \"name\": \"recall_score_weighted\", \"stepped\": false, \"type\": \"scatter\", \"data\": [0.9065882352941177, 0.9126666666666665, 0.9185882352941176, 0.9185882352941176, 0.8529803921568628, 0.8015686274509803, 0.9125882352941176, 0.9205882352941176, 0.9166666666666666, 0.9185882352941176, 0.9185882352941176, 0.9185882352941176, 0.9185882352941176, 0.9026666666666667, 0.9185882352941176, 0.9185882352941176, 0.8709019607843137, 0.8649803921568628, 0.9185882352941176, 0.9185882352941176, 0.9185882352941176, 0.9165882352941177, 0.9185882352941176, 0.9185882352941176, 0.9185882352941176, 0.9185882352941176, 0.9185882352941176, 0.9185882352941176, 0.9185882352941176, 0.9185882352941176, 0.9185882352941176, 0.9166274509803921, 0.9185882352941176, 0.9185882352941176, 0.9185882352941176, 0.9185882352941176, 0.9205882352941176, 0.9185882352941176]}, {\"categories\": [\"0\", \"1\", \"2\", \"3\", \"4\", \"5\", \"6\", \"7\", \"8\", \"9\", \"10\", \"11\", \"12\", \"13\", \"14\", \"15\", \"16\", \"17\", \"18\", \"19\", \"20\", \"21\", \"22\", \"23\", \"24\", \"25\", \"26\", \"27\", \"28\", \"29\", \"30\", \"31\", \"32\", \"33\", \"34\", \"35\", \"38\", \"39\"], \"mode\": \"lines\", \"name\": \"recall_score_weighted_max\", \"stepped\": true, \"type\": \"scatter\", \"data\": [0.9065882352941177, 0.9126666666666665, 0.9185882352941176, 0.9185882352941176, 0.9185882352941176, 0.9185882352941176, 0.9185882352941176, 0.9205882352941176, 0.9205882352941176, 0.9205882352941176, 0.9205882352941176, 0.9205882352941176, 0.9205882352941176, 0.9205882352941176, 0.9205882352941176, 0.9205882352941176, 0.9205882352941176, 0.9205882352941176, 0.9205882352941176, 0.9205882352941176, 0.9205882352941176, 0.9205882352941176, 0.9205882352941176, 0.9205882352941176, 0.9205882352941176, 0.9205882352941176, 0.9205882352941176, 0.9205882352941176, 0.9205882352941176, 0.9205882352941176, 0.9205882352941176, 0.9205882352941176, 0.9205882352941176, 0.9205882352941176, 0.9205882352941176, 0.9205882352941176, 0.9205882352941176, 0.9205882352941176]}], \"precision_score_macro\": [{\"categories\": [\"0\", \"1\", \"2\", \"3\", \"4\", \"5\", \"6\", \"7\", \"8\", \"9\", \"10\", \"11\", \"12\", \"13\", \"14\", \"15\", \"16\", \"17\", \"18\", \"19\", \"20\", \"21\", \"22\", \"23\", \"24\", \"25\", \"26\", \"27\", \"28\", \"29\", \"30\", \"31\", \"32\", \"33\", \"34\", \"35\", \"38\", \"39\"], \"mode\": \"markers\", \"name\": \"precision_score_macro\", \"stepped\": false, \"type\": \"scatter\", \"data\": [0.5516047263185262, 0.535782112845138, 0.4592941176470588, 0.4592941176470588, 0.5751847204597882, 0.5488710204564164, 0.5606807222889155, 0.611890756302521, 0.535969837935174, 0.4592941176470588, 0.4592941176470588, 0.4592941176470588, 0.4592941176470588, 0.5603013077571454, 0.4592941176470588, 0.4592941176470588, 0.5299661982585202, 0.5266037538217708, 0.4592941176470588, 0.4592941176470588, 0.4592941176470588, 0.5100084033613446, 0.4592941176470588, 0.4592941176470588, 0.4592941176470588, 0.4592941176470588, 0.4592941176470588, 0.4592941176470588, 0.4592941176470588, 0.4592941176470588, 0.4592941176470588, 0.5866561624649859, 0.4592941176470588, 0.4592941176470588, 0.4592941176470588, 0.4592941176470588, 0.5102328931572628, 0.4592941176470588]}, {\"categories\": [\"0\", \"1\", \"2\", \"3\", \"4\", \"5\", \"6\", \"7\", \"8\", \"9\", \"10\", \"11\", \"12\", \"13\", \"14\", \"15\", \"16\", \"17\", \"18\", \"19\", \"20\", \"21\", \"22\", \"23\", \"24\", \"25\", \"26\", \"27\", \"28\", \"29\", \"30\", \"31\", \"32\", \"33\", \"34\", \"35\", \"38\", \"39\"], \"mode\": \"lines\", \"name\": \"precision_score_macro_max\", \"stepped\": true, \"type\": \"scatter\", \"data\": [0.5516047263185262, 0.5516047263185262, 0.5516047263185262, 0.5516047263185262, 0.5751847204597882, 0.5751847204597882, 0.5751847204597882, 0.611890756302521, 0.611890756302521, 0.611890756302521, 0.611890756302521, 0.611890756302521, 0.611890756302521, 0.611890756302521, 0.611890756302521, 0.611890756302521, 0.611890756302521, 0.611890756302521, 0.611890756302521, 0.611890756302521, 0.611890756302521, 0.611890756302521, 0.611890756302521, 0.611890756302521, 0.611890756302521, 0.611890756302521, 0.611890756302521, 0.611890756302521, 0.611890756302521, 0.611890756302521, 0.611890756302521, 0.611890756302521, 0.611890756302521, 0.611890756302521, 0.611890756302521, 0.611890756302521, 0.611890756302521, 0.611890756302521]}], \"f1_score_macro\": [{\"categories\": [\"0\", \"1\", \"2\", \"3\", \"4\", \"5\", \"6\", \"7\", \"8\", \"9\", \"10\", \"11\", \"12\", \"13\", \"14\", \"15\", \"16\", \"17\", \"18\", \"19\", \"20\", \"21\", \"22\", \"23\", \"24\", \"25\", \"26\", \"27\", \"28\", \"29\", \"30\", \"31\", \"32\", \"33\", \"34\", \"35\", \"38\", \"39\"], \"mode\": \"markers\", \"name\": \"f1_score_macro\", \"stepped\": false, \"type\": \"scatter\", \"data\": [0.5326445461763338, 0.5112579418008613, 0.47868657777990514, 0.47868657777990514, 0.5489477561310567, 0.5450186161461498, 0.5169034355239883, 0.5357564376164448, 0.5114278494687543, 0.47868657777990514, 0.47868657777990514, 0.47868657777990514, 0.47868657777990514, 0.5191372148336318, 0.47868657777990514, 0.47868657777990514, 0.5100587228273463, 0.5055544197121028, 0.47868657777990514, 0.47868657777990514, 0.47868657777990514, 0.49473583701197466, 0.47868657777990514, 0.47868657777990514, 0.47868657777990514, 0.47868657777990514, 0.47868657777990514, 0.47868657777990514, 0.47868657777990514, 0.47868657777990514, 0.47868657777990514, 0.5312657728639781, 0.47868657777990514, 0.47868657777990514, 0.47868657777990514, 0.47868657777990514, 0.4991909637448174, 0.47868657777990514]}, {\"categories\": [\"0\", \"1\", \"2\", \"3\", \"4\", \"5\", \"6\", \"7\", \"8\", \"9\", \"10\", \"11\", \"12\", \"13\", \"14\", \"15\", \"16\", \"17\", \"18\", \"19\", \"20\", \"21\", \"22\", \"23\", \"24\", \"25\", \"26\", \"27\", \"28\", \"29\", \"30\", \"31\", \"32\", \"33\", \"34\", \"35\", \"38\", \"39\"], \"mode\": \"lines\", \"name\": \"f1_score_macro_max\", \"stepped\": true, \"type\": \"scatter\", \"data\": [0.5326445461763338, 0.5326445461763338, 0.5326445461763338, 0.5326445461763338, 0.5489477561310567, 0.5489477561310567, 0.5489477561310567, 0.5489477561310567, 0.5489477561310567, 0.5489477561310567, 0.5489477561310567, 0.5489477561310567, 0.5489477561310567, 0.5489477561310567, 0.5489477561310567, 0.5489477561310567, 0.5489477561310567, 0.5489477561310567, 0.5489477561310567, 0.5489477561310567, 0.5489477561310567, 0.5489477561310567, 0.5489477561310567, 0.5489477561310567, 0.5489477561310567, 0.5489477561310567, 0.5489477561310567, 0.5489477561310567, 0.5489477561310567, 0.5489477561310567, 0.5489477561310567, 0.5489477561310567, 0.5489477561310567, 0.5489477561310567, 0.5489477561310567, 0.5489477561310567, 0.5489477561310567, 0.5489477561310567]}], \"AUC_macro\": [{\"categories\": [\"0\", \"1\", \"2\", \"3\", \"4\", \"5\", \"6\", \"7\", \"8\", \"9\", \"10\", \"11\", \"12\", \"13\", \"14\", \"15\", \"16\", \"17\", \"18\", \"19\", \"20\", \"21\", \"22\", \"23\", \"24\", \"25\", \"26\", \"27\", \"28\", \"29\", \"30\", \"31\", \"32\", \"33\", \"34\", \"35\", \"38\", \"39\"], \"mode\": \"markers\", \"name\": \"AUC_macro\", \"stepped\": false, \"type\": \"scatter\", \"data\": [0.6562856048657586, 0.6414761065208878, 0.6850194958018203, 0.6048708869158173, 0.6690601381686709, 0.6051215233248173, 0.6173789334778867, 0.6152016075367178, 0.6062912336760965, 0.6311296547690637, 0.6413722018456214, 0.6420134077496353, 0.5910141715672709, 0.6324648566566873, 0.6446419378542458, 0.6431901056480649, 0.6257339071075798, 0.6420579175972607, 0.63138471229552, 0.6254629826143252, 0.5592538805423853, 0.6624221926305391, 0.6645203593072307, 0.6030733993502027, 0.6083444277509498, 0.5, 0.6143505576344372, 0.5813590863175151, 0.6525568257026939, 0.6343751929667019, 0.5, 0.6196935387540555, 0.6157381412525282, 0.5676570851762888, 0.6188917459302776, 0.5, 0.6245421230730099, 0.6303097811391121]}, {\"categories\": [\"0\", \"1\", \"2\", \"3\", \"4\", \"5\", \"6\", \"7\", \"8\", \"9\", \"10\", \"11\", \"12\", \"13\", \"14\", \"15\", \"16\", \"17\", \"18\", \"19\", \"20\", \"21\", \"22\", \"23\", \"24\", \"25\", \"26\", \"27\", \"28\", \"29\", \"30\", \"31\", \"32\", \"33\", \"34\", \"35\", \"38\", \"39\"], \"mode\": \"lines\", \"name\": \"AUC_macro_max\", \"stepped\": true, \"type\": \"scatter\", \"data\": [0.6562856048657586, 0.6562856048657586, 0.6850194958018203, 0.6850194958018203, 0.6850194958018203, 0.6850194958018203, 0.6850194958018203, 0.6850194958018203, 0.6850194958018203, 0.6850194958018203, 0.6850194958018203, 0.6850194958018203, 0.6850194958018203, 0.6850194958018203, 0.6850194958018203, 0.6850194958018203, 0.6850194958018203, 0.6850194958018203, 0.6850194958018203, 0.6850194958018203, 0.6850194958018203, 0.6850194958018203, 0.6850194958018203, 0.6850194958018203, 0.6850194958018203, 0.6850194958018203, 0.6850194958018203, 0.6850194958018203, 0.6850194958018203, 0.6850194958018203, 0.6850194958018203, 0.6850194958018203, 0.6850194958018203, 0.6850194958018203, 0.6850194958018203, 0.6850194958018203, 0.6850194958018203, 0.6850194958018203]}], \"precision_score_weighted\": [{\"categories\": [\"0\", \"1\", \"2\", \"3\", \"4\", \"5\", \"6\", \"7\", \"8\", \"9\", \"10\", \"11\", \"12\", \"13\", \"14\", \"15\", \"16\", \"17\", \"18\", \"19\", \"20\", \"21\", \"22\", \"23\", \"24\", \"25\", \"26\", \"27\", \"28\", \"29\", \"30\", \"31\", \"32\", \"33\", \"34\", \"35\", \"38\", \"39\"], \"mode\": \"markers\", \"name\": \"precision_score_weighted\", \"stepped\": false, \"type\": \"scatter\", \"data\": [0.864644062594583, 0.8601944660217027, 0.844481722414456, 0.844481722414456, 0.8744643168630052, 0.8700189984338694, 0.8629084556567724, 0.8750827753846636, 0.8615248682217984, 0.844481722414456, 0.844481722414456, 0.844481722414456, 0.844481722414456, 0.8604055484939075, 0.844481722414456, 0.844481722414456, 0.8562630833893842, 0.8557856148863137, 0.844481722414456, 0.844481722414456, 0.844481722414456, 0.8557739673124152, 0.844481722414456, 0.844481722414456, 0.844481722414456, 0.844481722414456, 0.844481722414456, 0.844481722414456, 0.844481722414456, 0.844481722414456, 0.844481722414456, 0.8708259041263563, 0.844481722414456, 0.844481722414456, 0.844481722414456, 0.844481722414456, 0.8542090693532314, 0.844481722414456]}, {\"categories\": [\"0\", \"1\", \"2\", \"3\", \"4\", \"5\", \"6\", \"7\", \"8\", \"9\", \"10\", \"11\", \"12\", \"13\", \"14\", \"15\", \"16\", \"17\", \"18\", \"19\", \"20\", \"21\", \"22\", \"23\", \"24\", \"25\", \"26\", \"27\", \"28\", \"29\", \"30\", \"31\", \"32\", \"33\", \"34\", \"35\", \"38\", \"39\"], \"mode\": \"lines\", \"name\": \"precision_score_weighted_max\", \"stepped\": true, \"type\": \"scatter\", \"data\": [0.864644062594583, 0.864644062594583, 0.864644062594583, 0.864644062594583, 0.8744643168630052, 0.8744643168630052, 0.8744643168630052, 0.8750827753846636, 0.8750827753846636, 0.8750827753846636, 0.8750827753846636, 0.8750827753846636, 0.8750827753846636, 0.8750827753846636, 0.8750827753846636, 0.8750827753846636, 0.8750827753846636, 0.8750827753846636, 0.8750827753846636, 0.8750827753846636, 0.8750827753846636, 0.8750827753846636, 0.8750827753846636, 0.8750827753846636, 0.8750827753846636, 0.8750827753846636, 0.8750827753846636, 0.8750827753846636, 0.8750827753846636, 0.8750827753846636, 0.8750827753846636, 0.8750827753846636, 0.8750827753846636, 0.8750827753846636, 0.8750827753846636, 0.8750827753846636, 0.8750827753846636, 0.8750827753846636]}], \"recall_score_macro\": [{\"categories\": [\"0\", \"1\", \"2\", \"3\", \"4\", \"5\", \"6\", \"7\", \"8\", \"9\", \"10\", \"11\", \"12\", \"13\", \"14\", \"15\", \"16\", \"17\", \"18\", \"19\", \"20\", \"21\", \"22\", \"23\", \"24\", \"25\", \"26\", \"27\", \"28\", \"29\", \"30\", \"31\", \"32\", \"33\", \"34\", \"35\", \"38\", \"39\"], \"mode\": \"markers\", \"name\": \"recall_score_macro\", \"stepped\": false, \"type\": \"scatter\", \"data\": [0.5409078475670256, 0.5171214520774499, 0.5, 0.5, 0.5599201619708041, 0.5676116209163928, 0.5195032241324127, 0.5328168011390603, 0.5193288055277615, 0.5, 0.5, 0.5, 0.5, 0.518256179215155, 0.5, 0.5, 0.5165830129640938, 0.5135921965326802, 0.5, 0.5, 0.5, 0.5077733795150916, 0.5, 0.5, 0.5, 0.5, 0.5, 0.5, 0.5, 0.5, 0.5, 0.5305236322956779, 0.5, 0.5, 0.5, 0.5, 0.5125, 0.5]}, {\"categories\": [\"0\", \"1\", \"2\", \"3\", \"4\", \"5\", \"6\", \"7\", \"8\", \"9\", \"10\", \"11\", \"12\", \"13\", \"14\", \"15\", \"16\", \"17\", \"18\", \"19\", \"20\", \"21\", \"22\", \"23\", \"24\", \"25\", \"26\", \"27\", \"28\", \"29\", \"30\", \"31\", \"32\", \"33\", \"34\", \"35\", \"38\", \"39\"], \"mode\": \"lines\", \"name\": \"recall_score_macro_max\", \"stepped\": true, \"type\": \"scatter\", \"data\": [0.5409078475670256, 0.5409078475670256, 0.5409078475670256, 0.5409078475670256, 0.5599201619708041, 0.5676116209163928, 0.5676116209163928, 0.5676116209163928, 0.5676116209163928, 0.5676116209163928, 0.5676116209163928, 0.5676116209163928, 0.5676116209163928, 0.5676116209163928, 0.5676116209163928, 0.5676116209163928, 0.5676116209163928, 0.5676116209163928, 0.5676116209163928, 0.5676116209163928, 0.5676116209163928, 0.5676116209163928, 0.5676116209163928, 0.5676116209163928, 0.5676116209163928, 0.5676116209163928, 0.5676116209163928, 0.5676116209163928, 0.5676116209163928, 0.5676116209163928, 0.5676116209163928, 0.5676116209163928, 0.5676116209163928, 0.5676116209163928, 0.5676116209163928, 0.5676116209163928, 0.5676116209163928, 0.5676116209163928]}]}, \"metricName\": null, \"primaryMetricName\": \"accuracy\", \"showLegend\": false}, \"run_metrics\": [{\"name\": \"experiment_status\", \"run_id\": \"AutoML_4d713bd5-53de-413c-8017-184f88c4b73d\", \"categories\": [0, 1, 2, 3, 4, 5, 6, 7, 8, 9, 10, 11, 12, 13, 14], \"series\": [{\"data\": [\"DatasetEvaluation\", \"FeaturesGeneration\", \"DatasetFeaturization\", \"DatasetFeaturizationCompleted\", \"DatasetBalancing\", \"DatasetCrossValidationSplit\", \"ModelSelection\", \"BestRunExplainModel\", \"ModelExplanationDataSetSetup\", \"PickSurrogateModel\", \"EngineeredFeatureExplanations\", \"EngineeredFeatureExplanations\", \"RawFeaturesExplanations\", \"RawFeaturesExplanations\", \"BestRunExplainModel\"]}]}, {\"name\": \"experiment_status_description\", \"run_id\": \"AutoML_4d713bd5-53de-413c-8017-184f88c4b73d\", \"categories\": [0, 1, 2, 3, 4, 5, 6, 7, 8, 9, 10, 11, 12, 13, 14], \"series\": [{\"data\": [\"Gathering dataset statistics.\", \"Generating features for the dataset.\", \"Beginning to fit featurizers and featurize the dataset.\", \"Completed fit featurizers and featurizing the dataset.\", \"Performing class balancing sweeping\", \"Generating individually featurized CV splits.\", \"Beginning model selection.\", \"Best run model explanations started\", \"Model explanations data setup completed\", \"Choosing LightGBM as the surrogate model for explanations\", \"Computation of engineered features started\", \"Computation of engineered features completed\", \"Computation of raw features started\", \"Computation of raw features completed\", \"Best run model explanations completed\"]}]}, {\"name\": \"average_precision_score_micro\", \"run_id\": \"AutoML_4d713bd5-53de-413c-8017-184f88c4b73d\", \"categories\": [0], \"series\": [{\"data\": [0.9337276602903364]}]}, {\"name\": \"f1_score_macro\", \"run_id\": \"AutoML_4d713bd5-53de-413c-8017-184f88c4b73d\", \"categories\": [0], \"series\": [{\"data\": [0.5357564376164448]}]}, {\"name\": \"norm_macro_recall\", \"run_id\": \"AutoML_4d713bd5-53de-413c-8017-184f88c4b73d\", \"categories\": [0], \"series\": [{\"data\": [0.06999999999999999]}]}, {\"name\": \"AUC_macro\", \"run_id\": \"AutoML_4d713bd5-53de-413c-8017-184f88c4b73d\", \"categories\": [0], \"series\": [{\"data\": [0.6152016075367178]}]}, {\"name\": \"AUC_micro\", \"run_id\": \"AutoML_4d713bd5-53de-413c-8017-184f88c4b73d\", \"categories\": [0], \"series\": [{\"data\": [0.9376255440215301]}]}, {\"name\": \"precision_score_macro\", \"run_id\": \"AutoML_4d713bd5-53de-413c-8017-184f88c4b73d\", \"categories\": [0], \"series\": [{\"data\": [0.611890756302521]}]}, {\"name\": \"AUC_weighted\", \"run_id\": \"AutoML_4d713bd5-53de-413c-8017-184f88c4b73d\", \"categories\": [0], \"series\": [{\"data\": [0.6152016075367178]}]}, {\"name\": \"balanced_accuracy\", \"run_id\": \"AutoML_4d713bd5-53de-413c-8017-184f88c4b73d\", \"categories\": [0], \"series\": [{\"data\": [0.5328168011390603]}]}, {\"name\": \"recall_score_weighted\", \"run_id\": \"AutoML_4d713bd5-53de-413c-8017-184f88c4b73d\", \"categories\": [0], \"series\": [{\"data\": [0.9205882352941176]}]}, {\"name\": \"accuracy\", \"run_id\": \"AutoML_4d713bd5-53de-413c-8017-184f88c4b73d\", \"categories\": [0], \"series\": [{\"data\": [0.9205882352941176]}]}, {\"name\": \"recall_score_macro\", \"run_id\": \"AutoML_4d713bd5-53de-413c-8017-184f88c4b73d\", \"categories\": [0], \"series\": [{\"data\": [0.5328168011390603]}]}, {\"name\": \"average_precision_score_weighted\", \"run_id\": \"AutoML_4d713bd5-53de-413c-8017-184f88c4b73d\", \"categories\": [0], \"series\": [{\"data\": [0.8982424896710327]}]}, {\"name\": \"f1_score_micro\", \"run_id\": \"AutoML_4d713bd5-53de-413c-8017-184f88c4b73d\", \"categories\": [0], \"series\": [{\"data\": [0.9205882352941176]}]}, {\"name\": \"log_loss\", \"run_id\": \"AutoML_4d713bd5-53de-413c-8017-184f88c4b73d\", \"categories\": [0], \"series\": [{\"data\": [0.3219940723912277]}]}, {\"name\": \"matthews_correlation\", \"run_id\": \"AutoML_4d713bd5-53de-413c-8017-184f88c4b73d\", \"categories\": [0], \"series\": [{\"data\": [0.13115810856230142]}]}, {\"name\": \"average_precision_score_macro\", \"run_id\": \"AutoML_4d713bd5-53de-413c-8017-184f88c4b73d\", \"categories\": [0], \"series\": [{\"data\": [0.6057686691878549]}]}, {\"name\": \"precision_score_micro\", \"run_id\": \"AutoML_4d713bd5-53de-413c-8017-184f88c4b73d\", \"categories\": [0], \"series\": [{\"data\": [0.9205882352941176]}]}, {\"name\": \"weighted_accuracy\", \"run_id\": \"AutoML_4d713bd5-53de-413c-8017-184f88c4b73d\", \"categories\": [0], \"series\": [{\"data\": [0.9874224720769181]}]}, {\"name\": \"f1_score_weighted\", \"run_id\": \"AutoML_4d713bd5-53de-413c-8017-184f88c4b73d\", \"categories\": [0], \"series\": [{\"data\": [0.8902252790824765]}]}, {\"name\": \"recall_score_micro\", \"run_id\": \"AutoML_4d713bd5-53de-413c-8017-184f88c4b73d\", \"categories\": [0], \"series\": [{\"data\": [0.9205882352941176]}]}, {\"name\": \"precision_score_weighted\", \"run_id\": \"AutoML_4d713bd5-53de-413c-8017-184f88c4b73d\", \"categories\": [0], \"series\": [{\"data\": [0.8750827753846636]}]}], \"run_logs\": \"\\nRun is completed.\", \"graph\": {}, \"widget_settings\": {\"childWidgetDisplay\": \"popup\", \"send_telemetry\": false, \"log_level\": \"INFO\", \"sdk_version\": \"1.19.0\"}, \"loading\": false}"
     },
     "metadata": {},
     "output_type": "display_data"
    }
   ],
   "source": [
    "from azureml.widgets import RunDetails\n",
    "RunDetails(run).show()"
   ]
  },
  {
   "cell_type": "markdown",
   "metadata": {
    "id": "j6Mgb1o_4OZR"
   },
   "source": [
    "**Analyze results**\n",
    "\n",
    "Retrieve the Best Model\n",
    "Below we select the best pipeline from our iterations. The get_output method on automl_classifier returns the best run and the fitted model for the last invocation. Overloads on get_output allow you to retrieve the best run and fitted model for any logged metric or for a particular iteration."
   ]
  },
  {
   "cell_type": "code",
   "execution_count": 38,
   "metadata": {
    "id": "ayaOLXjy4O7F"
   },
   "outputs": [
    {
     "name": "stdout",
     "output_type": "stream",
     "text": [
      "Run(Experiment: lv-automl-classification,\n",
      "Id: AutoML_4d713bd5-53de-413c-8017-184f88c4b73d_7,\n",
      "Type: azureml.scriptrun,\n",
      "Status: Completed)\n",
      "Pipeline(memory=None,\n",
      "         steps=[('datatransformer',\n",
      "                 DataTransformer(enable_dnn=None, enable_feature_sweeping=None,\n",
      "                                 feature_sweeping_config=None,\n",
      "                                 feature_sweeping_timeout=None,\n",
      "                                 featurization_config=None, force_text_dnn=None,\n",
      "                                 is_cross_validation=None,\n",
      "                                 is_onnx_compatible=None, logger=None,\n",
      "                                 observer=None, task=None, working_dir=None)),\n",
      "                ('SparseNormalizer',\n",
      "                 <azureml.auto...\n",
      "                                   colsample_bytree=0.5, eta=0.1, gamma=0,\n",
      "                                   learning_rate=0.1, max_delta_step=0,\n",
      "                                   max_depth=6, max_leaves=15,\n",
      "                                   min_child_weight=1, missing=nan,\n",
      "                                   n_estimators=100, n_jobs=1, nthread=None,\n",
      "                                   objective='reg:logistic', random_state=0,\n",
      "                                   reg_alpha=0, reg_lambda=2.0833333333333335,\n",
      "                                   scale_pos_weight=1, seed=None, silent=None,\n",
      "                                   subsample=1, tree_method='auto', verbose=-10,\n",
      "                                   verbosity=0))],\n",
      "         verbose=False)\n"
     ]
    }
   ],
   "source": [
    "best_run, fitted_model = run.get_output()\n",
    "print(best_run)\n",
    "print(fitted_model)"
   ]
  },
  {
   "cell_type": "markdown",
   "metadata": {
    "id": "7KE7lJDI6AQI"
   },
   "source": [
    "**Tests**\n",
    "\n",
    "Now that the model is trained, split the data in the same way the data was split for training (The difference here is the data is being split locally) and then run the test data through the trained model to get the predicted values."
   ]
  },
  {
   "cell_type": "code",
   "execution_count": 49,
   "metadata": {
    "id": "J7NePAUs6Ed4"
   },
   "outputs": [],
   "source": [
    "# convert the test data to dataframe\n",
    "X_test_df = test_data.drop_columns('Score').to_pandas_dataframe()\n",
    "y_test_df = test_data.keep_columns('Score', validate=True).to_pandas_dataframe()"
   ]
  },
  {
   "cell_type": "code",
   "execution_count": 50,
   "metadata": {
    "id": "GkzH8HHv6c0Q"
   },
   "outputs": [
    {
     "data": {
      "text/plain": [
       "array([1, 0, 1, 1, 1, 1, 1, 1, 1, 1, 1, 1, 1, 1, 1, 1, 1, 1, 1, 0, 1, 1,\n",
       "       1, 1, 1, 1, 1, 1, 1, 1, 1, 1, 0, 1, 1, 1, 1, 1, 1, 1, 1, 1, 1, 1,\n",
       "       1, 1, 1, 1, 1, 1, 1, 1, 1, 1, 1, 0, 1, 1, 1, 1, 1, 1, 0, 1, 1, 1,\n",
       "       1, 1, 1, 0, 1, 1, 1, 1, 1, 1, 1, 1, 1, 1, 1, 1, 1, 1, 1, 1, 1, 1,\n",
       "       1, 1, 1, 1, 1, 1, 1, 1, 1, 1, 1, 1, 1, 1, 1, 1, 1, 1, 1, 1, 1, 1,\n",
       "       1, 1, 1, 1, 1, 1, 1, 1, 1, 1])"
      ]
     },
     "execution_count": 50,
     "metadata": {},
     "output_type": "execute_result"
    }
   ],
   "source": [
    "# call the predict functions on the model\n",
    "y_pred = fitted_model.predict(X_test_df)\n",
    "y_pred"
   ]
  },
  {
   "cell_type": "markdown",
   "metadata": {
    "id": "2LHtTWaK6f_P"
   },
   "source": [
    "**Calculate metrics for the prediction**\n",
    "\n",
    "Now visualize the data on a scatter plot to show what our truth (actual) values are compared to the predicted values from the trained model that was returned."
   ]
  },
  {
   "cell_type": "code",
   "execution_count": 51,
   "metadata": {
    "id": "YEVPEt2R6jtY"
   },
   "outputs": [
    {
     "data": {
      "image/png": "[encoded data removed]",
      "text/plain": [
       "<Figure size 432x288 with 2 Axes>"
      ]
     },
     "metadata": {
      "needs_background": "light"
     },
     "output_type": "display_data"
    }
   ],
   "source": [
    "from sklearn.metrics import confusion_matrix\n",
    "import numpy as np\n",
    "import itertools\n",
    "\n",
    "cf =confusion_matrix(y_test_df.values,y_pred)\n",
    "plt.imshow(cf,cmap=plt.cm.Blues,interpolation='nearest')\n",
    "plt.colorbar()\n",
    "plt.title('Confusion Matrix')\n",
    "plt.xlabel('Predicted')\n",
    "plt.ylabel('Actual')\n",
    "class_labels = ['False','True']\n",
    "tick_marks = np.arange(len(class_labels))\n",
    "plt.xticks(tick_marks,class_labels)\n",
    "plt.yticks([-0.5,0,1,1.5],['','False','True',''])\n",
    "# plotting text value inside cells\n",
    "thresh = cf.max() / 2.\n",
    "for i,j in itertools.product(range(cf.shape[0]),range(cf.shape[1])):\n",
    "    plt.text(j,i,format(cf[i,j],'d'),horizontalalignment='center',color='white' if cf[i,j] >thresh else 'black')\n",
    "plt.show()"
   ]
  },
  {
   "cell_type": "markdown",
   "metadata": {
    "id": "_jcRHaNk6zlG"
   },
   "source": [
    "**Run the explanation**\n",
    "\n",
    "Download the engineered feature importance from artifact store\n",
    "You can use ExplanationClient to download the engineered feature explanations from the artifact store of the best_run. You can also use azure portal url to view the dash board visualization of the feature importance values of the engineered features."
   ]
  },
  {
   "cell_type": "code",
   "execution_count": 53,
   "metadata": {
    "id": "XdFNkPhG63KK"
   },
   "outputs": [
    {
     "name": "stdout",
     "output_type": "stream",
     "text": [
      "{'Column1_MeanImputer': 0.3648241271725998, 'Nr_reviews_MeanImputer': 0.362253986232529, 'Nr_hotel_reviews_MeanImputer': 0.2807695889819347, 'Helpful_votes_MeanImputer': 0.20964967420532163, 'User_country_HashOneHotEncoder_6': 0.20464500740659525, 'Member_years_CharGramCountVectorizer_4': 0.14085554826998292, 'Review_weekday_CharGramCountVectorizer_tuesday': 0.11970368229579677, 'Traveler_type_CharGramCountVectorizer_friends': 0.10589367616122501, 'Hotel_stars_CharGramCountVectorizer_4': 0.09691508606848731, 'Review_weekday_CharGramCountVectorizer_wednesday': 0.09118871170005315, 'Period_of_stay_CharGramCountVectorizer_jun-aug': 0.09049543745682545, 'Free_internet_ModeCatImputer_LabelEncoder': 0.0858119968690767, 'Member_years_CharGramCountVectorizer_1': 0.0715514387835813, 'Hotel_name_CharGramCountVectorizer_hilton grand vacations on the boulevard': 0.04945902716238283, 'Review_weekday_CharGramCountVectorizer_sunday': 0.04172018026866377, 'Review_weekday_CharGramCountVectorizer_saturday': 0.039081876672698156, 'User_continent_CharGramCountVectorizer_oceania': 0.038986218137399706, 'Review_weekday_CharGramCountVectorizer_friday': 0.03820460627481415, 'Period_of_stay_CharGramCountVectorizer_mar-may': 0.03790961572470381, 'Member_years_CharGramCountVectorizer_2': 0.03549045344610941, 'Hotel_name_CharGramCountVectorizer_the cosmopolitan las vegas': 0.033043948121295415, 'Hotel_stars_CharGramCountVectorizer_5': 0.03293608918804308, 'Review_month_CharGramCountVectorizer_december': 0.031328716012659484, 'User_continent_CharGramCountVectorizer_asia': 0.026959229067097943, 'Review_month_CharGramCountVectorizer_january': 0.02694839704122864, 'Period_of_stay_CharGramCountVectorizer_sep-nov': 0.025461195959703652, 'Traveler_type_CharGramCountVectorizer_couples': 0.02478127261268537, 'Period_of_stay_CharGramCountVectorizer_dec-feb': 0.024371313700020443, 'Traveler_type_CharGramCountVectorizer_business': 0.022062624670994232, 'User_continent_CharGramCountVectorizer_north america': 0.020702508380987, 'Review_month_CharGramCountVectorizer_june': 0.02046616641274614, 'Review_month_CharGramCountVectorizer_april': 0.02002723085502971, 'Review_month_CharGramCountVectorizer_february': 0.01916832668513825, 'Hotel_name_CharGramCountVectorizer_excalibur hotel & casino': 0.017559692137635766, 'Review_month_CharGramCountVectorizer_september': 0.016177988431235725, 'Spa_ModeCatImputer_LabelEncoder': 0.012417544585362712, 'Hotel_name_CharGramCountVectorizer_hilton grand vacations at the flamingo': 0.01006353233971429, 'Member_years_CharGramCountVectorizer_8': 0.009871830872578695, 'Review_month_CharGramCountVectorizer_november': 0.009467524643886203, 'Tennis_court_ModeCatImputer_LabelEncoder': 0.008518805656292403, 'Hotel_stars_CharGramCountVectorizer_3': 0.008397696738330001, 'User_country_HashOneHotEncoder_9': 0.006818708111408609, 'Traveler_type_CharGramCountVectorizer_families': 0.006178184929314322, 'Hotel_name_CharGramCountVectorizer_the venetian las vegas hotel': 0.00503794670837269, 'Casino_ModeCatImputer_LabelEncoder': 0.004239156784423768, 'User_country_HashOneHotEncoder_3': 0.004046393417334295, 'Hotel_name_CharGramCountVectorizer_the palazzo resort hotel casino': 0.003931979372686076, 'Review_weekday_CharGramCountVectorizer_monday': 0.003862914303808138, 'Review_month_CharGramCountVectorizer_july': 0.0036703530822025316, 'User_continent_CharGramCountVectorizer_europe': 0.003505732173767125, 'Review_month_CharGramCountVectorizer_march': 0.003102243029479346, 'Review_month_CharGramCountVectorizer_august': 0.002935237744014995, 'Traveler_type_CharGramCountVectorizer_solo': 0.0023896433935136924, 'Review_weekday_CharGramCountVectorizer_thursday': 0.0020453462401013272, 'Member_years_CharGramCountVectorizer_5': 0.0019645457830579608, 'Review_month_CharGramCountVectorizer_may': 0.001918669225233365, 'Member_years_CharGramCountVectorizer_3': 0.0015437041708012361, \"Hotel_name_CharGramCountVectorizer_marriott's grand chateau\": 0.0014672895367287113, 'Hotel_name_CharGramCountVectorizer_paris las vegas': 0.001299708984743875, 'Member_years_CharGramCountVectorizer_6': 0.001274256132287185, 'Member_years_CharGramCountVectorizer_10': 0.001211500792700936, 'Hotel_name_CharGramCountVectorizer_wynn las vegas': 0.0, 'Member_years_CharGramCountVectorizer_11': 0.0, 'User_country_HashOneHotEncoder_25': 0.0, 'Member_years_CharGramCountVectorizer_7': 0.0, 'Member_years_CharGramCountVectorizer_13': 0.0, 'Member_years_CharGramCountVectorizer_12': 0.0, 'User_country_HashOneHotEncoder_26': 0.0, 'Member_years_CharGramCountVectorizer_9': 0.0, 'User_country_HashOneHotEncoder_20': 0.0, 'Hotel_name_CharGramCountVectorizer_wyndham grand desert': 0.0, 'Hotel_name_CharGramCountVectorizer_tuscany las vegas suites & casino': 0.0, 'User_country_HashOneHotEncoder_29': 0.0, 'User_country_HashOneHotEncoder_28': 0.0, 'User_country_HashOneHotEncoder_27': 0.0, 'Gym_ModeCatImputer_LabelEncoder': 0.0, 'Hotel_name_CharGramCountVectorizer_bellagio las vegas': 0.0, 'Hotel_name_CharGramCountVectorizer_caesars palace': 0.0, 'Hotel_name_CharGramCountVectorizer_circus circus hotel & casino las vegas': 0.0, 'Hotel_name_CharGramCountVectorizer_encore at wynn las vegas': 0.0, 'Hotel_name_CharGramCountVectorizer_monte carlo resort&casino': 0.0, 'Hotel_name_CharGramCountVectorizer_the cromwell': 0.0, 'Hotel_name_CharGramCountVectorizer_the westin las vegas hotel casino & spa': 0.0, 'Hotel_name_CharGramCountVectorizer_treasure island- ti hotel & casino': 0.0, 'Nr_rooms_CharGramCountVectorizer_1282': 0.0, 'Hotel_name_CharGramCountVectorizer_tropicana las vegas - a double tree by hilton hotel': 0.0, 'Hotel_name_CharGramCountVectorizer_trump international hotel las vegas': 0.0, 'Nr_rooms_CharGramCountVectorizer_1228': 0.0, 'Nr_rooms_CharGramCountVectorizer_643': 0.0, 'Nr_rooms_CharGramCountVectorizer_1467': 0.0, 'User_country_HashOneHotEncoder_23': 0.0, 'User_continent_CharGramCountVectorizer_africa': 0.0, 'User_continent_CharGramCountVectorizer_south america': 0.0, 'User_country_HashOneHotEncoder_0': 0.0, 'User_country_HashOneHotEncoder_1': 0.0, 'User_country_HashOneHotEncoder_2': 0.0, 'User_country_HashOneHotEncoder_4': 0.0, 'User_country_HashOneHotEncoder_5': 0.0, 'User_country_HashOneHotEncoder_21': 0.0, 'User_country_HashOneHotEncoder_7': 0.0}\n",
      "You can visualize the engineered explanations under the 'Explanations (preview)' tab in the AutoML run at:-\n",
      "https://ml.azure.com/experiments/lv-automl-classification/runs/AutoML_4d713bd5-53de-413c-8017-184f88c4b73d_7?wsid=/subscriptions/61c5c3f0-6dc7-4ed9-a7f3-c704b20e3b30/resourcegroups/aml-quickstarts-131566/workspaces/quick-starts-ws-131566\n"
     ]
    }
   ],
   "source": [
    "from azureml.interpret import ExplanationClient\n",
    "client = ExplanationClient.from_run(best_run)\n",
    "engineered_explanations = client.download_model_explanation(raw=False)\n",
    "print(engineered_explanations.get_feature_importance_dict())\n",
    "print(\"You can visualize the engineered explanations under the 'Explanations (preview)' tab in the AutoML run at:-\\n\" + best_run.get_portal_url())"
   ]
  },
  {
   "cell_type": "markdown",
   "metadata": {
    "id": "iXg3mvYG6_Q3"
   },
   "source": [
    "**Download the raw feature importance from artifact store**\n",
    "\n",
    "You can use ExplanationClient to download the raw feature explanations from the artifact store of the best_run. You can also use azure portal url to view the dash board visualization of the feature importance values of the raw features."
   ]
  },
  {
   "cell_type": "code",
   "execution_count": 54,
   "metadata": {
    "id": "3DoDDylC7DVL"
   },
   "outputs": [
    {
     "name": "stdout",
     "output_type": "stream",
     "text": [
      "{'Column1': 0.3648241271725998, 'Nr_reviews': 0.362253986232529, 'Review_weekday': 0.3358073177559354, 'Nr_hotel_reviews': 0.2807695889819347, 'Member_years': 0.2637632782510997, 'User_country': 0.21551010893533815, 'Helpful_votes': 0.20964967420532163, 'Period_of_stay': 0.17823756284125336, 'Traveler_type': 0.16130540176773261, 'Review_month': 0.15521085316285438, 'Hotel_stars': 0.1382488719948604, 'Hotel_name': 0.12186312436355967, 'User_continent': 0.09015368775925177, 'Free_internet': 0.0858119968690767, 'Spa': 0.012417544585362712, 'Tennis_court': 0.008518805656292403, 'Casino': 0.004239156784423768, 'Pool': 0.0, 'Nr_rooms': 0.0, 'Gym': 0.0}\n",
      "You can visualize the raw explanations under the 'Explanations (preview)' tab in the AutoML run at:-\n",
      "https://ml.azure.com/experiments/lv-automl-classification/runs/AutoML_4d713bd5-53de-413c-8017-184f88c4b73d_7?wsid=/subscriptions/61c5c3f0-6dc7-4ed9-a7f3-c704b20e3b30/resourcegroups/aml-quickstarts-131566/workspaces/quick-starts-ws-131566\n"
     ]
    }
   ],
   "source": [
    "raw_explanations = client.download_model_explanation(raw=True)\n",
    "print(raw_explanations.get_feature_importance_dict())\n",
    "print(\"You can visualize the raw explanations under the 'Explanations (preview)' tab in the AutoML run at:-\\n\" + best_run.get_portal_url())"
   ]
  },
  {
   "cell_type": "markdown",
   "metadata": {
    "id": "DQZlrP9H7JGx"
   },
   "source": [
    "**Retrieve any other AutoML model from training**"
   ]
  },
  {
   "cell_type": "code",
   "execution_count": 80,
   "metadata": {
    "id": "OxR5IT5-7LUs"
   },
   "outputs": [],
   "source": [
    "best_run, fitted_model = run.get_output(metric='accuracy')"
   ]
  },
  {
   "cell_type": "markdown",
   "metadata": {
    "id": "JCkRyAGQ7eGx"
   },
   "source": [
    "**Setup the model explanations for AutoML models**\n",
    "\n",
    "The fitted_model can generate the following which will be used for getting the engineered explanations using automl_setup_model_explanations:-\n",
    "\n",
    "Featurized data from train samples/test samples\n",
    "Gather engineered name lists\n",
    "Find the classes in your labeled column in classification scenarios\n",
    "The automl_explainer_setup_obj contains all the structures from above list."
   ]
  },
  {
   "cell_type": "code",
   "execution_count": 81,
   "metadata": {
    "id": "rb8TPM4T7gw6"
   },
   "outputs": [],
   "source": [
    "X_train = train_data.drop_columns('Score')\n",
    "y_train = train_data.keep_columns('Score', validate=True)\n",
    "X_test = test_data.drop_columns('Score')"
   ]
  },
  {
   "cell_type": "code",
   "execution_count": 82,
   "metadata": {
    "id": "hm6kUwjq7kq4"
   },
   "outputs": [
    {
     "name": "stdout",
     "output_type": "stream",
     "text": [
      "Current status: Setting up data for AutoML explanations\n",
      "Current status: Setting up the AutoML featurizer\n",
      "Current status: Setting up the AutoML estimator\n",
      "Current status: Setting up the AutoML featurization for explanations\n",
      "Current status: Using 120 evaluation samples\n",
      "Current status: Generating a feature map for raw feature importance\n",
      "Current status: Finding all classes from the dataset\n",
      "Current status: Choosing the surrogate model as LightGBM for the AutoML model\n",
      "Current status: Data for AutoML explanations successfully setup\n"
     ]
    }
   ],
   "source": [
    "from azureml.train.automl.runtime.automl_explain_utilities import automl_setup_model_explanations\n",
    "\n",
    "automl_explainer_setup_obj = automl_setup_model_explanations(fitted_model, X=X_train, \n",
    "                                                             X_test=X_test, y=y_train, \n",
    "                                                             task='classification')"
   ]
  },
  {
   "cell_type": "markdown",
   "metadata": {
    "id": "GdO6qFFN8I7H"
   },
   "source": [
    "**Initialize the Mimic Explainer for feature importance**\n",
    "\n",
    "For explaining the AutoML models, use the MimicWrapper from azureml-interpret package. The MimicWrapper can be initialized with fields in automl_explainer_setup_obj, your workspace and a surrogate model to explain the AutoML model (fitted_model here). The MimicWrapper also takes the automl_run object where engineered explanations will be uploaded."
   ]
  },
  {
   "cell_type": "code",
   "execution_count": 83,
   "metadata": {
    "id": "QIh02E1O8NaH"
   },
   "outputs": [],
   "source": [
    "from interpret.ext.glassbox import LGBMExplainableModel\n",
    "from azureml.interpret.mimic_wrapper import MimicWrapper\n",
    "explainer = MimicWrapper(ws, automl_explainer_setup_obj.automl_estimator,\n",
    "                         explainable_model=automl_explainer_setup_obj.surrogate_model, \n",
    "                         init_dataset=automl_explainer_setup_obj.X_transform, run=best_run,\n",
    "                         features=automl_explainer_setup_obj.engineered_feature_names, \n",
    "                         feature_maps=[automl_explainer_setup_obj.feature_map],\n",
    "                         classes=automl_explainer_setup_obj.classes,\n",
    "                         explainer_kwargs=automl_explainer_setup_obj.surrogate_model_params)"
   ]
  },
  {
   "cell_type": "markdown",
   "metadata": {
    "id": "GgseHnEx8T6X"
   },
   "source": [
    "**Use Mimic Explainer for computing and visualizing engineered feature importance**\n",
    "\n",
    "The explain() method in MimicWrapper can be called with the transformed test samples to get the feature importance for the generated engineered features. You can also use azure portal url to view the dash board visualization of the feature importance values of the engineered features."
   ]
  },
  {
   "cell_type": "code",
   "execution_count": 84,
   "metadata": {
    "id": "6lFGepbf8ZP3"
   },
   "outputs": [
    {
     "name": "stdout",
     "output_type": "stream",
     "text": [
      "{'Column1_MeanImputer': 0.4418421054616747, 'Nr_reviews_MeanImputer': 0.3345093912494768, 'Nr_hotel_reviews_MeanImputer': 0.21810087780360687, 'Helpful_votes_MeanImputer': 0.18458618345760786, 'User_country_HashOneHotEncoder_6': 0.1506764866474985, 'Member_years_CharGramCountVectorizer_4': 0.14743931855369846, 'Tennis_court_ModeCatImputer_LabelEncoder': 0.14356855672975655, 'Review_weekday_CharGramCountVectorizer_tuesday': 0.13805554173016332, 'Hotel_stars_CharGramCountVectorizer_4': 0.10434258003724774, 'Hotel_stars_CharGramCountVectorizer_5': 0.10356821909465849, 'Traveler_type_CharGramCountVectorizer_friends': 0.09818243798208622, 'Member_years_CharGramCountVectorizer_1': 0.09106726638534644, 'Review_weekday_CharGramCountVectorizer_friday': 0.07098059031700374, 'Review_weekday_CharGramCountVectorizer_wednesday': 0.06542311382230055, 'Review_month_CharGramCountVectorizer_january': 0.06416521403062554, 'Review_month_CharGramCountVectorizer_april': 0.05406351260357005, 'Period_of_stay_CharGramCountVectorizer_mar-may': 0.05137544367007373, 'Spa_ModeCatImputer_LabelEncoder': 0.04617704980336347, 'Review_weekday_CharGramCountVectorizer_sunday': 0.04604892583699112, 'Period_of_stay_CharGramCountVectorizer_jun-aug': 0.04376954322476756, 'Review_weekday_CharGramCountVectorizer_thursday': 0.04324619868554728, 'Traveler_type_CharGramCountVectorizer_business': 0.04285576225862865, 'Member_years_CharGramCountVectorizer_2': 0.0395888556090715, 'Period_of_stay_CharGramCountVectorizer_dec-feb': 0.03080502078728081, 'Review_weekday_CharGramCountVectorizer_saturday': 0.030578840020020447, 'User_continent_CharGramCountVectorizer_north america': 0.028690368564342383, 'Traveler_type_CharGramCountVectorizer_couples': 0.027074282265745285, 'Review_month_CharGramCountVectorizer_september': 0.021469242647989325, 'User_country_HashOneHotEncoder_3': 0.019985560869327082, 'User_country_HashOneHotEncoder_9': 0.01935106747362153, 'User_continent_CharGramCountVectorizer_oceania': 0.018813469202106123, 'Review_month_CharGramCountVectorizer_december': 0.01831986801692318, 'Review_month_CharGramCountVectorizer_february': 0.014801784593364417, 'Period_of_stay_CharGramCountVectorizer_sep-nov': 0.012435925609653302, 'Review_month_CharGramCountVectorizer_august': 0.010997063764788388, 'User_country_HashOneHotEncoder_4': 0.010649357403590794, 'Traveler_type_CharGramCountVectorizer_families': 0.01007079318559025, 'Review_month_CharGramCountVectorizer_may': 0.008858715786018415, 'User_continent_CharGramCountVectorizer_europe': 0.007516346337625054, 'Review_month_CharGramCountVectorizer_october': 0.006885220760340894, 'Hotel_stars_CharGramCountVectorizer_3': 0.00511827014906439, 'Review_month_CharGramCountVectorizer_july': 0.005006076444579672, 'Hotel_name_CharGramCountVectorizer_hilton grand vacations on the boulevard': 0.004871932286015015, 'Member_years_CharGramCountVectorizer_7': 0.0047062775637931415, 'Review_month_CharGramCountVectorizer_november': 0.0037821444246006757, 'Member_years_CharGramCountVectorizer_5': 0.003179620242614047, 'Review_weekday_CharGramCountVectorizer_monday': 0.0028869117477027797, 'Review_month_CharGramCountVectorizer_march': 0.002558402427432007, 'Member_years_CharGramCountVectorizer_10': 0.0016944584492222105, 'User_country_HashOneHotEncoder_26': 0.0, 'Member_years_CharGramCountVectorizer_8': 0.0, 'Member_years_CharGramCountVectorizer_6': 0.0, 'Hotel_name_CharGramCountVectorizer_trump international hotel las vegas': 0.0, 'User_country_HashOneHotEncoder_23': 0.0, 'Member_years_CharGramCountVectorizer_3': 0.0, 'Hotel_name_CharGramCountVectorizer_tuscany las vegas suites & casino': 0.0, 'Member_years_CharGramCountVectorizer_13': 0.0, 'User_country_HashOneHotEncoder_25': 0.0, 'Member_years_CharGramCountVectorizer_12': 0.0, 'Member_years_CharGramCountVectorizer_11': 0.0, 'Hotel_name_CharGramCountVectorizer_wyndham grand desert': 0.0, 'Hotel_name_CharGramCountVectorizer_wynn las vegas': 0.0, 'User_country_HashOneHotEncoder_24': 0.0, 'Hotel_name_CharGramCountVectorizer_tropicana las vegas - a double tree by hilton hotel': 0.0, 'User_country_HashOneHotEncoder_11': 0.0, 'Hotel_name_CharGramCountVectorizer_treasure island- ti hotel & casino': 0.0, 'Hotel_name_CharGramCountVectorizer_encore at wynn las vegas': 0.0, 'User_country_HashOneHotEncoder_29': 0.0, 'User_country_HashOneHotEncoder_28': 0.0, 'User_country_HashOneHotEncoder_27': 0.0, 'Casino_ModeCatImputer_LabelEncoder': 0.0, 'Free_internet_ModeCatImputer_LabelEncoder': 0.0, 'Gym_ModeCatImputer_LabelEncoder': 0.0, 'Hotel_name_CharGramCountVectorizer_bellagio las vegas': 0.0, 'Hotel_name_CharGramCountVectorizer_caesars palace': 0.0, 'Hotel_name_CharGramCountVectorizer_circus circus hotel & casino las vegas': 0.0, 'Hotel_name_CharGramCountVectorizer_excalibur hotel & casino': 0.0, 'Hotel_name_CharGramCountVectorizer_the westin las vegas hotel casino & spa': 0.0, 'Hotel_name_CharGramCountVectorizer_hilton grand vacations at the flamingo': 0.0, \"Hotel_name_CharGramCountVectorizer_marriott's grand chateau\": 0.0, 'Hotel_name_CharGramCountVectorizer_monte carlo resort&casino': 0.0, 'Hotel_name_CharGramCountVectorizer_paris las vegas': 0.0, 'Hotel_name_CharGramCountVectorizer_the cosmopolitan las vegas': 0.0, 'Hotel_name_CharGramCountVectorizer_the cromwell': 0.0, 'Nr_rooms_CharGramCountVectorizer_1228': 0.0, 'Hotel_name_CharGramCountVectorizer_the palazzo resort hotel casino': 0.0, 'Hotel_name_CharGramCountVectorizer_the venetian las vegas hotel': 0.0, 'Member_years_CharGramCountVectorizer_9': 0.0, 'Nr_rooms_CharGramCountVectorizer_3348': 0.0, 'Nr_rooms_CharGramCountVectorizer_1282': 0.0, 'User_country_HashOneHotEncoder_21': 0.0, 'Review_month_CharGramCountVectorizer_june': 0.0, 'User_country_HashOneHotEncoder_19': 0.0, 'User_country_HashOneHotEncoder_18': 0.0, 'User_country_HashOneHotEncoder_17': 0.0, 'User_country_HashOneHotEncoder_16': 0.0, 'User_country_HashOneHotEncoder_15': 0.0, 'User_country_HashOneHotEncoder_14': 0.0, 'User_country_HashOneHotEncoder_13': 0.0, 'Traveler_type_CharGramCountVectorizer_solo': 0.0, 'User_continent_CharGramCountVectorizer_africa': 0.0, 'User_continent_CharGramCountVectorizer_asia': 0.0, 'User_continent_CharGramCountVectorizer_south america': 0.0, 'User_country_HashOneHotEncoder_0': 0.0, 'User_country_HashOneHotEncoder_1': 0.0, 'User_country_HashOneHotEncoder_2': 0.0, 'User_country_HashOneHotEncoder_5': 0.0, 'User_country_HashOneHotEncoder_12': 0.0, 'User_country_HashOneHotEncoder_7': 0.0, 'User_country_HashOneHotEncoder_8': 0.0, 'User_country_HashOneHotEncoder_20': 0.0, 'Pool_ModeCatImputer_LabelEncoder': 0.0, 'Nr_rooms_CharGramCountVectorizer_1467': 0.0, 'User_country_HashOneHotEncoder_22': 0.0, 'Nr_rooms_CharGramCountVectorizer_188': 0.0, 'Nr_rooms_CharGramCountVectorizer_2034': 0.0, 'Nr_rooms_CharGramCountVectorizer_2700': 0.0, 'Nr_rooms_CharGramCountVectorizer_2884': 0.0, 'Nr_rooms_CharGramCountVectorizer_2916': 0.0, 'Nr_rooms_CharGramCountVectorizer_2959': 0.0, 'Nr_rooms_CharGramCountVectorizer_3003': 0.0, 'Nr_rooms_CharGramCountVectorizer_3025': 0.0, 'Nr_rooms_CharGramCountVectorizer_315': 0.0, 'User_country_HashOneHotEncoder_10': 0.0, 'Nr_rooms_CharGramCountVectorizer_3773': 0.0, 'Nr_rooms_CharGramCountVectorizer_3933': 0.0, 'Nr_rooms_CharGramCountVectorizer_3981': 0.0, 'Nr_rooms_CharGramCountVectorizer_4027': 0.0, 'Nr_rooms_CharGramCountVectorizer_643': 0.0, 'Nr_rooms_CharGramCountVectorizer_716': 0.0, 'Nr_rooms_CharGramCountVectorizer_787': 0.0, 'Nr_rooms_CharGramCountVectorizer_826': 0.0, 'User_country_HashOneHotEncoder_30': 0.0, 'User_country_HashOneHotEncoder_31': 0.0}\n",
      "You can visualize the engineered explanations under the 'Explanations (preview)' tab in the AutoML run at:-\n",
      "https://ml.azure.com/experiments/lv-automl-classification/runs/AutoML_4d713bd5-53de-413c-8017-184f88c4b73d_7?wsid=/subscriptions/61c5c3f0-6dc7-4ed9-a7f3-c704b20e3b30/resourcegroups/aml-quickstarts-131566/workspaces/quick-starts-ws-131566\n"
     ]
    }
   ],
   "source": [
    "# Compute the engineered explanations\n",
    "engineered_explanations = explainer.explain(['local', 'global'], eval_dataset=automl_explainer_setup_obj.X_test_transform)\n",
    "print(engineered_explanations.get_feature_importance_dict())\n",
    "print(\"You can visualize the engineered explanations under the 'Explanations (preview)' tab in the AutoML run at:-\\n\" + best_run.get_portal_url())"
   ]
  },
  {
   "cell_type": "markdown",
   "metadata": {
    "id": "YOFkPVia8eg0"
   },
   "source": [
    "**Use Mimic Explainer for computing and visualizing raw feature importance**\n",
    "\n",
    "The explain() method in MimicWrapper can be called with the transformed test samples to get the feature importance for the original features in your data. You can also use azure portal url to view the dash board visualization of the feature importance values of the original/raw features."
   ]
  },
  {
   "cell_type": "code",
   "execution_count": 85,
   "metadata": {
    "id": "PVpMicFy8mHW"
   },
   "outputs": [
    {
     "name": "stdout",
     "output_type": "stream",
     "text": [
      "{'Column1': 0.4418421054616747, 'Review_weekday': 0.39722012215972924, 'Nr_reviews': 0.3345093912494768, 'Member_years': 0.28767579680374583, 'Nr_hotel_reviews': 0.21810087780360687, 'Hotel_stars': 0.21302906928097062, 'Review_month': 0.21090724550023254, 'User_country': 0.2006624723940379, 'Helpful_votes': 0.18458618345760786, 'Traveler_type': 0.1781832756920504, 'Tennis_court': 0.14356855672975655, 'Period_of_stay': 0.1383859332917754, 'User_continent': 0.055020184104073555, 'Spa': 0.04617704980336347, 'Hotel_name': 0.004871932286015015, 'Nr_rooms': 0.0, 'Pool': 0.0, 'Gym': 0.0, 'Free_internet': 0.0, 'Casino': 0.0}\n",
      "You can visualize the raw explanations under the 'Explanations (preview)' tab in the AutoML run at:-\n",
      "https://ml.azure.com/experiments/lv-automl-classification/runs/AutoML_4d713bd5-53de-413c-8017-184f88c4b73d_7?wsid=/subscriptions/61c5c3f0-6dc7-4ed9-a7f3-c704b20e3b30/resourcegroups/aml-quickstarts-131566/workspaces/quick-starts-ws-131566\n"
     ]
    }
   ],
   "source": [
    "# Compute the raw explanations\n",
    "raw_explanations = explainer.explain(['local', 'global'], get_raw=True,\n",
    "                                     raw_feature_names=automl_explainer_setup_obj.raw_feature_names,\n",
    "                                     eval_dataset=automl_explainer_setup_obj.X_test_transform,\n",
    "                                     raw_eval_dataset=automl_explainer_setup_obj.X_test_raw)\n",
    "print(raw_explanations.get_feature_importance_dict())\n",
    "print(\"You can visualize the raw explanations under the 'Explanations (preview)' tab in the AutoML run at:-\\n\" + best_run.get_portal_url())"
   ]
  },
  {
   "cell_type": "markdown",
   "metadata": {
    "id": "CoRVRw9P8n02"
   },
   "source": [
    "**Initialize the scoring Explainer, save and upload it for later use in scoring explanation**"
   ]
  },
  {
   "cell_type": "code",
   "execution_count": 91,
   "metadata": {
    "id": "C31ztX008s86"
   },
   "outputs": [],
   "source": [
    "from azureml.interpret.scoring.scoring_explainer import TreeScoringExplainer\n",
    "import joblib\n",
    "\n",
    "# Initialize the ScoringExplainer\n",
    "scoring_explainer = TreeScoringExplainer(explainer.explainer, feature_maps=[automl_explainer_setup_obj.feature_map])\n",
    "\n",
    "# Pickle scoring explainer locally to './scoring_explainer.pkl'\n",
    "scoring_explainer_file_name = 'scoring_explainer.pkl'\n",
    "with open(scoring_explainer_file_name, 'wb') as stream:\n",
    "    joblib.dump(scoring_explainer, stream)\n",
    "\n",
    "# Register trained automl model present in the 'outputs' folder in the artifacts\n",
    "#original_model = best_run.register_model(model_name='lv-automl-classification',model_path='outputs/model.pkl')\n",
    "    \n",
    "original_model = best_run.register_model(model_name='lv-automl-classification', \n",
    "                                           model_path='outputs/model.pkl')\n",
    "\n",
    "# Upload the scoring explainer to the automl run\n",
    "#best_run.upload_file('outputs/scoring_explainer.pkl', scoring_explainer_file_name)\n",
    "scoring_explainer_model = best_run.register_model(model_name='scoring_explainer', model_path='outputs/scoring_explainer.pkl')"
   ]
  },
  {
   "cell_type": "markdown",
   "metadata": {
    "id": "CVO-goYF-AAe"
   },
   "source": [
    "**Create the conda dependencies for setting up the service**"
   ]
  },
  {
   "cell_type": "code",
   "execution_count": 92,
   "metadata": {
    "id": "7aGkwlXC-Bgj"
   },
   "outputs": [
    {
     "name": "stdout",
     "output_type": "stream",
     "text": [
      "# Conda environment specification. The dependencies defined in this file will\n",
      "# be automatically provisioned for runs with userManagedDependencies=False.\n",
      "\n",
      "# Details about the Conda environment file format:\n",
      "# https://conda.io/docs/user-guide/tasks/manage-environments.html#create-env-file-manually\n",
      "\n",
      "name: project_environment\n",
      "dependencies:\n",
      "  # The python interpreter version.\n",
      "  # Currently Azure ML only supports 3.5.2 and later.\n",
      "- python=3.6.2\n",
      "\n",
      "- pip:\n",
      "  - azureml-interpret~=1.19.0\n",
      "  - azureml-train-automl~=1.19.0\n",
      "  - azureml-defaults~=1.19.0\n",
      "- scikit-learn\n",
      "- pandas\n",
      "- numpy\n",
      "- py-xgboost<=0.80\n",
      "channels:\n",
      "- anaconda\n",
      "- conda-forge\n",
      "\n"
     ]
    }
   ],
   "source": [
    "from azureml.core.conda_dependencies import CondaDependencies\n",
    "\n",
    "azureml_pip_packages = [\n",
    "    'azureml-interpret', 'azureml-train-automl', 'azureml-defaults'\n",
    "]\n",
    "\n",
    "myenv = CondaDependencies.create(conda_packages=['scikit-learn', 'pandas', 'numpy', 'py-xgboost<=0.80'],\n",
    "                                 pip_packages=azureml_pip_packages,\n",
    "                                 pin_sdk_version=True)\n",
    "\n",
    "with open(\"myenv.yml\",\"w\") as f:\n",
    "    f.write(myenv.serialize_to_string())\n",
    "\n",
    "with open(\"myenv.yml\",\"r\") as f:\n",
    "    print(f.read())"
   ]
  },
  {
   "cell_type": "code",
   "execution_count": 122,
   "metadata": {},
   "outputs": [
    {
     "ename": "ModelNotFoundException",
     "evalue": "ModelNotFoundException:\n\tMessage: Model scoring_explainer_model not found in cache at azureml-models or in current working directory /mnt/batch/tasks/shared/LS_root/mounts/clusters/compute-lv/code/Users/odl_user_131566. For more info, set logging level to DEBUG.\n\tInnerException None\n\tErrorResponse \n{\n    \"error\": {\n        \"message\": \"Model scoring_explainer_model not found in cache at azureml-models or in current working directory /mnt/batch/tasks/shared/LS_root/mounts/clusters/compute-lv/code/Users/odl_user_131566. For more info, set logging level to DEBUG.\"\n    }\n}",
     "output_type": "error",
     "traceback": [
      "\u001b[0;31m---------------------------------------------------------------------------\u001b[0m",
      "\u001b[0;31mModelNotFoundException\u001b[0m                    Traceback (most recent call last)",
      "\u001b[0;32m<ipython-input-122-e9d91417f2bb>\u001b[0m in \u001b[0;36m<module>\u001b[0;34m\u001b[0m\n\u001b[1;32m      6\u001b[0m \u001b[0;32mimport\u001b[0m \u001b[0mlogging\u001b[0m\u001b[0;34m\u001b[0m\u001b[0;34m\u001b[0m\u001b[0m\n\u001b[1;32m      7\u001b[0m \u001b[0mlogging\u001b[0m\u001b[0;34m.\u001b[0m\u001b[0mbasicConfig\u001b[0m\u001b[0;34m(\u001b[0m\u001b[0mlevel\u001b[0m\u001b[0;34m=\u001b[0m\u001b[0mlogging\u001b[0m\u001b[0;34m.\u001b[0m\u001b[0mDEBUG\u001b[0m\u001b[0;34m)\u001b[0m\u001b[0;34m\u001b[0m\u001b[0;34m\u001b[0m\u001b[0m\n\u001b[0;32m----> 8\u001b[0;31m \u001b[0mprint\u001b[0m\u001b[0;34m(\u001b[0m\u001b[0mModel\u001b[0m\u001b[0;34m.\u001b[0m\u001b[0mget_model_path\u001b[0m\u001b[0;34m(\u001b[0m\u001b[0mmodel_name\u001b[0m\u001b[0;34m=\u001b[0m\u001b[0;34m'scoring_explainer_model'\u001b[0m\u001b[0;34m)\u001b[0m\u001b[0;34m)\u001b[0m\u001b[0;34m\u001b[0m\u001b[0;34m\u001b[0m\u001b[0m\n\u001b[0m",
      "\u001b[0;32m/anaconda/envs/azureml_py36/lib/python3.6/site-packages/azureml/core/model.py\u001b[0m in \u001b[0;36mget_model_path\u001b[0;34m(model_name, version, _workspace)\u001b[0m\n\u001b[1;32m    790\u001b[0m                 \u001b[0;32mreturn\u001b[0m \u001b[0mModel\u001b[0m\u001b[0;34m.\u001b[0m\u001b[0m_get_model_path_remote\u001b[0m\u001b[0;34m(\u001b[0m\u001b[0mmodel_name\u001b[0m\u001b[0;34m,\u001b[0m \u001b[0mversion\u001b[0m\u001b[0;34m,\u001b[0m \u001b[0mactive_workspace\u001b[0m\u001b[0;34m)\u001b[0m\u001b[0;34m\u001b[0m\u001b[0;34m\u001b[0m\u001b[0m\n\u001b[1;32m    791\u001b[0m             \u001b[0;32melse\u001b[0m\u001b[0;34m:\u001b[0m\u001b[0;34m\u001b[0m\u001b[0;34m\u001b[0m\u001b[0m\n\u001b[0;32m--> 792\u001b[0;31m                 \u001b[0;32mreturn\u001b[0m \u001b[0mModel\u001b[0m\u001b[0;34m.\u001b[0m\u001b[0m_get_model_path_local\u001b[0m\u001b[0;34m(\u001b[0m\u001b[0mmodel_name\u001b[0m\u001b[0;34m,\u001b[0m \u001b[0mversion\u001b[0m\u001b[0;34m)\u001b[0m\u001b[0;34m\u001b[0m\u001b[0;34m\u001b[0m\u001b[0m\n\u001b[0m\u001b[1;32m    793\u001b[0m \u001b[0;34m\u001b[0m\u001b[0m\n\u001b[1;32m    794\u001b[0m     \u001b[0;34m@\u001b[0m\u001b[0mstaticmethod\u001b[0m\u001b[0;34m\u001b[0m\u001b[0;34m\u001b[0m\u001b[0m\n",
      "\u001b[0;32m/anaconda/envs/azureml_py36/lib/python3.6/site-packages/azureml/core/model.py\u001b[0m in \u001b[0;36m_get_model_path_local\u001b[0;34m(model_name, version)\u001b[0m\n\u001b[1;32m    811\u001b[0m         \u001b[0;31m# Probing azureml-models/<name>\u001b[0m\u001b[0;34m\u001b[0m\u001b[0;34m\u001b[0m\u001b[0;34m\u001b[0m\u001b[0m\n\u001b[1;32m    812\u001b[0m         \u001b[0;32mif\u001b[0m \u001b[0;32mnot\u001b[0m \u001b[0mos\u001b[0m\u001b[0;34m.\u001b[0m\u001b[0mpath\u001b[0m\u001b[0;34m.\u001b[0m\u001b[0mexists\u001b[0m\u001b[0;34m(\u001b[0m\u001b[0mcandidate_model_path\u001b[0m\u001b[0;34m)\u001b[0m\u001b[0;34m:\u001b[0m\u001b[0;34m\u001b[0m\u001b[0;34m\u001b[0m\u001b[0m\n\u001b[0;32m--> 813\u001b[0;31m             \u001b[0;32mreturn\u001b[0m \u001b[0mModel\u001b[0m\u001b[0;34m.\u001b[0m\u001b[0m_get_model_path_local_from_root\u001b[0m\u001b[0;34m(\u001b[0m\u001b[0mmodel_name\u001b[0m\u001b[0;34m)\u001b[0m\u001b[0;34m\u001b[0m\u001b[0;34m\u001b[0m\u001b[0m\n\u001b[0m\u001b[1;32m    814\u001b[0m         \u001b[0;32melse\u001b[0m\u001b[0;34m:\u001b[0m\u001b[0;34m\u001b[0m\u001b[0;34m\u001b[0m\u001b[0m\n\u001b[1;32m    815\u001b[0m             \u001b[0;31m# Probing azureml-models/<name> exists, probing version\u001b[0m\u001b[0;34m\u001b[0m\u001b[0;34m\u001b[0m\u001b[0;34m\u001b[0m\u001b[0m\n",
      "\u001b[0;32m/anaconda/envs/azureml_py36/lib/python3.6/site-packages/azureml/core/model.py\u001b[0m in \u001b[0;36m_get_model_path_local_from_root\u001b[0;34m(model_name)\u001b[0m\n\u001b[1;32m    855\u001b[0m         raise ModelNotFoundException(\"Model {} not found in cache at {} or in current working directory {}. \"\n\u001b[1;32m    856\u001b[0m                                      \"For more info, set logging level to DEBUG.\".format(model_name, MODELS_DIR,\n\u001b[0;32m--> 857\u001b[0;31m                                                                                          os.getcwd()))\n\u001b[0m\u001b[1;32m    858\u001b[0m \u001b[0;34m\u001b[0m\u001b[0m\n\u001b[1;32m    859\u001b[0m     \u001b[0;34m@\u001b[0m\u001b[0mstaticmethod\u001b[0m\u001b[0;34m\u001b[0m\u001b[0;34m\u001b[0m\u001b[0m\n",
      "\u001b[0;31mModelNotFoundException\u001b[0m: ModelNotFoundException:\n\tMessage: Model scoring_explainer_model not found in cache at azureml-models or in current working directory /mnt/batch/tasks/shared/LS_root/mounts/clusters/compute-lv/code/Users/odl_user_131566. For more info, set logging level to DEBUG.\n\tInnerException None\n\tErrorResponse \n{\n    \"error\": {\n        \"message\": \"Model scoring_explainer_model not found in cache at azureml-models or in current working directory /mnt/batch/tasks/shared/LS_root/mounts/clusters/compute-lv/code/Users/odl_user_131566. For more info, set logging level to DEBUG.\"\n    }\n}"
     ]
    }
   ],
   "source": [
    "import os\n",
    "path = os.getcwd()\n",
    "os.listdir(path)\n",
    "path\n",
    "\n",
    "import logging\n",
    "logging.basicConfig(level=logging.DEBUG)\n",
    "print(Model.get_model_path(model_name='scoring_explainer_model'))"
   ]
  },
  {
   "cell_type": "markdown",
   "metadata": {
    "id": "qxklb5ZD-Dv3"
   },
   "source": [
    "**Deploy the service**"
   ]
  },
  {
   "cell_type": "code",
   "execution_count": 119,
   "metadata": {
    "id": "yqoIOtvLHvnQ"
   },
   "outputs": [
    {
     "ename": "WebserviceException",
     "evalue": "WebserviceException:\n\tMessage: Service modeling-score with the same name already exists, please use a different service name or delete the existing service.\n\tInnerException None\n\tErrorResponse \n{\n    \"error\": {\n        \"message\": \"Service modeling-score with the same name already exists, please use a different service name or delete the existing service.\"\n    }\n}",
     "output_type": "error",
     "traceback": [
      "\u001b[0;31m---------------------------------------------------------------------------\u001b[0m",
      "\u001b[0;31mWebserviceException\u001b[0m                       Traceback (most recent call last)",
      "\u001b[0;32m<ipython-input-119-dba541b3cc8e>\u001b[0m in \u001b[0;36m<module>\u001b[0;34m\u001b[0m\n\u001b[1;32m     20\u001b[0m                        \u001b[0;34m[\u001b[0m\u001b[0mscoring_explainer_model\u001b[0m\u001b[0;34m,\u001b[0m \u001b[0moriginal_model\u001b[0m\u001b[0;34m]\u001b[0m\u001b[0;34m,\u001b[0m\u001b[0;34m\u001b[0m\u001b[0;34m\u001b[0m\u001b[0m\n\u001b[1;32m     21\u001b[0m                        \u001b[0minference_config\u001b[0m\u001b[0;34m,\u001b[0m\u001b[0;34m\u001b[0m\u001b[0;34m\u001b[0m\u001b[0m\n\u001b[0;32m---> 22\u001b[0;31m                        aciconfig)\n\u001b[0m\u001b[1;32m     23\u001b[0m \u001b[0mservice\u001b[0m\u001b[0;34m.\u001b[0m\u001b[0mwait_for_deployment\u001b[0m\u001b[0;34m(\u001b[0m\u001b[0mshow_output\u001b[0m\u001b[0;34m=\u001b[0m\u001b[0;32mTrue\u001b[0m\u001b[0;34m)\u001b[0m\u001b[0;34m\u001b[0m\u001b[0;34m\u001b[0m\u001b[0m\n\u001b[1;32m     24\u001b[0m \u001b[0maci_service\u001b[0m\u001b[0;34m.\u001b[0m\u001b[0mregen_key\u001b[0m\u001b[0;34m(\u001b[0m\u001b[0;34m\"Primary\"\u001b[0m\u001b[0;34m)\u001b[0m\u001b[0;34m\u001b[0m\u001b[0;34m\u001b[0m\u001b[0m\n",
      "\u001b[0;32m/anaconda/envs/azureml_py36/lib/python3.6/site-packages/azureml/core/model.py\u001b[0m in \u001b[0;36mdeploy\u001b[0;34m(workspace, name, models, inference_config, deployment_config, deployment_target, overwrite)\u001b[0m\n\u001b[1;32m   1609\u001b[0m         \u001b[0;32mif\u001b[0m \u001b[0muse_env_path\u001b[0m\u001b[0;34m:\u001b[0m\u001b[0;34m\u001b[0m\u001b[0;34m\u001b[0m\u001b[0m\n\u001b[1;32m   1610\u001b[0m             return Model._deploy_with_environment(workspace, name, models, inference_config, deployment_config,\n\u001b[0;32m-> 1611\u001b[0;31m                                                   deployment_target, overwrite)\n\u001b[0m\u001b[1;32m   1612\u001b[0m \u001b[0;34m\u001b[0m\u001b[0m\n\u001b[1;32m   1613\u001b[0m         \u001b[0;31m# ContainerImage-based webservice.\u001b[0m\u001b[0;34m\u001b[0m\u001b[0;34m\u001b[0m\u001b[0;34m\u001b[0m\u001b[0m\n",
      "\u001b[0;32m/anaconda/envs/azureml_py36/lib/python3.6/site-packages/azureml/core/model.py\u001b[0m in \u001b[0;36m_deploy_with_environment\u001b[0;34m(workspace, name, models, inference_config, deployment_config, deployment_target, overwrite)\u001b[0m\n\u001b[1;32m   1809\u001b[0m \u001b[0;34m\u001b[0m\u001b[0m\n\u001b[1;32m   1810\u001b[0m         return Model._deploy_with_environment_image_request(workspace, name, environment_image_request,\n\u001b[0;32m-> 1811\u001b[0;31m                                                             deployment_config, deployment_target, overwrite)\n\u001b[0m\u001b[1;32m   1812\u001b[0m \u001b[0;34m\u001b[0m\u001b[0m\n\u001b[1;32m   1813\u001b[0m     \u001b[0;34m@\u001b[0m\u001b[0mstaticmethod\u001b[0m\u001b[0;34m\u001b[0m\u001b[0;34m\u001b[0m\u001b[0m\n",
      "\u001b[0;32m/anaconda/envs/azureml_py36/lib/python3.6/site-packages/azureml/core/model.py\u001b[0m in \u001b[0;36m_deploy_with_environment_image_request\u001b[0;34m(workspace, name, environment_image_request, deployment_config, deployment_target, overwrite)\u001b[0m\n\u001b[1;32m   1853\u001b[0m             \u001b[0mwebservice_payload\u001b[0m\u001b[0;34m[\u001b[0m\u001b[0;34m'computeName'\u001b[0m\u001b[0;34m]\u001b[0m \u001b[0;34m=\u001b[0m \u001b[0mdeployment_target\u001b[0m\u001b[0;34m.\u001b[0m\u001b[0mname\u001b[0m\u001b[0;34m\u001b[0m\u001b[0;34m\u001b[0m\u001b[0m\n\u001b[1;32m   1854\u001b[0m \u001b[0;34m\u001b[0m\u001b[0m\n\u001b[0;32m-> 1855\u001b[0;31m         \u001b[0;32mreturn\u001b[0m \u001b[0mWebservice\u001b[0m\u001b[0;34m.\u001b[0m\u001b[0m_deploy_webservice\u001b[0m\u001b[0;34m(\u001b[0m\u001b[0mworkspace\u001b[0m\u001b[0;34m,\u001b[0m \u001b[0mname\u001b[0m\u001b[0;34m,\u001b[0m \u001b[0mwebservice_payload\u001b[0m\u001b[0;34m,\u001b[0m \u001b[0moverwrite\u001b[0m\u001b[0;34m,\u001b[0m \u001b[0mwebservice_class\u001b[0m\u001b[0;34m)\u001b[0m\u001b[0;34m\u001b[0m\u001b[0;34m\u001b[0m\u001b[0m\n\u001b[0m\u001b[1;32m   1856\u001b[0m \u001b[0;34m\u001b[0m\u001b[0m\n\u001b[1;32m   1857\u001b[0m     \u001b[0;32mdef\u001b[0m \u001b[0mget_sas_urls\u001b[0m\u001b[0;34m(\u001b[0m\u001b[0mself\u001b[0m\u001b[0;34m)\u001b[0m\u001b[0;34m:\u001b[0m\u001b[0;34m\u001b[0m\u001b[0;34m\u001b[0m\u001b[0m\n",
      "\u001b[0;32m/anaconda/envs/azureml_py36/lib/python3.6/site-packages/azureml/core/webservice/webservice.py\u001b[0m in \u001b[0;36m_deploy_webservice\u001b[0;34m(workspace, name, webservice_payload, overwrite, webservice_class)\u001b[0m\n\u001b[1;32m    822\u001b[0m         \"\"\"\n\u001b[1;32m    823\u001b[0m         \u001b[0;31m# TODO Remove check_for_existing_webservice() later, this check has already included in common validation.\u001b[0m\u001b[0;34m\u001b[0m\u001b[0;34m\u001b[0m\u001b[0;34m\u001b[0m\u001b[0m\n\u001b[0;32m--> 824\u001b[0;31m         \u001b[0mWebservice\u001b[0m\u001b[0;34m.\u001b[0m\u001b[0mcheck_for_existing_webservice\u001b[0m\u001b[0;34m(\u001b[0m\u001b[0mworkspace\u001b[0m\u001b[0;34m,\u001b[0m \u001b[0mname\u001b[0m\u001b[0;34m,\u001b[0m \u001b[0moverwrite\u001b[0m\u001b[0;34m)\u001b[0m\u001b[0;34m\u001b[0m\u001b[0;34m\u001b[0m\u001b[0m\n\u001b[0m\u001b[1;32m    825\u001b[0m         Webservice._check_for_webservice(workspace, name, Webservice._get_deploy_compute_type(webservice_payload),\n\u001b[1;32m    826\u001b[0m                                          webservice_payload, SERVICE_REQUEST_OPERATION_CREATE)\n",
      "\u001b[0;32m/anaconda/envs/azureml_py36/lib/python3.6/site-packages/azureml/core/webservice/webservice.py\u001b[0m in \u001b[0;36mcheck_for_existing_webservice\u001b[0;34m(workspace, name, overwrite, request_func, check_func)\u001b[0m\n\u001b[1;32m    665\u001b[0m                 \u001b[0;32mreturn\u001b[0m \u001b[0mWebservice\u001b[0m\u001b[0;34m.\u001b[0m\u001b[0m_check_validate_error\u001b[0m\u001b[0;34m(\u001b[0m\u001b[0mcontent\u001b[0m\u001b[0;34m)\u001b[0m\u001b[0;34m\u001b[0m\u001b[0;34m\u001b[0m\u001b[0m\n\u001b[1;32m    666\u001b[0m \u001b[0;34m\u001b[0m\u001b[0m\n\u001b[0;32m--> 667\u001b[0;31m         \u001b[0mWebservice\u001b[0m\u001b[0;34m.\u001b[0m\u001b[0m_run_validate_framework\u001b[0m\u001b[0;34m(\u001b[0m\u001b[0mrequest_func\u001b[0m\u001b[0;34m,\u001b[0m \u001b[0mcheck_func\u001b[0m\u001b[0;34m)\u001b[0m\u001b[0;34m\u001b[0m\u001b[0;34m\u001b[0m\u001b[0m\n\u001b[0m\u001b[1;32m    668\u001b[0m \u001b[0;34m\u001b[0m\u001b[0m\n\u001b[1;32m    669\u001b[0m     \u001b[0;34m@\u001b[0m\u001b[0mstaticmethod\u001b[0m\u001b[0;34m\u001b[0m\u001b[0;34m\u001b[0m\u001b[0m\n",
      "\u001b[0;32m/anaconda/envs/azureml_py36/lib/python3.6/site-packages/azureml/core/webservice/webservice.py\u001b[0m in \u001b[0;36m_run_validate_framework\u001b[0;34m(request_func, check_func)\u001b[0m\n\u001b[1;32m    636\u001b[0m             \u001b[0;32mreturn\u001b[0m\u001b[0;34m\u001b[0m\u001b[0;34m\u001b[0m\u001b[0m\n\u001b[1;32m    637\u001b[0m \u001b[0;34m\u001b[0m\u001b[0m\n\u001b[0;32m--> 638\u001b[0;31m         \u001b[0;32mraise\u001b[0m \u001b[0mWebserviceException\u001b[0m\u001b[0;34m(\u001b[0m\u001b[0merror\u001b[0m\u001b[0;34m)\u001b[0m\u001b[0;34m\u001b[0m\u001b[0;34m\u001b[0m\u001b[0m\n\u001b[0m\u001b[1;32m    639\u001b[0m \u001b[0;34m\u001b[0m\u001b[0m\n\u001b[1;32m    640\u001b[0m     \u001b[0;34m@\u001b[0m\u001b[0mstaticmethod\u001b[0m\u001b[0;34m\u001b[0m\u001b[0;34m\u001b[0m\u001b[0m\n",
      "\u001b[0;31mWebserviceException\u001b[0m: WebserviceException:\n\tMessage: Service modeling-score with the same name already exists, please use a different service name or delete the existing service.\n\tInnerException None\n\tErrorResponse \n{\n    \"error\": {\n        \"message\": \"Service modeling-score with the same name already exists, please use a different service name or delete the existing service.\"\n    }\n}"
     ]
    }
   ],
   "source": [
    "from azureml.core.webservice import Webservice\n",
    "from azureml.core.webservice import AciWebservice\n",
    "from azureml.core.model import Model, InferenceConfig\n",
    "from azureml.core.environment import Environment\n",
    "\n",
    "aciconfig = AciWebservice.deploy_configuration(cpu_cores=1,\n",
    "                                               memory_gb=1,\n",
    "                                               auth_enabled=True,\n",
    "                                               enable_app_insights=True,\n",
    "                                               tags={\"data\": \"LV_cleaned_data\",  \n",
    "                                                     \"method\" : \"local_explanation\"})\n",
    "\n",
    "\n",
    "myenv = Environment.from_conda_specification(name=\"myenv\", file_path=\"myenv.yml\")\n",
    "inference_config = InferenceConfig(entry_script='outputs/scoring_file_v_1_0_0.py', environment=myenv)\n",
    "\n",
    "# Use configs and models generated above\n",
    "aci_service = Model.deploy(ws,\n",
    "                       'modeling-score',\n",
    "                       [scoring_explainer_model, original_model],\n",
    "                       inference_config,\n",
    "                       aciconfig)\n",
    "service.wait_for_deployment(show_output=True)\n",
    "aci_service.regen_key(\"Primary\")\n",
    "# or\n",
    "aci_service.regen_key(\"Secondary\")\n",
    "print(aci_service.get_logs())"
   ]
  },
  {
   "cell_type": "markdown",
   "metadata": {
    "id": "ddbCXV7QIA2w"
   },
   "source": [
    "**View the service logs**"
   ]
  },
  {
   "cell_type": "code",
   "execution_count": null,
   "metadata": {
    "id": "yxkOakJ2I6F3"
   },
   "outputs": [],
   "source": [
    "aci_service.get_logs()"
   ]
  },
  {
   "cell_type": "markdown",
   "metadata": {
    "id": "Vj2gflNVH6Oh"
   },
   "source": [
    "**Inference with test data**"
   ]
  },
  {
   "cell_type": "code",
   "execution_count": null,
   "metadata": {
    "id": "ucn5YGRUH982"
   },
   "outputs": [],
   "source": [
    "if service.state == 'Healthy':\n",
    "    # Serialize the first row of the test data into json\n",
    "    X_test_json = X_test[:1].to_json(orient='records')\n",
    "    print(X_test_json)\n",
    "    # Call the service to get the predictions and the engineered explanations\n",
    "    output = service.run(X_test_json)\n",
    "    # Print the predicted value\n",
    "    print(output['predictions'])\n",
    "    # Print the engineered feature importances for the predicted value\n",
    "    print(output['engineered_local_importance_values'])"
   ]
  },
  {
   "cell_type": "markdown",
   "metadata": {
    "id": "EEXEbXzbJLh_"
   },
   "source": [
    "**Delete the service.**"
   ]
  },
  {
   "cell_type": "code",
   "execution_count": null,
   "metadata": {
    "id": "R1uXmUpOJNET"
   },
   "outputs": [],
   "source": [
    "#service.delete()"
   ]
  },
  {
   "cell_type": "markdown",
   "metadata": {
    "id": "_J3kcdv84ae6"
   },
   "source": [
    "**Delete the cluster at the end of the run**"
   ]
  },
  {
   "cell_type": "code",
   "execution_count": null,
   "metadata": {
    "id": "vL71J_4z4ZN_"
   },
   "outputs": [],
   "source": [
    "#cpu_cluster.delete()"
   ]
  }
 ],
 "metadata": {
  "colab": {
   "collapsed_sections": [],
   "name": "automl.ipynb",
   "provenance": []
  },
  "kernelspec": {
   "display_name": "Python 3",
   "language": "python",
   "name": "python3"
  },
  "language_info": {
   "codemirror_mode": {
    "name": "ipython",
    "version": 3
   },
   "file_extension": ".py",
   "mimetype": "text/x-python",
   "name": "python",
   "nbconvert_exporter": "python",
   "pygments_lexer": "ipython3",
   "version": "3.6.9"
  }
 },
 "nbformat": 4,
 "nbformat_minor": 1
}
